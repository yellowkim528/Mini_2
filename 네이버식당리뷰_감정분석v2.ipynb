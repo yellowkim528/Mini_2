{
 "cells": [
  {
   "cell_type": "code",
   "execution_count": 8,
   "metadata": {
    "executionInfo": {
     "elapsed": 5,
     "status": "ok",
     "timestamp": 1714435849934,
     "user": {
      "displayName": "김동회",
      "userId": "03070467257019991534"
     },
     "user_tz": -540
    },
    "id": "qcnaMbviMT9t"
   },
   "outputs": [],
   "source": [
    "# # 한글 폰트 설치\n",
    "# !sudo apt-get install -y fonts-nanum\n",
    "# !sudo fc-cache -fv\n",
    "# !rm ~/.cache/matplotlib -rf"
   ]
  },
  {
   "cell_type": "code",
   "execution_count": 1,
   "metadata": {
    "executionInfo": {
     "elapsed": 1967,
     "status": "ok",
     "timestamp": 1714435862381,
     "user": {
      "displayName": "김동회",
      "userId": "03070467257019991534"
     },
     "user_tz": -540
    },
    "id": "sDUG6USVwfVv"
   },
   "outputs": [],
   "source": [
    "import pandas as pd\n",
    "import numpy as np\n",
    "import matplotlib.pyplot as plt\n",
    "import re\n",
    "import urllib.request\n",
    "from konlpy.tag import Okt\n",
    "from tqdm import tqdm\n",
    "from sklearn.model_selection import train_test_split"
   ]
  },
  {
   "cell_type": "code",
   "execution_count": 2,
   "metadata": {},
   "outputs": [],
   "source": [
    "okt = Okt()"
   ]
  },
  {
   "cell_type": "code",
   "execution_count": 3,
   "metadata": {
    "executionInfo": {
     "elapsed": 5,
     "status": "ok",
     "timestamp": 1714435862382,
     "user": {
      "displayName": "김동회",
      "userId": "03070467257019991534"
     },
     "user_tz": -540
    },
    "id": "zymEa9ypUE42"
   },
   "outputs": [],
   "source": [
    "plt.rcParams['font.family'] = 'NanumGothic'"
   ]
  },
  {
   "cell_type": "code",
   "execution_count": 4,
   "metadata": {
    "executionInfo": {
     "elapsed": 1054,
     "status": "ok",
     "timestamp": 1714435866443,
     "user": {
      "displayName": "김동회",
      "userId": "03070467257019991534"
     },
     "user_tz": -540
    },
    "id": "7Tmww91lwk5r"
   },
   "outputs": [],
   "source": [
    "df = pd.read_csv('라벨링결과_v3.csv')"
   ]
  },
  {
   "cell_type": "code",
   "execution_count": 15,
   "metadata": {},
   "outputs": [
    {
     "data": {
      "text/html": [
       "<div>\n",
       "<style scoped>\n",
       "    .dataframe tbody tr th:only-of-type {\n",
       "        vertical-align: middle;\n",
       "    }\n",
       "\n",
       "    .dataframe tbody tr th {\n",
       "        vertical-align: top;\n",
       "    }\n",
       "\n",
       "    .dataframe thead th {\n",
       "        text-align: right;\n",
       "    }\n",
       "</style>\n",
       "<table border=\"1\" class=\"dataframe\">\n",
       "  <thead>\n",
       "    <tr style=\"text-align: right;\">\n",
       "      <th></th>\n",
       "      <th>리뷰</th>\n",
       "      <th>음식유형</th>\n",
       "      <th>리뷰2</th>\n",
       "      <th>리뷰3</th>\n",
       "      <th>리뷰4</th>\n",
       "    </tr>\n",
       "    <tr>\n",
       "      <th>label</th>\n",
       "      <th></th>\n",
       "      <th></th>\n",
       "      <th></th>\n",
       "      <th></th>\n",
       "      <th></th>\n",
       "    </tr>\n",
       "  </thead>\n",
       "  <tbody>\n",
       "    <tr>\n",
       "      <th>-1</th>\n",
       "      <td>3846</td>\n",
       "      <td>3846</td>\n",
       "      <td>3846</td>\n",
       "      <td>3846</td>\n",
       "      <td>3846</td>\n",
       "    </tr>\n",
       "    <tr>\n",
       "      <th>0</th>\n",
       "      <td>13638</td>\n",
       "      <td>13638</td>\n",
       "      <td>12155</td>\n",
       "      <td>13638</td>\n",
       "      <td>12042</td>\n",
       "    </tr>\n",
       "    <tr>\n",
       "      <th>1</th>\n",
       "      <td>99585</td>\n",
       "      <td>99585</td>\n",
       "      <td>99585</td>\n",
       "      <td>99585</td>\n",
       "      <td>99585</td>\n",
       "    </tr>\n",
       "  </tbody>\n",
       "</table>\n",
       "</div>"
      ],
      "text/plain": [
       "          리뷰   음식유형    리뷰2    리뷰3    리뷰4\n",
       "label                                   \n",
       "-1      3846   3846   3846   3846   3846\n",
       " 0     13638  13638  12155  13638  12042\n",
       " 1     99585  99585  99585  99585  99585"
      ]
     },
     "execution_count": 15,
     "metadata": {},
     "output_type": "execute_result"
    }
   ],
   "source": [
    "df.groupby('label').count()"
   ]
  },
  {
   "cell_type": "code",
   "execution_count": 5,
   "metadata": {
    "executionInfo": {
     "elapsed": 3,
     "status": "ok",
     "timestamp": 1714435866443,
     "user": {
      "displayName": "김동회",
      "userId": "03070467257019991534"
     },
     "user_tz": -540
    },
    "id": "IMkd8Ncx0Bg4"
   },
   "outputs": [],
   "source": [
    "negative_df  = df[df['label'] == -1]"
   ]
  },
  {
   "cell_type": "code",
   "execution_count": 7,
   "metadata": {
    "executionInfo": {
     "elapsed": 1019,
     "status": "ok",
     "timestamp": 1714435867460,
     "user": {
      "displayName": "김동회",
      "userId": "03070467257019991534"
     },
     "user_tz": -540
    },
    "id": "bV6z9KI8ycTP"
   },
   "outputs": [],
   "source": [
    "positive_df  = df[df['label'] == 1]"
   ]
  },
  {
   "cell_type": "code",
   "execution_count": 13,
   "metadata": {},
   "outputs": [
    {
     "data": {
      "text/html": [
       "<div>\n",
       "<style scoped>\n",
       "    .dataframe tbody tr th:only-of-type {\n",
       "        vertical-align: middle;\n",
       "    }\n",
       "\n",
       "    .dataframe tbody tr th {\n",
       "        vertical-align: top;\n",
       "    }\n",
       "\n",
       "    .dataframe thead th {\n",
       "        text-align: right;\n",
       "    }\n",
       "</style>\n",
       "<table border=\"1\" class=\"dataframe\">\n",
       "  <thead>\n",
       "    <tr style=\"text-align: right;\">\n",
       "      <th></th>\n",
       "      <th>리뷰</th>\n",
       "      <th>음식유형</th>\n",
       "      <th>리뷰2</th>\n",
       "      <th>리뷰3</th>\n",
       "      <th>리뷰4</th>\n",
       "    </tr>\n",
       "    <tr>\n",
       "      <th>label</th>\n",
       "      <th></th>\n",
       "      <th></th>\n",
       "      <th></th>\n",
       "      <th></th>\n",
       "      <th></th>\n",
       "    </tr>\n",
       "  </thead>\n",
       "  <tbody>\n",
       "    <tr>\n",
       "      <th>-1</th>\n",
       "      <td>3846</td>\n",
       "      <td>3846</td>\n",
       "      <td>3846</td>\n",
       "      <td>3846</td>\n",
       "      <td>3846</td>\n",
       "    </tr>\n",
       "  </tbody>\n",
       "</table>\n",
       "</div>"
      ],
      "text/plain": [
       "         리뷰  음식유형   리뷰2   리뷰3   리뷰4\n",
       "label                              \n",
       "-1     3846  3846  3846  3846  3846"
      ]
     },
     "metadata": {},
     "output_type": "display_data"
    },
    {
     "data": {
      "text/html": [
       "<div>\n",
       "<style scoped>\n",
       "    .dataframe tbody tr th:only-of-type {\n",
       "        vertical-align: middle;\n",
       "    }\n",
       "\n",
       "    .dataframe tbody tr th {\n",
       "        vertical-align: top;\n",
       "    }\n",
       "\n",
       "    .dataframe thead th {\n",
       "        text-align: right;\n",
       "    }\n",
       "</style>\n",
       "<table border=\"1\" class=\"dataframe\">\n",
       "  <thead>\n",
       "    <tr style=\"text-align: right;\">\n",
       "      <th></th>\n",
       "      <th>리뷰</th>\n",
       "      <th>음식유형</th>\n",
       "      <th>리뷰2</th>\n",
       "      <th>리뷰3</th>\n",
       "      <th>리뷰4</th>\n",
       "    </tr>\n",
       "    <tr>\n",
       "      <th>label</th>\n",
       "      <th></th>\n",
       "      <th></th>\n",
       "      <th></th>\n",
       "      <th></th>\n",
       "      <th></th>\n",
       "    </tr>\n",
       "  </thead>\n",
       "  <tbody>\n",
       "    <tr>\n",
       "      <th>1</th>\n",
       "      <td>99585</td>\n",
       "      <td>99585</td>\n",
       "      <td>99585</td>\n",
       "      <td>99585</td>\n",
       "      <td>99585</td>\n",
       "    </tr>\n",
       "  </tbody>\n",
       "</table>\n",
       "</div>"
      ],
      "text/plain": [
       "          리뷰   음식유형    리뷰2    리뷰3    리뷰4\n",
       "label                                   \n",
       "1      99585  99585  99585  99585  99585"
      ]
     },
     "metadata": {},
     "output_type": "display_data"
    }
   ],
   "source": [
    "display(negative_df.groupby('label').count())\n",
    "display(positive_df.groupby('label').count())"
   ]
  },
  {
   "cell_type": "code",
   "execution_count": 9,
   "metadata": {},
   "outputs": [
    {
     "data": {
      "text/html": [
       "<div>\n",
       "<style scoped>\n",
       "    .dataframe tbody tr th:only-of-type {\n",
       "        vertical-align: middle;\n",
       "    }\n",
       "\n",
       "    .dataframe tbody tr th {\n",
       "        vertical-align: top;\n",
       "    }\n",
       "\n",
       "    .dataframe thead th {\n",
       "        text-align: right;\n",
       "    }\n",
       "</style>\n",
       "<table border=\"1\" class=\"dataframe\">\n",
       "  <thead>\n",
       "    <tr style=\"text-align: right;\">\n",
       "      <th></th>\n",
       "      <th>리뷰</th>\n",
       "      <th>음식유형</th>\n",
       "      <th>리뷰2</th>\n",
       "      <th>리뷰3</th>\n",
       "      <th>리뷰4</th>\n",
       "    </tr>\n",
       "    <tr>\n",
       "      <th>label</th>\n",
       "      <th></th>\n",
       "      <th></th>\n",
       "      <th></th>\n",
       "      <th></th>\n",
       "      <th></th>\n",
       "    </tr>\n",
       "  </thead>\n",
       "  <tbody>\n",
       "    <tr>\n",
       "      <th>1</th>\n",
       "      <td>99585</td>\n",
       "      <td>99585</td>\n",
       "      <td>99585</td>\n",
       "      <td>99585</td>\n",
       "      <td>99585</td>\n",
       "    </tr>\n",
       "  </tbody>\n",
       "</table>\n",
       "</div>"
      ],
      "text/plain": [
       "          리뷰   음식유형    리뷰2    리뷰3    리뷰4\n",
       "label                                   \n",
       "1      99585  99585  99585  99585  99585"
      ]
     },
     "execution_count": 9,
     "metadata": {},
     "output_type": "execute_result"
    }
   ],
   "source": [
    "positive_df.groupby('label').count()"
   ]
  },
  {
   "cell_type": "code",
   "execution_count": 16,
   "metadata": {},
   "outputs": [],
   "source": [
    "positive_df = positive_df.sample(negative_df.shape[0]+1000)"
   ]
  },
  {
   "cell_type": "code",
   "execution_count": 17,
   "metadata": {},
   "outputs": [
    {
     "name": "stderr",
     "output_type": "stream",
     "text": [
      "C:\\Users\\kh502\\AppData\\Local\\Temp\\ipykernel_1300\\1740380648.py:1: SettingWithCopyWarning: \n",
      "A value is trying to be set on a copy of a slice from a DataFrame.\n",
      "Try using .loc[row_indexer,col_indexer] = value instead\n",
      "\n",
      "See the caveats in the documentation: https://pandas.pydata.org/pandas-docs/stable/user_guide/indexing.html#returning-a-view-versus-a-copy\n",
      "  negative_df['label'] = negative_df['label'].replace(-1, 0)\n"
     ]
    }
   ],
   "source": [
    "negative_df['label'] = negative_df['label'].replace(-1, 0)"
   ]
  },
  {
   "cell_type": "markdown",
   "metadata": {},
   "source": []
  },
  {
   "cell_type": "code",
   "execution_count": 18,
   "metadata": {
    "executionInfo": {
     "elapsed": 19,
     "status": "ok",
     "timestamp": 1714435867460,
     "user": {
      "displayName": "김동회",
      "userId": "03070467257019991534"
     },
     "user_tz": -540
    },
    "id": "pYle1NK4yq3y"
   },
   "outputs": [],
   "source": [
    "df = pd.concat([positive_df, negative_df])"
   ]
  },
  {
   "cell_type": "code",
   "execution_count": 19,
   "metadata": {
    "executionInfo": {
     "elapsed": 19,
     "status": "ok",
     "timestamp": 1714435867460,
     "user": {
      "displayName": "김동회",
      "userId": "03070467257019991534"
     },
     "user_tz": -540
    },
    "id": "FvAnfO2QzIn7"
   },
   "outputs": [],
   "source": [
    "train_df, test_df = train_test_split(df, test_size=0.2)"
   ]
  },
  {
   "cell_type": "code",
   "execution_count": 20,
   "metadata": {},
   "outputs": [
    {
     "data": {
      "text/html": [
       "<div>\n",
       "<style scoped>\n",
       "    .dataframe tbody tr th:only-of-type {\n",
       "        vertical-align: middle;\n",
       "    }\n",
       "\n",
       "    .dataframe tbody tr th {\n",
       "        vertical-align: top;\n",
       "    }\n",
       "\n",
       "    .dataframe thead th {\n",
       "        text-align: right;\n",
       "    }\n",
       "</style>\n",
       "<table border=\"1\" class=\"dataframe\">\n",
       "  <thead>\n",
       "    <tr style=\"text-align: right;\">\n",
       "      <th></th>\n",
       "      <th>리뷰</th>\n",
       "      <th>음식유형</th>\n",
       "      <th>리뷰2</th>\n",
       "      <th>리뷰3</th>\n",
       "      <th>리뷰4</th>\n",
       "      <th>label</th>\n",
       "    </tr>\n",
       "  </thead>\n",
       "  <tbody>\n",
       "    <tr>\n",
       "      <th>5049</th>\n",
       "      <td>굿</td>\n",
       "      <td>디저트</td>\n",
       "      <td>굿</td>\n",
       "      <td>굿</td>\n",
       "      <td>굿</td>\n",
       "      <td>1</td>\n",
       "    </tr>\n",
       "    <tr>\n",
       "      <th>5256</th>\n",
       "      <td>뷰 좋아용</td>\n",
       "      <td>디저트</td>\n",
       "      <td>뷰 좋아용</td>\n",
       "      <td>뷰 좋아용</td>\n",
       "      <td>뷰 좋다</td>\n",
       "      <td>1</td>\n",
       "    </tr>\n",
       "    <tr>\n",
       "      <th>82522</th>\n",
       "      <td>영업 전부터 줄서있길래 얼마나 맛있나 궁금했는데 진짜 맛있네요.</td>\n",
       "      <td>퓨전</td>\n",
       "      <td>영업 전부터 줄서있길래 얼마나 맛있나 궁금했는데 진짜 맛있네요</td>\n",
       "      <td>영업 전부터 줄서있길래 얼마나 맛있나 궁금했는데 진짜 맛있네요</td>\n",
       "      <td>영업 전 부터 줄 서 있다 얼마나 맛있다 궁금하다 진짜 맛있다</td>\n",
       "      <td>1</td>\n",
       "    </tr>\n",
       "    <tr>\n",
       "      <th>85680</th>\n",
       "      <td>유명하다고 해서 2시간 기다리도 간신히 주차해서 먹었는데 정말  다시는 오고 싶지 ...</td>\n",
       "      <td>한식</td>\n",
       "      <td>유명하다고 해서 시간 기다리도 간신히 주차해서 먹었는데 정말  다시는 오고 싶지 않...</td>\n",
       "      <td>유명하다고 해서 시간 기다리도 간신히 주차해서 먹었는데 정말  다시는 오고 싶지 않...</td>\n",
       "      <td>유명하다 하다 시간 기다리다 간신히 주차 하다 먹다 정말 다시다 오다 싶다 않다 곳...</td>\n",
       "      <td>0</td>\n",
       "    </tr>\n",
       "    <tr>\n",
       "      <th>95451</th>\n",
       "      <td>울산의 맛집이죠..</td>\n",
       "      <td>한식</td>\n",
       "      <td>울산의 맛집이죠</td>\n",
       "      <td>울산의 맛집이죠</td>\n",
       "      <td>울산 의 맛집 이 죠</td>\n",
       "      <td>1</td>\n",
       "    </tr>\n",
       "    <tr>\n",
       "      <th>...</th>\n",
       "      <td>...</td>\n",
       "      <td>...</td>\n",
       "      <td>...</td>\n",
       "      <td>...</td>\n",
       "      <td>...</td>\n",
       "      <td>...</td>\n",
       "    </tr>\n",
       "    <tr>\n",
       "      <th>22758</th>\n",
       "      <td>맛있어요</td>\n",
       "      <td>양식</td>\n",
       "      <td>맛있어요</td>\n",
       "      <td>맛있어요</td>\n",
       "      <td>맛있다</td>\n",
       "      <td>1</td>\n",
       "    </tr>\n",
       "    <tr>\n",
       "      <th>112077</th>\n",
       "      <td>맛있게 잘 먹었습니다</td>\n",
       "      <td>한식</td>\n",
       "      <td>맛있게 잘 먹었습니다</td>\n",
       "      <td>맛있게 잘 먹었습니다</td>\n",
       "      <td>맛있다 자다 먹다</td>\n",
       "      <td>1</td>\n",
       "    </tr>\n",
       "    <tr>\n",
       "      <th>95465</th>\n",
       "      <td>늘가는곳인데 맛있어요!만두는 필수</td>\n",
       "      <td>한식</td>\n",
       "      <td>늘가는곳인데 맛있어요만두는 필수</td>\n",
       "      <td>늘가는곳인데 맛있어요만두는 필수</td>\n",
       "      <td>늘다 곳 인데 맛있다 만두 는 필수</td>\n",
       "      <td>1</td>\n",
       "    </tr>\n",
       "    <tr>\n",
       "      <th>94995</th>\n",
       "      <td>좋아요</td>\n",
       "      <td>한식</td>\n",
       "      <td>좋아요</td>\n",
       "      <td>좋아요</td>\n",
       "      <td>좋다</td>\n",
       "      <td>1</td>\n",
       "    </tr>\n",
       "    <tr>\n",
       "      <th>75599</th>\n",
       "      <td>비오는 날와서 먹으니 좋아요^^</td>\n",
       "      <td>카페</td>\n",
       "      <td>비오는 날와서 먹으니 좋아요</td>\n",
       "      <td>비오는 날와서 먹으니 좋아요</td>\n",
       "      <td>비다 날 와 서다 먹다 좋다</td>\n",
       "      <td>1</td>\n",
       "    </tr>\n",
       "  </tbody>\n",
       "</table>\n",
       "<p>1739 rows × 6 columns</p>\n",
       "</div>"
      ],
      "text/plain": [
       "                                                       리뷰 음식유형  \\\n",
       "5049                                                    굿  디저트   \n",
       "5256                                                뷰 좋아용  디저트   \n",
       "82522                 영업 전부터 줄서있길래 얼마나 맛있나 궁금했는데 진짜 맛있네요.   퓨전   \n",
       "85680   유명하다고 해서 2시간 기다리도 간신히 주차해서 먹었는데 정말  다시는 오고 싶지 ...   한식   \n",
       "95451                                          울산의 맛집이죠..   한식   \n",
       "...                                                   ...  ...   \n",
       "22758                                                맛있어요   양식   \n",
       "112077                                        맛있게 잘 먹었습니다   한식   \n",
       "95465                                  늘가는곳인데 맛있어요!만두는 필수   한식   \n",
       "94995                                                 좋아요   한식   \n",
       "75599                                   비오는 날와서 먹으니 좋아요^^   카페   \n",
       "\n",
       "                                                      리뷰2  \\\n",
       "5049                                                    굿   \n",
       "5256                                                뷰 좋아용   \n",
       "82522                  영업 전부터 줄서있길래 얼마나 맛있나 궁금했는데 진짜 맛있네요   \n",
       "85680   유명하다고 해서 시간 기다리도 간신히 주차해서 먹었는데 정말  다시는 오고 싶지 않...   \n",
       "95451                                            울산의 맛집이죠   \n",
       "...                                                   ...   \n",
       "22758                                                맛있어요   \n",
       "112077                                        맛있게 잘 먹었습니다   \n",
       "95465                                   늘가는곳인데 맛있어요만두는 필수   \n",
       "94995                                                 좋아요   \n",
       "75599                                     비오는 날와서 먹으니 좋아요   \n",
       "\n",
       "                                                      리뷰3  \\\n",
       "5049                                                    굿   \n",
       "5256                                                뷰 좋아용   \n",
       "82522                  영업 전부터 줄서있길래 얼마나 맛있나 궁금했는데 진짜 맛있네요   \n",
       "85680   유명하다고 해서 시간 기다리도 간신히 주차해서 먹었는데 정말  다시는 오고 싶지 않...   \n",
       "95451                                            울산의 맛집이죠   \n",
       "...                                                   ...   \n",
       "22758                                                맛있어요   \n",
       "112077                                        맛있게 잘 먹었습니다   \n",
       "95465                                   늘가는곳인데 맛있어요만두는 필수   \n",
       "94995                                                 좋아요   \n",
       "75599                                     비오는 날와서 먹으니 좋아요   \n",
       "\n",
       "                                                      리뷰4  label  \n",
       "5049                                                    굿      1  \n",
       "5256                                                 뷰 좋다      1  \n",
       "82522                  영업 전 부터 줄 서 있다 얼마나 맛있다 궁금하다 진짜 맛있다      1  \n",
       "85680   유명하다 하다 시간 기다리다 간신히 주차 하다 먹다 정말 다시다 오다 싶다 않다 곳...      0  \n",
       "95451                                         울산 의 맛집 이 죠      1  \n",
       "...                                                   ...    ...  \n",
       "22758                                                 맛있다      1  \n",
       "112077                                          맛있다 자다 먹다      1  \n",
       "95465                                 늘다 곳 인데 맛있다 만두 는 필수      1  \n",
       "94995                                                  좋다      1  \n",
       "75599                                     비다 날 와 서다 먹다 좋다      1  \n",
       "\n",
       "[1739 rows x 6 columns]"
      ]
     },
     "execution_count": 20,
     "metadata": {},
     "output_type": "execute_result"
    }
   ],
   "source": [
    "test_df"
   ]
  },
  {
   "cell_type": "code",
   "execution_count": 21,
   "metadata": {
    "colab": {
     "base_uri": "https://localhost:8080/",
     "height": 424
    },
    "executionInfo": {
     "elapsed": 19,
     "status": "ok",
     "timestamp": 1714435867461,
     "user": {
      "displayName": "김동회",
      "userId": "03070467257019991534"
     },
     "user_tz": -540
    },
    "id": "GCNPVRY5zzZ0",
    "outputId": "f63c2e74-29c2-4a4f-e269-261e08a90263"
   },
   "outputs": [
    {
     "data": {
      "text/html": [
       "<div>\n",
       "<style scoped>\n",
       "    .dataframe tbody tr th:only-of-type {\n",
       "        vertical-align: middle;\n",
       "    }\n",
       "\n",
       "    .dataframe tbody tr th {\n",
       "        vertical-align: top;\n",
       "    }\n",
       "\n",
       "    .dataframe thead th {\n",
       "        text-align: right;\n",
       "    }\n",
       "</style>\n",
       "<table border=\"1\" class=\"dataframe\">\n",
       "  <thead>\n",
       "    <tr style=\"text-align: right;\">\n",
       "      <th></th>\n",
       "      <th>리뷰</th>\n",
       "      <th>음식유형</th>\n",
       "      <th>리뷰2</th>\n",
       "      <th>리뷰3</th>\n",
       "      <th>리뷰4</th>\n",
       "      <th>label</th>\n",
       "    </tr>\n",
       "  </thead>\n",
       "  <tbody>\n",
       "    <tr>\n",
       "      <th>83534</th>\n",
       "      <td>좋아요</td>\n",
       "      <td>한식</td>\n",
       "      <td>좋아요</td>\n",
       "      <td>좋아요</td>\n",
       "      <td>좋다</td>\n",
       "      <td>1</td>\n",
       "    </tr>\n",
       "    <tr>\n",
       "      <th>1765</th>\n",
       "      <td>굿</td>\n",
       "      <td>디저트</td>\n",
       "      <td>굿</td>\n",
       "      <td>굿</td>\n",
       "      <td>굿</td>\n",
       "      <td>1</td>\n",
       "    </tr>\n",
       "    <tr>\n",
       "      <th>112541</th>\n",
       "      <td>굿</td>\n",
       "      <td>해산물</td>\n",
       "      <td>굿</td>\n",
       "      <td>굿</td>\n",
       "      <td>굿</td>\n",
       "      <td>1</td>\n",
       "    </tr>\n",
       "    <tr>\n",
       "      <th>80661</th>\n",
       "      <td>굿</td>\n",
       "      <td>카페</td>\n",
       "      <td>굿</td>\n",
       "      <td>굿</td>\n",
       "      <td>굿</td>\n",
       "      <td>1</td>\n",
       "    </tr>\n",
       "    <tr>\n",
       "      <th>84858</th>\n",
       "      <td>맛있어요</td>\n",
       "      <td>한식</td>\n",
       "      <td>맛있어요</td>\n",
       "      <td>맛있어요</td>\n",
       "      <td>맛있다</td>\n",
       "      <td>1</td>\n",
       "    </tr>\n",
       "    <tr>\n",
       "      <th>...</th>\n",
       "      <td>...</td>\n",
       "      <td>...</td>\n",
       "      <td>...</td>\n",
       "      <td>...</td>\n",
       "      <td>...</td>\n",
       "      <td>...</td>\n",
       "    </tr>\n",
       "    <tr>\n",
       "      <th>40498</th>\n",
       "      <td>좋아요</td>\n",
       "      <td>양식</td>\n",
       "      <td>좋아요</td>\n",
       "      <td>좋아요</td>\n",
       "      <td>좋다</td>\n",
       "      <td>1</td>\n",
       "    </tr>\n",
       "    <tr>\n",
       "      <th>8579</th>\n",
       "      <td>굿</td>\n",
       "      <td>양식</td>\n",
       "      <td>굿</td>\n",
       "      <td>굿</td>\n",
       "      <td>굿</td>\n",
       "      <td>1</td>\n",
       "    </tr>\n",
       "    <tr>\n",
       "      <th>83495</th>\n",
       "      <td>좋아요</td>\n",
       "      <td>한식</td>\n",
       "      <td>좋아요</td>\n",
       "      <td>좋아요</td>\n",
       "      <td>좋다</td>\n",
       "      <td>1</td>\n",
       "    </tr>\n",
       "    <tr>\n",
       "      <th>15885</th>\n",
       "      <td>맛있어요</td>\n",
       "      <td>양식</td>\n",
       "      <td>맛있어요</td>\n",
       "      <td>맛있어요</td>\n",
       "      <td>맛있다</td>\n",
       "      <td>1</td>\n",
       "    </tr>\n",
       "    <tr>\n",
       "      <th>88636</th>\n",
       "      <td>맛있어요</td>\n",
       "      <td>한식</td>\n",
       "      <td>맛있어요</td>\n",
       "      <td>맛있어요</td>\n",
       "      <td>맛있다</td>\n",
       "      <td>1</td>\n",
       "    </tr>\n",
       "  </tbody>\n",
       "</table>\n",
       "<p>682 rows × 6 columns</p>\n",
       "</div>"
      ],
      "text/plain": [
       "          리뷰 음식유형   리뷰2   리뷰3  리뷰4  label\n",
       "83534    좋아요   한식   좋아요   좋아요   좋다      1\n",
       "1765       굿  디저트     굿     굿    굿      1\n",
       "112541     굿  해산물     굿     굿    굿      1\n",
       "80661      굿   카페     굿     굿    굿      1\n",
       "84858   맛있어요   한식  맛있어요  맛있어요  맛있다      1\n",
       "...      ...  ...   ...   ...  ...    ...\n",
       "40498    좋아요   양식   좋아요   좋아요   좋다      1\n",
       "8579       굿   양식     굿     굿    굿      1\n",
       "83495    좋아요   한식   좋아요   좋아요   좋다      1\n",
       "15885   맛있어요   양식  맛있어요  맛있어요  맛있다      1\n",
       "88636   맛있어요   한식  맛있어요  맛있어요  맛있다      1\n",
       "\n",
       "[682 rows x 6 columns]"
      ]
     },
     "execution_count": 21,
     "metadata": {},
     "output_type": "execute_result"
    }
   ],
   "source": [
    "train_df[train_df['리뷰'].duplicated(keep='first') == True]"
   ]
  },
  {
   "cell_type": "code",
   "execution_count": 22,
   "metadata": {
    "executionInfo": {
     "elapsed": 18,
     "status": "ok",
     "timestamp": 1714435867462,
     "user": {
      "displayName": "김동회",
      "userId": "03070467257019991534"
     },
     "user_tz": -540
    },
    "id": "_cO6XMxq1krk"
   },
   "outputs": [],
   "source": [
    "train_df.drop(train_df[train_df['리뷰'].duplicated(keep='first') == True].index, inplace=True, axis=0)\n",
    "train_df.reset_index(inplace=True, drop=True)"
   ]
  },
  {
   "cell_type": "code",
   "execution_count": 23,
   "metadata": {
    "colab": {
     "base_uri": "https://localhost:8080/",
     "height": 53
    },
    "executionInfo": {
     "elapsed": 18,
     "status": "ok",
     "timestamp": 1714435867462,
     "user": {
      "displayName": "김동회",
      "userId": "03070467257019991534"
     },
     "user_tz": -540
    },
    "id": "nhBjhk2d2SdR",
    "outputId": "5091c4e0-57a1-469a-9b86-ab54d7847635"
   },
   "outputs": [
    {
     "data": {
      "text/html": [
       "<div>\n",
       "<style scoped>\n",
       "    .dataframe tbody tr th:only-of-type {\n",
       "        vertical-align: middle;\n",
       "    }\n",
       "\n",
       "    .dataframe tbody tr th {\n",
       "        vertical-align: top;\n",
       "    }\n",
       "\n",
       "    .dataframe thead th {\n",
       "        text-align: right;\n",
       "    }\n",
       "</style>\n",
       "<table border=\"1\" class=\"dataframe\">\n",
       "  <thead>\n",
       "    <tr style=\"text-align: right;\">\n",
       "      <th></th>\n",
       "      <th>리뷰</th>\n",
       "      <th>음식유형</th>\n",
       "      <th>리뷰2</th>\n",
       "      <th>리뷰3</th>\n",
       "      <th>리뷰4</th>\n",
       "      <th>label</th>\n",
       "    </tr>\n",
       "  </thead>\n",
       "  <tbody>\n",
       "  </tbody>\n",
       "</table>\n",
       "</div>"
      ],
      "text/plain": [
       "Empty DataFrame\n",
       "Columns: [리뷰, 음식유형, 리뷰2, 리뷰3, 리뷰4, label]\n",
       "Index: []"
      ]
     },
     "execution_count": 23,
     "metadata": {},
     "output_type": "execute_result"
    }
   ],
   "source": [
    "train_df[train_df['리뷰'].duplicated(keep='first') == True]"
   ]
  },
  {
   "cell_type": "code",
   "execution_count": 24,
   "metadata": {
    "colab": {
     "base_uri": "https://localhost:8080/",
     "height": 143
    },
    "executionInfo": {
     "elapsed": 18,
     "status": "ok",
     "timestamp": 1714435867462,
     "user": {
      "displayName": "김동회",
      "userId": "03070467257019991534"
     },
     "user_tz": -540
    },
    "id": "7a7JDvsh2aPg",
    "outputId": "5f8461ad-d351-49c4-94fc-12e91ed4f53f"
   },
   "outputs": [
    {
     "data": {
      "text/html": [
       "<div>\n",
       "<style scoped>\n",
       "    .dataframe tbody tr th:only-of-type {\n",
       "        vertical-align: middle;\n",
       "    }\n",
       "\n",
       "    .dataframe tbody tr th {\n",
       "        vertical-align: top;\n",
       "    }\n",
       "\n",
       "    .dataframe thead th {\n",
       "        text-align: right;\n",
       "    }\n",
       "</style>\n",
       "<table border=\"1\" class=\"dataframe\">\n",
       "  <thead>\n",
       "    <tr style=\"text-align: right;\">\n",
       "      <th></th>\n",
       "      <th>리뷰</th>\n",
       "      <th>음식유형</th>\n",
       "      <th>리뷰2</th>\n",
       "      <th>리뷰3</th>\n",
       "      <th>리뷰4</th>\n",
       "    </tr>\n",
       "    <tr>\n",
       "      <th>label</th>\n",
       "      <th></th>\n",
       "      <th></th>\n",
       "      <th></th>\n",
       "      <th></th>\n",
       "      <th></th>\n",
       "    </tr>\n",
       "  </thead>\n",
       "  <tbody>\n",
       "    <tr>\n",
       "      <th>0</th>\n",
       "      <td>3074</td>\n",
       "      <td>3074</td>\n",
       "      <td>3074</td>\n",
       "      <td>3074</td>\n",
       "      <td>3074</td>\n",
       "    </tr>\n",
       "    <tr>\n",
       "      <th>1</th>\n",
       "      <td>3197</td>\n",
       "      <td>3197</td>\n",
       "      <td>3197</td>\n",
       "      <td>3197</td>\n",
       "      <td>3197</td>\n",
       "    </tr>\n",
       "  </tbody>\n",
       "</table>\n",
       "</div>"
      ],
      "text/plain": [
       "         리뷰  음식유형   리뷰2   리뷰3   리뷰4\n",
       "label                              \n",
       "0      3074  3074  3074  3074  3074\n",
       "1      3197  3197  3197  3197  3197"
      ]
     },
     "execution_count": 24,
     "metadata": {},
     "output_type": "execute_result"
    }
   ],
   "source": [
    "train_df.groupby('label').count()"
   ]
  },
  {
   "cell_type": "code",
   "execution_count": 26,
   "metadata": {
    "colab": {
     "base_uri": "https://localhost:8080/",
     "height": 687
    },
    "executionInfo": {
     "elapsed": 18,
     "status": "ok",
     "timestamp": 1714435867463,
     "user": {
      "displayName": "김동회",
      "userId": "03070467257019991534"
     },
     "user_tz": -540
    },
    "id": "3RabZC77uIKf",
    "outputId": "3dd8d5a6-e28c-4dec-ad7f-73bae4130306"
   },
   "outputs": [
    {
     "data": {
      "image/png": "[encoded data removed]",
      "text/plain": [
       "<Figure size 800x800 with 1 Axes>"
      ]
     },
     "metadata": {},
     "output_type": "display_data"
    }
   ],
   "source": [
    "# 그래프 사이즈 조절\n",
    "plt.figure(figsize=(8,8))\n",
    "\n",
    "# 데이터 입력\n",
    "names = ['부정','긍정']\n",
    "values = train_df.groupby('label').count()['리뷰']\n",
    "\n",
    "# 파이 차트에 대한 설정\n",
    "plt.pie(values,\n",
    "        labels=names,\n",
    "        labeldistance=1.15,\n",
    "        wedgeprops = { 'linewidth' : 3, 'edgecolor' : 'white' },\n",
    "        colors= ['tab:blue','tab:orange'],\n",
    "        autopct = \"%0.3f%%\",\n",
    "        textprops = {\"fontsize\":20},\n",
    "        startangle = 90,\n",
    "        explode = [0,0.01],\n",
    "        shadow = True\n",
    "       )\n",
    "\n",
    "# 타이틀 및 축 설정\n",
    "plt.title('리뷰 비율', fontsize=25)\n",
    "\n",
    "# 그래프 보여주기\n",
    "plt.show()\n",
    "\n",
    "#  맛 가격 분위기 재방문의사"
   ]
  },
  {
   "cell_type": "markdown",
   "metadata": {
    "id": "O_6dqemLu5TP"
   },
   "source": [
    "#OKT pos를 활용하여 조사/구두점/숫자 등을 제거하기"
   ]
  },
  {
   "cell_type": "code",
   "execution_count": 38,
   "metadata": {
    "executionInfo": {
     "elapsed": 17,
     "status": "ok",
     "timestamp": 1714435867463,
     "user": {
      "displayName": "김동회",
      "userId": "03070467257019991534"
     },
     "user_tz": -540
    },
    "id": "5_EPTzik5PZV"
   },
   "outputs": [],
   "source": [
    "stop_words = [\n",
    "    '이', '있', '하', '것', '들', '그', '되', '수', '이', '보', '않', '없', '나', '사람', '주', '아니',\n",
    "    '등', '같', '우리', '때', '년', '가', '한', '지', '대하', '오', '말', '일', '그렇', '위하', '때문', '그것',\n",
    "    '두', '말하', '알', '그러나', '받', '못하', '일', '그런', '또', '문제', '더', '사회', '많', '그리고', '좋',\n",
    "    '크', '따르', '중', '나오', '가지', '씨', '시키', '만들', '지금', '생각하', '그러', '속', '하나', '집', '살',\n",
    "    '모르', '적', '월', '데', '자신', '안', '어떤', '내', '내', '경우', '명', '생각', '시간', '그녀', '다시', '이런',\n",
    "    '앞', '보이', '번', '나', '다른', '어떻', '여자', '개', '전', '들', '사실', '이렇', '점', '싶', '정도', '좀', '원',\n",
    "    '잘', '통하', '소리', '놓','다','에','은','을','는','도','요'\n",
    "]"
   ]
  },
  {
   "cell_type": "code",
   "execution_count": 39,
   "metadata": {
    "colab": {
     "base_uri": "https://localhost:8080/",
     "height": 528
    },
    "executionInfo": {
     "elapsed": 584,
     "status": "ok",
     "timestamp": 1714435868030,
     "user": {
      "displayName": "김동회",
      "userId": "03070467257019991534"
     },
     "user_tz": -540
    },
    "id": "h97Jyidy3zVN",
    "outputId": "aeedbb5d-2b71-4ea4-8006-077bc029b1d8"
   },
   "outputs": [
    {
     "data": {
      "text/html": [
       "<div>\n",
       "<style scoped>\n",
       "    .dataframe tbody tr th:only-of-type {\n",
       "        vertical-align: middle;\n",
       "    }\n",
       "\n",
       "    .dataframe tbody tr th {\n",
       "        vertical-align: top;\n",
       "    }\n",
       "\n",
       "    .dataframe thead th {\n",
       "        text-align: right;\n",
       "    }\n",
       "</style>\n",
       "<table border=\"1\" class=\"dataframe\">\n",
       "  <thead>\n",
       "    <tr style=\"text-align: right;\">\n",
       "      <th></th>\n",
       "      <th>리뷰</th>\n",
       "      <th>음식유형</th>\n",
       "      <th>리뷰2</th>\n",
       "      <th>리뷰3</th>\n",
       "      <th>리뷰4</th>\n",
       "      <th>label</th>\n",
       "      <th>리뷰5</th>\n",
       "    </tr>\n",
       "  </thead>\n",
       "  <tbody>\n",
       "    <tr>\n",
       "      <th>0</th>\n",
       "      <td>너무 친절하고 음식이 맛있어요 ㅎㅎ</td>\n",
       "      <td>일식</td>\n",
       "      <td>너무 친절하고 음식이 맛있어요 ㅎㅎ</td>\n",
       "      <td>너무 친절하고 음식이 맛있어요 ㅎㅎ</td>\n",
       "      <td>너무 친절하다 음식 이 맛있다 ㅎㅎ</td>\n",
       "      <td>1</td>\n",
       "      <td>[너무, 친절하다, 음식, 맛있다, ㅎㅎ]</td>\n",
       "    </tr>\n",
       "    <tr>\n",
       "      <th>1</th>\n",
       "      <td>정말 기분 더럽게하는  음식점이었네요. 오랜만에 가족끼리 외식하고 기분내려고 갔는건...</td>\n",
       "      <td>해산물</td>\n",
       "      <td>정말 기분 더럽게하는  음식점이었네요 오랜만에 가족끼리 외식하고 기분내려고 갔는건데...</td>\n",
       "      <td>정말 기분 더럽게하는  음식점이었네요 오랜만에 가족끼리 외식하고 기분내려고 갔는건데...</td>\n",
       "      <td>정말 기분 더럽다 하다 음식점 이다 오랜 만 에 가족 끼리 외식 하고 기분 내 려고...</td>\n",
       "      <td>0</td>\n",
       "      <td>[정말, 기분, 더럽다, 하다, 음식점, 이다, 오랜, 만, 가족, 끼리, 외식, ...</td>\n",
       "    </tr>\n",
       "    <tr>\n",
       "      <th>2</th>\n",
       "      <td>두번째 방문인데~ 엄마가 빵이맛잇다고ㅎ역쉬 가격은 사~악하지만🤣맛잇으니🥰  굿👍</td>\n",
       "      <td>카페</td>\n",
       "      <td>두번째 방문인데 엄마가 빵이맛잇다고ㅎ역쉬 가격은 사악하지만맛잇으니  굿</td>\n",
       "      <td>두번째 방문인데 엄마가 빵이맛잇다고ㅎ역쉬 가격은 사악하지만맛잇으니  굿</td>\n",
       "      <td>두번째 방문 인데 엄마 가 빵 이 맛 잇다 ㅎ 역쉬 가격 은 사악하다 맛 잇다 굿</td>\n",
       "      <td>0</td>\n",
       "      <td>[두번째, 방문, 인데, 엄마, 빵, 맛, 잇다, ㅎ, 역쉬, 가격, 사악하다, 맛...</td>\n",
       "    </tr>\n",
       "    <tr>\n",
       "      <th>3</th>\n",
       "      <td>집들어가는길에  시원한 라떼한잔^^아인슈페너 생각나서 들어갔는데지금은 안된다고해서 ...</td>\n",
       "      <td>카페</td>\n",
       "      <td>집들어가는길에  시원한 라떼한잔아인슈페너 생각나서 들어갔는데지금은 안된다고해서 그린...</td>\n",
       "      <td>집들어가는길에  시원한 라떼한잔아인슈페너 생각나서 들어갔는데지금은 안된다고해서 그린...</td>\n",
       "      <td>집 들어가다 길 에 시원하다 라떼 한잔 아인 슈페 너 생각나다 들어가다 지 금은 안...</td>\n",
       "      <td>1</td>\n",
       "      <td>[들어가다, 길, 시원하다, 라떼, 한잔, 아인, 슈페, 너, 생각나다, 들어가다,...</td>\n",
       "    </tr>\n",
       "    <tr>\n",
       "      <th>4</th>\n",
       "      <td>친절해요~</td>\n",
       "      <td>양식</td>\n",
       "      <td>친절해요</td>\n",
       "      <td>친절해요</td>\n",
       "      <td>친절하다</td>\n",
       "      <td>1</td>\n",
       "      <td>[친절하다]</td>\n",
       "    </tr>\n",
       "    <tr>\n",
       "      <th>...</th>\n",
       "      <td>...</td>\n",
       "      <td>...</td>\n",
       "      <td>...</td>\n",
       "      <td>...</td>\n",
       "      <td>...</td>\n",
       "      <td>...</td>\n",
       "      <td>...</td>\n",
       "    </tr>\n",
       "    <tr>\n",
       "      <th>6266</th>\n",
       "      <td>분위기좋고맛있어요</td>\n",
       "      <td>양식</td>\n",
       "      <td>분위기좋고맛있어요</td>\n",
       "      <td>분위기좋고맛있어요</td>\n",
       "      <td>분위기 좋다 맛있다</td>\n",
       "      <td>1</td>\n",
       "      <td>[분위기, 좋다, 맛있다]</td>\n",
       "    </tr>\n",
       "    <tr>\n",
       "      <th>6267</th>\n",
       "      <td>커피는 쏘쏘 맛있는건 아니구 그냥 저냥 원두 뷰값이라 생각하고 사먹었어요 라떼는 싱...</td>\n",
       "      <td>카페</td>\n",
       "      <td>커피는 쏘쏘 맛있는건 아니구 그냥 저냥 원두 뷰값이라 생각하고 사먹었어요 라떼는 싱...</td>\n",
       "      <td>커피는 쏘쏘 맛있는건 아니구 그냥 저냥 원두 뷰값이라 생각하고 사먹었어요 라떼는 싱...</td>\n",
       "      <td>커피 는 쏘다 쏘다 맛있다 아니다 그냥 저 냥 원두 뷰값 이라 생각 하고 사먹다 라...</td>\n",
       "      <td>0</td>\n",
       "      <td>[커피, 쏘다, 쏘다, 맛있다, 아니다, 그냥, 저, 냥, 원두, 뷰값, 이라, 하...</td>\n",
       "    </tr>\n",
       "    <tr>\n",
       "      <th>6268</th>\n",
       "      <td>언양에 불고기집은 많고도 많지만인스타나 sns에 어찌나 광고가 거창한지이 추운날 한...</td>\n",
       "      <td>한식</td>\n",
       "      <td>언양에 불고기집은 많고도 많지만인스타나 에 어찌나 광고가 거창한지이 추운날 한시간 ...</td>\n",
       "      <td>언양에 불고기집은 많고도 많지만인스타나 에 어찌나 광고가 거창한지이 추운날 한시간 ...</td>\n",
       "      <td>언양 에 불고기 집다 많다 많다 인스타 나 에 어찌나 광고 가 거창하다 추다 날 한...</td>\n",
       "      <td>0</td>\n",
       "      <td>[언양, 불고기, 집다, 많다, 많다, 인스타, 어찌나, 광고, 거창하다, 추다, ...</td>\n",
       "    </tr>\n",
       "    <tr>\n",
       "      <th>6269</th>\n",
       "      <td>점심특선 먹으러 가족과 같이 갔어요. 가성비 좋고 맛이 최고여요. 매장이 깔끔하고 ...</td>\n",
       "      <td>일식</td>\n",
       "      <td>점심특선 먹으러 가족과 같이 갔어요 가성비 좋고 맛이 최고여요 매장이 깔끔하고 음식...</td>\n",
       "      <td>점심특선 먹으러 가족과 같이 갔어요 가성비 좋고 맛이 최고여요 매장이 깔끔하고 음식...</td>\n",
       "      <td>점심 특선 먹다 가족 과 같이 가다 가성 비 좋다 맛 이 최고 여요 매장 이 깔끔하...</td>\n",
       "      <td>1</td>\n",
       "      <td>[점심, 특선, 먹다, 가족, 과, 같이, 가다, 가성, 비, 좋다, 맛, 최고, ...</td>\n",
       "    </tr>\n",
       "    <tr>\n",
       "      <th>6270</th>\n",
       "      <td>다른 사람들 리뷰보고 갔는데 너무 기대하고 갔어요 그냥 그랬어요담엔 코스 안 먹을려...</td>\n",
       "      <td>해산물</td>\n",
       "      <td>다른 사람들 리뷰보고 갔는데 너무 기대하고 갔어요 그냥 그랬어요담엔 코스 안 먹을려...</td>\n",
       "      <td>다른 사람들 리뷰보고 갔는데 너무 기대하고 갔어요 그냥 그랬어요담엔 코스 안 먹을려...</td>\n",
       "      <td>다른 사람 들 리뷰 보고 가다 너무 기대하다 가다 그냥 그렇다 담 엔 코스 안 먹다...</td>\n",
       "      <td>1</td>\n",
       "      <td>[리뷰, 보고, 가다, 너무, 기대하다, 가다, 그냥, 그렇다, 담, 엔, 코스, ...</td>\n",
       "    </tr>\n",
       "  </tbody>\n",
       "</table>\n",
       "<p>6271 rows × 7 columns</p>\n",
       "</div>"
      ],
      "text/plain": [
       "                                                     리뷰 음식유형  \\\n",
       "0                                   너무 친절하고 음식이 맛있어요 ㅎㅎ   일식   \n",
       "1     정말 기분 더럽게하는  음식점이었네요. 오랜만에 가족끼리 외식하고 기분내려고 갔는건...  해산물   \n",
       "2          두번째 방문인데~ 엄마가 빵이맛잇다고ㅎ역쉬 가격은 사~악하지만🤣맛잇으니🥰  굿👍   카페   \n",
       "3     집들어가는길에  시원한 라떼한잔^^아인슈페너 생각나서 들어갔는데지금은 안된다고해서 ...   카페   \n",
       "4                                                 친절해요~   양식   \n",
       "...                                                 ...  ...   \n",
       "6266                                          분위기좋고맛있어요   양식   \n",
       "6267  커피는 쏘쏘 맛있는건 아니구 그냥 저냥 원두 뷰값이라 생각하고 사먹었어요 라떼는 싱...   카페   \n",
       "6268  언양에 불고기집은 많고도 많지만인스타나 sns에 어찌나 광고가 거창한지이 추운날 한...   한식   \n",
       "6269  점심특선 먹으러 가족과 같이 갔어요. 가성비 좋고 맛이 최고여요. 매장이 깔끔하고 ...   일식   \n",
       "6270  다른 사람들 리뷰보고 갔는데 너무 기대하고 갔어요 그냥 그랬어요담엔 코스 안 먹을려...  해산물   \n",
       "\n",
       "                                                    리뷰2  \\\n",
       "0                                   너무 친절하고 음식이 맛있어요 ㅎㅎ   \n",
       "1     정말 기분 더럽게하는  음식점이었네요 오랜만에 가족끼리 외식하고 기분내려고 갔는건데...   \n",
       "2               두번째 방문인데 엄마가 빵이맛잇다고ㅎ역쉬 가격은 사악하지만맛잇으니  굿   \n",
       "3     집들어가는길에  시원한 라떼한잔아인슈페너 생각나서 들어갔는데지금은 안된다고해서 그린...   \n",
       "4                                                  친절해요   \n",
       "...                                                 ...   \n",
       "6266                                          분위기좋고맛있어요   \n",
       "6267  커피는 쏘쏘 맛있는건 아니구 그냥 저냥 원두 뷰값이라 생각하고 사먹었어요 라떼는 싱...   \n",
       "6268  언양에 불고기집은 많고도 많지만인스타나 에 어찌나 광고가 거창한지이 추운날 한시간 ...   \n",
       "6269  점심특선 먹으러 가족과 같이 갔어요 가성비 좋고 맛이 최고여요 매장이 깔끔하고 음식...   \n",
       "6270  다른 사람들 리뷰보고 갔는데 너무 기대하고 갔어요 그냥 그랬어요담엔 코스 안 먹을려...   \n",
       "\n",
       "                                                    리뷰3  \\\n",
       "0                                   너무 친절하고 음식이 맛있어요 ㅎㅎ   \n",
       "1     정말 기분 더럽게하는  음식점이었네요 오랜만에 가족끼리 외식하고 기분내려고 갔는건데...   \n",
       "2               두번째 방문인데 엄마가 빵이맛잇다고ㅎ역쉬 가격은 사악하지만맛잇으니  굿   \n",
       "3     집들어가는길에  시원한 라떼한잔아인슈페너 생각나서 들어갔는데지금은 안된다고해서 그린...   \n",
       "4                                                  친절해요   \n",
       "...                                                 ...   \n",
       "6266                                          분위기좋고맛있어요   \n",
       "6267  커피는 쏘쏘 맛있는건 아니구 그냥 저냥 원두 뷰값이라 생각하고 사먹었어요 라떼는 싱...   \n",
       "6268  언양에 불고기집은 많고도 많지만인스타나 에 어찌나 광고가 거창한지이 추운날 한시간 ...   \n",
       "6269  점심특선 먹으러 가족과 같이 갔어요 가성비 좋고 맛이 최고여요 매장이 깔끔하고 음식...   \n",
       "6270  다른 사람들 리뷰보고 갔는데 너무 기대하고 갔어요 그냥 그랬어요담엔 코스 안 먹을려...   \n",
       "\n",
       "                                                    리뷰4  label  \\\n",
       "0                                   너무 친절하다 음식 이 맛있다 ㅎㅎ      1   \n",
       "1     정말 기분 더럽다 하다 음식점 이다 오랜 만 에 가족 끼리 외식 하고 기분 내 려고...      0   \n",
       "2         두번째 방문 인데 엄마 가 빵 이 맛 잇다 ㅎ 역쉬 가격 은 사악하다 맛 잇다 굿      0   \n",
       "3     집 들어가다 길 에 시원하다 라떼 한잔 아인 슈페 너 생각나다 들어가다 지 금은 안...      1   \n",
       "4                                                  친절하다      1   \n",
       "...                                                 ...    ...   \n",
       "6266                                         분위기 좋다 맛있다      1   \n",
       "6267  커피 는 쏘다 쏘다 맛있다 아니다 그냥 저 냥 원두 뷰값 이라 생각 하고 사먹다 라...      0   \n",
       "6268  언양 에 불고기 집다 많다 많다 인스타 나 에 어찌나 광고 가 거창하다 추다 날 한...      0   \n",
       "6269  점심 특선 먹다 가족 과 같이 가다 가성 비 좋다 맛 이 최고 여요 매장 이 깔끔하...      1   \n",
       "6270  다른 사람 들 리뷰 보고 가다 너무 기대하다 가다 그냥 그렇다 담 엔 코스 안 먹다...      1   \n",
       "\n",
       "                                                    리뷰5  \n",
       "0                               [너무, 친절하다, 음식, 맛있다, ㅎㅎ]  \n",
       "1     [정말, 기분, 더럽다, 하다, 음식점, 이다, 오랜, 만, 가족, 끼리, 외식, ...  \n",
       "2     [두번째, 방문, 인데, 엄마, 빵, 맛, 잇다, ㅎ, 역쉬, 가격, 사악하다, 맛...  \n",
       "3     [들어가다, 길, 시원하다, 라떼, 한잔, 아인, 슈페, 너, 생각나다, 들어가다,...  \n",
       "4                                                [친절하다]  \n",
       "...                                                 ...  \n",
       "6266                                     [분위기, 좋다, 맛있다]  \n",
       "6267  [커피, 쏘다, 쏘다, 맛있다, 아니다, 그냥, 저, 냥, 원두, 뷰값, 이라, 하...  \n",
       "6268  [언양, 불고기, 집다, 많다, 많다, 인스타, 어찌나, 광고, 거창하다, 추다, ...  \n",
       "6269  [점심, 특선, 먹다, 가족, 과, 같이, 가다, 가성, 비, 좋다, 맛, 최고, ...  \n",
       "6270  [리뷰, 보고, 가다, 너무, 기대하다, 가다, 그냥, 그렇다, 담, 엔, 코스, ...  \n",
       "\n",
       "[6271 rows x 7 columns]"
      ]
     },
     "execution_count": 39,
     "metadata": {},
     "output_type": "execute_result"
    }
   ],
   "source": [
    "train_df"
   ]
  },
  {
   "cell_type": "code",
   "execution_count": 40,
   "metadata": {
    "executionInfo": {
     "elapsed": 9,
     "status": "ok",
     "timestamp": 1714435868030,
     "user": {
      "displayName": "김동회",
      "userId": "03070467257019991534"
     },
     "user_tz": -540
    },
    "id": "uAUPXFrVyxta"
   },
   "outputs": [],
   "source": [
    "def remove_stopwords(text):\n",
    "    words = text.split()  # 문장을 단어로 분리\n",
    "    filtered_words = [word for word in words if word not in stop_words]  # 불용어 제거\n",
    "    return ' '.join(filtered_words)  # 제거된 단어를 다시 문장으로 결합하여 반환"
   ]
  },
  {
   "cell_type": "code",
   "execution_count": 41,
   "metadata": {
    "executionInfo": {
     "elapsed": 8,
     "status": "ok",
     "timestamp": 1714435868030,
     "user": {
      "displayName": "김동회",
      "userId": "03070467257019991534"
     },
     "user_tz": -540
    },
    "id": "VIoHxsrZuzpl"
   },
   "outputs": [],
   "source": [
    "# '리뷰' 열의 값들에 대해 불용어 제거하여 새로운 열에 저장\n",
    "train_df['리뷰5'] = train_df['리뷰4'].apply(remove_stopwords)"
   ]
  },
  {
   "cell_type": "code",
   "execution_count": 42,
   "metadata": {
    "executionInfo": {
     "elapsed": 9,
     "status": "ok",
     "timestamp": 1714435868031,
     "user": {
      "displayName": "김동회",
      "userId": "03070467257019991534"
     },
     "user_tz": -540
    },
    "id": "WC7xokpHzCWf"
   },
   "outputs": [],
   "source": [
    "train_df['리뷰5'] = train_df['리뷰5'].apply(lambda x: x.split())"
   ]
  },
  {
   "cell_type": "code",
   "execution_count": 43,
   "metadata": {},
   "outputs": [
    {
     "data": {
      "text/plain": [
       "0                                 [너무, 친절하다, 음식, 맛있다, ㅎㅎ]\n",
       "1       [정말, 기분, 더럽다, 하다, 음식점, 이다, 오랜, 만, 가족, 끼리, 외식, ...\n",
       "2       [두번째, 방문, 인데, 엄마, 빵, 맛, 잇다, ㅎ, 역쉬, 가격, 사악하다, 맛...\n",
       "3       [들어가다, 길, 시원하다, 라떼, 한잔, 아인, 슈페, 너, 생각나다, 들어가다,...\n",
       "4                                                  [친절하다]\n",
       "                              ...                        \n",
       "6266                                       [분위기, 좋다, 맛있다]\n",
       "6267    [커피, 쏘다, 쏘다, 맛있다, 아니다, 그냥, 저, 냥, 원두, 뷰값, 이라, 하...\n",
       "6268    [언양, 불고기, 집다, 많다, 많다, 인스타, 어찌나, 광고, 거창하다, 추다, ...\n",
       "6269    [점심, 특선, 먹다, 가족, 과, 같이, 가다, 가성, 비, 좋다, 맛, 최고, ...\n",
       "6270    [리뷰, 보고, 가다, 너무, 기대하다, 가다, 그냥, 그렇다, 담, 엔, 코스, ...\n",
       "Name: 리뷰5, Length: 6271, dtype: object"
      ]
     },
     "execution_count": 43,
     "metadata": {},
     "output_type": "execute_result"
    }
   ],
   "source": [
    "train_df['리뷰5']"
   ]
  },
  {
   "cell_type": "code",
   "execution_count": 44,
   "metadata": {
    "executionInfo": {
     "elapsed": 9,
     "status": "ok",
     "timestamp": 1714435868031,
     "user": {
      "displayName": "김동회",
      "userId": "03070467257019991534"
     },
     "user_tz": -540
    },
    "id": "SToCrc5O2m9H"
   },
   "outputs": [],
   "source": [
    "total_word = []\n",
    "for i in range(len(train_df)):\n",
    "    for word in train_df['리뷰5'].loc[i]:\n",
    "        total_word.append(word)"
   ]
  },
  {
   "cell_type": "code",
   "execution_count": 45,
   "metadata": {
    "colab": {
     "base_uri": "https://localhost:8080/"
    },
    "executionInfo": {
     "elapsed": 9,
     "status": "ok",
     "timestamp": 1714435868031,
     "user": {
      "displayName": "김동회",
      "userId": "03070467257019991534"
     },
     "user_tz": -540
    },
    "id": "DQj6eBnc3lR9",
    "outputId": "034116c3-5043-4056-9099-89af3572f30b"
   },
   "outputs": [
    {
     "data": {
      "text/plain": [
       "[('하다', 4208),\n",
       " ('먹다', 2646),\n",
       " ('맛있다', 2640),\n",
       " ('좋다', 1859),\n",
       " ('너무', 1775),\n",
       " ('맛', 1729),\n",
       " ('없다', 1327),\n",
       " ('있다', 1251),\n",
       " ('오다', 1214),\n",
       " ('음식', 1197),\n",
       " ('가다', 1123),\n",
       " ('이다', 875),\n",
       " ('같다', 824),\n",
       " ('보다', 819),\n",
       " ('나오다', 766),\n",
       " ('직원', 761),\n",
       " ('아니다', 717),\n",
       " ('방문', 704),\n",
       " ('친절하다', 689),\n",
       " ('않다', 661)]"
      ]
     },
     "execution_count": 45,
     "metadata": {},
     "output_type": "execute_result"
    }
   ],
   "source": [
    "import collections\n",
    "collections.Counter(total_word).most_common(20)"
   ]
  },
  {
   "cell_type": "code",
   "execution_count": 67,
   "metadata": {},
   "outputs": [],
   "source": [
    "positive_train_df = train_df[train_df['label'] == 1]\n",
    "negative_train_df = train_df[train_df['label'] == 0]"
   ]
  },
  {
   "cell_type": "code",
   "execution_count": 68,
   "metadata": {},
   "outputs": [
    {
     "data": {
      "text/html": [
       "<div>\n",
       "<style scoped>\n",
       "    .dataframe tbody tr th:only-of-type {\n",
       "        vertical-align: middle;\n",
       "    }\n",
       "\n",
       "    .dataframe tbody tr th {\n",
       "        vertical-align: top;\n",
       "    }\n",
       "\n",
       "    .dataframe thead th {\n",
       "        text-align: right;\n",
       "    }\n",
       "</style>\n",
       "<table border=\"1\" class=\"dataframe\">\n",
       "  <thead>\n",
       "    <tr style=\"text-align: right;\">\n",
       "      <th></th>\n",
       "      <th>리뷰</th>\n",
       "      <th>음식유형</th>\n",
       "      <th>리뷰2</th>\n",
       "      <th>리뷰3</th>\n",
       "      <th>리뷰4</th>\n",
       "      <th>label</th>\n",
       "      <th>리뷰5</th>\n",
       "      <th>new리뷰</th>\n",
       "      <th>토큰화된리뷰</th>\n",
       "    </tr>\n",
       "  </thead>\n",
       "  <tbody>\n",
       "    <tr>\n",
       "      <th>1</th>\n",
       "      <td>정말 기분 더럽게하는  음식점이었네요. 오랜만에 가족끼리 외식하고 기분내려고 갔는건...</td>\n",
       "      <td>해산물</td>\n",
       "      <td>정말 기분 더럽게하는  음식점이었네요 오랜만에 가족끼리 외식하고 기분내려고 갔는건데...</td>\n",
       "      <td>정말 기분 더럽게하는  음식점이었네요 오랜만에 가족끼리 외식하고 기분내려고 갔는건데...</td>\n",
       "      <td>정말 기분 더럽다 하다 음식점 이다 오랜 만 에 가족 끼리 외식 하고 기분 내 려고...</td>\n",
       "      <td>0</td>\n",
       "      <td>[정말, 기분, 더럽다, 하다, 음식점, 이다, 오랜, 만, 가족, 끼리, 외식, ...</td>\n",
       "      <td>[정말, 기분, 더럽다, 하다, 음식점, 이다, 오랜, 만, 가족, 끼리, 외식, ...</td>\n",
       "      <td>[42, 70, 423, 1, 707, 12, 172, 24, 113, 413, 5...</td>\n",
       "    </tr>\n",
       "    <tr>\n",
       "      <th>2</th>\n",
       "      <td>두번째 방문인데~ 엄마가 빵이맛잇다고ㅎ역쉬 가격은 사~악하지만🤣맛잇으니🥰  굿👍</td>\n",
       "      <td>카페</td>\n",
       "      <td>두번째 방문인데 엄마가 빵이맛잇다고ㅎ역쉬 가격은 사악하지만맛잇으니  굿</td>\n",
       "      <td>두번째 방문인데 엄마가 빵이맛잇다고ㅎ역쉬 가격은 사악하지만맛잇으니  굿</td>\n",
       "      <td>두번째 방문 인데 엄마 가 빵 이 맛 잇다 ㅎ 역쉬 가격 은 사악하다 맛 잇다 굿</td>\n",
       "      <td>0</td>\n",
       "      <td>[두번째, 방문, 인데, 엄마, 빵, 맛, 잇다, ㅎ, 역쉬, 가격, 사악하다, 맛...</td>\n",
       "      <td>[두번째, 방문, 인데, 엄마, 빵, 맛, 잇다, ㅎ, 역쉬, 가격, 사악하다, 맛...</td>\n",
       "      <td>[324, 18, 60, 783, 53, 6, 151, 156, 30, 1463, ...</td>\n",
       "    </tr>\n",
       "    <tr>\n",
       "      <th>6</th>\n",
       "      <td>실내가 조금 덥긴 했지만 미친비주얼의 음료보고 다까먹었어요ㅋㅋㅋㅋ 왜 비싼지 납득되...</td>\n",
       "      <td>카페</td>\n",
       "      <td>실내가 조금 덥긴 했지만 미친비주얼의 음료보고 다까먹었어요ㅋㅋㅋㅋ 왜 비싼지 납득되...</td>\n",
       "      <td>실내가 조금 덥긴 했지만 미친비주얼의 음료보고 다까먹었어요ㅋㅋㅋ 왜 비싼지 납득되는...</td>\n",
       "      <td>실내 가 조금 덥다 하다 미치다 비주 얼 의 음료 보고 다 까먹다 ㅋㅋㅋ 왜 비싸다...</td>\n",
       "      <td>0</td>\n",
       "      <td>[실내, 조금, 덥다, 하다, 미치다, 비주, 얼, 의, 음료, 보고, 까먹다, ㅋ...</td>\n",
       "      <td>[실내, 조금, 덥다, 하다, 미치다, 비주, 얼, 의, 음료, 보고, 까먹다, ㅋ...</td>\n",
       "      <td>[884, 78, 168, 1, 687, 910, 973, 59, 134, 129,...</td>\n",
       "    </tr>\n",
       "    <tr>\n",
       "      <th>8</th>\n",
       "      <td>예전맛은 아니지만  그래도 가게되는</td>\n",
       "      <td>한식</td>\n",
       "      <td>예전맛은 아니지만  그래도 가게되는</td>\n",
       "      <td>예전맛은 아니지만  그래도 가게되는</td>\n",
       "      <td>예 전 맛 은 아니다 그래도 가게 되다</td>\n",
       "      <td>0</td>\n",
       "      <td>[예, 맛, 아니다, 그래도, 가게, 되다]</td>\n",
       "      <td>[예, 맛, 아니다, 그래도, 가게, 되다]</td>\n",
       "      <td>[289, 6, 17, 219, 149, 34]</td>\n",
       "    </tr>\n",
       "    <tr>\n",
       "      <th>9</th>\n",
       "      <td>또 올 집입니당 인스타에서 보고 바로 달려왔는데 인스타에서 본것처럼 실제로 맛보니 ...</td>\n",
       "      <td>한식</td>\n",
       "      <td>또 올 집입니당 인스타에서 보고 바로 달려왔는데 인스타에서 본것처럼 실제로 맛보니 ...</td>\n",
       "      <td>또 올 집입니다 인스타에서 보고 바로 달려왔는데 인스타에서 본것처럼 실제로 맛보니 ...</td>\n",
       "      <td>또 오다 집 이다 인스타 에서 보고 바로 달려오다 인스타 에서 보다 실제 로 맛보다...</td>\n",
       "      <td>0</td>\n",
       "      <td>[오다, 이다, 인스타, 에서, 보고, 바로, 달려오다, 인스타, 에서, 보다, 실...</td>\n",
       "      <td>[오다, 이다, 인스타, 에서, 보고, 바로, 달려오다, 인스타, 에서, 보다, 실...</td>\n",
       "      <td>[9, 12, 935, 31, 129, 154, 2210, 935, 31, 14, ...</td>\n",
       "    </tr>\n",
       "    <tr>\n",
       "      <th>...</th>\n",
       "      <td>...</td>\n",
       "      <td>...</td>\n",
       "      <td>...</td>\n",
       "      <td>...</td>\n",
       "      <td>...</td>\n",
       "      <td>...</td>\n",
       "      <td>...</td>\n",
       "      <td>...</td>\n",
       "      <td>...</td>\n",
       "    </tr>\n",
       "    <tr>\n",
       "      <th>6260</th>\n",
       "      <td>울산에 오면 꼭 먹어줘야 하는 짬뽕정!!고기 짬뽕의 맛을 느끼고 싶다면 강추합니다!!</td>\n",
       "      <td>중식</td>\n",
       "      <td>울산에 오면 꼭 먹어줘야 하는 짬뽕정고기 짬뽕의 맛을 느끼고 싶다면 강추합니다</td>\n",
       "      <td>울산에 오면 꼭 먹어줘야 하는 짬뽕정고기 짬뽕의 맛을 느끼고 싶다면 강추합니다</td>\n",
       "      <td>울산 에 오다 꼭 먹어주다 하다 짬뽕 정 고기 짬뽕 의 맛 을 느끼다 싶다 강 추하다</td>\n",
       "      <td>0</td>\n",
       "      <td>[울산, 오다, 꼭, 먹어주다, 하다, 짬뽕, 정, 고기, 짬뽕, 의, 맛, 느끼다...</td>\n",
       "      <td>[울산, 오다, 꼭, 먹어주다, 하다, 짬뽕, 정, 고기, 짬뽕, 의, 맛, 느끼다...</td>\n",
       "      <td>[77, 9, 130, 2630, 1, 195, 1680, 45, 195, 59, ...</td>\n",
       "    </tr>\n",
       "    <tr>\n",
       "      <th>6262</th>\n",
       "      <td>적당한 맛과 양, 단 1만3천원은 좀 비싼 느낌.</td>\n",
       "      <td>중식</td>\n",
       "      <td>적당한 맛과 양 단 만천원은 좀 비싼 느낌</td>\n",
       "      <td>적당한 맛과 양 단 만천원은 좀 비싼 느낌</td>\n",
       "      <td>적당하다 맛 과 양 단 만천원 은 좀 비싸다 느낌</td>\n",
       "      <td>0</td>\n",
       "      <td>[적당하다, 맛, 과, 양, 단, 만천원, 비싸다, 느낌]</td>\n",
       "      <td>[적당하다, 맛, 과, 양, 단, 만천원, 비싸다, 느낌]</td>\n",
       "      <td>[431, 6, 57, 96, 656, 2866, 32, 133]</td>\n",
       "    </tr>\n",
       "    <tr>\n",
       "      <th>6263</th>\n",
       "      <td>예전만큼은  아니네요</td>\n",
       "      <td>양식</td>\n",
       "      <td>예전만큼은  아니네요</td>\n",
       "      <td>예전만큼은  아니네요</td>\n",
       "      <td>예전 만큼은 아니다</td>\n",
       "      <td>0</td>\n",
       "      <td>[예전, 만큼은, 아니다]</td>\n",
       "      <td>[예전, 만큼은, 아니다]</td>\n",
       "      <td>[183, 1425, 17]</td>\n",
       "    </tr>\n",
       "    <tr>\n",
       "      <th>6267</th>\n",
       "      <td>커피는 쏘쏘 맛있는건 아니구 그냥 저냥 원두 뷰값이라 생각하고 사먹었어요 라떼는 싱...</td>\n",
       "      <td>카페</td>\n",
       "      <td>커피는 쏘쏘 맛있는건 아니구 그냥 저냥 원두 뷰값이라 생각하고 사먹었어요 라떼는 싱...</td>\n",
       "      <td>커피는 쏘쏘 맛있는건 아니구 그냥 저냥 원두 뷰값이라 생각하고 사먹었어요 라떼는 싱...</td>\n",
       "      <td>커피 는 쏘다 쏘다 맛있다 아니다 그냥 저 냥 원두 뷰값 이라 생각 하고 사먹다 라...</td>\n",
       "      <td>0</td>\n",
       "      <td>[커피, 쏘다, 쏘다, 맛있다, 아니다, 그냥, 저, 냥, 원두, 뷰값, 이라, 하...</td>\n",
       "      <td>[커피, 쏘다, 쏘다, 맛있다, 아니다, 그냥, 저, 냥, 원두, 뷰값, 이라, 하...</td>\n",
       "      <td>[47, 271, 271, 3, 17, 74, 115, 797, 2484, 2482...</td>\n",
       "    </tr>\n",
       "    <tr>\n",
       "      <th>6268</th>\n",
       "      <td>언양에 불고기집은 많고도 많지만인스타나 sns에 어찌나 광고가 거창한지이 추운날 한...</td>\n",
       "      <td>한식</td>\n",
       "      <td>언양에 불고기집은 많고도 많지만인스타나 에 어찌나 광고가 거창한지이 추운날 한시간 ...</td>\n",
       "      <td>언양에 불고기집은 많고도 많지만인스타나 에 어찌나 광고가 거창한지이 추운날 한시간 ...</td>\n",
       "      <td>언양 에 불고기 집다 많다 많다 인스타 나 에 어찌나 광고 가 거창하다 추다 날 한...</td>\n",
       "      <td>0</td>\n",
       "      <td>[언양, 불고기, 집다, 많다, 많다, 인스타, 어찌나, 광고, 거창하다, 추다, ...</td>\n",
       "      <td>[언양, 불고기, 집다, 많다, 많다, 인스타, 어찌나, 광고, 거창하다, 추다, ...</td>\n",
       "      <td>[1137, 299, 748, 28, 28, 935, 1968, 823, 126, ...</td>\n",
       "    </tr>\n",
       "  </tbody>\n",
       "</table>\n",
       "<p>3074 rows × 9 columns</p>\n",
       "</div>"
      ],
      "text/plain": [
       "                                                     리뷰 음식유형  \\\n",
       "1     정말 기분 더럽게하는  음식점이었네요. 오랜만에 가족끼리 외식하고 기분내려고 갔는건...  해산물   \n",
       "2          두번째 방문인데~ 엄마가 빵이맛잇다고ㅎ역쉬 가격은 사~악하지만🤣맛잇으니🥰  굿👍   카페   \n",
       "6     실내가 조금 덥긴 했지만 미친비주얼의 음료보고 다까먹었어요ㅋㅋㅋㅋ 왜 비싼지 납득되...   카페   \n",
       "8                                   예전맛은 아니지만  그래도 가게되는   한식   \n",
       "9     또 올 집입니당 인스타에서 보고 바로 달려왔는데 인스타에서 본것처럼 실제로 맛보니 ...   한식   \n",
       "...                                                 ...  ...   \n",
       "6260    울산에 오면 꼭 먹어줘야 하는 짬뽕정!!고기 짬뽕의 맛을 느끼고 싶다면 강추합니다!!   중식   \n",
       "6262                        적당한 맛과 양, 단 1만3천원은 좀 비싼 느낌.   중식   \n",
       "6263                                        예전만큼은  아니네요   양식   \n",
       "6267  커피는 쏘쏘 맛있는건 아니구 그냥 저냥 원두 뷰값이라 생각하고 사먹었어요 라떼는 싱...   카페   \n",
       "6268  언양에 불고기집은 많고도 많지만인스타나 sns에 어찌나 광고가 거창한지이 추운날 한...   한식   \n",
       "\n",
       "                                                    리뷰2  \\\n",
       "1     정말 기분 더럽게하는  음식점이었네요 오랜만에 가족끼리 외식하고 기분내려고 갔는건데...   \n",
       "2               두번째 방문인데 엄마가 빵이맛잇다고ㅎ역쉬 가격은 사악하지만맛잇으니  굿   \n",
       "6     실내가 조금 덥긴 했지만 미친비주얼의 음료보고 다까먹었어요ㅋㅋㅋㅋ 왜 비싼지 납득되...   \n",
       "8                                   예전맛은 아니지만  그래도 가게되는   \n",
       "9     또 올 집입니당 인스타에서 보고 바로 달려왔는데 인스타에서 본것처럼 실제로 맛보니 ...   \n",
       "...                                                 ...   \n",
       "6260        울산에 오면 꼭 먹어줘야 하는 짬뽕정고기 짬뽕의 맛을 느끼고 싶다면 강추합니다   \n",
       "6262                            적당한 맛과 양 단 만천원은 좀 비싼 느낌   \n",
       "6263                                        예전만큼은  아니네요   \n",
       "6267  커피는 쏘쏘 맛있는건 아니구 그냥 저냥 원두 뷰값이라 생각하고 사먹었어요 라떼는 싱...   \n",
       "6268  언양에 불고기집은 많고도 많지만인스타나 에 어찌나 광고가 거창한지이 추운날 한시간 ...   \n",
       "\n",
       "                                                    리뷰3  \\\n",
       "1     정말 기분 더럽게하는  음식점이었네요 오랜만에 가족끼리 외식하고 기분내려고 갔는건데...   \n",
       "2               두번째 방문인데 엄마가 빵이맛잇다고ㅎ역쉬 가격은 사악하지만맛잇으니  굿   \n",
       "6     실내가 조금 덥긴 했지만 미친비주얼의 음료보고 다까먹었어요ㅋㅋㅋ 왜 비싼지 납득되는...   \n",
       "8                                   예전맛은 아니지만  그래도 가게되는   \n",
       "9     또 올 집입니다 인스타에서 보고 바로 달려왔는데 인스타에서 본것처럼 실제로 맛보니 ...   \n",
       "...                                                 ...   \n",
       "6260        울산에 오면 꼭 먹어줘야 하는 짬뽕정고기 짬뽕의 맛을 느끼고 싶다면 강추합니다   \n",
       "6262                            적당한 맛과 양 단 만천원은 좀 비싼 느낌   \n",
       "6263                                        예전만큼은  아니네요   \n",
       "6267  커피는 쏘쏘 맛있는건 아니구 그냥 저냥 원두 뷰값이라 생각하고 사먹었어요 라떼는 싱...   \n",
       "6268  언양에 불고기집은 많고도 많지만인스타나 에 어찌나 광고가 거창한지이 추운날 한시간 ...   \n",
       "\n",
       "                                                    리뷰4  label  \\\n",
       "1     정말 기분 더럽다 하다 음식점 이다 오랜 만 에 가족 끼리 외식 하고 기분 내 려고...      0   \n",
       "2         두번째 방문 인데 엄마 가 빵 이 맛 잇다 ㅎ 역쉬 가격 은 사악하다 맛 잇다 굿      0   \n",
       "6     실내 가 조금 덥다 하다 미치다 비주 얼 의 음료 보고 다 까먹다 ㅋㅋㅋ 왜 비싸다...      0   \n",
       "8                                 예 전 맛 은 아니다 그래도 가게 되다      0   \n",
       "9     또 오다 집 이다 인스타 에서 보고 바로 달려오다 인스타 에서 보다 실제 로 맛보다...      0   \n",
       "...                                                 ...    ...   \n",
       "6260    울산 에 오다 꼭 먹어주다 하다 짬뽕 정 고기 짬뽕 의 맛 을 느끼다 싶다 강 추하다      0   \n",
       "6262                        적당하다 맛 과 양 단 만천원 은 좀 비싸다 느낌      0   \n",
       "6263                                         예전 만큼은 아니다      0   \n",
       "6267  커피 는 쏘다 쏘다 맛있다 아니다 그냥 저 냥 원두 뷰값 이라 생각 하고 사먹다 라...      0   \n",
       "6268  언양 에 불고기 집다 많다 많다 인스타 나 에 어찌나 광고 가 거창하다 추다 날 한...      0   \n",
       "\n",
       "                                                    리뷰5  \\\n",
       "1     [정말, 기분, 더럽다, 하다, 음식점, 이다, 오랜, 만, 가족, 끼리, 외식, ...   \n",
       "2     [두번째, 방문, 인데, 엄마, 빵, 맛, 잇다, ㅎ, 역쉬, 가격, 사악하다, 맛...   \n",
       "6     [실내, 조금, 덥다, 하다, 미치다, 비주, 얼, 의, 음료, 보고, 까먹다, ㅋ...   \n",
       "8                              [예, 맛, 아니다, 그래도, 가게, 되다]   \n",
       "9     [오다, 이다, 인스타, 에서, 보고, 바로, 달려오다, 인스타, 에서, 보다, 실...   \n",
       "...                                                 ...   \n",
       "6260  [울산, 오다, 꼭, 먹어주다, 하다, 짬뽕, 정, 고기, 짬뽕, 의, 맛, 느끼다...   \n",
       "6262                   [적당하다, 맛, 과, 양, 단, 만천원, 비싸다, 느낌]   \n",
       "6263                                     [예전, 만큼은, 아니다]   \n",
       "6267  [커피, 쏘다, 쏘다, 맛있다, 아니다, 그냥, 저, 냥, 원두, 뷰값, 이라, 하...   \n",
       "6268  [언양, 불고기, 집다, 많다, 많다, 인스타, 어찌나, 광고, 거창하다, 추다, ...   \n",
       "\n",
       "                                                  new리뷰  \\\n",
       "1     [정말, 기분, 더럽다, 하다, 음식점, 이다, 오랜, 만, 가족, 끼리, 외식, ...   \n",
       "2     [두번째, 방문, 인데, 엄마, 빵, 맛, 잇다, ㅎ, 역쉬, 가격, 사악하다, 맛...   \n",
       "6     [실내, 조금, 덥다, 하다, 미치다, 비주, 얼, 의, 음료, 보고, 까먹다, ㅋ...   \n",
       "8                              [예, 맛, 아니다, 그래도, 가게, 되다]   \n",
       "9     [오다, 이다, 인스타, 에서, 보고, 바로, 달려오다, 인스타, 에서, 보다, 실...   \n",
       "...                                                 ...   \n",
       "6260  [울산, 오다, 꼭, 먹어주다, 하다, 짬뽕, 정, 고기, 짬뽕, 의, 맛, 느끼다...   \n",
       "6262                   [적당하다, 맛, 과, 양, 단, 만천원, 비싸다, 느낌]   \n",
       "6263                                     [예전, 만큼은, 아니다]   \n",
       "6267  [커피, 쏘다, 쏘다, 맛있다, 아니다, 그냥, 저, 냥, 원두, 뷰값, 이라, 하...   \n",
       "6268  [언양, 불고기, 집다, 많다, 많다, 인스타, 어찌나, 광고, 거창하다, 추다, ...   \n",
       "\n",
       "                                                 토큰화된리뷰  \n",
       "1     [42, 70, 423, 1, 707, 12, 172, 24, 113, 413, 5...  \n",
       "2     [324, 18, 60, 783, 53, 6, 151, 156, 30, 1463, ...  \n",
       "6     [884, 78, 168, 1, 687, 910, 973, 59, 134, 129,...  \n",
       "8                            [289, 6, 17, 219, 149, 34]  \n",
       "9     [9, 12, 935, 31, 129, 154, 2210, 935, 31, 14, ...  \n",
       "...                                                 ...  \n",
       "6260  [77, 9, 130, 2630, 1, 195, 1680, 45, 195, 59, ...  \n",
       "6262               [431, 6, 57, 96, 656, 2866, 32, 133]  \n",
       "6263                                    [183, 1425, 17]  \n",
       "6267  [47, 271, 271, 3, 17, 74, 115, 797, 2484, 2482...  \n",
       "6268  [1137, 299, 748, 28, 28, 935, 1968, 823, 126, ...  \n",
       "\n",
       "[3074 rows x 9 columns]"
      ]
     },
     "execution_count": 68,
     "metadata": {},
     "output_type": "execute_result"
    }
   ],
   "source": [
    "negative_train_df"
   ]
  },
  {
   "cell_type": "code",
   "execution_count": 69,
   "metadata": {},
   "outputs": [
    {
     "data": {
      "text/html": [
       "<div>\n",
       "<style scoped>\n",
       "    .dataframe tbody tr th:only-of-type {\n",
       "        vertical-align: middle;\n",
       "    }\n",
       "\n",
       "    .dataframe tbody tr th {\n",
       "        vertical-align: top;\n",
       "    }\n",
       "\n",
       "    .dataframe thead th {\n",
       "        text-align: right;\n",
       "    }\n",
       "</style>\n",
       "<table border=\"1\" class=\"dataframe\">\n",
       "  <thead>\n",
       "    <tr style=\"text-align: right;\">\n",
       "      <th></th>\n",
       "      <th>리뷰</th>\n",
       "      <th>음식유형</th>\n",
       "      <th>리뷰2</th>\n",
       "      <th>리뷰3</th>\n",
       "      <th>리뷰4</th>\n",
       "      <th>label</th>\n",
       "      <th>리뷰5</th>\n",
       "      <th>new리뷰</th>\n",
       "      <th>토큰화된리뷰</th>\n",
       "    </tr>\n",
       "  </thead>\n",
       "  <tbody>\n",
       "    <tr>\n",
       "      <th>0</th>\n",
       "      <td>너무 친절하고 음식이 맛있어요 ㅎㅎ</td>\n",
       "      <td>일식</td>\n",
       "      <td>너무 친절하고 음식이 맛있어요 ㅎㅎ</td>\n",
       "      <td>너무 친절하고 음식이 맛있어요 ㅎㅎ</td>\n",
       "      <td>너무 친절하다 음식 이 맛있다 ㅎㅎ</td>\n",
       "      <td>1</td>\n",
       "      <td>[너무, 친절하다, 음식, 맛있다, ㅎㅎ]</td>\n",
       "      <td>[너무, 친절하다, 음식, 맛있다, ㅎㅎ]</td>\n",
       "      <td>[5, 19, 10, 3, 67]</td>\n",
       "    </tr>\n",
       "    <tr>\n",
       "      <th>3</th>\n",
       "      <td>집들어가는길에  시원한 라떼한잔^^아인슈페너 생각나서 들어갔는데지금은 안된다고해서 ...</td>\n",
       "      <td>카페</td>\n",
       "      <td>집들어가는길에  시원한 라떼한잔아인슈페너 생각나서 들어갔는데지금은 안된다고해서 그린...</td>\n",
       "      <td>집들어가는길에  시원한 라떼한잔아인슈페너 생각나서 들어갔는데지금은 안된다고해서 그린...</td>\n",
       "      <td>집 들어가다 길 에 시원하다 라떼 한잔 아인 슈페 너 생각나다 들어가다 지 금은 안...</td>\n",
       "      <td>1</td>\n",
       "      <td>[들어가다, 길, 시원하다, 라떼, 한잔, 아인, 슈페, 너, 생각나다, 들어가다,...</td>\n",
       "      <td>[들어가다, 길, 시원하다, 라떼, 한잔, 아인, 슈페, 너, 생각나다, 들어가다,...</td>\n",
       "      <td>[106, 784, 380, 464, 1018, 2520, 1989, 444, 30...</td>\n",
       "    </tr>\n",
       "    <tr>\n",
       "      <th>4</th>\n",
       "      <td>친절해요~</td>\n",
       "      <td>양식</td>\n",
       "      <td>친절해요</td>\n",
       "      <td>친절해요</td>\n",
       "      <td>친절하다</td>\n",
       "      <td>1</td>\n",
       "      <td>[친절하다]</td>\n",
       "      <td>[친절하다]</td>\n",
       "      <td>[19]</td>\n",
       "    </tr>\n",
       "    <tr>\n",
       "      <th>5</th>\n",
       "      <td>서생 카페들중 단연 일등인것같아요 너무 마음에드는 카페에요 사진도 너무 잘나오고 음...</td>\n",
       "      <td>카페</td>\n",
       "      <td>서생 카페들중 단연 일등인것같아요 너무 마음에드는 카페에요 사진도 너무 잘나오고 음...</td>\n",
       "      <td>서생 카페들중 단연 일등인것같아요 너무 마음에드는 카페에요 사진도 너무 잘나오고 음...</td>\n",
       "      <td>서생 카페 들 중 단연 일등 인 것 같다 너무 마음 에드 는 카페 에요 사진 도 너...</td>\n",
       "      <td>1</td>\n",
       "      <td>[서생, 카페, 단연, 일등, 인, 같다, 너무, 마음, 에드, 카페, 에요, 사진...</td>\n",
       "      <td>[서생, 카페, 단연, 일등, 인, 같다, 너무, 마음, 에드, 카페, 에요, 사진...</td>\n",
       "      <td>[2905, 127, 82, 13, 5, 502, 127, 315, 198, 5, ...</td>\n",
       "    </tr>\n",
       "    <tr>\n",
       "      <th>7</th>\n",
       "      <td>자주 오는데 넘 맛있어요!</td>\n",
       "      <td>한식</td>\n",
       "      <td>자주 오는데 넘 맛있어요</td>\n",
       "      <td>자주 오는데 넘 맛있어요</td>\n",
       "      <td>자주 오다 넘다 맛있다</td>\n",
       "      <td>1</td>\n",
       "      <td>[자주, 오다, 넘다, 맛있다]</td>\n",
       "      <td>[자주, 오다, 넘다, 맛있다]</td>\n",
       "      <td>[116, 9, 43, 3]</td>\n",
       "    </tr>\n",
       "    <tr>\n",
       "      <th>...</th>\n",
       "      <td>...</td>\n",
       "      <td>...</td>\n",
       "      <td>...</td>\n",
       "      <td>...</td>\n",
       "      <td>...</td>\n",
       "      <td>...</td>\n",
       "      <td>...</td>\n",
       "      <td>...</td>\n",
       "      <td>...</td>\n",
       "    </tr>\n",
       "    <tr>\n",
       "      <th>6264</th>\n",
       "      <td>분위기 좋습니다</td>\n",
       "      <td>한식</td>\n",
       "      <td>분위기 좋습니다</td>\n",
       "      <td>분위기 좋습니다</td>\n",
       "      <td>분위기 좋다</td>\n",
       "      <td>1</td>\n",
       "      <td>[분위기, 좋다]</td>\n",
       "      <td>[분위기, 좋다]</td>\n",
       "      <td>[40, 4]</td>\n",
       "    </tr>\n",
       "    <tr>\n",
       "      <th>6265</th>\n",
       "      <td>울산 지나가다가 한옥카페가 너무 이뻐서 들어왔는데 매장 분위기도 넘 좋네요 시그니처...</td>\n",
       "      <td>카페</td>\n",
       "      <td>울산 지나가다가 한옥카페가 너무 이뻐서 들어왔는데 매장 분위기도 넘 좋네요 시그니처...</td>\n",
       "      <td>울산 지나가다가 한옥카페가 너무 이뻐서 들어왔는데 매장 분위기도 넘 좋네요 시그니처...</td>\n",
       "      <td>울산 지나가다 한 옥 카페 가 너무 이쁘다 들어오다 매장 분위기 도 넘다 좋다 시 ...</td>\n",
       "      <td>1</td>\n",
       "      <td>[울산, 지나가다, 옥, 카페, 너무, 이쁘다, 들어오다, 매장, 분위기, 넘다, ...</td>\n",
       "      <td>[울산, 지나가다, 옥, 카페, 너무, 이쁘다, 들어오다, 매장, 분위기, 넘다, ...</td>\n",
       "      <td>[77, 608, 343, 127, 5, 312, 362, 66, 40, 43, 4...</td>\n",
       "    </tr>\n",
       "    <tr>\n",
       "      <th>6266</th>\n",
       "      <td>분위기좋고맛있어요</td>\n",
       "      <td>양식</td>\n",
       "      <td>분위기좋고맛있어요</td>\n",
       "      <td>분위기좋고맛있어요</td>\n",
       "      <td>분위기 좋다 맛있다</td>\n",
       "      <td>1</td>\n",
       "      <td>[분위기, 좋다, 맛있다]</td>\n",
       "      <td>[분위기, 좋다, 맛있다]</td>\n",
       "      <td>[40, 4, 3]</td>\n",
       "    </tr>\n",
       "    <tr>\n",
       "      <th>6269</th>\n",
       "      <td>점심특선 먹으러 가족과 같이 갔어요. 가성비 좋고 맛이 최고여요. 매장이 깔끔하고 ...</td>\n",
       "      <td>일식</td>\n",
       "      <td>점심특선 먹으러 가족과 같이 갔어요 가성비 좋고 맛이 최고여요 매장이 깔끔하고 음식...</td>\n",
       "      <td>점심특선 먹으러 가족과 같이 갔어요 가성비 좋고 맛이 최고여요 매장이 깔끔하고 음식...</td>\n",
       "      <td>점심 특선 먹다 가족 과 같이 가다 가성 비 좋다 맛 이 최고 여요 매장 이 깔끔하...</td>\n",
       "      <td>1</td>\n",
       "      <td>[점심, 특선, 먹다, 가족, 과, 같이, 가다, 가성, 비, 좋다, 맛, 최고, ...</td>\n",
       "      <td>[점심, 특선, 먹다, 가족, 과, 같이, 가다, 가성, 비, 좋다, 맛, 최고, ...</td>\n",
       "      <td>[207, 732, 2, 113, 57, 185, 11, 140, 125, 4, 6...</td>\n",
       "    </tr>\n",
       "    <tr>\n",
       "      <th>6270</th>\n",
       "      <td>다른 사람들 리뷰보고 갔는데 너무 기대하고 갔어요 그냥 그랬어요담엔 코스 안 먹을려...</td>\n",
       "      <td>해산물</td>\n",
       "      <td>다른 사람들 리뷰보고 갔는데 너무 기대하고 갔어요 그냥 그랬어요담엔 코스 안 먹을려...</td>\n",
       "      <td>다른 사람들 리뷰보고 갔는데 너무 기대하고 갔어요 그냥 그랬어요담엔 코스 안 먹을려...</td>\n",
       "      <td>다른 사람 들 리뷰 보고 가다 너무 기대하다 가다 그냥 그렇다 담 엔 코스 안 먹다...</td>\n",
       "      <td>1</td>\n",
       "      <td>[리뷰, 보고, 가다, 너무, 기대하다, 가다, 그냥, 그렇다, 담, 엔, 코스, ...</td>\n",
       "      <td>[리뷰, 보고, 가다, 너무, 기대하다, 가다, 그냥, 그렇다, 담, 엔, 코스, ...</td>\n",
       "      <td>[124, 129, 11, 5, 494, 11, 74, 44, 377, 107, 1...</td>\n",
       "    </tr>\n",
       "  </tbody>\n",
       "</table>\n",
       "<p>3197 rows × 9 columns</p>\n",
       "</div>"
      ],
      "text/plain": [
       "                                                     리뷰 음식유형  \\\n",
       "0                                   너무 친절하고 음식이 맛있어요 ㅎㅎ   일식   \n",
       "3     집들어가는길에  시원한 라떼한잔^^아인슈페너 생각나서 들어갔는데지금은 안된다고해서 ...   카페   \n",
       "4                                                 친절해요~   양식   \n",
       "5     서생 카페들중 단연 일등인것같아요 너무 마음에드는 카페에요 사진도 너무 잘나오고 음...   카페   \n",
       "7                                        자주 오는데 넘 맛있어요!   한식   \n",
       "...                                                 ...  ...   \n",
       "6264                                           분위기 좋습니다   한식   \n",
       "6265  울산 지나가다가 한옥카페가 너무 이뻐서 들어왔는데 매장 분위기도 넘 좋네요 시그니처...   카페   \n",
       "6266                                          분위기좋고맛있어요   양식   \n",
       "6269  점심특선 먹으러 가족과 같이 갔어요. 가성비 좋고 맛이 최고여요. 매장이 깔끔하고 ...   일식   \n",
       "6270  다른 사람들 리뷰보고 갔는데 너무 기대하고 갔어요 그냥 그랬어요담엔 코스 안 먹을려...  해산물   \n",
       "\n",
       "                                                    리뷰2  \\\n",
       "0                                   너무 친절하고 음식이 맛있어요 ㅎㅎ   \n",
       "3     집들어가는길에  시원한 라떼한잔아인슈페너 생각나서 들어갔는데지금은 안된다고해서 그린...   \n",
       "4                                                  친절해요   \n",
       "5     서생 카페들중 단연 일등인것같아요 너무 마음에드는 카페에요 사진도 너무 잘나오고 음...   \n",
       "7                                         자주 오는데 넘 맛있어요   \n",
       "...                                                 ...   \n",
       "6264                                           분위기 좋습니다   \n",
       "6265  울산 지나가다가 한옥카페가 너무 이뻐서 들어왔는데 매장 분위기도 넘 좋네요 시그니처...   \n",
       "6266                                          분위기좋고맛있어요   \n",
       "6269  점심특선 먹으러 가족과 같이 갔어요 가성비 좋고 맛이 최고여요 매장이 깔끔하고 음식...   \n",
       "6270  다른 사람들 리뷰보고 갔는데 너무 기대하고 갔어요 그냥 그랬어요담엔 코스 안 먹을려...   \n",
       "\n",
       "                                                    리뷰3  \\\n",
       "0                                   너무 친절하고 음식이 맛있어요 ㅎㅎ   \n",
       "3     집들어가는길에  시원한 라떼한잔아인슈페너 생각나서 들어갔는데지금은 안된다고해서 그린...   \n",
       "4                                                  친절해요   \n",
       "5     서생 카페들중 단연 일등인것같아요 너무 마음에드는 카페에요 사진도 너무 잘나오고 음...   \n",
       "7                                         자주 오는데 넘 맛있어요   \n",
       "...                                                 ...   \n",
       "6264                                           분위기 좋습니다   \n",
       "6265  울산 지나가다가 한옥카페가 너무 이뻐서 들어왔는데 매장 분위기도 넘 좋네요 시그니처...   \n",
       "6266                                          분위기좋고맛있어요   \n",
       "6269  점심특선 먹으러 가족과 같이 갔어요 가성비 좋고 맛이 최고여요 매장이 깔끔하고 음식...   \n",
       "6270  다른 사람들 리뷰보고 갔는데 너무 기대하고 갔어요 그냥 그랬어요담엔 코스 안 먹을려...   \n",
       "\n",
       "                                                    리뷰4  label  \\\n",
       "0                                   너무 친절하다 음식 이 맛있다 ㅎㅎ      1   \n",
       "3     집 들어가다 길 에 시원하다 라떼 한잔 아인 슈페 너 생각나다 들어가다 지 금은 안...      1   \n",
       "4                                                  친절하다      1   \n",
       "5     서생 카페 들 중 단연 일등 인 것 같다 너무 마음 에드 는 카페 에요 사진 도 너...      1   \n",
       "7                                          자주 오다 넘다 맛있다      1   \n",
       "...                                                 ...    ...   \n",
       "6264                                             분위기 좋다      1   \n",
       "6265  울산 지나가다 한 옥 카페 가 너무 이쁘다 들어오다 매장 분위기 도 넘다 좋다 시 ...      1   \n",
       "6266                                         분위기 좋다 맛있다      1   \n",
       "6269  점심 특선 먹다 가족 과 같이 가다 가성 비 좋다 맛 이 최고 여요 매장 이 깔끔하...      1   \n",
       "6270  다른 사람 들 리뷰 보고 가다 너무 기대하다 가다 그냥 그렇다 담 엔 코스 안 먹다...      1   \n",
       "\n",
       "                                                    리뷰5  \\\n",
       "0                               [너무, 친절하다, 음식, 맛있다, ㅎㅎ]   \n",
       "3     [들어가다, 길, 시원하다, 라떼, 한잔, 아인, 슈페, 너, 생각나다, 들어가다,...   \n",
       "4                                                [친절하다]   \n",
       "5     [서생, 카페, 단연, 일등, 인, 같다, 너무, 마음, 에드, 카페, 에요, 사진...   \n",
       "7                                     [자주, 오다, 넘다, 맛있다]   \n",
       "...                                                 ...   \n",
       "6264                                          [분위기, 좋다]   \n",
       "6265  [울산, 지나가다, 옥, 카페, 너무, 이쁘다, 들어오다, 매장, 분위기, 넘다, ...   \n",
       "6266                                     [분위기, 좋다, 맛있다]   \n",
       "6269  [점심, 특선, 먹다, 가족, 과, 같이, 가다, 가성, 비, 좋다, 맛, 최고, ...   \n",
       "6270  [리뷰, 보고, 가다, 너무, 기대하다, 가다, 그냥, 그렇다, 담, 엔, 코스, ...   \n",
       "\n",
       "                                                  new리뷰  \\\n",
       "0                               [너무, 친절하다, 음식, 맛있다, ㅎㅎ]   \n",
       "3     [들어가다, 길, 시원하다, 라떼, 한잔, 아인, 슈페, 너, 생각나다, 들어가다,...   \n",
       "4                                                [친절하다]   \n",
       "5     [서생, 카페, 단연, 일등, 인, 같다, 너무, 마음, 에드, 카페, 에요, 사진...   \n",
       "7                                     [자주, 오다, 넘다, 맛있다]   \n",
       "...                                                 ...   \n",
       "6264                                          [분위기, 좋다]   \n",
       "6265  [울산, 지나가다, 옥, 카페, 너무, 이쁘다, 들어오다, 매장, 분위기, 넘다, ...   \n",
       "6266                                     [분위기, 좋다, 맛있다]   \n",
       "6269  [점심, 특선, 먹다, 가족, 과, 같이, 가다, 가성, 비, 좋다, 맛, 최고, ...   \n",
       "6270  [리뷰, 보고, 가다, 너무, 기대하다, 가다, 그냥, 그렇다, 담, 엔, 코스, ...   \n",
       "\n",
       "                                                 토큰화된리뷰  \n",
       "0                                    [5, 19, 10, 3, 67]  \n",
       "3     [106, 784, 380, 464, 1018, 2520, 1989, 444, 30...  \n",
       "4                                                  [19]  \n",
       "5     [2905, 127, 82, 13, 5, 502, 127, 315, 198, 5, ...  \n",
       "7                                       [116, 9, 43, 3]  \n",
       "...                                                 ...  \n",
       "6264                                            [40, 4]  \n",
       "6265  [77, 608, 343, 127, 5, 312, 362, 66, 40, 43, 4...  \n",
       "6266                                         [40, 4, 3]  \n",
       "6269  [207, 732, 2, 113, 57, 185, 11, 140, 125, 4, 6...  \n",
       "6270  [124, 129, 11, 5, 494, 11, 74, 44, 377, 107, 1...  \n",
       "\n",
       "[3197 rows x 9 columns]"
      ]
     },
     "execution_count": 69,
     "metadata": {},
     "output_type": "execute_result"
    }
   ],
   "source": [
    "positive_train_df"
   ]
  },
  {
   "cell_type": "code",
   "execution_count": 70,
   "metadata": {},
   "outputs": [],
   "source": [
    "train_df['new리뷰'] = train_df['리뷰5'].copy()"
   ]
  },
  {
   "cell_type": "code",
   "execution_count": 71,
   "metadata": {},
   "outputs": [],
   "source": [
    "from tensorflow.keras.preprocessing.text import Tokenizer\n",
    "tokenizer = Tokenizer()\n",
    "tokenizer.fit_on_texts(train_df['new리뷰'])"
   ]
  },
  {
   "cell_type": "code",
   "execution_count": 72,
   "metadata": {},
   "outputs": [
    {
     "name": "stdout",
     "output_type": "stream",
     "text": [
      "{'하다': 1, '먹다': 2, '맛있다': 3, '좋다': 4, '너무': 5, '맛': 6, '없다': 7, '있다': 8, '오다': 9, '음식': 10, '가다': 11, '이다': 12, '같다': 13, '보다': 14, '나오다': 15, '직원': 16, '아니다': 17, '방문': 18, '친절하다': 19, '않다': 20, '분': 21, '으로': 22, '로': 23, '만': 24, '하고': 25, '를': 26, '고': 27, '많다': 28, '곳': 29, '가격': 30, '에서': 31, '비싸다': 32, '자다': 33, '되다': 34, '메뉴': 35, '주문': 36, '아쉽다': 37, '진짜': 38, '예약': 39, '분위기': 40, '들다': 41, '정말': 42, '넘다': 43, '그렇다': 44, '고기': 45, '많이': 46, '커피': 47, 'ㅠ': 48, '서비스': 49, '테이블': 50, '랑': 51, '못': 52, '빵': 53, '뷰': 54, '맛집': 55, '시키다': 56, '과': 57, '이라': 58, '의': 59, '인데': 60, '손님': 61, '주다': 62, '자리': 63, '분들': 64, '해주다': 65, '매장': 66, 'ㅎㅎ': 67, '대게': 68, '처음': 69, '기분': 70, '나다': 71, '까지': 72, '파스타': 73, '그냥': 74, '갈다': 75, '서': 76, '울산': 77, '조금': 78, '싶다': 79, '밥': 80, '기다리다': 81, '인': 82, '받다': 83, '주차': 84, '식사': 85, '스테이크': 86, '시': 87, '추천': 88, 'ㅠㅠ': 89, '와': 90, '이랑': 91, '넓다': 92, '님': 93, '아이': 94, '다음': 95, '양': 96, '괜찮다': 97, '불편하다': 98, '게': 99, '별로': 100, '깔끔하다': 101, '제': 102, '알다': 103, '엄청': 104, '불친절하다': 105, '들어가다': 106, '엔': 107, '네': 108, '양도': 109, '거': 110, '면': 111, '여기': 112, '가족': 113, '안되다': 114, '저': 115, '자주': 116, '돈': 117, '이에요': 118, '사장': 119, '모르다': 120, '라': 121, '없이': 122, '재': 123, '리뷰': 124, '비': 125, '날': 126, '카페': 127, '최고': 128, '보고': 129, '꼭': 130, '마다': 131, '나쁘다': 132, '느낌': 133, '음료': 134, '기': 135, '해': 136, '피자': 137, '한번': 138, '부터': 139, '가성': 140, '오늘': 141, '바쁘다': 142, '초밥': 143, '앉다': 144, '코스': 145, '늦다': 146, '짜다': 147, '완전': 148, '가게': 149, '되어다': 150, '잇다': 151, '대': 152, '실망': 153, '바로': 154, '힘들다': 155, 'ㅎ': 156, '에는': 157, '걸리다': 158, '좋아하다': 159, '왜': 160, '포장': 161, '돈까스': 162, '인지': 163, '쓰다': 164, '크다': 165, 'ㅜ': 166, '달라': 167, '덥다': 168, '소스': 169, '역시': 170, '비다': 171, '오랜': 172, '푸다': 173, '아깝다': 174, '먹기': 175, '저희': 176, '다시다': 177, '주말': 178, '에도': 179, 'ㅋㅋㅋ': 180, '종류': 181, '적다': 182, '예전': 183, '팅': 184, '같이': 185, '이네': 186, '떨어지다': 187, '편하다': 188, '특히': 189, '니': 190, '만원': 191, '지다': 192, '이나': 193, '항상': 194, '짬뽕': 195, '인테리어': 196, '버리다': 197, '사진': 198, '우동': 199, '막국수': 200, '시끄럽다': 201, '튀김': 202, '대기': 203, '네이버': 204, '서다': 205, '말다': 206, '점심': 207, '느끼하다': 208, '웨이': 209, '가보다': 210, '샐러드': 211, '듯': 212, '계산': 213, '식당': 214, '줄': 215, '최악': 216, '드리다': 217, '빨리': 218, '그래도': 219, '디저트': 220, 'ㅋㅋ': 221, '국물': 222, '저녁': 223, '신선하다': 224, 'ㅜㅜ': 225, '만족하다': 226, '근데': 227, '주차장': 228, '추가': 229, '찾다': 230, '평일': 231, '바다': 232, '물': 233, '이고': 234, '대비': 235, '요리': 236, '이렇게': 237, '딱': 238, '느끼다': 239, '계속': 240, '짐': 241, '뭐': 242, '건지다': 243, '아주': 244, '접시': 245, '응대': 246, '보이다': 247, '라고': 248, '따로': 249, '부드럽다': 250, '세트': 251, '물어보다': 252, '맛없다': 253, '짱': 254, '아웃백': 255, '맞다': 256, '친구': 257, '차다': 258, '치즈': 259, '의사': 260, '기본': 261, '돼다': 262, '특별하다': 263, '후': 264, '이번': 265, '냄새': 266, '함': 267, '예쁘다': 268, '야하다': 269, '남다': 270, '쏘다': 271, '소바': 272, '새우': 273, '미리': 274, '회': 275, '얘기': 276, '안내': 277, '온': 278, '서빙': 279, '이렇다': 280, '부모님': 281, '옆': 282, '아': 283, '할인': 284, '나가다': 285, '만들다': 286, '내다': 287, '예요': 288, '예': 289, '치우다': 290, '이용': 291, '모두': 292, '다양하다': 293, '굿': 294, '오픈': 295, '반찬': 296, '깨끗하다': 297, '설명': 298, '불고기': 299, '생각나다': 300, '화장실': 301, '모시': 302, '정신': 303, '입': 304, '식': 305, '요청': 306, '문': 307, '늘다': 308, '그릇': 309, '몇': 310, '배': 311, '이쁘다': 312, '생일': 313, '찍다': 314, '에요': 315, '함께': 316, '모임': 317, '맵다': 318, '감사하다': 319, '두다': 320, '기다': 321, '오래': 322, 'ㅎㅎㅎ': 323, '두번째': 324, '별': 325, '구': 326, '먼저': 327, '신경': 328, 'ㅋ': 329, '작다': 330, '한테': 331, '제일': 332, '올': 333, '마제': 334, '들기름': 335, '다르다': 336, '간': 337, '부족하다': 338, '굽다': 339, '의자': 340, '씩': 341, '어': 342, '옥': 343, 'ㅡㅡ': 344, '입맛': 345, '챙기다': 346, '해보다': 347, '손': 348, '쯤': 349, '주방': 350, '서버': 351, '쪽': 352, '매우': 353, '실망하다': 354, '이라고': 355, '후회': 356, '확인': 357, '첫': 358, '처럼': 359, '걸': 360, '남기다': 361, '들어오다': 362, '브런치': 363, '들리다': 364, '볶음밥': 365, '넣다': 366, '용': 367, '입장': 368, '이해': 369, '멋지다': 370, '친절': 371, '빼다': 372, '여': 373, '여전하다': 374, '전체': 375, '매콤': 376, '담': 377, '찌다': 378, '질': 379, '시원하다': 380, '밖에': 381, '늘': 382, '아기': 383, '불다': 384, '김치': 385, '거의': 386, '추하다': 387, '본': 388, '근처': 389, '약': 390, '비빔': 391, '부분': 392, '그런데': 393, '상태': 394, '하지만': 395, '죄송하다': 396, '애': 397, '결제': 398, '나서다': 399, '무엇': 400, '라면': 401, '재료': 402, '강': 403, '홀': 404, '위생': 405, '불친절': 406, '배부르다': 407, '원래': 408, '그렇게': 409, '이상': 410, '가기': 411, '써다': 412, '끼리': 413, '장소': 414, '여기다': 415, '여서': 416, '싫다': 417, '카레': 418, '스럽다': 419, '간절곶': 420, '일단': 421, '양념': 422, '더럽다': 423, '변하다': 424, '치다': 425, '짜증': 426, '킹크랩': 427, '지만': 428, '국밥': 429, '삼': 430, '적당하다': 431, '이제': 432, '편이': 433, '남자': 434, '살짝': 435, '바뀌다': 436, '밑반찬': 437, '위': 438, '퀄리티': 439, '당': 440, '번째': 441, '만족': 442, '끄다': 443, '너': 444, '새롭다': 445, '존맛': 446, '크림': 447, '매운탕': 448, '만두': 449, '눈': 450, '싱겁다': 451, '심하다': 452, '보통': 453, '그래서': 454, '다만': 455, '느껴지다': 456, '간이': 457, '끝': 458, '여러': 459, '찌개': 460, '약간': 461, '요즘': 462, '몇번': 463, '라떼': 464, '기도': 465, '정식': 466, '하니': 467, '소고기': 468, '층': 469, '뜨다': 470, '데이트': 471, '올리다': 472, '싸다': 473, '째': 474, '식다': 475, '웨이팅': 476, '지나다': 477, '어떻다': 478, '공간': 479, '마지막': 480, '아무': 481, '무슨': 482, '냉면': 483, '오기': 484, '채우다': 485, '냉': 486, '바베큐': 487, '생기다': 488, '만족스럽다': 489, '후식': 490, '갈비': 491, '스파게티': 492, '모든': 493, '기대하다': 494, '해물': 495, '직접': 496, '필요하다': 497, '뇨끼': 498, '부르다': 499, '좌석': 500, '죠': 501, '마음': 502, '바삭': 503, '이유': 504, '개인': 505, '살다': 506, '다녀오다': 507, '사이드': 508, '감': 509, '임': 510, '스시': 511, '유명하다': 512, '주시': 513, '한참': 514, '쌈장': 515, '지인': 516, '점심시간': 517, '장난': 518, '차': 519, '짜장': 520, '관리': 521, '카운터': 522, '거기': 523, '말씀': 524, '알바': 525, '다니다': 526, '걱정': 527, '쓸다': 528, '선택': 529, '첨': 530, '터지다': 531, '자리다': 532, '매번': 533, '값': 534, '창가': 535, '키': 536, '제대로': 537, '주변': 538, '리조또': 539, '밉다': 540, '안좋다': 541, '알바생': 542, '부담': 543, '반': 544, '산': 545, '보내다': 546, '가요': 547, '외식': 548, '서서': 549, '전혀': 550, '굳다': 551, '준비': 552, '대다': 553, '계시다': 554, '덕분': 555, '메인': 556, '담당': 557, '탕수육': 558, '비추다': 559, '연어': 560, '잡다': 561, '전화': 562, '파티': 563, '에게': 564, '배달': 565, '종업원': 566, '뭔가': 567, '건': 568, '교육': 569, '무조건': 570, '낙지': 571, '오르다': 572, '솔직하다': 573, '없어지다': 574, '이라서': 575, '스프': 576, '조용하다': 577, '막': 578, '니까': 579, '들르다': 580, '께': 581, '편': 582, '참고': 583, '청결하다': 584, '장사': 585, '놓다': 586, '뒤': 587, '그대로': 588, '이야기': 589, '기대': 590, '난': 591, '중간': 592, '불쾌하다': 593, '잘못': 594, '금방': 595, '라서': 596, '매다': 597, '빠지다': 598, '천원': 599, '향': 600, '일부러': 601, '바라다': 602, '좁다': 603, '해도': 604, '돈가스': 605, '고객': 606, '표정': 607, '지나가다': 608, '다리': 609, '덜': 610, '랍스터': 611, '저렴하다': 612, '입구': 613, '탱': 614, '영수증': 615, '고소하다': 616, '부산': 617, '전부': 618, '씹다': 619, '단체': 620, '살이': 621, '이상하다': 622, '대박': 623, '만큼': 624, '달다': 625, '기름': 626, '굿굿': 627, '끼': 628, '베테': 629, '바': 630, '뿐': 631, '카이': 632, '담다': 633, '칼국수': 634, '단골': 635, '한마디': 636, '소금': 637, '가면': 638, '절대': 639, '맘': 640, '셀프': 641, '움': 642, '일찍': 643, '강추': 644, '육회': 645, '어제': 646, '즐겁다': 647, '멀리': 648, '해달라다': 649, '묻다': 650, '번은': 651, '찾아오다': 652, '된장찌개': 653, '기념일': 654, '핫': 655, '단': 656, '바꾸다': 657, '뷔페': 658, '진하다': 659, '목살': 660, '붙다': 661, '날씨': 662, '비리다': 663, '기억': 664, '불구': 665, '볶음': 666, '물회': 667, '해산물': 668, '물다': 669, '전반': 670, '인거': 671, '왕': 672, '마스크': 673, '가득': 674, '여행': 675, '라는': 676, '금액': 677, '아직': 678, '불편': 679, '구성': 680, '이지만': 681, '딱딱하다': 682, '리필': 683, '모밀': 684, '즐기다': 685, '후기': 686, '미치다': 687, '맞추다': 688, '녹다': 689, '결국': 690, '글': 691, '엉망': 692, '인상': 693, '말투': 694, '차갑다': 695, '육수': 696, '언제': 697, '소': 698, '찾아가다': 699, '스타': 700, '이르다': 701, '밀면': 702, '달': 703, '세번': 704, '박달': 705, '비도': 706, '음식점': 707, '인사': 708, 'ㅡ': 709, '양식': 710, '놀라다': 711, '사과': 712, '와도': 713, '가능하다': 714, '육전': 715, '둘': 716, '이서': 717, '상': 718, '야': 719, '대답': 720, '에어컨': 721, '줄다': 722, '어렵다': 723, '영': 724, '개선': 725, '코로나': 726, '세': 727, '고르다': 728, '빠르다': 729, '검색': 730, '아란치니': 731, '특선': 732, '물론': 733, '거리': 734, '저번': 735, '인분': 736, '류': 737, '고급': 738, '달달': 739, '옮기다': 740, '빈': 741, '장': 742, '드라이브': 743, '놀다': 744, '젤': 745, '맵': 746, '컵': 747, '집다': 748, '백': 749, '종종': 750, '데리': 751, '몇개': 752, '아쉬움': 753, '믿다': 754, '자꾸': 755, '벨': 756, '회전': 757, '성남동': 758, '그저': 759, 'ㅠㅠㅠ': 760, '남편': 761, '어른': 762, '마리': 763, '음': 764, '따뜻하다': 765, '그나마': 766, '식전': 767, '따르다': 768, '따다': 769, '비빔밥': 770, '조합': 771, '남자친구': 772, '토마토': 773, '랍': 774, '기고': 775, '갖다': 776, '매니저': 777, '이라도': 778, '가져가다': 779, '아무리': 780, '언': 781, '끼다': 782, '엄마': 783, '길': 784, '얇다': 785, '타임': 786, '대화': 787, '연기': 788, '도착': 789, '신분': 790, '말씀드리다': 791, '급하다': 792, '실수': 793, '여름': 794, '어울리다': 795, '가도': 796, '냥': 797, '듣다': 798, '땐': 799, '쉬다': 800, '일이': 801, '자기': 802, '동안': 803, '누락': 804, '짜증나다': 805, '맛보다': 806, '막히다': 807, '투움바': 808, '음악': 809, '부탁드리다': 810, '라도': 811, '링': 812, '베이커리': 813, '석': 814, '나름': 815, '내부': 816, '자': 817, '거미': 818, '바닥': 819, '신': 820, '며': 821, '짜장면': 822, '추다': 823, '크기': 824, '사용': 825, '속이다': 826, '닦다': 827, '마감': 828, '올라가다': 829, '쭈꾸미': 830, '처': 831, '토마호크': 832, '예정': 833, '취향': 834, '안나': 835, '심지어': 836, '위해': 837, '변경': 838, '무난': 839, '말고': 840, '깔다': 841, '크게': 842, '그게': 843, '이벤트': 844, '무': 845, '비비다': 846, '그리다': 847, '얼마': 848, '필요': 849, '정자': 850, '위치': 851, '어디': 852, '혹시': 853, '식감': 854, '구이': 855, '카츠': 856, '자체': 857, '점점': 858, '일행': 859, '일반': 860, '고민': 861, '청소': 862, '힐링': 863, '감동': 864, '어느': 865, '성': 866, '눈치': 867, '팀': 868, '케익': 869, '아메리카노': 870, '가장': 871, '매': 872, '소문': 873, '행복하다': 874, '번창': 875, '돼지': 876, '오는': 877, '애기': 878, '바람': 879, '도넛': 880, '께서': 881, '공기밥': 882, '굳이': 883, '실내': 884, '튀기다': 885, '이드': 886, '양은': 887, '당황': 888, '미안하다': 889, '치고': 890, '정리': 891, '가루': 892, '캠핑': 893, '그때': 894, '라멘': 895, '익다': 896, '멀다': 897, '딸기': 898, '미디움': 899, '본인': 900, '목소리': 901, '타': 902, '돈카츠': 903, '가끔': 904, '케이크': 905, '오랫': 906, '모습': 907, '병': 908, '아줌마': 909, '비주': 910, '에서는': 911, '느리다': 912, '경': 913, '차이': 914, '밖': 915, '초장': 916, '얼다': 917, '나중': 918, '진심': 919, '플': 920, '보다는': 921, '든': 922, '옷': 923, '제공': 924, '쉬': 925, '타다': 926, '틀다': 927, '욤': 928, '써주다': 929, '다소': 930, '해주시': 931, '가시다': 932, '빙수': 933, '메밀전': 934, '인스타': 935, '엇': 936, '꾸다': 937, '옛날': 938, '돌잔치': 939, '스타일': 940, '까르보나라': 941, '아프다': 942, '키즈': 943, '당연하다': 944, '마시다': 945, '언제나': 946, '눈꽃': 947, '블로그': 948, '말르다': 949, '여쭈다': 950, '통': 951, '평범하다': 952, '아이스크림': 953, '썰다': 954, '입다': 955, '죽다': 956, '풍': 957, '어수선하다': 958, '주차공간': 959, '대해': 960, '얼굴': 961, '인생': 962, '정갈하다': 963, '필수': 964, '코': 965, '그닥': 966, '런가': 967, '진': 968, '모': 969, '건물': 970, '이미': 971, '런치': 972, '얼': 973, '간격': 974, '울리다': 975, '뻔': 976, '갈수록': 977, '던지다': 978, '껍질': 979, '고추': 980, '인정': 981, '존': 982, '야채': 983, '수가': 984, '질겨': 985, '훨씬': 986, '수준': 987, '정원': 988, '피': 989, '상황': 990, '원하다': 991, '열다': 992, '오징어': 993, '조': 994, '생': 995, '아들': 996, '쿠폰': 997, '김': 998, '환상': 999, '엄청나다': 1000, '무료': 1001, '머리': 1002, '내내': 1003, '포함': 1004, '동네': 1005, '대로': 1006, '부담스럽다': 1007, '티': 1008, '주인': 1009, '씹히다': 1010, '오스': 1011, '우선': 1012, '야외': 1013, '만에': 1014, '동': 1015, '지저분하다': 1016, '삼계탕': 1017, '한잔': 1018, '닭': 1019, '루': 1020, '인가요': 1021, '충분하다': 1022, '자르다': 1023, '가깝다': 1024, '체크': 1025, '오후': 1026, '햇': 1027, '암튼': 1028, '꽤': 1029, '분만': 1030, '귀찮다': 1031, '대신': 1032, '너무하다': 1033, '조각': 1034, '보기': 1035, '이전': 1036, '힘드다': 1037, '얼마나': 1038, '이집': 1039, '담백하다': 1040, '조리': 1041, '망고': 1042, '바질': 1043, '머리카락': 1044, '요다음': 1045, '낫다': 1046, '으로도': 1047, '래': 1048, '계란': 1049, '로제': 1050, '베리': 1051, '적히다': 1052, '감자': 1053, '갓': 1054, '울다': 1055, '간만': 1056, '뼈': 1057, '시작': 1058, '누가': 1059, '확': 1060, '이면': 1061, '볼': 1062, '사항': 1063, '화가': 1064, '메뉴판': 1065, '그거': 1066, '마늘': 1067, '참다': 1068, '립': 1069, '경치': 1070, '나머지': 1071, '심': 1072, '와인': 1073, '냉동': 1074, '쫄깃': 1075, '중식': 1076, '이모': 1077, '강하다': 1078, '넉넉하다': 1079, '양파': 1080, '가득하다': 1081, '운': 1082, '잊다': 1083, '혼자': 1084, '둘이서': 1085, '가져오다': 1086, '와이프': 1087, '취소': 1088, '봄': 1089, '습': 1090, '비슷하다': 1091, '당하다': 1092, '수도': 1093, '익히다': 1094, '연': 1095, '춥다': 1096, '연하다': 1097, '굉장하다': 1098, '프로': 1099, '에서도': 1100, '이니': 1101, '훌륭하다': 1102, '버터': 1103, '태도': 1104, '부탁': 1105, '공': 1106, '밑': 1107, '딱하다': 1108, '찝찝하다': 1109, '외': 1110, '보쌈': 1111, '최애': 1112, '벌써': 1113, '가져다주다': 1114, '걍': 1115, '성비': 1116, '룸': 1117, '으로는': 1118, '리': 1119, '겁니다': 1120, '끝나다': 1121, '편리하다': 1122, '인가': 1123, '보단': 1124, '날다': 1125, '그렇다고': 1126, '에만': 1127, '처리': 1128, '복잡하다': 1129, '놀래다': 1130, '급': 1131, '로봇': 1132, '안해': 1133, '소개': 1134, '그건': 1135, '불만': 1136, '언양': 1137, '퍽퍽': 1138, '싫어하다': 1139, '인원': 1140, '속도': 1141, '림프': 1142, '센스': 1143, '불': 1144, '지르다': 1145, '소코': 1146, '산점': 1147, '품절': 1148, '쫌': 1149, '펴다': 1150, '마인드': 1151, '가버리다': 1152, '찌게': 1153, '및': 1154, '화': 1155, '사': 1156, '장이': 1157, '중독': 1158, '크리스마스': 1159, '이후': 1160, '스럽게': 1161, '밍밍': 1162, '오히려': 1163, '전화하다': 1164, '또한': 1165, '규모': 1166, '맥주': 1167, '어리다': 1168, '이지': 1169, '블랙': 1170, '연말': 1171, '우연히': 1172, '두껍다': 1173, '샌드위치': 1174, '망치다': 1175, '뿌리다': 1176, '누르다': 1177, '먹음': 1178, '잃다': 1179, '장갑': 1180, '소문나다': 1181, '갈비찜': 1182, '서로': 1183, '궁금하다': 1184, '뭘': 1185, '대표': 1186, '열': 1187, '들어서다': 1188, '기념': 1189, '된장': 1190, '팔다': 1191, '파리': 1192, '어쩔': 1193, '돼지국밥': 1194, '비우다': 1195, '총': 1196, '건가': 1197, '레': 1198, '돌다': 1199, '평소': 1200, '땡기다': 1201, '벚꽃': 1202, '소풍': 1203, '보시': 1204, '돼지고기': 1205, '분전': 1206, '도리': 1207, '어이': 1208, '여성': 1209, '확실하다': 1210, '무시': 1211, '쇼파': 1212, '들이다': 1213, '마싯다': 1214, '계단': 1215, '쾌적하다': 1216, '풍경': 1217, '드디어': 1218, '무거': 1219, '면옥': 1220, '젠': 1221, '잠시': 1222, '식혜': 1223, '곤드레': 1224, '상차림': 1225, '트러플': 1226, '결재': 1227, '코너': 1228, '계란찜': 1229, '비교': 1230, '생면': 1231, '딱지': 1232, '잡': 1233, '육즙': 1234, '약하다': 1235, '싱싱하다': 1236, '시간대': 1237, '너무나': 1238, '가야': 1239, '배정': 1240, '안주': 1241, '화덕': 1242, '대구': 1243, '짜지다': 1244, '겁나다': 1245, '신랑': 1246, '칠리': 1247, '겠다': 1248, '세팅': 1249, '포기': 1250, '에가': 1251, '안심': 1252, '길이': 1253, '깊다': 1254, '찾기': 1255, '걸다': 1256, '필요없다': 1257, '대한': 1258, '오지': 1259, '술': 1260, '가능': 1261, '잔': 1262, '몰다': 1263, '더욱': 1264, '세상': 1265, '조절': 1266, '세다': 1267, '커서': 1268, '회도': 1269, '테이크아웃': 1270, '유': 1271, '부실하다': 1272, '품': 1273, '수제': 1274, '게살': 1275, '지도': 1276, '셋': 1277, '바스': 1278, '짧다': 1279, '인증': 1280, '넘어가다': 1281, '겨울': 1282, '순서': 1283, '레스토랑': 1284, '이름': 1285, '살살': 1286, '그럭저럭': 1287, '카드': 1288, '웃다': 1289, '성의': 1290, '차슈': 1291, '냐': 1292, '한두': 1293, '각': 1294, '오래되다': 1295, '괜히': 1296, '마무리': 1297, '하라': 1298, '대처': 1299, '찜': 1300, '대충': 1301, '하우스': 1302, '고요': 1303, '음료수': 1304, '닥': 1305, '커플': 1306, '번호': 1307, '가시': 1308, '되게': 1309, '길다': 1310, '만석': 1311, '먹물': 1312, '슬프다': 1313, '니깐': 1314, '잘나오다': 1315, '덮다': 1316, '줌': 1317, '마': 1318, '피클': 1319, '조개': 1320, '몸': 1321, '눅눅하다': 1322, '노': 1323, '하루': 1324, '플레이': 1325, '이어서': 1326, '극': 1327, '색다르다': 1328, '단계': 1329, '여직원': 1330, '높다': 1331, '아주머니': 1332, '쿠우': 1333, '순간': 1334, '행사': 1335, '한데': 1336, '떡': 1337, '그만큼': 1338, '기다림': 1339, '주스': 1340, '영업': 1341, '뽑다': 1342, '의미': 1343, '치킨': 1344, '창문': 1345, '먼지': 1346, '고급스럽다': 1347, '와사비': 1348, '분도': 1349, '환기': 1350, '볶다': 1351, '모자라다': 1352, '순': 1353, '필라프': 1354, '줄이다': 1355, '구매': 1356, '얼음': 1357, '개다': 1358, '안쪽': 1359, '여유': 1360, '해장': 1361, '주신': 1362, '붙이다': 1363, '딱이다': 1364, '퉁': 1365, '천': 1366, '런': 1367, '사다': 1368, '끝내주다': 1369, '꺼': 1370, '질도': 1371, '데우다': 1372, '착석': 1373, '메다': 1374, '선': 1375, '신기하다': 1376, '부족': 1377, '작고': 1378, '만해': 1379, '겨우': 1380, '다가': 1381, '간다': 1382, '구석': 1383, '싸가지': 1384, '준': 1385, '가세': 1386, '똑같다': 1387, '물가': 1388, '한우': 1389, '저기': 1390, '홍합': 1391, '얼큰하다': 1392, '지점': 1393, '군': 1394, '돌돌': 1395, '자마자': 1396, '지고': 1397, '캠프': 1398, '여자친구': 1399, '화산': 1400, '대접': 1401, '간장': 1402, '찬': 1403, '부추': 1404, '불쇼': 1405, '기계': 1406, '나누다': 1407, '브레이크': 1408, '답': 1409, '드': 1410, '끊기다': 1411, '사먹다': 1412, '줍다': 1413, '국수': 1414, '오시': 1415, '아예': 1416, '신지': 1417, '운영': 1418, '돌아오다': 1419, '까지는': 1420, '낮': 1421, '막다': 1422, '청결': 1423, '터': 1424, '만큼은': 1425, '종이': 1426, '채': 1427, '달라지다': 1428, '인하다': 1429, '바닐라': 1430, '붐비다': 1431, '부위': 1432, '치': 1433, '휴지': 1434, '특이하다': 1435, '와플': 1436, '완벽하다': 1437, '철': 1438, '쥬': 1439, '떠들다': 1440, '리오': 1441, '아침': 1442, '시장': 1443, '맨날': 1444, '가볍다': 1445, '쳐다보다': 1446, '뒷': 1447, '빼': 1448, '알차다': 1449, '치즈케이크': 1450, '경험': 1451, '판매': 1452, '콜라': 1453, '해장국': 1454, '베이컨': 1455, '이기다': 1456, '상무': 1457, '무치다': 1458, '인기': 1459, '늦어지다': 1460, '도대체': 1461, '려고': 1462, '사악하다': 1463, '요가': 1464, '깜짝': 1465, '전보': 1466, '사라지다': 1467, '식기': 1468, '다행': 1469, '해드리다': 1470, '홍게': 1471, '비닐': 1472, '웬만하다': 1473, '식구': 1474, '꺼내다': 1475, '금': 1476, '도전': 1477, '한개': 1478, '레이스': 1479, '호텔': 1480, '젓가락': 1481, '중이': 1482, '대체로': 1483, '메르': 1484, '중요하다': 1485, '고해': 1486, 'ㅜㅠ': 1487, '율': 1488, '꽉차다': 1489, '소진': 1490, '가량': 1491, '기준': 1492, '뻔하다': 1493, '천하다': 1494, '감칠맛': 1495, '차라리': 1496, '맞이': 1497, '내주다': 1498, '주지': 1499, '안타깝다': 1500, '흐르다': 1501, '조만간': 1502, '성남': 1503, '단맛': 1504, '기르다': 1505, '나용': 1506, '속상하다': 1507, '최근': 1508, '갈리다': 1509, '숟가락': 1510, '왓': 1511, '순서대로': 1512, '기와집': 1513, '시설': 1514, '이라는': 1515, '저만': 1516, '정보': 1517, '추억': 1518, '단무지': 1519, '평타': 1520, '달래다': 1521, '울': 1522, '평이': 1523, '권': 1524, '작년': 1525, '대응': 1526, '체적': 1527, '머': 1528, '뱉다': 1529, '뜯다': 1530, '알리오': 1531, '일요일': 1532, '보지': 1533, '낮다': 1534, '의심': 1535, '초코': 1536, '정신없이': 1537, '답답하다': 1538, '잡채': 1539, '아무렇다': 1540, '올라오다': 1541, '소정': 1542, '새우다': 1543, '이야': 1544, '바퀴': 1545, '더니': 1546, '갑자기': 1547, '이든': 1548, '부부': 1549, '감자탕': 1550, '통통하다': 1551, '고구마': 1552, '브': 1553, '굽': 1554, '여기저기': 1555, '안다': 1556, '생선': 1557, '마주치다': 1558, '다해': 1559, '대서': 1560, '셋팅': 1561, '물이': 1562, '귀엽다': 1563, '지나치다': 1564, '씻다': 1565, '질리다': 1566, '사이다': 1567, '어찌': 1568, '싹': 1569, '사이먼': 1570, '는걸': 1571, '좀더': 1572, '충무김밥': 1573, '새': 1574, '사이': 1575, '쟁반': 1576, '판지': 1577, '재미': 1578, '싸': 1579, '꽃': 1580, '갈비탕': 1581, '겸': 1582, '요전': 1583, '초': 1584, '서도': 1585, '싱귤러': 1586, '좋아지다': 1587, '우': 1588, '돌': 1589, '맨': 1590, '점도': 1591, '뚜껑': 1592, '교체': 1593, '직': 1594, '배려': 1595, '밀리다': 1596, '깨다': 1597, '아보카도': 1598, '삶다': 1599, '도안': 1600, '에여': 1601, '로우': 1602, '옴': 1603, '일주일': 1604, '패밀리': 1605, '가든': 1606, '한쪽': 1607, '간도': 1608, '오리': 1609, '탄산음료': 1610, '편안하다': 1611, '맛남': 1612, '전골': 1613, '멍게': 1614, '어둡다': 1615, '흘리다': 1616, '닫다': 1617, '발견': 1618, '음식물': 1619, '그걸': 1620, '포크': 1621, '착하다': 1622, '나들이': 1623, '전문점': 1624, '끓이다': 1625, '아늑하다': 1626, '남아': 1627, '귀': 1628, '이브': 1629, '감다': 1630, '이정': 1631, '배치': 1632, '어요': 1633, '가나': 1634, '라며': 1635, '일품': 1636, '문의': 1637, '사이즈': 1638, '남': 1639, '우유': 1640, '지역': 1641, '이며': 1642, '고기랑': 1643, '비빔냉면': 1644, '손질': 1645, '대부분': 1646, '동생': 1647, '면발': 1648, '몰리다': 1649, '강력': 1650, '갑': 1651, '용기': 1652, '마트': 1653, '타고': 1654, '자극': 1655, '마냥': 1656, '앞치마': 1657, '고함': 1658, '숯불': 1659, '배다': 1660, '전복': 1661, '파전': 1662, '도저히': 1663, '조명': 1664, '지난번': 1665, '주심': 1666, '으': 1667, '싸우다': 1668, '일어나다': 1669, '비쥬': 1670, '아이스': 1671, '가까이': 1672, '전망': 1673, '까먹다': 1674, '내장': 1675, '겉': 1676, '그치다': 1677, '꿀맛': 1678, '점심때': 1679, '정': 1680, '합': 1681, '황당하다': 1682, '저격': 1683, '플레인': 1684, '마치': 1685, '실패': 1686, '란': 1687, '가위': 1688, '저녁식사': 1689, '희다': 1690, '입안': 1691, '핸드폰': 1692, '돌솥밥': 1693, '덜다': 1694, '관자': 1695, '로만': 1696, '해오다': 1697, '드릴': 1698, '면서': 1699, '건강하다': 1700, '어르신': 1701, '흔하다': 1702, '평': 1703, '누구': 1704, '스트레스': 1705, '소주': 1706, '깍두기': 1707, '시반': 1708, '연인': 1709, '아빠': 1710, '일회용': 1711, '반하다': 1712, '다행하다': 1713, '육': 1714, '요강': 1715, '과일': 1716, '헐다': 1717, '든든하다': 1718, '갈색': 1719, '피스': 1720, '배고프다': 1721, '요리사': 1722, '촉촉하다': 1723, '계': 1724, '여행가': 1725, '등등': 1726, '쎄다': 1727, '나무': 1728, '성인': 1729, '불리': 1730, '탕': 1731, '짱짱': 1732, '면은': 1733, '고장': 1734, '불맛': 1735, '색': 1736, '즈': 1737, '미가': 1738, '떨다': 1739, '도로': 1740, '배탈': 1741, '김치전': 1742, '일전': 1743, '과는': 1744, '푸딩': 1745, '그날': 1746, '해봤다': 1747, '본점': 1748, '그램': 1749, '야경': 1750, '감사': 1751, '충격': 1752, '일부': 1753, '대체': 1754, '진상': 1755, '곧': 1756, '국밥집': 1757, '디': 1758, '멋': 1759, '다치다': 1760, '기만': 1761, '얹다': 1762, '행동': 1763, '메뉴인': 1764, '약시': 1765, '큰소리': 1766, '앞쪽': 1767, '수저': 1768, '잡고': 1769, '전날': 1770, '횟집': 1771, '빨': 1772, '탑': 1773, '말고는': 1774, '끊다': 1775, '차돌': 1776, '조차': 1777, '방법': 1778, '지키다': 1779, '대가': 1780, '바라보다': 1781, '베다': 1782, '꽉': 1783, '죽': 1784, '유정호': 1785, '대형': 1786, '돌아가다': 1787, '찌': 1788, '광어': 1789, '허다': 1790, '집중': 1791, '껏': 1792, '달랑': 1793, '동반': 1794, '질리': 1795, '엉': 1796, '냅킨': 1797, '신선도': 1798, '가지다': 1799, '만나다': 1800, '무표정': 1801, '제철': 1802, '알아보다': 1803, '기전': 1804, '안감': 1805, '간단하다': 1806, '정확하다': 1807, '픽업': 1808, '쉰': 1809, '딸': 1810, '어이없다': 1811, '결론': 1812, '레일': 1813, '도우': 1814, '끈': 1815, '집게': 1816, '갖추다': 1817, '잉크': 1818, '어머니': 1819, '뭐라다': 1820, '회식': 1821, '면도': 1822, '눈물': 1823, '간짜장': 1824, '방': 1825, '마저': 1826, '어버이날': 1827, '젖다': 1828, '컴': 1829, '흑임자': 1830, '듯이': 1831, '특색': 1832, '담기다': 1833, '미국': 1834, '고기만': 1835, '별도': 1836, '동시': 1837, '궁합': 1838, '률': 1839, '보여주다': 1840, '호출': 1841, '생신': 1842, '골목': 1843, '신건': 1844, '미숙': 1845, '쌀': 1846, '탁': 1847, '어린이': 1848, '보람': 1849, '죄': 1850, '안내받다': 1851, '잘알다': 1852, '오니': 1853, '덕': 1854, '시즌': 1855, '중국집': 1856, '작': 1857, '심심하다': 1858, '병원': 1859, '쇼': 1860, '요구': 1861, '게다가': 1862, '산미': 1863, '문후': 1864, '항의': 1865, '돌아다니다': 1866, '섞이다': 1867, '한지': 1868, '정성': 1869, '근래': 1870, '물질': 1871, '툼': 1872, '체': 1873, '다섯': 1874, '내려오다': 1875, '와중': 1876, '별하나': 1877, '적어도': 1878, '밤': 1879, '근': 1880, '바닷가': 1881, '구경': 1882, '한식': 1883, '별개': 1884, '뉴': 1885, '피크타임': 1886, '검': 1887, '옵니다': 1888, '안이': 1889, '현대': 1890, '바로바로': 1891, '표현': 1892, '무지': 1893, '인석': 1894, '안함': 1895, '캐치': 1896, '합리': 1897, '감성': 1898, '쌈밥': 1899, '차도': 1900, '물티슈': 1901, '고로케': 1902, '내놓다': 1903, '분명': 1904, '대놓고': 1905, '똑바로': 1906, '이뿌다': 1907, '트이다': 1908, '차별': 1909, '척': 1910, '덜하다': 1911, '루꼴': 1912, '제법': 1913, '선풍기': 1914, '고프다': 1915, '반개': 1916, '남성': 1917, '잠깐': 1918, '하자': 1919, '조금씩': 1920, '물어': 1921, '지는': 1922, '카페인': 1923, '휴': 1924, '그니': 1925, '작성': 1926, '흐리다': 1927, '한다는': 1928, '팍팍': 1929, '이미지': 1930, '외부': 1931, '누리다': 1932, '넘어서다': 1933, '뎅': 1934, '콜드': 1935, '락스': 1936, '상당하다': 1937, '풀다': 1938, '라지': 1939, '고생': 1940, '시국': 1941, '서울': 1942, '기장': 1943, '지난': 1944, '다지다': 1945, '오일': 1946, '추': 1947, '국가': 1948, '양고기': 1949, '에선': 1950, '커피숍': 1951, '시내': 1952, '메밀': 1953, '내면': 1954, '밥알': 1955, '테라스': 1956, '한가지': 1957, '포': 1958, '비려': 1959, '소요': 1960, '닭강정': 1961, '히': 1962, '흐름': 1963, '거지': 1964, '취급': 1965, '게장': 1966, '오전': 1967, '어찌나': 1968, '흑우': 1969, '곁들이다': 1970, '욕': 1971, '독특하다': 1972, '애용': 1973, '덤': 1974, '개도': 1975, '이동': 1976, '양해': 1977, '애플': 1978, '욥': 1979, '탓': 1980, '요새': 1981, '퀄': 1982, '로드': 1983, '쉐이크': 1984, '진열': 1985, '삼산동': 1986, '커녕': 1987, '으론': 1988, '슈페': 1989, '실제': 1990, '촉촉': 1991, '작아지다': 1992, '적지': 1993, '키로': 1994, '뒤늦다': 1995, '적절하다': 1996, '뿔': 1997, '하고는': 1998, '해물파전': 1999, '좌': 2000, '일식': 2001, '성공': 2002, '홍보': 2003, '착용': 2004, '레터': 2005, '도중': 2006, '모이다': 2007, '대개': 2008, '평점': 2009, '쉽다': 2010, '유료': 2011, '지나': 2012, '댜': 2013, '율도': 2014, '관심': 2015, '소통': 2016, '뻑뻑': 2017, '탄산': 2018, '매일': 2019, '역대': 2020, '놀러와': 2021, '쓰이다': 2022, '해결': 2023, '운전': 2024, '잊어버리다': 2025, '개운하다': 2026, '별루': 2027, '이제야': 2028, '상해': 2029, '레어': 2030, '만이': 2031, '질문': 2032, '쥬스': 2033, '던데': 2034, '떡볶이': 2035, '줄어들다': 2036, '절반': 2037, '최': 2038, '무거동': 2039, '순대': 2040, '많아지다': 2041, '리코': 2042, '바랑': 2043, '요추': 2044, '협소': 2045, '아메': 2046, '부끄럽다': 2047, '간반': 2048, '마찬가지': 2049, '당일': 2050, '모로': 2051, '이즈': 2052, '유니짜장': 2053, '대왕암': 2054, '찰떡': 2055, '부스러기': 2056, '웰던': 2057, '단호박': 2058, '피해': 2059, '된거': 2060, '에나': 2061, '이리': 2062, '보신': 2063, '쓰기': 2064, '엿': 2065, '혜자': 2066, '언니': 2067, '엘': 2068, '포토': 2069, '듯해': 2070, '미니': 2071, '찍': 2072, '장애': 2073, '스푼': 2074, '소음': 2075, '더위': 2076, '꺼지다': 2077, '거나': 2078, '이중': 2079, '티슈': 2080, '까진': 2081, '발': 2082, '토': 2083, '파': 2084, '녹차': 2085, '계절': 2086, '탈': 2087, '신다': 2088, '버거': 2089, '사랑': 2090, '마파두부': 2091, '언급': 2092, '비리': 2093, '완료': 2094, '긋다': 2095, '염': 2096, '하동': 2097, '논': 2098, '저렇게': 2099, '이래서': 2100, '짓': 2101, '자몽': 2102, '유지': 2103, '내용': 2104, '타이거': 2105, '버섯': 2106, '크리스': 2107, '턱': 2108, '곱다': 2109, '매력': 2110, '아끼다': 2111, '찾아보다': 2112, '내기': 2113, '쏟다': 2114, '색깔': 2115, '식후': 2116, '혼밥': 2117, '마르다': 2118, '건성': 2119, '검다': 2120, '려': 2121, '봉투': 2122, '공짜': 2123, '어머님': 2124, '읍': 2125, '무뚝뚝하다': 2126, '헤': 2127, '이닝': 2128, '목': 2129, '업': 2130, '식빵': 2131, '놔두다': 2132, '저런': 2133, '밥맛': 2134, '신고': 2135, '오션': 2136, '최소한': 2137, '부다': 2138, '화나다': 2139, '넘기다': 2140, '통해': 2141, '나니': 2142, '애매하다': 2143, '숯': 2144, '기존': 2145, '누': 2146, '오븐': 2147, '랄': 2148, '보임': 2149, '별다르다': 2150, '빙하': 2151, '딱좋다': 2152, '시스템': 2153, '스끼': 2154, '비용': 2155, '여유롭다': 2156, '흑': 2157, '다리다': 2158, '한숨': 2159, '웃기다': 2160, '가짓수': 2161, '하나같이': 2162, '민망하다': 2163, '밀가루': 2164, '달콤하다': 2165, '점원': 2166, '늘리다': 2167, '미지근하다': 2168, '뜨겁다': 2169, '어차피': 2170, '수육': 2171, '듬뿍': 2172, '실하다': 2173, '휴무': 2174, '여러분': 2175, '무섭다': 2176, '하얗다': 2177, '등록': 2178, '오이': 2179, '나요': 2180, '듭니': 2181, '미파': 2182, '상관': 2183, '오자': 2184, '세심': 2185, '공영': 2186, '토요일': 2187, '이구': 2188, '라벨': 2189, '중구': 2190, '설': 2191, '시세': 2192, '중국': 2193, '감안': 2194, '마련': 2195, '쓰레기': 2196, '벌레': 2197, '군데': 2198, '북적': 2199, '리얼': 2200, '옥수수': 2201, '향신료': 2202, '텍사스': 2203, '양송이': 2204, '박스': 2205, '멀뚱멀뚱': 2206, '세우다': 2207, '반복': 2208, '납득': 2209, '달려오다': 2210, '한가득': 2211, '물리다': 2212, '요담': 2213, '바삭바삭': 2214, '고명': 2215, '구수하다': 2216, '곱빼기': 2217, '진짜진짜': 2218, '용하다': 2219, '늘어나다': 2220, '분과': 2221, '로는': 2222, '훨': 2223, '흠': 2224, '케잌': 2225, '찍기': 2226, '초심': 2227, '페스': 2228, '비치': 2229, '쌓이다': 2230, '뜨끈하다': 2231, '사르르': 2232, '곳곳': 2233, '황당': 2234, '꾸역꾸역': 2235, '재즈': 2236, '두툼': 2237, '도너츠': 2238, '노력': 2239, '퓨전': 2240, '묶다': 2241, '브랜드': 2242, '지하': 2243, '나사': 2244, '박': 2245, '꼬막': 2246, '발라': 2247, '한가위': 2248, 'ㅠㅜ': 2249, '전달': 2250, '뛰다': 2251, '숟갈': 2252, '박지': 2253, '보이시': 2254, '겪다': 2255, '표시': 2256, '현장': 2257, '기와': 2258, '시기': 2259, '보리': 2260, '종이컵': 2261, '일정': 2262, '등심': 2263, '어딜': 2264, '봉지': 2265, '부페': 2266, '요거트': 2267, '요기': 2268, '아마': 2269, '신경안': 2270, '치면': 2271, '도둑': 2272, '와우': 2273, '핫플': 2274, '남녀': 2275, '혹': 2276, '요게': 2277, '글쎄요': 2278, '쫄깃쫄깃': 2279, '올해': 2280, '생선회': 2281, '남친': 2282, '상큼': 2283, '본적': 2284, '워낙': 2285, '인용': 2286, '극찬': 2287, '뇨': 2288, '절': 2289, '방금': 2290, '아무튼': 2291, '방식': 2292, '엘리베이터': 2293, '후추': 2294, '모듬회': 2295, '담당자': 2296, '답변': 2297, '부터는': 2298, '바깥': 2299, '얘': 2300, '쟁반짜장': 2301, '틈': 2302, '구분': 2303, '켯': 2304, '갠': 2305, '빨갛다': 2306, '다다르다': 2307, '한우국밥': 2308, '마주': 2309, '떠나다': 2310, '크로와상': 2311, '백화점': 2312, '착각': 2313, '서브': 2314, '이간': 2315, '왠만하다': 2316, '타지': 2317, '저러다': 2318, '이만': 2319, '멋있다': 2320, '다른사람': 2321, '조림': 2322, '요양': 2323, '벗다': 2324, '레이': 2325, '조심하다': 2326, '타이밍': 2327, '치워지다': 2328, '리가': 2329, '차리다': 2330, '무소식': 2331, '포밍': 2332, '내미다': 2333, '식초': 2334, '튀다': 2335, '집앞': 2336, '이분': 2337, '품질': 2338, '해동': 2339, '까지만': 2340, '금요일': 2341, '잔뜩': 2342, '한결같이': 2343, '쐬다': 2344, '칭찬': 2345, '쓰시': 2346, '댓글': 2347, '혀': 2348, '귀가': 2349, '고하': 2350, '비위생적': 2351, '넹': 2352, '빈약하다': 2353, '어묵': 2354, '프랜차이즈': 2355, '루프': 2356, '마자': 2357, '한적하다': 2358, '영화': 2359, '규': 2360, '디카': 2361, '라스트': 2362, '깜놀': 2363, '치키다': 2364, '혜택': 2365, '뺏다': 2366, '텁텁': 2367, '징': 2368, '안녕하다': 2369, '물들다': 2370, '주의': 2371, '회전초밥': 2372, '앉히다': 2373, '월요일': 2374, '젊다': 2375, '졸업식': 2376, '봉골레': 2377, '빙': 2378, '선장': 2379, '셋트': 2380, '브루': 2381, '섞다': 2382, '클리어': 2383, '장점': 2384, '깨지다': 2385, '국': 2386, '한국': 2387, '널널': 2388, '무겁다': 2389, '갈비살': 2390, '완벽': 2391, '빡치다': 2392, '싱귤러커피': 2393, '간식': 2394, '며칠': 2395, '위험하다': 2396, '수시로': 2397, '불판': 2398, '게는': 2399, '깡패': 2400, '사시미': 2401, '퍼지다': 2402, '톡': 2403, '시정': 2404, '개맛': 2405, '거슬리다': 2406, '태화강': 2407, '통창': 2408, '유리': 2409, '피곤하다': 2410, '순번': 2411, '농도': 2412, '굽기': 2413, '모양': 2414, '조화': 2415, '들어주다': 2416, '만두전골': 2417, '거짓말': 2418, '둘째': 2419, '보다도': 2420, '호수': 2421, '분기': 2422, '위로': 2423, '점심식사': 2424, '소리치다': 2425, '에서부터': 2426, '내리다': 2427, '지치다': 2428, '상냥하다': 2429, '실패하다': 2430, '동구': 2431, '월일': 2432, '모말': 2433, '연어초밥': 2434, '안거': 2435, '강요': 2436, '년전': 2437, '더하다': 2438, '새다': 2439, '동치미': 2440, '콩나물': 2441, '매실': 2442, '한창': 2443, '키친': 2444, '으로만': 2445, '순삭': 2446, '결혼기념일': 2447, '특': 2448, '대안': 2449, '대고': 2450, '최소': 2451, '땅': 2452, '여러가지': 2453, '밝다': 2454, '어치': 2455, '스탈': 2456, '보이지': 2457, '아아': 2458, '슥': 2459, '온도': 2460, '까페': 2461, '세명': 2462, '토핑': 2463, '진리': 2464, '성안동': 2465, '런치타임': 2466, '즉석': 2467, '천장': 2468, '관광지': 2469, '제격': 2470, '우삼겹': 2471, '닭튀김': 2472, '까다롭다': 2473, '화공': 2474, '핑계': 2475, '표': 2476, '주위': 2477, '쭉': 2478, '게스트': 2479, '똑같이': 2480, '어서': 2481, '뷰값': 2482, '동일하다': 2483, '원두': 2484, '서운하다': 2485, '지불': 2486, '맛있엇어': 2487, '담그다': 2488, '만하': 2489, '붓카케': 2490, '볼일': 2491, '힘줄': 2492, '함박스테이크': 2493, '통신사': 2494, '죽이다': 2495, '조카': 2496, '시가': 2497, '째다': 2498, '잡기': 2499, '진주냉면': 2500, '적극': 2501, '수다': 2502, '한가하다': 2503, '휴가': 2504, '대우': 2505, '별관': 2506, '웃음': 2507, '채끝': 2508, '응': 2509, '해월': 2510, '대추차': 2511, '나빠지다': 2512, '상품권': 2513, '무제한': 2514, '넘치다': 2515, '선불카드': 2516, '흡입': 2517, '설빙': 2518, '잉': 2519, '아인': 2520, '금은': 2521, '유명': 2522, '늦': 2523, '주네': 2524, '랍스타': 2525, '뿐이다': 2526, '입산': 2527, '써비스': 2528, '잡담': 2529, '추위': 2530, '비빔국수': 2531, '손소독제': 2532, '모처럼': 2533, '감상': 2534, '숨다': 2535, '껀': 2536, '제입': 2537, '저수지': 2538, '드네': 2539, '회사': 2540, '기대다': 2541, '다식': 2542, '일도': 2543, '빼놓다': 2544, '콤': 2545, '전도': 2546, '난리': 2547, '개판': 2548, '정자항': 2549, '망하다': 2550, '켜다': 2551, '얼른': 2552, '별미': 2553, '긁다': 2554, '초보': 2555, '배기': 2556, '에서만': 2557, '수고': 2558, '엇어': 2559, '페이': 2560, '마시기': 2561, '마법': 2562, '진창': 2563, '그만': 2564, '적어지다': 2565, '기간': 2566, '수긍': 2567, '안주시': 2568, '천정': 2569, '겹': 2570, '업체': 2571, '헷갈리다': 2572, '땜': 2573, '조화롭다': 2574, '빵값': 2575, '밥값': 2576, '주관': 2577, '원주고': 2578, '브레드': 2579, '명절': 2580, '외국인': 2581, '한편': 2582, '반성': 2583, '우와': 2584, '능': 2585, '섬세하다': 2586, '만큼의': 2587, '창살': 2588, '암': 2589, '자재': 2590, '프렌': 2591, '하나요': 2592, '태우다': 2593, '살수': 2594, '맜': 2595, '줄줄': 2596, '명가': 2597, '점주': 2598, '장님': 2599, '뜻': 2600, '당면': 2601, '근방': 2602, '할머니': 2603, '숙소': 2604, '편입': 2605, '빵집': 2606, '홈플러스': 2607, '단위': 2608, '수비드': 2609, '호불호': 2610, '창': 2611, '자세하다': 2612, '이란': 2613, '윗': 2614, '커지다': 2615, '올라서다': 2616, '이라니': 2617, '시도': 2618, '까맣다': 2619, '갈수': 2620, '틀어주다': 2621, '환경': 2622, '문신': 2623, '꺼리다': 2624, '후반': 2625, '산만하다': 2626, '점수': 2627, '따끈하다': 2628, '해주': 2629, '먹어주다': 2630, '가운데': 2631, '유니폼': 2632, '커피잔': 2633, '해수욕장': 2634, '빠': 2635, '부드러움': 2636, '홍익': 2637, '빈자리': 2638, '앱': 2639, '소파': 2640, '진입': 2641, '파이': 2642, '판': 2643, '폐기': 2644, '실': 2645, '일본': 2646, '롤': 2647, '친철': 2648, '각자': 2649, '갈아': 2650, '에이': 2651, '꾸준하다': 2652, '멜로': 2653, '일일이': 2654, '개념': 2655, '예의': 2656, '낮추다': 2657, '라이': 2658, '딴': 2659, '이상은': 2660, '재밌다': 2661, '햇빛': 2662, '격': 2663, '곰팡이': 2664, '피쉬': 2665, '에라도': 2666, '멘트': 2667, '상호': 2668, '바르다': 2669, '돌리다': 2670, '우산': 2671, '부러지다': 2672, '놀람': 2673, '사리': 2674, '페인': 2675, '여지': 2676, '쫀득': 2677, '값어치': 2678, '융통성': 2679, '리뉴얼': 2680, '식탁': 2681, '산책': 2682, '빌다': 2683, '안경': 2684, '돌판': 2685, '부채살': 2686, '안성맞춤': 2687, '물기': 2688, '문해': 2689, '털다': 2690, '나이': 2691, '번가': 2692, '에겐': 2693, '공원': 2694, '막도': 2695, '사고': 2696, '흥정': 2697, '신경질': 2698, '까지도': 2699, '주먹밥': 2700, '보라': 2701, '연못': 2702, '아가': 2703, '맡다': 2704, '쪼가리': 2705, '아직도': 2706, '직화': 2707, '블루리본': 2708, '제품': 2709, '솔드아웃': 2710, '차고': 2711, '종일': 2712, '겨자': 2713, '데리다': 2714, '시경': 2715, '통화': 2716, '부재': 2717, '물김치': 2718, '신선': 2719, '이던': 2720, '적용': 2721, '길어지다': 2722, '도와주다': 2723, '자장면': 2724, '푸드': 2725, '부라타': 2726, '소란': 2727, '손짓': 2728, '제때': 2729, '문서': 2730, '빨르다': 2731, '그랬는데': 2732, '추강': 2733, '두리': 2734, '미트볼': 2735, '구리다': 2736, '뚝': 2737, '재사용': 2738, '밭골': 2739, '분뒤': 2740, '하몽': 2741, '소식': 2742, '쬐다': 2743, '순식간': 2744, 'ㄷ': 2745, '곱': 2746, '몇몇': 2747, '인터넷': 2748, '편도': 2749, '디너': 2750, '저렴': 2751, '평가': 2752, '야무지다': 2753, '티라미수': 2754, '쫀득하': 2755, '뭔': 2756, '부랴부랴': 2757, '만의': 2758, '밍멜': 2759, '문자': 2760, '방향': 2761, '신발': 2762, '상한': 2763, '막상': 2764, '꼼꼼하다': 2765, '진행': 2766, '안보': 2767, '불어': 2768, '굴': 2769, '두부': 2770, '피우다': 2771, '세면대': 2772, '연휴': 2773, '화보': 2774, '경주': 2775, '어린이날': 2776, '코코넛': 2777, '화이트': 2778, '장국도': 2779, '스끼다시': 2780, '써니사이드': 2781, '부턴': 2782, '천천히': 2783, '형': 2784, '뒷쪽': 2785, '머물다': 2786, '석도': 2787, '종': 2788, '아름답다': 2789, '케': 2790, '쌩': 2791, '눈빛': 2792, '에다': 2793, '바가지': 2794, '예상': 2795, '반납': 2796, '복날': 2797, '인삼': 2798, '고양이': 2799, '싹싹': 2800, '제발': 2801, '싸구려': 2802, '불만족': 2803, '따지다': 2804, '수정': 2805, '전등': 2806, '오래오래': 2807, '부족함': 2808, '의외로': 2809, '스러운': 2810, '유난히': 2811, 'ㄴ': 2812, '공지': 2813, '진동': 2814, '태블릿': 2815, '없애다': 2816, '기름기': 2817, '드립': 2818, '고가': 2819, '만점': 2820, '시럽': 2821, '르': 2822, '꽃게': 2823, '남다르다': 2824, '단지': 2825, '잘먹엇어': 2826, '두기': 2827, '정통': 2828, '차서': 2829, '길가': 2830, '조심': 2831, '포밍멜로우': 2832, '쵝오': 2833, '호두': 2834, '타르트': 2835, '올려놓다': 2836, '뛰어다니다': 2837, '이하': 2838, '지정': 2839, '추석': 2840, '걸어가다': 2841, '젖': 2842, '고맙다': 2843, '풍부하다': 2844, '묽다': 2845, '번만': 2846, '시킴': 2847, '라니': 2848, '불가': 2849, '우왕좌왕': 2850, '일수': 2851, '기질': 2852, '겉바': 2853, '적도': 2854, '그랫더': 2855, '엎': 2856, '그다지': 2857, '또다른': 2858, '타르': 2859, '체고': 2860, '돌이': 2861, '쓰레기통': 2862, '만족도': 2863, '축하': 2864, '파라솔': 2865, '만천원': 2866, '한시': 2867, '백김치': 2868, '다녀가다': 2869, '불안하다': 2870, '아시': 2871, '달짝지근하다': 2872, '숙성': 2873, '속초': 2874, '사기': 2875, '데려가다': 2876, '먹고다': 2877, '굵다': 2878, '육질': 2879, '워드': 2880, '스퀴드': 2881, '미루다': 2882, '데스크': 2883, '칼칼하다': 2884, '미소': 2885, '애가': 2886, '대꾸': 2887, '학생': 2888, '라자냐': 2889, '서기': 2890, '중화': 2891, '차분하다': 2892, '지겹다': 2893, '평균': 2894, '삼겹살': 2895, '변동': 2896, '넓어지다': 2897, '단점': 2898, '시나몬': 2899, '흔들다': 2900, '소비자': 2901, '메추리': 2902, '더러워지다': 2903, '얻어먹다': 2904, '서생': 2905, '자주자주': 2906, '뭐해': 2907, '해삼': 2908, '연락': 2909, '열리다': 2910, '선정': 2911, '본식': 2912, '니요': 2913, '웃기': 2914, '한몫': 2915, '수족관': 2916, '밥상': 2917, '온통': 2918, '반말': 2919, '텀': 2920, '이냐': 2921, '덩어리': 2922, '꽝': 2923, '소세지': 2924, '결혼': 2925, '보장': 2926, '누룽지': 2927, '더더': 2928, '쪼': 2929, '큰골': 2930, '쓰리다': 2931, '무게': 2932, '안달': 2933, '억지로': 2934, '사오다': 2935, '청양고추': 2936, '랑은': 2937, '공사': 2938, '때매': 2939, '이구나': 2940, '언성': 2941, '벌다': 2942, '이기': 2943, '루고': 2944, '밀': 2945, '도보': 2946, '똥': 2947, '김밥': 2948, '군내': 2949, 'ㅜㅜㅜ': 2950, '호강': 2951, '쫀맛탱': 2952, '요원': 2953, '꾸미다': 2954, '직장': 2955, '개시': 2956, '뜰': 2957, '올려주다': 2958, '고춧가루': 2959, '오해': 2960, '책임자': 2961, '발열': 2962, '에게는': 2963, '전화선': 2964, '꼽히다': 2965, '정작': 2966, '날리다': 2967, '팥빙수': 2968, '연유': 2969, '노트북': 2970, '명란': 2971, '반점': 2972, '연속': 2973, '궁': 2974, '요금': 2975, '해물찜': 2976, '골고루': 2977, '지경': 2978, '마치다': 2979, '프리미엄': 2980, '그림': 2981, '안드네': 2982, '고개': 2983, '행주': 2984, '붉다': 2985, '투자': 2986, '열심히': 2987, '흡족하다': 2988, '죄다': 2989, '다닥다닥': 2990, '떠다니다': 2991, '차로': 2992, '욧': 2993, '정돈': 2994, '코로': 2995, '은커녕': 2996, '검은색': 2997, '푹': 2998, '와는': 2999, '순위': 3000, '라오': 3001, '건성건성': 3002, '레알': 3003, '일인': 3004, '습니': 3005, '토스트': 3006, '블러': 3007, '의견': 3008, '무리': 3009, '실외': 3010, '제로': 3011, '다짜고짜': 3012, '방해': 3013, '상식': 3014, '퍼': 3015, '내려놓다': 3016, '필': 3017, 'ㅜㅠㅠ': 3018, '차원': 3019, '바지락': 3020, '구성은': 3021, '땀': 3022, '팔': 3023, '힘': 3024, '시부모': 3025, '개방': 3026, '다대기': 3027, '봣': 3028, '어마': 3029, '거부': 3030, '틀리다': 3031, '어우러지다': 3032, '굶다': 3033, '초이스': 3034, '이자': 3035, '배추': 3036, '바싹': 3037, '준수': 3038, '라네': 3039, '접대': 3040, '휙': 3041, '시래기': 3042, '소라': 3043, '갈치': 3044, '그러면': 3045, '느긋하다': 3046, '청첩장': 3047, '그늘': 3048, '색칠': 3049, '블루': 3050, '판이': 3051, '쓴다': 3052, '솔직': 3053, '진보': 3054, '배우다': 3055, '떨어뜨리다': 3056, '다나': 3057, '절미': 3058, '래서': 3059, '건네주다': 3060, '출입문': 3061, '정이': 3062, '잠봉뵈르': 3063, '평생': 3064, '거만': 3065, '전복죽': 3066, '비밀': 3067, '계란후라이': 3068, '결정': 3069, '리기': 3070, '게임': 3071, '울렁거리다': 3072, '닿다': 3073, '포인트': 3074, '그제야': 3075, '비틀어지다': 3076, '한소리': 3077, '아픔': 3078, '데이': 3079, '태국': 3080, '공장': 3081, '내색': 3082, '그다음': 3083, '팽이버섯': 3084, '빵빵': 3085, '다인': 3086, '꽂다': 3087, '널': 3088, '테블릿': 3089, '다잡다': 3090, '무적': 3091, '티타임': 3092, '리아': 3093, '땅콩': 3094, '이틀': 3095, '싼값': 3096, '크리스피크림': 3097, '리지': 3098, '애정': 3099, '원추': 3100, '가하다': 3101, '애초': 3102, '크랩': 3103, '구점': 3104, '스키': 3105, '몸통': 3106, '직판': 3107, '카페라떼': 3108, '읍니': 3109, '치돈': 3110, '에게도': 3111, '흥건': 3112, '알맞다': 3113, '요하': 3114, '평범': 3115, '신상': 3116, '욕심': 3117, '담배': 3118, '감감': 3119, '하나로': 3120, 'ㄹㅇ': 3121, '노랗다': 3122, '체계': 3123, '문어': 3124, 'ㅠㅜㅜ': 3125, '쌀국수': 3126, '샷': 3127, '손해': 3128, 'ㅓ': 3129, '무인': 3130, '강정': 3131, '기입': 3132, '볼거리': 3133, '솔솔': 3134, '팡팡': 3135, '요만': 3136, '변명': 3137, '데려오다': 3138, '턱스': 3139, '제지': 3140, '물냉면': 3141, '싸움': 3142, '끼우다': 3143, '던': 3144, '차지': 3145, '당기다': 3146, '겨': 3147, '왕자': 3148, '상하': 3149, '이따': 3150, '상대방': 3151, '지은': 3152, '벌': 3153, '당분간': 3154, '사서': 3155, '에서의': 3156, '방치': 3157, '대접받다': 3158, '공용': 3159, '스타벅스': 3160, '예절': 3161, '상추': 3162, '가다가': 3163, '찍히다': 3164, '명단': 3165, '어디서': 3166, '바삭바삭하다': 3167, '뚫다': 3168, '관계없이': 3169, '짝': 3170, '이기도': 3171, '무한리필': 3172, '고려': 3173, '비릿': 3174, '미디엄': 3175, '요안': 3176, '명찰': 3177, '번하다': 3178, '점장님': 3179, '난생': 3180, '나르다': 3181, '밥집': 3182, '별채': 3183, '본연': 3184, '인게': 3185, '무안하다': 3186, '맞은편': 3187, '뭣': 3188, '머스타드': 3189, '꿀': 3190, '바게트': 3191, '쏘이다': 3192, '대박나다': 3193, '롭고': 3194, '뮤': 3195, '활어회': 3196, '정말로': 3197, '참치': 3198, '대가리': 3199, '조미료': 3200, '봉': 3201, '정수기': 3202, '로운': 3203, '그중': 3204, '종이가방': 3205, '오염': 3206, '이랬는데': 3207, '탱글탱글': 3208, '만들어지다': 3209, '위주': 3210, '호': 3211, '은근': 3212, '고온': 3213, '탁하다': 3214, '걸레': 3215, '엄지': 3216, '먹이다': 3217, '탁트인': 3218, '스페셜': 3219, '매주': 3220, '금강산': 3221, '쌔': 3222, '오렌지': 3223, '붓': 3224, '식욕': 3225, '계열': 3226, '마침': 3227, '재촉': 3228, '구입': 3229, '아포': 3230, '카토': 3231, '감귤': 3232, '메리트': 3233, '소로': 3234, '베이비': 3235, '민': 3236, '왕복': 3237, '가자미': 3238, '공휴일': 3239, '계산서': 3240, '달동': 3241, '심각하다': 3242, '푸른': 3243, '초등학생': 3244, '트리': 3245, '생업': 3246, '플래터': 3247, '듣기': 3248, '약속': 3249, '후시': 3250, '방석': 3251, '만약': 3252, '짬': 3253, '워': 3254, '굴국밥': 3255, '썩다': 3256, '선착순': 3257, '부어': 3258, '배짱': 3259, '두께': 3260, '팩트': 3261, '점성': 3262, '설치': 3263, '조명도': 3264, '가쓰오부시': 3265, '마쯔리': 3266, '앗': 3267, '퇴근': 3268, '명성': 3269, '외관': 3270, '가구': 3271, '리조': 3272, '대책': 3273, '지기': 3274, '툭': 3275, '혼잡하다': 3276, '빳': 3277, '베이스': 3278, '주로': 3279, '기절': 3280, '분한': 3281, '전이': 3282, '맛임': 3283, '접다': 3284, '정해지다': 3285, '클래식': 3286, '고무': 3287, '탱탱': 3288, '건강': 3289, '호구': 3290, '재방': 3291, '예술': 3292, '치즈케잌': 3293, '새벽': 3294, '여태': 3295, '돌솥': 3296, '살코기': 3297, '청구': 3298, '전자렌지': 3299, '어떨': 3300, '밀도': 3301, '빼먹다': 3302, '덴': 3303, '삼십분': 3304, '고전': 3305, '제외': 3306, '휴식': 3307, '취하': 3308, '드럽다': 3309, '융': 3310, '날인': 3311, '다재': 3312, '수정과': 3313, '수박': 3314, '바라지': 3315, '검정': 3316, '자연': 3317, '마카': 3318, '무성의': 3319, '전병': 3320, '상관없다': 3321, '보관': 3322, '꼭꼭': 3323, '띡': 3324, '거진': 3325, '케어': 3326, '깜빡': 3327, '의문': 3328, '겉절이': 3329, '치고는': 3330, '듀': 3331, '수없이': 3332, '가포': 3333, '모시다': 3334, '우거지': 3335, '각각': 3336, '국민': 3337, '차라': 3338, '텅텅': 3339, '햄버거': 3340, '동이': 3341, '금상첨화': 3342, '참나': 3343, '강매': 3344, '취해': 3345, '장국': 3346, '달리': 3347, '촉': 3348, '바보': 3349, '어마어마하다': 3350, '다그': 3351, '쯧': 3352, '개존맛': 3353, '우린': 3354, '스럽지': 3355, '결코': 3356, '양산': 3357, '낭': 3358, '달쭈': 3359, '검정색': 3360, '쌀쌀하다': 3361, '탁자': 3362, '웅': 3363, '성웅': 3364, '가을': 3365, '오뎅': 3366, '동남아': 3367, '친정엄마': 3368, '설사': 3369, '피크': 3370, '기자': 3371, '사전': 3372, 'ㅛ': 3373, '쏙': 3374, '꼬': 3375, '맛보기': 3376, '개정': 3377, '반영': 3378, '왕왕': 3379, '조르다': 3380, '찢어지다': 3381, '식물': 3382, '적당': 3383, '분식집': 3384, '예민하다': 3385, '띄우다': 3386, '동동': 3387, '재다': 3388, '불가능': 3389, '애견': 3390, '닝': 3391, '띠': 3392, '정상': 3393, '포터': 3394, '모으다': 3395, '곳도': 3396, '장염': 3397, '어플': 3398, '코타': 3399, '제한': 3400, '내년': 3401, '심다': 3402, '질김': 3403, '향수': 3404, '대단하다': 3405, '그립다': 3406, '선물': 3407, '오랫동안': 3408, '성하다': 3409, '출산': 3410, '왈': 3411, '선호': 3412, '소중하다': 3413, '석식': 3414, '나오니': 3415, '자욱하다': 3416, '개월': 3417, '트': 3418, '억': 3419, '말함': 3420, '글씨': 3421, '조정': 3422, '익숙하다': 3423, '집밥': 3424, '쫄깃해': 3425, '애쓰다': 3426, '원금': 3427, 'ㅗ': 3428, '격줄': 3429, '소비': 3430, '구걸': 3431, '이안': 3432, '오라': 3433, '모찌': 3434, '오동통하다': 3435, '눕다': 3436, '더러': 3437, '매너': 3438, '지시': 3439, '거북하다': 3440, '협소해': 3441, '이예': 3442, 'ㅂ': 3443, '장비': 3444, '한적': 3445, '울음소리': 3446, '서비스업': 3447, '싯': 3448, '읽다': 3449, '출입': 3450, '기회': 3451, '방어': 3452, '비계': 3453, '부대': 3454, '만지다': 3455, '모금': 3456, '새해': 3457, '서너': 3458, '커피한잔': 3459, '난동': 3460, '차편': 3461, '리나': 3462, '신청': 3463, '또띠아': 3464, '일등': 3465, '인심': 3466, '소개팅': 3467, '우도': 3468, '차돌박이': 3469, '밭': 3470, '좀비': 3471, '술안주': 3472, '옹': 3473, '우연': 3474, '모델링': 3475, '도참': 3476, '약해지다': 3477, '운동': 3478, '생맥': 3479, '주일': 3480, '미네': 3481, '껄': 3482, '연세': 3483, '풀이': 3484, '소복하다': 3485, '국적': 3486, '밋밋하다': 3487, '해소': 3488, '텐데': 3489, '띄엄띄엄': 3490, '크으': 3491, '앙': 3492, '대애': 3493, '나아지다': 3494, '앞산': 3495, '부시맨': 3496, '여부': 3497, '일절': 3498, '주년': 3499, '공연': 3500, '풀': 3501, '뒤끝': 3502, '오코노미야끼': 3503, '구만': 3504, '모내기': 3505, '새참': 3506, '캐셔': 3507, '전통': 3508, '때마침': 3509, '방장': 3510, '이래저래': 3511, '형님': 3512, '포항': 3513, '보험': 3514, '보충': 3515, '고난': 3516, '낫': 3517, '쵝': 3518, '무덥다': 3519, '가열': 3520, '가리비': 3521, '식음': 3522, 'ㄱㅏ': 3523, '동선': 3524, '빽빽하다': 3525, '외국': 3526, '유부': 3527, '쿠키': 3528, '지난주': 3529, '장현동': 3530, '마는': 3531, '연애': 3532, '촐': 3533, '난후': 3534, '관련': 3535, '접수': 3536, '텁텁하': 3537, '짜이다': 3538, '야기': 3539, '불로': 3540, '안남다': 3541, '이요': 3542, '정정': 3543, '고르곤졸라': 3544, '번거롭다': 3545, '숨': 3546, '환풍기': 3547, '환풍': 3548, '흙': 3549, '달인': 3550, '꽈배기': 3551, '비냉': 3552, '케밥': 3553, '쿨': 3554, '구석구석': 3555, '걸어오다': 3556, '세고': 3557, '마스': 3558, '가로': 3559, '울대': 3560, '선셋': 3561, '오진': 3562, '주먹': 3563, '메밀국수': 3564, '마음껏': 3565, '생크림': 3566, '양하다': 3567, '효': 3568, '냉소': 3569, '하늘': 3570, '다점': 3571, '메': 3572, '관리자': 3573, '임의': 3574, '샷추': 3575, '로컬': 3576, '꼼': 3577, '힐끔힐끔': 3578, '안통': 3579, '돈대': 3580, '훠': 3581, '처가': 3582, '가관': 3583, '딸아이': 3584, '내용물': 3585, '기업': 3586, '간간': 3587, '곤란하다': 3588, '드뎌': 3589, '감탄': 3590, '친정': 3591, '입가심': 3592, '짧은머리': 3593, '투': 3594, '닝닝': 3595, '솜씨': 3596, '지지도': 3597, '당시': 3598, '요요': 3599, '잦다': 3600, '난로': 3601, '가동': 3602, '테': 3603, 'ㅠㅋㅋㅋ': 3604, '토사': 3605, '소시지': 3606, '칠': 3607, '푸드코트': 3608, '부터가': 3609, 'ㅎㅅ': 3610, '안남': 3611, '곳곳이': 3612, '마르': 3613, '권유': 3614, '베스트': 3615, '왠': 3616, '하기는': 3617, '위아래': 3618, '증명': 3619, '어처구니': 3620, '발음': 3621, '마땅하다': 3622, '에피타이저': 3623, '오신': 3624, '든지': 3625, '초반': 3626, '아내': 3627, '소독': 3628, '감사히': 3629, '이러니': 3630, '돈쭐': 3631, '해마다': 3632, '디디다': 3633, '분주하다': 3634, '높이다': 3635, '셧': 3636, '둥이': 3637, '코목살': 3638, '비빔면': 3639, '맹물': 3640, '무지하다': 3641, '허전하다': 3642, '술술': 3643, '다주': 3644, '일산': 3645, '특제': 3646, '허허': 3647, '짐해': 3648, '틀': 3649, '기네': 3650, '무조': 3651, '심각': 3652, '사람과': 3653, '주어': 3654, '영어': 3655, '희망': 3656, '엽채': 3657, '멸치': 3658, '제안': 3659, '물맛': 3660, '용해': 3661, '방문자': 3662, '제스처': 3663, '자동': 3664, '부들부들': 3665, '프렌치': 3666, '말모': 3667, '물고기': 3668, '믄': 3669, '스텝': 3670, '겉옷': 3671, '노래': 3672, '선곡': 3673, '냠냠': 3674, '뿌옇다': 3675, '최상': 3676, '명의': 3677, '도도': 3678, '아싹': 3679, '아래': 3680, '그릴': 3681, '라피': 3682, '재고': 3683, '색연필': 3684, '대여': 3685, 'ㅁ': 3686, '대요': 3687, '필히': 3688, '까지나': 3689, '서툴다': 3690, '쑥': 3691, '분후': 3692, '우습다': 3693, '고대로': 3694, '우당탕': 3695, '다시마': 3696, '방이': 3697, '완존': 3698, '단풍': 3699, '초록색': 3700, '새싹': 3701, '데비': 3702, '으로써': 3703, '그동안': 3704, '호크': 3705, '참기름': 3706, '분명하다': 3707, '추정': 3708, '레몬': 3709, '이루어지다': 3710, '화사하다': 3711, '북구': 3712, '둘러보다': 3713, '어투': 3714, '생강': 3715, '제휴': 3716, '그득하다': 3717, '연예인': 3718, '어쩌': 3719, '진정': 3720, '사업': 3721, '기념품': 3722, '트레이': 3723, '마안': 3724, '한정': 3725, '유부초밥': 3726, '소화도': 3727, '아리카': 3728, '미만': 3729, '난감하다': 3730, '기색': 3731, '수리': 3732, '키트': 3733, '닭고기': 3734, '생수': 3735, '생애': 3736, '슈트': 3737, '멍': 3738, '때리다': 3739, '낡다': 3740, '모래': 3741, '글쎄': 3742, '쩍쩍': 3743, '음번': 3744, '혹은': 3745, '이랜드': 3746, '관계자': 3747, '감당': 3748, '복장': 3749, '토욜': 3750, '진짜루': 3751, '비롯': 3752, '나은': 3753, '혼나다': 3754, '풀리다': 3755, '유가': 3756, '나마': 3757, 'ㅠㅡㅠ': 3758, '이상인': 3759, '활': 3760, '룰': 3761, '밝아지다': 3762, '시큼하다': 3763, '가방': 3764, '달랑달랑': 3765, '포일': 3766, '베': 3767, '숩': 3768, '댁': 3769, '못마땅하다': 3770, '팍': 3771, '부모': 3772, '쨋': 3773, '푸석푸석하다': 3774, '딸리다': 3775, '사가다': 3776, '더블': 3777, '입도': 3778, '하고프다': 3779, '뿜뿜': 3780, '일대': 3781, '렵': 3782, '복돈': 3783, '이불': 3784, '삼다': 3785, '순이': 3786, '쪼매': 3787, '식중독': 3788, '털': 3789, '박히다': 3790, '론': 3791, '현지': 3792, '어지간하다': 3793, '핵': 3794, '칼로리': 3795, '북': 3796, '어어': 3797, '지리다': 3798, '체험': 3799, '돈코츠': 3800, '별거': 3801, '이니까': 3802, '쭈뼛쭈뼛': 3803, '시구': 3804, '아키라': 3805, '앞전': 3806, '인지도': 3807, '쌍': 3808, '싫어지다': 3809, '싸하다': 3810, '절대로': 3811, '이글': 3812, '점검': 3813, '낚': 3814, '착오': 3815, '립스틱': 3816, '구리': 3817, '노맛': 3818, '감태': 3819, '럭셔리': 3820, '고무장갑': 3821, '녜': 3822, '신규': 3823, '꼴다': 3824, '누나': 3825, '먹이': 3826, '김해': 3827, '편견': 3828, '질서': 3829, '괜': 3830, '여요': 3831, '부럽다': 3832, '전고지': 3833, '과도': 3834, '잔디밭': 3835, '하이': 3836, '어울림': 3837, '주기도': 3838, '컨디션': 3839, '커피집': 3840, '이십분': 3841, '마약': 3842, '빵맛': 3843, '동도': 3844, '체인점': 3845, '각종': 3846, '망': 3847, '외곽': 3848, '에러': 3849, '전화번호': 3850, '만삭': 3851, '끝내': 3852, '유리창': 3853, '형편': 3854, '최하': 3855, '닦이다': 3856, '살얼음': 3857, '의욕': 3858, '이리저리': 3859, '난뒤': 3860, '컷': 3861, '머쉬룸': 3862, '닷': 3863, '한텐': 3864, '깜박': 3865, '수산시장': 3866, '이적': 3867, '종도': 3868, '빕스': 3869, '핵창렬': 3870, '향가': 3871, '요약': 3872, '후딱': 3873, '강력하다': 3874, '가만히': 3875, '빈곳': 3876, '고치다': 3877, '그을리다': 3878, '돌아보다': 3879, '원가': 3880, '절감': 3881, '니글니글': 3882, '사하다': 3883, '에그': 3884, '세련되다': 3885, '다예': 3886, '날아다니다': 3887, '잠': 3888, '인간': 3889, '글자': 3890, '무대뽀': 3891, '살벌하다': 3892, '중량': 3893, '표기': 3894, '버너': 3895, '크림소스': 3896, '이돈': 3897, '맘모스': 3898, '원픽': 3899, '변': 3900, '훅': 3901, '트림': 3902, '난방': 3903, '외투': 3904, '띵동해': 3905, '대규모': 3906, '수용': 3907, '구역': 3908, '걸쭉하다': 3909, '컨셉': 3910, '어니언': 3911, '먹방': 3912, '요인': 3913, '장통': 3914, '묵은지': 3915, '만담': 3916, '건데': 3917, '드물다': 3918, '구멍': 3919, '세탁': 3920, '일어나서': 3921, '벽': 3922, '카프레': 3923, '자릿세': 3924, '의심스럽다': 3925, '이겠다': 3926, '지우다': 3927, '와이파이': 3928, '블루베리': 3929, '산뜻하다': 3930, '항정살': 3931, '더비': 3932, '주올': 3933, '공중': 3934, '패스': 3935, '온천': 3936, '아저씨': 3937, '나란하다': 3938, '가죽': 3939, '기류': 3940, '주전자': 3941, '콜키': 3942, '두렵다': 3943, '치아': 3944, '살리다': 3945, '생물': 3946, '물러서다': 3947, '마당': 3948, '화난': 3949, '이점': 3950, '제라': 3951, '악취': 3952, '물바다': 3953, '배치도': 3954, '브라운': 3955, '입술': 3956, '제도': 3957, '폭염': 3958, '주의보': 3959, '스틱': 3960, '쭉쭉': 3961, '매달': 3962, '하진': 3963, '말차': 3964, '맹탕': 3965, '동행': 3966, '바램': 3967, '챠슈': 3968, '사르다': 3969, '서고': 3970, '묜': 3971, '불향': 3972, '반갑다': 3973, '부들': 3974, '호박': 3975, '직전': 3976, '쌀알': 3977, '카이센동': 3978, '자고': 3979, '부로': 3980, '요한': 3981, '뵈다': 3982, '어쩌나': 3983, '게맛': 3984, '쉐프': 3985, '번말': 3986, '나위': 3987, '비대': 3988, '들렷는데': 3989, '레인': 3990, '사납다': 3991, '삼삼하다': 3992, '꼭지': 3993, '광양': 3994, '한식당': 3995, '견해': 3996, '창밖': 3997, '칭구': 3998, '내일': 3999, '슈': 4000, '걸이': 4001, '깍': 4002, '뚜': 4003, '전과': 4004, '시켯더': 4005, '지갑': 4006, '기쁘다': 4007, '꼭대기': 4008, '정합': 4009, '거꾸로': 4010, '그땐': 4011, '정확': 4012, '가르치다': 4013, '햇살': 4014, '빚': 4015, '발전': 4016, '불리다': 4017, '잊혀지다': 4018, '자도': 4019, '국산': 4020, '들깨': 4021, 'ㅣ': 4022, '룩': 4023, '조경': 4024, '가라': 4025, '명인': 4026, '팅할': 4027, '하몽루꼴': 4028, '오래전': 4029, '인터': 4030, '심플': 4031, '모던': 4032, '명도': 4033, '유아': 4034, '적정하다': 4035, '로고': 4036, '피드백': 4037, '정장': 4038, '함부로': 4039, '직책': 4040, '안쓰럽다': 4041, '특정': 4042, '엇습': 4043, '뻥': 4044, '매년': 4045, '이랑은': 4046, '파다': 4047, '이따위': 4048, '고스': 4049, '스': 4050, '램': 4051, '등뼈': 4052, '소홀하다': 4053, '부풀리다': 4054, '랜덤': 4055, '볼때': 4056, '켜지다': 4057, '막내': 4058, '어보': 4059, '오죽하다': 4060, '낌': 4061, '감추다': 4062, '뚱하다': 4063, '머선': 4064, '바디': 4065, '커트러리': 4066, '연해': 4067, '레이즈': 4068, '의식': 4069, '채소': 4070, '베스': 4071, '개중': 4072, '첨부': 4073, '장인': 4074, '요구사항': 4075, '양념장': 4076, '칡': 4077, '말리다': 4078, '안질': 4079, '은은하다': 4080, '썰리다': 4081, '메이플': 4082, '탁월하다': 4083, '통째': 4084, '반했어': 4085, '맛낭': 4086, '리뉴': 4087, '백반': 4088, '강츄': 4089, '성격': 4090, '우랑': 4091, '쪼금': 4092, '주민': 4093, '비위': 4094, '끈적끈적하다': 4095, '양심': 4096, '창피하다': 4097, '동점': 4098, '요긴': 4099, '태어나다': 4100, '탱탱하다': 4101, '얌': 4102, '쌩까다': 4103, '버블티': 4104, '맘대로': 4105, '맛탕': 4106, '건더기': 4107, '불결하다': 4108, '광': 4109, '벌리다': 4110, '고무줄': 4111, '평일도': 4112, '사면': 4113, '비어': 4114, '라인': 4115, '갈래': 4116, '보고오다': 4117, '환': 4118, '스케': 4119, '이크': 4120, '권하다': 4121, '대란': 4122, '인파': 4123, '의지': 4124, '범벅': 4125, '대략': 4126, '물컵': 4127, '합격': 4128, '오픈런': 4129, '업무': 4130, '펜션': 4131, '갈릭': 4132, '픽': 4133, '뱃살': 4134, '된장국': 4135, '성함': 4136, '역': 4137, '장시간': 4138, '난국': 4139, 'ㅡㅡㅡ': 4140, '시리얼': 4141, '칼': 4142, '덩': 4143, '셀러': 4144, '유행': 4145, '멤버': 4146, '티비': 4147, '회정': 4148, '지극히': 4149, '하리보': 4150, '젤리': 4151, '죤맛': 4152, '담요': 4153, '취': 4154, '한결같다': 4155, '카트': 4156, '달콤': 4157, '끝판': 4158, '러시': 4159, '중국요리': 4160, '입히다': 4161, '타인': 4162, '사천': 4163, '감자전': 4164, '말소리': 4165, '팔리다': 4166, '손가락': 4167, '칭따오': 4168, '페어': 4169, '스트로': 4170, '테리어': 4171, '귀하다': 4172, '대뜸': 4173, '인들': 4174, '눈길': 4175, '현': 4176, '좋아욤': 4177, '속지': 4178, '롯데': 4179, '아몬드': 4180, '또는': 4181, '생명': 4182, '다짐': 4183, '쯔': 4184, '핸드': 4185, '낳다': 4186, '초창': 4187, '기보': 4188, '내야': 4189, '결과': 4190, '여럿': 4191, '오버': 4192, '쿡': 4193, '골': 4194, '손톱': 4195, '까칠하다': 4196, '기점': 4197, '다섯시': 4198, '가락': 4199, '어의': 4200, '불쾌감': 4201, '꾹': 4202, '툭툭': 4203, '지금껏': 4204, '이래': 4205, '기운': 4206, '벗': 4207, '전량': 4208, '일욜': 4209, '셀': 4210, '서하': 4211, '분하다': 4212, '시청': 4213, '잘생기다': 4214, '도움': 4215, '시종일관': 4216, '묘': 4217, '만들기': 4218, '그나저나': 4219, '찌푸리다': 4220, 'ㄱ': 4221, '오가다': 4222, '어휴': 4223, '쑥갓': 4224, '강아지': 4225, '장내': 4226, '해변': 4227, '빠뜨리다': 4228, '캠핑장': 4229, '해먹': 4230, '짠맛': 4231, '짬봉': 4232, '붓다': 4233, '쪼개다': 4234, '단장': 4235, '배관': 4236, '결기': 4237, '소란스러움': 4238, '투움': 4239, '세지': 4240, 'ㅈㄴ': 4241, '눌': 4242, '소규모': 4243, '폭발': 4244, '어떠하다': 4245, '군대': 4246, '각개': 4247, '서지': 4248, '틀어지다': 4249, '호객': 4250, '행위': 4251, '옆집': 4252, '도구': 4253, '기호': 4254, '분위': 4255, '랬': 4256, '여야': 4257, '큰일': 4258, '방송': 4259, '수도권': 4260, '카푸치노': 4261, '파란색': 4262, '불량': 4263, '떼': 4264, '일손': 4265, '켜': 4266, '장바닥': 4267, '하필': 4268, '무척': 4269, '우루루': 4270, '밀고': 4271, '붙잡다': 4272, '심장': 4273, '거들다': 4274, '방역': 4275, '칙': 4276, '당근': 4277, '까지와': 4278, '신제품': 4279, '따끈따끈': 4280, '한자리': 4281, '운치': 4282, '대방': 4283, '어회': 4284, '만회': 4285, '초록': 4286, '대추': 4287, '사물함': 4288, '유독': 4289, '무한': 4290, '알리': 4291, '중국산': 4292, '잃어버리다': 4293, '회전초밥집': 4294, '별루였': 4295, '누군가': 4296, '을해': 4297, '뚫리다': 4298, '함흥차사': 4299, '마카롱': 4300, '고매': 4301, '가보': 4302, '신빙': 4303, '한동안': 4304, '피다': 4305, '무맛': 4306, '물탄': 4307, '자라다': 4308, '여동생': 4309, '신라면': 4310, '공급': 4311, '맛나': 4312, '서둘다': 4313, '풋': 4314, '호일': 4315, '상상': 4316, '오른쪽': 4317, '왼쪽': 4318, '기타': 4319, '양장': 4320, '색감': 4321, '안과': 4322, '분식': 4323, '쫄면': 4324, '대기업': 4325, '받침': 4326, '차요': 4327, '즉각': 4328, '묵묵': 4329, '널찍하다': 4330, '감기': 4331, '해녀': 4332, '윤슬': 4333, '반짝이다': 4334, '싸늘하다': 4335, '공익': 4336, '쿠션': 4337, '이빨': 4338, '해월빵': 4339, '과자': 4340, '분별': 4341, '단비': 4342, '한의원': 4343, '었': 4344, '망가지다': 4345, '바짝': 4346, '파도': 4347, '마케팅': 4348, '표고버섯': 4349, '한치': 4350, '은인': 4351, '호갱': 4352, '오랜만': 4353, '돌려주다': 4354, '고집': 4355, '방가': 4356, '출구': 4357, '계시': 4358, '한정판': 4359, '매라': 4360, '돋다': 4361, '보강': 4362, '접근성': 4363, '인천': 4364, '경기': 4365, '단단하다': 4366, '요런': 4367, '꼴': 4368, '셔벗': 4369, '접': 4370, '한산하다': 4371, '상승': 4372, '청포도': 4373, '프렌치프라이': 4374, '간혹': 4375, '도르다': 4376, '축': 4377, '통로': 4378, '왕창': 4379, '어번': 4380, '문구': 4381, '거려': 4382, '팥': 4383, '등장': 4384, '손절': 4385, '지워지다': 4386, '미도': 4387, '아기자기하다': 4388, '대도': 4389, '오래간만': 4390, '헤헤': 4391, '분안': 4392, '단발머리': 4393, '고추장': 4394, '물밀': 4395, '부': 4396, '쫒다': 4397, '에두': 4398, '첨가': 4399, '출혈': 4400, '로서': 4401, '치르다': 4402, '부치다': 4403, '맜있어': 4404, '딜리': 4405, '오분': 4406, '까지가': 4407, '차만': 4408, '보완': 4409, '지난달': 4410, '학교': 4411, '유치원': 4412, '쓴맛': 4413, '이러하다': 4414, '맵기': 4415, '언짢다': 4416, '침': 4417, '묵살': 4418, '더부룩하다': 4419, '라시': 4420, '랫': 4421, '광고': 4422, '패스트푸드': 4423, '의사소통': 4424, '게이샤': 4425, '놓치다': 4426, '엔초': 4427, '가만': 4428, '유리컵': 4429, '해고': 4430, '궁물': 4431, '부가': 4432, '아요': 4433, '다드': 4434, '지방도': 4435, '기성품': 4436, '갑질': 4437, '슬러쉬': 4438, '그렇지만': 4439, '순환': 4440, '고합': 4441, '요정': 4442, '석쇠': 4443, '미듐': 4444, '편의점': 4445, '여분': 4446, '파이다': 4447, '돌체': 4448, '결혼식': 4449, '용다': 4450, '나가사끼': 4451, '킬로': 4452, '자랑': 4453, '낭패': 4454, '아버지': 4455, '식당가': 4456, '꽉꽉': 4457, '한눈': 4458, '전용': 4459, '으로가': 4460, '전문': 4461, '먹엇어': 4462, '진국': 4463, '흔들리다': 4464, '따라오다': 4465, '왓다': 4466, '다양해지다': 4467, '만난': 4468, '경찰': 4469, '우려': 4470, '시로': 4471, '데코': 4472, '레스팅': 4473, '개발': 4474, '역겹다': 4475, '뭉치다': 4476, '다한': 4477, '손세정제': 4478, '변화': 4479, '조리사': 4480, '샤브샤브': 4481, '의외': 4482, '둥': 4483, '메론': 4484, '버려지다': 4485, '고층': 4486, '포테이토': 4487, '미흡하다': 4488, '떼다': 4489, '폭': 4490, '짠지': 4491, '산지': 4492, '마요네즈': 4493, '졸맛': 4494, '찬물': 4495, '쓰러지다': 4496, '게도': 4497, '닭똥집': 4498, '오늘이': 4499, '도톰하다': 4500, '과정': 4501, '우풍': 4502, '하하': 4503, '류산슬': 4504, '알반': 4505, '지배인': 4506, '로보트': 4507, '대리': 4508, '뉴스': 4509, '잔디': 4510, '바깥쪽': 4511, '라이터': 4512, '잔치': 4513, '종지': 4514, '교환': 4515, '포밍멜': 4516, '방콕': 4517, '바스크': 4518, '기사': 4519, '몽블랑': 4520, '영덕': 4521, '뒤지다': 4522, '릴리': 4523, '다정하다': 4524, '반응': 4525, '반짝반짝': 4526, '겁': 4527, '달고나': 4528, '연차': 4529, '양옆': 4530, '천하': 4531, '분경': 4532, '아낌없이': 4533, '실물': 4534, '일정하다': 4535, '뚝배기': 4536, '가르다': 4537, '수년': 4538, '돼지갈비': 4539, '성공하다': 4540, '반죽': 4541, '빛나다': 4542, '양치': 4543, '법': 4544, '티라미슈': 4545, '식단': 4546, '테이크': 4547, '쇼콜라': 4548, '흉기': 4549, '중년': 4550, '레시피': 4551, '충전': 4552, '정면': 4553, '므': 4554, '나선': 4555, '묵': 4556, '완죤': 4557, '극혐': 4558, '씌우다': 4559, '십분': 4560, '요시': 4561, '아마도': 4562, '으쓱': 4563, '진정하다': 4564, '소화': 4565, '이의': 4566, '가래떡': 4567, '관리원': 4568, '팅후': 4569, '먹히다': 4570, '다지': 4571, '피함': 4572, '차완무시': 4573, '음식사진': 4574, '겟': 4575, '덩치': 4576, '수선': 4577, '상주': 4578, '러시아': 4579, '급성': 4580, '불쌍하다': 4581, '잠봉': 4582, '만을': 4583, '이라곤': 4584, '고깃집': 4585, '찌꺼기': 4586, '혼내다': 4587, '휴일': 4588, '추어탕': 4589, '인걸': 4590, '찡그리다': 4591, '간전': 4592, '변치': 4593, '오이소박이': 4594, '다쿠아즈': 4595, '업그레이드': 4596, '버럭': 4597, '횡설수설': 4598, '슈크림': 4599, '인위': 4600, '퇴장': 4601, '고추가': 4602, '여친': 4603, '물통': 4604, '노미': 4605, 'ㄷㅔ': 4606, '맞팔': 4607, '맛스타': 4608, '더기': 4609, '반감': 4610, '생일케이크': 4611, '화포': 4612, '버진': 4613, '두렁': 4614, '거창하다': 4615, '그딴': 4616, '역쉬': 4617, '그린티': 4618, '단연': 4619, '에드': 4620, '맛잇게먹엇어용': 4621, '뽁음짬뽕': 4622, 'ㄹ': 4623, '로건': 4624, '장국밥': 4625, '눈팅': 4626, '조운': 4627, '고수': 4628, '뒷맛': 4629, '오렌': 4630, '상콤': 4631, '골다': 4632, '쫄깃하': 4633, '도크': 4634, '일치': 4635, '파노라마': 4636, '우드': 4637, '나누기': 4638, '로라': 4639, '마님': 4640, '이언': 4641, '사랑받다': 4642, '자격': 4643, '대야': 4644, '분잡': 4645, '기하': 4646, '유별나다': 4647, '다수': 4648, '과연': 4649, '질식': 4650, '예배': 4651, '간자장': 4652, '푸릇푸릇': 4653, '감각': 4654, '츄리': 4655, '펌킨': 4656, '베르츠슈페너': 4657, '살아나다': 4658, '이탈리안': 4659, '핵존맛': 4660, '달걀': 4661, '지정도': 4662, '프랜': 4663, '스폐셜': 4664, '애애박': 4665, '질퍽': 4666, '순수': 4667, '오금': 4668, '쇼바': 4669, '맑은': 4670, '수로': 4671, '쑤다': 4672, '설레다': 4673, '전혁안먹': 4674, '스테이': 4675, '가봒는데': 4676, '찬성': 4677, '마미': 4678, '올로': 4679, '잘맞다': 4680, '알싸하다': 4681, '지방': 4682, '원샷': 4683, '때렷': 4684, '캐다': 4685, '푸리': 4686, '펑점': 4687, '외지': 4688, '인주': 4689, '썅욕': 4690, '홍어': 4691, '삭히다': 4692, '암모니아': 4693, '흔': 4694, '하디': 4695, '상인': 4696, '평인': 4697, '내시': 4698, '껀데': 4699, '수만': 4700, '께서는': 4701, '면모': 4702, '똥맛': 4703, '베렸': 4704, '로이': 4705, '되었느': 4706, '화남': 4707, '거대하다': 4708, '공적': 4709, '저울': 4710, '믿음': 4711, '직월': 4712, '어기': 4713, '카운트': 4714, '안통함': 4715, '자동화': 4716, '능직': 4717, '안왓음음식맛': 4718, '티임': 4719, '맘껏': 4720, '또다시': 4721, '상권': 4722, '동료': 4723, '너므': 4724, '날아오다': 4725, '당장': 4726, '할게욤': 4727, '안넹': 4728, '개꿀맛': 4729, '녹진하다': 4730, '갓길': 4731, '벆': 4732, '지수': 4733, '믹스': 4734, '제임스': 4735, '중인': 4736, '양적': 4737, '음곱': 4738, '막걸리': 4739, '뿌': 4740, '건천': 4741, '찰보리': 4742, '뚜벅': 4743, '일몰': 4744, '불곡집': 4745, '뽑히다': 4746, '서두르다': 4747, '마나': 4748, '실장': 4749, '본래': 4750, '나야': 4751, '물냉비냉': 4752, '왜냐면': 4753, '파트': 4754, '이시고': 4755, '리모': 4756, '공수': 4757, '쩌주셔': 4758, '초코케익': 4759, '보더': 4760, '쇼뷰': 4761, '송년회': 4762, '요로': 4763, 'ㅜㅎ': 4764, '동해': 4765, '상하이': 4766, '카포네': 4767, '평상시': 4768, '형평성': 4769, '몽글하다': 4770, '파운드': 4771, '완비': 4772, '뒈': 4773, '땡': 4774, '미더덕': 4775, '즐': 4776, '다투다': 4777, '상륙': 4778, '가십': 4779, '사담': 4780, '불쑥': 4781, '인스턴트': 4782, '우우': 4783, '웃': 4784, '빙기': 4785, '마이너': 4786, '코스트코': 4787, '그릭': 4788, '성안': 4789, '곡': 4790, '스킵': 4791, '추움': 4792, '샷추가할': 4793, '부쉬': 4794, '박살': 4795, '교만하다': 4796, '순로롭': 4797, '끄덕': 4798, '홱': 4799, '계심': 4800, '뛰어나다': 4801, '치레': 4802, '집돈값': 4803, '완두콩': 4804, '경악': 4805, '단정하다': 4806, '산발': 4807, '미남': 4808, '물잔': 4809, '보이차': 4810, '팅기다': 4811, '일찍이': 4812, '천백원': 4813, '넣어쥬길': 4814, '안느': 4815, '세네': 4816, '하얀색': 4817, '었어': 4818, '텐카스': 4819, '지루하다': 4820, '험악하다': 4821, '조성': 4822, '시커멓다': 4823, '탕슝': 4824, '화교': 4825, '라선': 4826, '야간': 4827, '코코아': 4828, '색비': 4829, '스무': 4830, '취한': 4831, '슬하': 4832, '견디다': 4833, '시어머니': 4834, '맛사지': 4835, '감사헤': 4836, '송시': 4837, '구비': 4838, '집안': 4839, '푼': 4840, '잡초': 4841, '무성': 4842, '어도': 4843, '통일': 4844, '어스시': 4845, '즙': 4846, '고여': 4847, '그람': 4848, '게리': 4849, '순서도': 4850, '만치': 4851, '집맛': 4852, '소자': 4853, '앞뒤': 4854, '잠기다': 4855, '답글': 4856, '병명': 4857, '비명': 4858, '떠보다': 4859, '덜렁': 4860, '가신': 4861, '조롱': 4862, '퍼먹다': 4863, '제거': 4864, '팔공산': 4865, '우월하다': 4866, '충무': 4867, '니드': 4868, '닥치': 4869, '회양': 4870, '안갈껍니': 4871, '에다가': 4872, '놨더군': 4873, '진즉': 4874, '미지': 4875, '클라우드': 4876, '달막': 4877, '가짜': 4878, '금비': 4879, '탕수': 4880, '품다': 4881, '붐볏': 4882, '맛낫': 4883, '주눅': 4884, '인근': 4885, '그레이': 4886, '티니': 4887, '무었': 4888, '루니': 4889, '흐뭇하다': 4890, '마늘빵': 4891, '브레이': 4892, '킹': 4893, '따닥': 4894, '레몬에이드': 4895, '쥐다': 4896, '반올림': 4897, '치매': 4898, '놈': 4899, '불쑈': 4900, '할까말까': 4901, '모질라': 4902, '지애': 4903, '슬러시': 4904, '목련': 4905, '피어': 4906, '날때': 4907, '간장쏘스': 4908, '마구마구': 4909, '궁극': 4910, '공카이': 4911, 'ㅠㅠㅋ': 4912, '모기': 4913, '쫄쫄': 4914, '큼지막하다': 4915, '셋팅된것': 4916, '넉': 4917, '꿀맛또': 4918, '생딸': 4919, '꾸덕꾸덕': 4920, '풀어지다': 4921, '엠': 4922, '플로렌스': 4923, '사무실': 4924, '괴롭히다': 4925, '집착': 4926, '홍당무': 4927, '무산': 4928, '신령': 4929, '애니매이션': 4930, '이누야샤': 4931, '조급': 4932, '우울': 4933, '조울증': 4934, '싸이코패스': 4935, '스라이': 4936, '원망': 4937, '불평': 4938, '원불교': 4939, '좃': 4940, '즈음': 4941, '소닌': 4942, '특별나다': 4943, '소소하다': 4944, '팩': 4945, '연근': 4946, '화로': 4947, '기기': 4948, '건네다': 4949, '편물': 4950, '띠용': 4951, '석남': 4952, 'ㅎㅋ': 4953, '떡진': 4954, '찐빵': 4955, '붐': 4956, '리만': 4957, '빨다': 4958, 'ㅠㅡ': 4959, '큰집': 4960, '욯': 4961, '냄비': 4962, '토막': 4963, '사만원': 4964, '제주도': 4965, '안배': 4966, '곰탕': 4967, '건조하다': 4968, '꽁꽁': 4969, '싸매다': 4970, '쇼컷': 4971, '옥금': 4972, '쫀쫀': 4973, '유저': 4974, '블컵': 4975, '등급': 4976, 'ㅔ': 4977, '할라피뇨등': 4978, '서나': 4979, '얼떨떨하다': 4980, '바르게': 4981, '늦추다': 4982, '딜': 4983, '고음': 4984, '평화롭다': 4985, '노려보다': 4986, '부용': 4987, '베이': 4988, '뒤집어지다': 4989, '태연하다': 4990, '상처': 4991, '떨어트린거': 4992, '분가': 4993, '독단': 4994, '남바': 4995, '완': 4996, '델꼬': 4997, '호바밤': 4998, '다별루임': 4999, '민족': 5000, '거짓': 5001, '저만큼': 5002, '깜깜': 5003, '나가야': 5004, '못함': 5005, '가바': 5006, '손꼽다': 5007, '스릉흐': 5008, '과육': 5009, '까르보주문': 5010, '분후오': 5011, '고안': 5012, '놓이다': 5013, '가주': 5014, '인식': 5015, '은장': 5016, '착후': 5017, '이참': 5018, '굿굿굿': 5019, '얙간': 5020, '목살스텍크': 5021, '내줘잉': 5022, '치렁치렁': 5023, '조마조마': 5024, '한술': 5025, '던지기': 5026, '기술': 5027, '간신히': 5028, '대학생': 5029, '석화': 5030, '옳다': 5031, '하내': 5032, '유니': 5033, '해동특밥': 5034, '혼밥족': 5035, '셀브': 5036, '얼씬': 5037, '고월': 5038, '개반': 5039, '인피니티': 5040, '킹마': 5041, '뜬금없이': 5042, '갑인': 5043, '하규': 5044, '못찍엇네': 5045, '땐꼬': 5046, 'ㅋㅇㅋ': 5047, '거대': 5048, 'ㅋㅋㅎ': 5049, '반기다': 5050, '톡톡': 5051, '빛': 5052, '격식': 5053, '낼겸': 5054, '끝장': 5055, '젤루': 5056, '넷': 5057, '콘센트': 5058, '거미줄': 5059, '찌들다': 5060, '찐득찐득': 5061, '업계': 5062, 'ㄱㄷㅎ': 5063, '설마': 5064, '내생': 5065, '어리석다': 5066, '임나': 5067, '음가': 5068, '말리': 5069, '고별': 5070, '마이너스': 5071, '백만': 5072, '숙지': 5073, '군기': 5074, '존댓말': 5075, '쓰라리다': 5076, '이여': 5077, '주중': 5078, '목요일': 5079, '어슬렁어슬렁': 5080, '사인': 5081, '인맥': 5082, '생전': 5083, '가계': 5084, '병주': 5085, '출력': 5086, '없읅꺼같': 5087, '조물': 5088, '평재': 5089, '년좀': 5090, '에그베네딕트': 5091, '심해': 5092, '단백': 5093, '존맛존맛': 5094, '최대한': 5095, '어처구니없다': 5096, '층층': 5097, '멀쩡하다': 5098, '앞머리': 5099, '소렌토': 5100, '자판기': 5101, '진절': 5102, '씻기다': 5103, '활용': 5104, '나나': 5105, '호주청정우': 5106, '묵고': 5107, '말제': 5108, '채용': 5109, '부쪽': 5110, '웍': 5111, '심빈': 5112, '설겆': 5113, '괜춘했던곳': 5114, '밥풀': 5115, '흔적': 5116, '로되': 5117, '앉은자리': 5118, '형식': 5119, '능력': 5120, '트레이닝복': 5121, '뽁음밥명': 5122, '야들야들': 5123, '용강': 5124, '진자': 5125, '전국구': 5126, '안온': 5127, '바캠': 5128, '영원하다': 5129, '불분명': 5130, '네네': 5131, '반주': 5132, '탄탄': 5133, '불맛나': 5134, '빡시다': 5135, '현명하다': 5136, '장만': 5137, '차례': 5138, '컨': 5139, '뭉처져': 5140, '돌파': 5141, '쾅': 5142, '텍로': 5143, '번복': 5144, '번거러움': 5145, '셧구': 5146, '고런': 5147, '치하': 5148, '고립': 5149, '고질': 5150, '만빵': 5151, '쇼핑': 5152, '알루미늄': 5153, '코르크': 5154, '떨떠름': 5155, '비웃다': 5156, '라따': 5157, '이탈리아': 5158, '삥': 5159, '거뭇거뭇': 5160, '특유': 5161, '장가': 5162, '주전': 5163, '체함': 5164, '힝힝': 5165, '양배추': 5166, '호쿠': 5167, '가젤': 5168, '들차다': 5169, '복돈차': 5170, '전완': 5171, '기상': 5172, '효못': 5173, '완죠': 5174, '공복': 5175, '진라면': 5176, '순하다': 5177, '퍼먹기': 5178, '처넌': 5179, '행복': 5180, '기후': 5181, '상도': 5182, '기안': 5183, '빵가루': 5184, '둘러대다': 5185, '화해': 5186, '함량': 5187, '빔': 5188, '착착': 5189, '촤라락': 5190, '카라': 5191, '나이스': 5192, '읎': 5193, '좀덜': 5194, '난도': 5195, '데이트비용': 5196, '당인': 5197, '아씨': 5198, '면상': 5199, '분땜': 5200, '꽃다발': 5201, '성품': 5202, '부제품': 5203, '한글': 5204, '으로서': 5205, '유성호': 5206, '블라썸': 5207, '포레스트': 5208, '인졍인졍': 5209, '지지': 5210, '깻잎': 5211, '포슬포슬': 5212, '넘사벽': 5213, '대학원생': 5214, '방일': 5215, '뒷문': 5216, '피시': 5217, '안녕': 5218, '뭣해': 5219, '도작': 5220, '일차': 5221, '설후': 5222, '올킬': 5223, '깃밥': 5224, '모짜렐라': 5225, '훈': 5226, '이쯤': 5227, '복분자': 5228, '구르다': 5229, '조화로움': 5230, '사육': 5231, '리을': 5232, '이응': 5233, '실화': 5234, '밀크': 5235, '하얀별': 5236, '겉바속쫀': 5237, '감별': 5238, '가안': 5239, '복': 5240, '잡히다': 5241, '상당': 5242, '포스': 5243, '스쿱': 5244, '아차': 5245, '출렁': 5246, '메아리': 5247, '유사하다': 5248, '인색하다': 5249, '아포가토': 5250, '이선': 5251, '배트': 5252, '새우젓': 5253, '두툼한': 5254, '쌈': 5255, '두도': 5256, '삼계': 5257, '댓': 5258, '강감': 5259, '지존': 5260, '초초': 5261, '초대형': 5262, '펑': 5263, '다처': 5264, '문안': 5265, '아숩음식': 5266, '전투': 5267, '노가리': 5268, '광광': 5269, '웩': 5270, '초등딸': 5271, '증상': 5272, '핸드솝': 5273, '이솝': 5274, '스테인레스': 5275, '유비': 5276, '인건비': 5277, '유지비': 5278, '당당하다': 5279, '에티튜드신': 5280, '경로': 5281, '오류': 5282, '어쨌건': 5283, '거셨는데': 5284, '거세': 5285, '돈벌이': 5286, '팔고': 5287, '빵점': 5288, '임신': 5289, '줄선끝': 5290, '오르락내리락': 5291, '금도': 5292, '차디차다': 5293, '시멘트': 5294, '조밀하다': 5295, '얼룩지다': 5296, '연출': 5297, '손수': 5298, '마넌': 5299, '게뭐': 5300, '차가워지다': 5301, '벼르': 5302, '쩜그랫': 5303, '치가': 5304, '스팟': 5305, '분지': 5306, '노량진': 5307, '리보': 5308, '다양': 5309, '우럭': 5310, '금구': 5311, '금위': 5312, '도키': 5313, '마저도': 5314, '닥치고': 5315, '쌍욕': 5316, '딜해': 5317, '쯔유소스': 5318, '한간': 5319, '책임': 5320, '수십': 5321, '묵묵하다': 5322, '우리동네': 5323, '자장': 5324, '업주': 5325, '안닌가': 5326, '소란하다': 5327, '닉네임': 5328, '시무룩하다': 5329, '쩔': 5330, '리라': 5331, '전라도': 5332, '경상도': 5333, '후라이드': 5334, '이확': 5335, '폐점': 5336, '즉석요리': 5337, '농담': 5338, '여름철': 5339, '올린다': 5340, '나타나다': 5341, '푸릇': 5342, '찜찜': 5343, '밤새다': 5344, '한심하다': 5345, '후진': 5346, '입차': 5347, '들이밀다': 5348, '잡탕': 5349, '뷰맛': 5350, '용어': 5351, '도해': 5352, 'ㅂㅈㄷㄱㅅ': 5353, '영리': 5354, '티남': 5355, '반도': 5356, '반의': 5357, '시어': 5358, '시판': 5359, '가성비랬': 5360, '목구멍': 5361, '콧구멍': 5362, '듐': 5363, '히레가츠': 5364, '아버님': 5365, '에스컬레이터': 5366, '미로찾기': 5367, '메세지': 5368, '어째': 5369, '처람': 5370, '잠바': 5371, '깔리다': 5372, '시체': 5373, '해외여행': 5374, '연초': 5375, '곳이쥬': 5376, '묵밥': 5377, '교점': 5378, '예식': 5379, '둘러싸이다': 5380, '무리다': 5381, '울면': 5382, '친하다': 5383, '말기': 5384, '부타동': 5385, '자취': 5386, '즣았어': 5387, '찹쌀': 5388, '깨보샤': 5389, '휴양지': 5390, '출장': 5391, '빗다': 5392, '보들보들하다': 5393, '아이쿠': 5394, '면개': 5395, '해돋이': 5396, '고래고기': 5397, '어리바리하다': 5398, '지켜보다': 5399, '한두어': 5400, '달려가다': 5401, '밥솥': 5402, '수라': 5403, '쇼케이스': 5404, '닫히다': 5405, '뽁음': 5406, '판단': 5407, '식판': 5408, '고아': 5409, '전세계': 5410, '쏠쏠하다': 5411, '탕슉': 5412, '여가': 5413, '복작복작': 5414, '구리구리': 5415, '간절': 5416, '맛맀어보': 5417, '돈가쓰': 5418, '라운지': 5419, '절실': 5420, '남동생': 5421, '사냥': 5422, '존맛뭘': 5423, '다비': 5424, '유일하다': 5425, '헉': 5426, '시급하다': 5427, '말로': 5428, '접합': 5429, '서간': 5430, '커뮤니케이션': 5431, '알림': 5432, '비밀번호': 5433, '씁쓸하다': 5434, '일드': 5435, '살점': 5436, '스페인': 5437, '적엇어': 5438, '답좀': 5439, '돈준': 5440, '햠': 5441, '왓는데': 5442, '바꼇': 5443, '도데': 5444, '맛잏': 5445, '쳣음': 5446, 'ㅊㅊㅊ': 5447, '통오징어': 5448, '세분': 5449, '체인': 5450, '얌전하다': 5451, '시더': 5452, '괴팍하다': 5453, '주르륵': 5454, '데넘': 5455, '탄탄하다': 5456, '받치다': 5457, '요물': 5458, '투명하다': 5459, '얼룩덜룩': 5460, '구재': 5461, '개사': 5462, '아만': 5463, '투닥거리': 5464, '수군수군': 5465, '혔': 5466, '해조류': 5467, '잔돌': 5468, '데빈': 5469, '해물짬뽕': 5470, '벗기다': 5471, '가왜': 5472, '적립': 5473, '비율': 5474, '장안': 5475, '웅장': 5476, '라가': 5477, '칸칸': 5478, '미끄럽다': 5479, '경향': 5480, '상쇄': 5481, '해쉬': 5482, '계란프라이': 5483, '싣다': 5484, '버젓이': 5485, '복구': 5486, '이도': 5487, '이류': 5488, '대만': 5489, '여권': 5490, '쨩쨩': 5491, '역할': 5492, '졸': 5493, '젤로': 5494, '주택가': 5495, '부근': 5496, '써버님': 5497, '휭': 5498, '중요시': 5499, '명색': 5500, '건들': 5501, '분란': 5502, '일으키다': 5503, '부도': 5504, '기왕': 5505, '이루다': 5506, '무질': 5507, '부산여행': 5508, '구도': 5509, '접근': 5510, '어려움': 5511, '뻔재': 5512, '론거': 5513, '순조': 5514, '스케일': 5515, '기음': 5516, '수전': 5517, '갠데': 5518, '교자': 5519, '개화': 5520, '어란': 5521, '불타다': 5522, '비결': 5523, '낮잠': 5524, '튿별': 5525, '매정하다': 5526, '비닐봉지': 5527, '탁탁': 5528, '마블링': 5529, '코스터': 5530, '세팅할': 5531, '꼬기': 5532, '불량하다': 5533, '마슨': 5534, '적기': 5535, '차투리': 5536, '빋': 5537, '불문': 5538, '배차': 5539, '배정은': 5540, '밸런스': 5541, '버': 5542, '무려': 5543, '색상': 5544, '띄다': 5545, '맛깔': 5546, '복불복': 5547, '대자': 5548, '시냐': 5549, '의아': 5550, '밍숭맹숭한': 5551, '화기': 5552, '애하': 5553, '벙문': 5554, '와르르': 5555, '크리미': 5556, '차이나다': 5557, '이보': 5558, '보상': 5559, '거액': 5560, '갑사': 5561, '오사카': 5562, '방운객': 5563, '어긋나다': 5564, '구운감자': 5565, '벗꽃': 5566, '달랫더': 5567, '달랫는데': 5568, '맙시': 5569, '확대': 5570, '인내심': 5571, '나타내다': 5572, '분비': 5573, '인력': 5574, '훈연맛': 5575, '부문': 5576, '변색': 5577, '업다': 5578, '창업': 5579, '햇습니': 5580, '현미': 5581, '왕새우': 5582, '터벅': 5583, '폭언': 5584, '맛았': 5585, '만면': 5586, '어쩜': 5587, '뚜기': 5588, '승질': 5589, '강약': 5590, '도자기': 5591, '이뽀': 5592, '구해': 5593, '하드': 5594, '돟았습니': 5595, '딘짜': 5596, '홈페이지': 5597, '깜몰': 5598, '컵라면': 5599, '허기지다': 5600, '언갈': 5601, '둣': 5602, '습니다': 5603, '열기': 5604, '자차': 5605, '호도': 5606, '까탈': 5607, '항목': 5608, '버튼': 5609, '도라방스': 5610, '방울': 5611, '멍하다': 5612, '쫄직쫄깃': 5613, '또감': 5614, '나가시': 5615, '조곤조곤': 5616, '설렁탕': 5617, '철수': 5618, '세미': 5619, '수세미': 5620, '즈그': 5621, '고서': 5622, '반짝': 5623, '비늘': 5624, '신속': 5625, '전가': 5626, '꼽주면': 5627, '랍니': 5628, '이열치열': 5629, '디시': 5630, '너저분하다': 5631, '줗': 5632, '스케이트장': 5633, '시나': 5634, '역다': 5635, '자년': 5636, '엏던': 5637, '돌기': 5638, '드립커피': 5639, '구심': 5640, '소스류': 5641, '삼해': 5642, '공존': 5643, '이벤': 5644, '인정식': 5645, '맹맛': 5646, '홀쪽': 5647, '거덜': 5648, '퐝퐝': 5649, '어유': 5650, '뉴얼': 5651, '뒷날': 5652, '앵거스': 5653, '천국': 5654, '느꼇': 5655, '준밥': 5656, '멀겋': 5657, '부산스럽다': 5658, '머진': 5659, '구관': 5660, '명관': 5661, '저수': 5662, '갑작스레': 5663, '발암': 5664, '짜내다': 5665, '자부심': 5666, '쇠고기': 5667, '또왔는딩': 5668, '긁혔는데': 5669, '아라비아': 5670, '생으로': 5671, '상전': 5672, '남목': 5673, '이별': 5674, '우디': 5675, '인톄리아': 5676, '트러클': 5677, '땨': 5678, '반절': 5679, '기웃': 5680, '살생': 5681, '선조': 5682, '번벅': 5683, '단조': 5684, '쩔다': 5685, '모라': 5686, '미라': 5687, '만웡': 5688, '토탈': 5689, '부추기다': 5690, '상함': 5691, '이신가': 5692, '시조': 5693, '그야말로': 5694, '뭡': 5695, '최선': 5696, '자몽주스': 5697, '연령': 5698, '오름': 5699, '폰': 5700, '사적': 5701, '잘쓰다': 5702, '공유': 5703, '명여': 5704, '성명': 5705, '범위': 5706, '자매': 5707, '매뉴판': 5708, '사시': 5709, '사철': 5710, '평수': 5711, '요것': 5712, '과의': 5713, '괜찮넹': 5714, '데리야끼': 5715, '치킨라이스': 5716, '망정': 5717, '스끼값': 5718, '한다해': 5719, '거절': 5720, '거때매': 5721, '대왕': 5722, '입문': 5723, '만남': 5724, '지게': 5725, '전어': 5726, '알파': 5727, '발도': 5728, '질감': 5729, '쿵쿰': 5730, '요미': 5731, '섭외': 5732, '팔지': 5733, '부엌': 5734, '남구': 5735, '구만원': 5736, '성과': 5737, '미흡': 5738, '아사히': 5739, '떫': 5740, '대체재': 5741, '족함': 5742, '명촌': 5743, '매끄럽다': 5744, '불켜': 5745, '외적': 5746, '짐작': 5747, '킬러': 5748, '넋': 5749, '큰아들': 5750, '학년': 5751, '동인동': 5752, '알갱이': 5753, '자작하다': 5754, '가마솥': 5755, '쥼맛탱': 5756, '참으로': 5757, '각색': 5758, '의거': 5759, '담임': 5760, '함재': 5761, '똭': 5762, '입자': 5763, '보라카이': 5764, '흉내': 5765, '복도': 5766, '빼기': 5767, '빼곤': 5768, '막창': 5769, '널글': 5770, '초콜렛': 5771, '글레이': 5772, '어우려져': 5773, '숙련': 5774, '생맥주': 5775, '문수': 5776, '저물다': 5777, '디자인': 5778, '쵸': 5779, '삼삼오오': 5780, '의도': 5781, '벌금': 5782, '속눈썹': 5783, '부대끼다': 5784, '정해준': 5785, '두번쨰': 5786, '봉골레맛': 5787, '가리다': 5788, '상치': 5789, '까운': 5790, '일주': 5791, '포도': 5792, '와듀': 5793, '존맛입니댜': 5794, '라만': 5795, '노답': 5796, '누무넌': 5797, '무무': 5798, '기지': 5799, '테러': 5800, '향해': 5801, '아르바이트생': 5802, '타도': 5803, '먹어볼껄': 5804, '명정': 5805, '사악': 5806, '이제껏': 5807, '윙': 5808, '대지': 5809, '칸': 5810, '깨끗': 5811, '소코동': 5812, '참돔': 5813, '돋보이다': 5814, '오붓하다': 5815, '낯설다': 5816, '전형': 5817, '낚었어': 5818, '핫해': 5819, '스토리': 5820, '꽃장식': 5821, '왕성': 5822, '접촉': 5823, '체온계': 5824, '이인': 5825, '이아': 5826, '백가': 5827, '첨으로': 5828, '탁음': 5829, '유산슬': 5830, 'ㅇㅔ': 5831, '처제': 5832, '발가락': 5833, '나대다': 5834, '릿': 5835, '네오': 5836, '준곳': 5837, '팁': 5838, '어감': 5839, '깨끗해지다': 5840, '락교': 5841, '손잡이': 5842, '회의': 5843, '비만': 5844, '사주다': 5845, '지끈': 5846, '거립니': 5847, '떨구다': 5848, '브금': 5849, '엣헴저희': 5850, '복숭아': 5851, '구달': 5852, '첫픽': 5853, '깃': 5854, '임재': 5855, '오른': 5856, '오든': 5857, '손까락': 5858, '밀다': 5859, '은행': 5860, '풀북': 5861, '나머진': 5862, '울땋': 5863, '간의': 5864, '흠잡다': 5865, '티나': 5866, '헤어': 5867, '특일식': 5868, '두통': 5869, '테이블자리': 5870, '뭐징': 5871, '음맛': 5872, '오이만': 5873, '듬': 5874, '기물': 5875, '바지': 5876, '쌓다': 5877, '빳빳해': 5878, '수월하다': 5879, '껄렁껄렁': 5880, '명과': 5881, '난감': 5882, '설거지': 5883, '아슬아슬하다': 5884, '폭립': 5885, '퍽퍽해': 5886, '맛잉': 5887, '뒤쪽': 5888, '부딫히': 5889, '구두': 5890, '갸꿀맛': 5891, '재빠르다': 5892, '주장': 5893, '시집가다': 5894, '커비': 5895, '화학': 5896, '약품': 5897, '핑거': 5898, '퀵': 5899, '황새치': 5900, '부리': 5901, '편리': 5902, '성도': 5903, '건징': 5904, '로시': 5905, '규정': 5906, '허니': 5907, '짜져': 5908, '스톤': 5909, '왓어': 5910, '빠져나가다': 5911, '마이': 5912, '올인': 5913, '위기': 5914, '지출': 5915, '우육': 5916, '간덴데': 5917, '지유': 5918, '난하다': 5919, '치명': 5920, '가다피': 5921, '꺙너무': 5922, '피똥쌈': 5923, '죽음': 5924, '한진': 5925, '이어지다': 5926, '활성화': 5927, '재후': 5928, '더군다나': 5929, '채킅': 5930, '고봉': 5931, '골레': 5932, '빵트': 5933, '다애': 5934, '공부': 5935, '임신부': 5936, '철판': 5937, '인과': 5938, '멍하니': 5939, '더구나': 5940, '토렴식': 5941, '미묘하다': 5942, '노상': 5943, '갯수': 5944, '신용카드': 5945, '복잡': 5946, '섭섭하다': 5947, '북경': 5948, '여태껏': 5949, '카라멜': 5950, '마끼아또': 5951, '한웅': 5952, '텐통': 5953, '부자': 5954, '멈추다': 5955, '붙이': 5956, '슉': 5957, '나빳을텐데': 5958, '휙휙': 5959, '윰차': 5960, '울주군': 5961, '음모': 5962, '오직': 5963, '가구점': 5964, '찰밥': 5965, '손색': 5966, '후방': 5967, '문추': 5968, '커피점': 5969, '방갈로': 5970, '분분': 5971, '고추기름': 5972, '쌉싸름하다': 5973, '굴소스': 5974, '기반': 5975, '스튜': 5976, '인절미': 5977, '흰밥': 5978, '주기': 5979, '단층': 5980, '임박': 5981, '식이': 5982, '차리기': 5983, '차려': 5984, '뜰때': 5985, '이외': 5986, '보호': 5987, '이드를': 5988, '웅얼': 5989, '알아듣다': 5990, '빅': 5991, '익스': 5992, '그네': 5993, '틱': 5994, '답안': 5995, '위험': 5996, '벙어리': 5997, '원형': 5998, '버티다': 5999, '집들이': 6000, '물속': 6001, '쭝멀뚱': 6002, '과를': 6003, '엎었습니': 6004, '엎는건': 6005, '흠뻑': 6006, '페스티벌': 6007, '템': 6008, '두유': 6009, 'ㅋㅎㅎ': 6010, '소심하다': 6011, '내껀': 6012, '화장': 6013, '저저': 6014, '회하': 6015, '워스트': 6016, '유통기간': 6017, '일자': 6018, '냉장': 6019, '참배': 6020, '랜치': 6021, '요식업': 6022, '상향': 6023, '평준화': 6024, '냉장고': 6025, '부시': 6026, '까쯔오': 6027, '따위': 6028, '키페': 6029, '미애': 6030, '성질': 6031, '권해': 6032, '구갈': 6033, '헤맷': 6034, '에부터': 6035, '낭비하다': 6036, '결여': 6037, '단어': 6038, '압축': 6039, '왠지': 6040, '살찌다': 6041, '의정부': 6042, '생기': 6043, '편조': 6044, '평시': 6045, '새끼': 6046, '판도': 6047, '명령': 6048, '비창': 6049, '오그': 6050, '액션': 6051, '식겁하다': 6052, '안대': 6053, '쫀득해': 6054, '듬뿍이': 6055, '운맛': 6056, '사십분': 6057, '골치': 6058, '얼렁뚱땅': 6059, '때우다': 6060, '장방': 6061, '고치': 6062, '이도우': 6063, '왓습': 6064, '스려웠': 6065, '시끌시끌하다': 6066, '퍼먹': 6067, '화이트소스': 6068, '마음대로': 6069, '포스팅': 6070, '삐걱': 6071, '개전': 6072, '번안': 6073, '콕': 6074, '찾아다니다': 6075, '카르': 6076, '토초': 6077, '강추뷰': 6078, '땡초': 6079, '놨': 6080, '태화동': 6081, '아오': 6082, '유통': 6083, '기한': 6084, '선입선출': 6085, '안전': 6086, '달리다': 6087, '즹': 6088, '생돈': 6089, '협소하': 6090, '달기': 6091, '예뿜': 6092, '널찍': 6093, '운빨': 6094, '달라붙다': 6095, '꼬수운향': 6096, '쫄깃쫄깃햇서': 6097, '먹었슴미': 6098, '감시': 6099, '프라임': 6100, '지지다': 6101, '제적': 6102, '첫경험': 6103, '호기심': 6104, '멋대로': 6105, '생활': 6106, '스마트폰': 6107, '원상': 6108, '강도': 6109, '황': 6110, '연하': 6111, '반대쪽': 6112, '찌질하다': 6113, '여유도': 6114, '이성': 6115, '달래': 6116, '또말': 6117, '직딩': 6118, '만드나': 6119, '화만': 6120, '민물장어': 6121, '통채': 6122, '한판': 6123, '눈살': 6124, '환경부': 6125, '온기': 6126, '갇': 6127, '진해': 6128, '밭길': 6129, '브륄레': 6130, '좋앙': 6131, '쏜살같다': 6132, '총동원': 6133, '어딨다': 6134, '퍼썩': 6135, 'ㅇㄱ': 6136, '창공': 6137, '부인': 6138, '부리다': 6139, '달그락': 6140, '용뷰': 6141, '릿값': 6142, '롱': 6143, '엄창': 6144, '낭비': 6145, '구역질': 6146, '져서': 6147, '디져트': 6148, '울림': 6149, '뚱뚱하다': 6150, '겟죵': 6151, '여행지': 6152, '강동': 6153, '몽돌': 6154, '맛입': 6155, '유부도': 6156, '장황하다': 6157, '쫄깃쫄깃보쌈': 6158, '에스프레소': 6159, '요컨대': 6160, '목적': 6161, '서민': 6162, '기프티콘': 6163, '거피': 6164, '불필요하다': 6165, '헛튼시간': 6166, '정화조': 6167, '간날': 6168, '대감': 6169, '느꼇고불': 6170, '쌀쌀': 6171, '박다': 6172, '해감': 6173, '글티': 6174, '하겟습니': 6175, '레전드': 6176, '쥑': 6177, '존나': 6178, '누굴': 6179, '검토': 6180, '소름': 6181, '끼치다': 6182, '룸들': 6183, '동명이인': 6184, '고등어': 6185, '몰랏다': 6186, '랏': 6187, '면전': 6188, '마소': 6189, '비극': 6190, '정자동': 6191, '자잘하다': 6192, '차림새': 6193, '문건': 6194, '활짝': 6195, '혐': 6196, '욕합': 6197, '디다': 6198, '건강검진': 6199, '복은': 6200, '삐': 6201, '분덕': 6202, '돌변': 6203, '시렁': 6204, '몽땅': 6205, '악담': 6206, '퍼붓다': 6207, '빡빡': 6208, '찻물': 6209, '홀릭': 6210, '끌리다': 6211, '담번': 6212, '엄빠': 6213, '아이고': 6214, '들고나다': 6215, '참숯': 6216, '재는': 6217, '사극': 6218, '약재': 6219, '소량': 6220, '무거워': 6221, '특출하다': 6222, '돗데': 6223, '다운타운': 6224, '중심': 6225, '헛되': 6226, '밀리': 6227, '쯔유': 6228, '도스': 6229, '옥동': 6230, '색갈': 6231, '궁굼': 6232, '갈때즘': 6233, '입안텁텁': 6234, '양치질': 6235, '쩍': 6236, '식품': 6237, '사탕': 6238, '색소': 6239, '큼직하다': 6240, '길목': 6241, '헬입니': 6242, '텐트': 6243, '첫인상': 6244, '줄알': 6245, 'ㅋㅋㅋㄱㅋ': 6246, '창피해': 6247, '글쿠': 6248, '맛도글쿠': 6249, '개포': 6250, 'ㅡㅅㅡ': 6251, '카피': 6252, '일산화탄소': 6253, '찌그러지다': 6254, '억지': 6255, '간포': 6256, '대들다': 6257, '어무': 6258, '조그마하다': 6259, '고다': 6260, '어우': 6261, '집애': 6262, '아주아주': 6263, '찿으신다': 6264, '핫플레스': 6265, '혹사': 6266, '깝': 6267, '망실': 6268, '싼마이': 6269, '선거날': 6270, '어우르다': 6271, '씬피자': 6272, '등뿍등뿍': 6273, '만세': 6274, '삭이다': 6275, '노심초사': 6276, '에게다': 6277, '에게만': 6278, '그림자': 6279, '만팔': 6280, '생깃': 6281, '자수정': 6282, '동굴': 6283, '페트': 6284, '땡볕': 6285, '쫓아내다': 6286, '등본': 6287, '민원': 6288, '재치': 6289, '노질': 6290, '비스마르크': 6291, '포밍라떼': 6292, '힘들엇어': 6293, '콩나물국': 6294, '건국': 6295, '못자다': 6296, '들락날락': 6297, '회신': 6298, '선도': 6299, '개불': 6300, '리하나': 6301, '매스': 6302, '당원': 6303, '카야': 6304, '프레첼': 6305, '홍대': 6306, '몰이': 6307, '토핑많': 6308, '펩시': 6309, '길쭉하다': 6310, '차림': 6311, '세요': 6312, '터키': 6313, '외다': 6314, '겟오랜': 6315, '딘': 6316, '은감': 6317, '소듕': 6318, '회값': 6319, '플라스틱': 6320, '자국': 6321, '번잡': 6322, '설렁': 6323, '쫀득쫀득': 6324, '기별': 6325, '남자라면': 6326, '딸램': 6327, '데또': 6328, '퍽': 6329, '조음': 6330, '껍': 6331, '명부': 6332, '적정': 6333, '돛떼': 6334, '밋': 6335, '있다뇨': 6336, '찔끔': 6337, '삼산': 6338, '상품': 6339, '갸또': 6340, '청라': 6341, '습보': 6342, '싱': 6343, '밤밥': 6344, '섴': 6345, '역주행': 6346, '작업': 6347, '굉징히': 6348, '버젓히': 6349, '대강': 6350, '몰상식하다': 6351, '으로라도': 6352, '책임지다': 6353, '습하다': 6354, '잘먹엇습니': 6355, '오심': 6356, '중앙': 6357, '산나': 6358, '늠달늠달으': 6359, '물리': 6360, '랜드마크': 6361, '질적': 6362, '아바': 6363, '꽈베기': 6364, '그만하다': 6365, '중순': 6366, '특별': 6367, '넘김': 6368, '분동': 6369, '값지다': 6370, '곳것': 6371, '상실': 6372, '효늘': 6373, '아이맥스': 6374, '신신당부': 6375, '옶': 6376, '뼤': 6377, '침묵': 6378, '요점': 6379, '의기': 6380, '투합': 6381, '앞당기다': 6382, '미련': 6383, '발렛': 6384, '파킹': 6385, '개그': 6386, '쫀딕쫀딕해': 6387, '요음': 6388, '보리밥': 6389, '수요': 6390, '더워지다': 6391, '핏자': 6392, '핫도그': 6393, '트렸': 6394, '생겻다해': 6395, '인권': 6396, '휘적거리다': 6397, '무리하다': 6398, '찢다': 6399, '배하': 6400, '딩동벨': 6401, '잖다': 6402, '대리석': 6403, '긴머리': 6404, '훈제': 6405, '인공': 6406, '곧장': 6407, '서양': 6408, '수욜': 6409, '얼룩': 6410, '터미널': 6411, '초월': 6412, '창고': 6413, '쓰레기봉투': 6414, '살펴보다': 6415, '쇠': 6416, '파이프': 6417, '말통': 6418, '다각': 6419, '톤': 6420, '시티': 6421, '일월': 6422, '주도': 6423, '파채': 6424, '잎': 6425, '회덮밥': 6426, '언젠가': 6427, '들엇어': 6428, '러버': 6429, '눈가': 6430, '아웅': 6431, '워킹': 6432, '쥬시': 6433, '출처': 6434, '빼심': 6435, '요왕': 6436, '감언': 6437, '마구잡이': 6438, '금일': 6439, '가림': 6440, '정착': 6441, '본이름': 6442, '뾰족': 6443, '찰': 6444, '질척하다': 6445, '리도': 6446, '비슷비슷': 6447, '나가사키': 6448, '기울다': 6449, '단물': 6450, '슴': 6451, '꿀타래': 6452, '치네다': 6453, '야바위': 6454, '꾼': 6455, '장사꾼': 6456, '조작': 6457, '관': 6458, '곳밤': 6459, '이십여': 6460, '구영': 6461, '중국음식': 6462, '시시': 6463, '때때로': 6464, '짜증스럽다': 6465, '갸우뚱': 6466, '코웃음': 6467, '억울하다': 6468, '푸욱': 6469, '직물': 6470, '가렵기': 6471, '반신반의': 6472, '언니네': 6473, '뿜뿜입니': 6474, '말년': 6475, '유선장': 6476, '연달': 6477, '안질리다': 6478, '납작하다': 6479, '국자': 6480, '명명': 6481, '스크림': 6482, '떡하니': 6483, '토나오다': 6484, '치약': 6485, '대위': 6486, '유모차': 6487, '지아': 6488, '지자기': 6489, '속닥거리다': 6490, '먼산': 6491, '훑다': 6492, '구글': 6493, '거르': 6494, '런치식사': 6495, '나물': 6496, '뚤리': 6497, '호화롭다': 6498, '웰던이러': 6499, '맛있엇어용': 6500, '또르르': 6501, '나유': 6502, '천화': 6503, '함정': 6504, '술집': 6505, '스콘': 6506, '르보': 6507, '쓸데없다': 6508, '아쥬': 6509, '웰': 6510, '게판': 6511, '자포자기': 6512, '다스리다': 6513, '아트': 6514, '천차만별': 6515, '무값': 6516, '수급': 6517, '도명': 6518, '양좀': 6519, '곗돈': 6520, '드쉬': 6521, '라이스': 6522, '켁투스페탈': 6523, '인일때': 6524, '아우': 6525, '훨낫다': 6526, '여파': 6527, '은피': 6528, '완판된건': 6529, '장보고': 6530, '얼리다': 6531, '올리브오일': 6532, '채다': 6533, '낼': 6534, 'ㅋㅎㅋㅎ': 6535, '푸대접': 6536, '좌절': 6537, '귀신': 6538, '짭잘하다': 6539, '헤메': 6540, '관리인': 6541, '무오': 6542, '비쌋구요대': 6543, '증세': 6544, '달이': 6545, '윤기': 6546, '호프': 6547, '말고도': 6548, '살피': 6549, '초라하다': 6550, '부파': 6551, '끝임': 6552, '조그만': 6553, '냉정하다': 6554, '최대': 6555, '음개': 6556, '전인': 6557, '닥치다': 6558, '절하': 6559, '좔좔': 6560, '평행': 6561, '송정': 6562, '파니니': 6563, '샘플러': 6564, '짝꿍': 6565, '출발': 6566, '하사': 6567, '정의': 6568, '자알': 6569, '인연': 6570, '깐깐하다': 6571, '눅눅': 6572, '안계': 6573, '찰기': 6574, '설익다': 6575, '유로': 6576, '공신': 6577, '고정': 6578, '브루게': 6579, '반적': 6580, '필요성': 6581, '시궁창': 6582, '남명': 6583, '퍽퍽짬': 6584, '김안': 6585, '투리': 6586, '커버': 6587, '신세계': 6588, '고배': 6589, '츄': 6590, '로스': 6591, '오오오': 6592, '개돼지': 6593, '지사': 6594, '이래도': 6595, '자만하다': 6596, '둔하다': 6597, '빼빼로데이': 6598, '빼빼로': 6599, '이베니': 6600, '탱글탱글하다': 6601, '예여': 6602, '헬': 6603, '마팔디네': 6604, '꼬불': 6605, '배김': 6606, '앗벡': 6607, '놀랍다': 6608, '완성': 6609, '삐쭉': 6610, '런치메뉴': 6611, '고유': 6612, '처지다': 6613, '불친': 6614, '철인': 6615, '사성': 6616, '이딴': 6617, '면빨': 6618, '감임': 6619, '락카': 6620, '식육': 6621, '오천원': 6622, '래지': 6623, '개별': 6624, '메시지': 6625, '맹맹하다': 6626, '섞박지': 6627, '감덩': 6628, '프라이': 6629, '중일': 6630, '노쇼': 6631, '되레': 6632, '압도': 6633, '아우성': 6634, '뜨내기': 6635, '가원': 6636, '부러': 6637, '칠리소스': 6638, '앞두다': 6639, '찰나': 6640, '소갈비찜': 6641, '구욷구욷': 6642, '확장': 6643, '은줄': 6644, '덜덜': 6645, '떨리다': 6646, '셨': 6647, '땡땡': 6648, '장보': 6649, '각성': 6650, '드감': 6651, 'ㄷㄷㄷ': 6652, '마쉿었어용': 6653, '햄': 6654, 'ㄷㄷ': 6655, '사보다': 6656, '퀼리티': 6657, '늘어서다': 6658, '농민': 6659, '몇바퀼': 6660, '도라도': 6661, '달라졋': 6662, '달랏': 6663, '빠져나오다': 6664, '애둘': 6665, '방으러': 6666, '분대기': 6667, '람다': 6668, '묻히다': 6669, '비츄예약': 6670, '윽': 6671, '나왓나봐': 6672, '배회': 6673, '앉았더랫': 6674, '드넓다': 6675, '갈라': 6676, '뻣': 6677, '코드': 6678, '체온': 6679, '측정': 6680, '고투': 6681, '움바': 6682, '다이스': 6683, '죄인': 6684, '독하다': 6685, '발길': 6686, '줌맛': 6687, '커리': 6688, '객': 6689, '무니': 6690, '책정': 6691, '기적': 6692, '마산': 6693, '완전하다': 6694, '함성': 6695, '사원': 6696, '바삐': 6697, '일해': 6698, '이런저런': 6699, '냉방': 6700, '플사': 6701, '람': 6702, '신맛': 6703, '줄스는데': 6704, '다음주': 6705, '드럼통': 6706, '원도': 6707, '린정': 6708, '주인공': 6709, '사정': 6710, '날치': 6711, '물씬': 6712, '산이': 6713, '내려다보다': 6714, '야들야들하다': 6715, '예매': 6716, '거가': 6717, '시라': 6718, '예얍해': 6719, '주머니': 6720, '장노': 6721, '그닥엥간하먄': 6722, '진쨔': 6723, '맘에듭니': 6724, '질럿다': 6725, '탈것': 6726, '그만두다': 6727, '첫마디': 6728, '쌍둥이': 6729, '제어': 6730, '홀안': 6731, '지랄': 6732, '후배': 6733, '인셋트': 6734, '확보': 6735, '번드르르': 6736, '정결': 6737, '매정': 6738, '사근사근하다': 6739, '영상': 6740, '똑똑하다': 6741, '에서처럼': 6742, '료': 6743, '입출': 6744, '유의': 6745, '꽂히다': 6746, '알려지다': 6747, '녀석': 6748, '이듬': 6749, '알바인': 6750, '더맘에듬': 6751, '발목': 6752, '시리다': 6753, '놓아두다': 6754, '와인잔': 6755, '조굼': 6756, '바나나': 6757, '누텔라': 6758, '입력': 6759, '세아': 6760, '아이거': 6761, '키라': 6762, '초딩': 6763, '멋쩍': 6764, '기어': 6765, '자시다': 6766, '답함': 6767, '목격': 6768, '아랐다': 6769, '혈압': 6770, '그룹': 6771, '번꼴': 6772, '수제비': 6773, '력': 6774, '앵무새': 6775, '갚다': 6776, '묵상': 6777, '곳맵': 6778, '첫날': 6779, '배속': 6780, '도토리묵': 6781, '슴슴': 6782, '아메리카': 6783, '노리': 6784, '콕콕': 6785, '쫍쫍': 6786, '동영상': 6787, '방쪽': 6788, '밨': 6789, '내자': 6790, '단말기': 6791, '교육청': 6792, '와글와글': 6793, '강제': 6794, '살피다': 6795, '방관': 6796, '유창하다': 6797, '피즈': 6798, '본의': 6799, '고래고래': 6800, '나단': 6801, '모락모락': 6802, '꼬소하': 6803, '관계': 6804, '흥': 6805, '청도': 6806, '들럿네': 6807, '런치예약': 6808, '수명': 6809, 'ㅇㅏ': 6810, '녘': 6811, '항': 6812, '목도': 6813, '아로마': 6814, '감흥': 6815, '뿌셨': 6816, '푸파': 6817, '쌩하다': 6818, '저쪽': 6819, '물좀': 6820, '물주': 6821, '징창': 6822, '요렇게': 6823, '자라': 6824, '았': 6825, '임산부': 6826, '페인만': 6827, '리타': 6828, '꼬소했어': 6829, '시타': 6830, '루즈': 6831, '뭍': 6832, '민감하다': 6833, '한강': 6834, '잇몸': 6835, '지내다': 6836, '대가족': 6837, '염려': 6838, '뉴욕': 6839, '발걸음': 6840, '재교육': 6841, '누적': 6842, '자식': 6843, '방분하다': 6844, '월급': 6845, '이애': 6846, '제나': 6847, '평창': 6848, '누렇': 6849, '바리스타': 6850, '커다랗다': 6851, '견우': 6852, '직녀': 6853, '왓네': 6854, '촘촘하': 6855, '읽히다': 6856, '사용승인': 6857, '승인': 6858, '케이스': 6859, '원인': 6860, '라사': 6861, '일렬': 6862, '섭스': 6863, '곳임': 6864, '더럽히다': 6865, '명못': 6866, '고성': 6867, '인명': 6868, '깜끔': 6869, '연락처': 6870, '가맹': 6871, '안떨어지다': 6872, '상대': 6873, '초도': 6874, '시선': 6875, '회수': 6876, '반면': 6877, '굴찜': 6878, '슴슴하': 6879, '덤덤': 6880, '어쩌다': 6881, '는데': 6882, '빠짝': 6883, '타로': 6884, '대반': 6885, '예감': 6886, '퐉퐉': 6887, '거즘': 6888, '줄줄이': 6889, '종잇장': 6890, '문화': 6891, '불모': 6892, '허영': 6893, '토마토소스': 6894, '미나리': 6895, '머리털': 6896, '유의사항': 6897, '리어카': 6898, '당해': 6899, '먹고살다': 6900, '만자': 6901, '이거지': 6902, '우지': 6903, '분컷': 6904, '유무': 6905, '롭': 6906, '어쩌지': 6907, '요구르트': 6908, '다분': 6909, '더움': 6910, '텐붓가케': 6911, '선선': 6912, '지면': 6913, '이어도': 6914, '꼭와욭': 6915, '감격': 6916, '발의': 6917, '창원': 6918, '여행객': 6919, '햇반': 6920, '행시': 6921, '짭쪼롬': 6922, '갑맛': 6923, '소보': 6924, '켁켁': 6925, '거렸': 6926, '세잔': 6927, '드라이': 6928, '매직': 6929, '더라도': 6930, '마시쩌용': 6931, '만유': 6932, '증말': 6933, '귯굿': 6934, '황토색': 6935, '머그잔': 6936, '지구': 6937, '편맛': 6938, '세척': 6939, '분망': 6940, '지행동': 6941, '느릿느릿': 6942, '갑작스럽다': 6943, '뜬금': 6944, '칩': 6945, '빠삭': 6946, '도제': 6947, '서열': 6948, '꽝돈': 6949, '로간': 6950, '임일회': 6951, '식객': 6952, '호평': 6953, '해나': 6954, '화창하다': 6955, '깐풍기': 6956, '물르다': 6957, '쓸데없이': 6958, '방울토마토': 6959, '밖더': 6960, '어르다': 6961, '비쩍': 6962, '부들하다': 6963, '싹맛': 6964, '이바': 6965, 'ㅆ': 6966, '빠져들다': 6967, '돗': 6968, '신안': 6969, '병크': 6970, '병시': 6971, '직하다': 6972, '전용창': 6973, '구나': 6974, '제조': 6975, '능가': 6976, '느무': 6977, '타요': 6978, '오동': 6979, '행소': 6980, '기이': 6981, '악': 6982, '이쥬': 6983, '금메달': 6984, '쿵쾅': 6985, '뚝딱': 6986, '느꼇어': 6987, '쪽파': 6988, '어누': 6989, '용이하다': 6990, '파네': 6991, '사이좋다': 6992, '꾸바': 6993, '부채': 6994, '후다닥와': 6995, '빼주': 6996, '음싯': 6997, '바인': 6998, '여전': 6999, '다이닝': 7000, '곤도레밥': 7001, '우기': 7002, '클렌저': 7003, '홍차': 7004, '루이보스': 7005, '단품': 7006, '일상': 7007, '얀': 7008, '효율': 7009, 'ㅁㅣ': 7010, '자루': 7011, '에슐리': 7012, '험하다': 7013, '왓습니': 7014, '전후': 7015, '부서지다': 7016, '조그맣다': 7017, '굿밤': 7018, '맛있슴줄': 7019, '셈': 7020, '썩이다': 7021, '이해해': 7022, '다담': 7023, '제재': 7024, '줄선': 7025, '글구': 7026, '특급': 7027, '금새': 7028, '허겁지겁': 7029, '서출': 7030, '산전': 7031, '포식': 7032, '유향': 7033, '흰색': 7034, '증': 7035, '말증': 7036, '스몰': 7037, '흐트려져': 7038, '놀이터': 7039, '사방': 7040, '갓난아기': 7041, '다름없이': 7042, '허리': 7043, '데일': 7044, '근무': 7045, '세련': 7046, '표면': 7047, '이케': 7048, '퍼주셔': 7049, '곳으': 7050, '끈쩍': 7051, '꾸기다': 7052, '수타면': 7053, '승': 7054, '도때기': 7055, '무음': 7056, '이오': 7057, '십': 7058, '축축하다': 7059, '토집': 7060, '버스': 7061, '분말': 7062, '사후': 7063, '출동': 7064, '종사': 7065, '부연': 7066, '마리스': 7067, '해초': 7068, '거품': 7069, '는단': 7070, '저주': 7071, '순천': 7072, '마넌마넌': 7073, '괜찬은곳': 7074, '무자': 7075, '주가': 7076, '식상하다': 7077, '응데': 7078, '홀려': 7079, '다변하다': 7080, '꿈': 7081, '고로': 7082, '캐': 7083, '앙쿠르트스프': 7084, '완뽕안할': 7085, '키티': 7086, '아이스커피': 7087, '걸레질': 7088, '바닷물': 7089, '제주': 7090, '직장인': 7091, '갈릴': 7092, '가니쉬': 7093, '하향': 7094, '엿보다': 7095, '반려견': 7096, '방안': 7097, '수압': 7098, '높아지다': 7099, '야쿠르트': 7100, '이라기보다는': 7101, '한철': 7102, '어딧냐': 7103, '안바': 7104, '노잼': 7105, '재개': 7106, '하염없이': 7107, '냉동고': 7108, '아삭아삭': 7109, '퍼석퍼석': 7110, '이색': 7111, '존맛탱': 7112, '민망': 7113, '촌': 7114, '맛점': 7115, '맛저': 7116, '최고다': 7117, '죻았': 7118, '정신과': 7119, '인성': 7120, '분실': 7121, '접때': 7122, '너머': 7123, '키로로': 7124, '실질': 7125, '토스': 7126, '중임': 7127, '환하다': 7128, '짭짤하다': 7129, '남겨지다': 7130, '설탕': 7131, '서걱서걱': 7132, '어쩐지': 7133, '포크레인': 7134, '전임': 7135, '관람차': 7136, '스위트': 7137, '마시멜로': 7138, '최상급': 7139, '쩝': 7140, '마쓰': 7141, '정모': 7142, '장소라': 7143, '감점': 7144, '여름날': 7145, '턱턱': 7146, '개밥': 7147, '별루없': 7148, '마심': 7149, '약제': 7150, '발렛파킹': 7151, '됫는데': 7152, '단일': 7153, '친철함': 7154, '대대': 7155, '츠': 7156, 'ㅜㅡㅜ': 7157, '트렌디': 7158, '멋찜': 7159, '스카치': 7160, '라기': 7161, '콜': 7162, '참치초밥': 7163, '맨손': 7164, '질질': 7165, '엄지손': 7166, '낭창': 7167, '깎다': 7168, '배아픔': 7169, '통조림': 7170, '일미': 7171, '브로콜리': 7172, '일이만원': 7173, '집도': 7174, '시켞': 7175, '초피': 7176, '횟감': 7177, '보약': 7178, '뽀얗다': 7179, '기억나다': 7180, '허약하다': 7181, '무렵': 7182, '전경': 7183, '번개': 7184, '밥틀': 7185, '불닭볶음면': 7186, '불운': 7187, '국도': 7188, '로드킬': 7189, '지라': 7190, '와봒는데': 7191, '간편하다': 7192, '뷔펜데': 7193, '노동청': 7194, '늬글늬글': 7195, '나맥': 7196, '런칫': 7197, '프리': 7198, '팥죽': 7199, '찿': 7200, '개성': 7201, '말랭이': 7202, '외길': 7203, '스무디': 7204, '잠금장치': 7205, '잠그다': 7206, '겻': 7207, '쏘스': 7208, '해당': 7209, '기인': 7210, '찜질방': 7211, '사우나': 7212, '호우': 7213, '웨이브': 7214, '차지다': 7215, '한파': 7216, '히터': 7217, '패딩': 7218, '입김': 7219, '찜통': 7220, '틀어놓다': 7221, 'ㅎㄷㄷ': 7222, '얌얌': 7223, '처빵': 7224, '쌀밥': 7225, '머신': 7226, '친': 7227, '손놈': 7228, '형태': 7229, '보존': 7230, '시덕': 7231, '행벅': 7232, '걸택': 7233, '창장': 7234, '에보니': 7235, '리스트': 7236, '글램핑': 7237, '혼잡': 7238, '엉덩이': 7239, '콘서트': 7240, '간정': 7241, '수프': 7242, '막금': 7243, '제빵사': 7244, '캬하': 7245, '쩐내': 7246, '나왓네': 7247, '보구': 7248, '겐': 7249, '그요': 7250, '탕숙': 7251, '굴속': 7252, '끌다': 7253, '얻다': 7254, '판촉': 7255, '래미': 7256, '육아': 7257, '조등': 7258, '뱌랍': 7259, '이신': 7260, '필리핀': 7261, '오일이': 7262, '치부': 7263, '게실': 7264, '텃마루': 7265, '물막국숙': 7266, '훔': 7267, '방토': 7268, '틱틱': 7269, '친목': 7270, '크루통': 7271, '정보라': 7272, '똑': 7273, '구조': 7274, '명촌점': 7275, '덩거려': 7276, '특수하다': 7277, '프롬': 7278, '돠': 7279, '맛나게먹엇어': 7280, '화끈하다': 7281, '해안선': 7282, '훈훈하다': 7283, '캬': 7284, '라테': 7285, '팅굼': 7286, '잒': 7287, '쉰내': 7288, '툐': 7289, '타박': 7290, '절로': 7291, '데스': 7292, '댕기': 7293, '다라': 7294, '인수': 7295, '스탠': 7296, '마땅': 7297, '과테말라': 7298, '만죄': 7299, '빨아들이다': 7300, '풍구': 7301, '활기': 7302, '왜함': 7303, '따윈': 7304, '서소문': 7305, '류산': 7306, '슬깐': 7307, '조치': 7308, '돈가츠': 7309, 'ㅈ': 7310, '바이러스': 7311, '광경': 7312, '머합': 7313, '충족': 7314, '만인': 7315, '뷴전': 7316, '쨍쨍': 7317, '블': 7318, '띠껍': 7319, '고통': 7320, '화하다': 7321, '물건': 7322, '요면': 7323, '똑소리': 7324, '건축상': 7325, '몬': 7326, '맛점밥': 7327, '완추': 7328, '이율': 7329, '떡갈비': 7330, '팅쩌': 7331, '사이사이': 7332, '롯': 7333, '앓다': 7334, '다웨이': 7335, '한길': 7336, '아숩': 7337, '과잉': 7338, '바란': 7339, '덧': 7340, '회유': 7341, '헤깔리': 7342, '은기': 7343, '조명등': 7344, '무전기': 7345, '검사': 7346, '가급적': 7347, '입석': 7348, '적재적소': 7349, '농사': 7350, '링앱': 7351, '온라인': 7352, '버전': 7353, '드러나다': 7354, '수준기': 7355, '방직': 7356, '해구': 7357, '수군대다': 7358, '특출나다': 7359, '모순': 7360, '즉시': 7361, '꼬이다': 7362, '매달다': 7363, '앞장': 7364, '넘겨주다': 7365, '고마': 7366, '될껄': 7367, '사모님': 7368, '슬로건': 7369, '헤매다': 7370, '가꾸다': 7371, '인도': 7372, '자릿값이겠': 7373, '뚫어지다': 7374, '증정': 7375, '성화': 7376, '남컵': 7377, '짜들다': 7378, '텍': 7379, '미취': 7380, '학': 7381, '아동': 7382, '픽했어': 7383, '나무라다': 7384, '희한하다': 7385, '퍼석': 7386, '생생우동': 7387, '잔액': 7388, '완뚝': 7389, '팔면': 7390, '머무르다': 7391, '슈퍼': 7392, '뤠': 7393, '관리사': 7394, '옥도': 7395, '세계': 7396, '우시': 7397, '찐득하다': 7398, '한양': 7399, '어짜피': 7400, '정선': 7401, '구런데': 7402, '촉겉바': 7403, '파인애플': 7404, '술잔': 7405, '발아': 7406, '염라대왕': 7407, '파스': 7408, '화팅': 7409, '농락': 7410, '보배': 7411, '꼼수': 7412, '요카이': 7413, '핫소스': 7414, '오코노미': 7415, '사바': 7416, '건냇으': 7417, '드심': 7418, '게타': 7419, '넝수': 7420, '넘므': 7421, '장날': 7422, '진차': 7423, '완젼': 7424, '수요일': 7425, '에디오피아': 7426, '베레': 7427, '필터': 7428, '원대': 7429, '타이어': 7430, '대인': 7431, '내지': 7432, '쾅쾅': 7433, '해롭다': 7434, '머뉴': 7435, '생소하다': 7436, 'ㅡㅜ': 7437, '바글바글': 7438, '얄것': 7439, '어디가': 7440, '컴컴하다': 7441, '뿔테': 7442, '남색': 7443, '볼펜': 7444, '악플': 7445, '차액': 7446, '깨': 7447, '곁눈질': 7448, '잘만': 7449, '과거': 7450, '막심': 7451, '방불': 7452, '그랬다고': 7453, '앙념': 7454, '쓸리다': 7455, '경력': 7456, '대빵': 7457, '신인': 7458, '껍데기': 7459, '밀크쉐이크': 7460, '요술': 7461, '판면': 7462, '용면': 7463, '누님': 7464, '갈고': 7465, '손발': 7466, '서로서로': 7467, '설렁설렁': 7468, '칫솔': 7469, '장관': 7470, '귀로': 7471, '유쾌하다': 7472, '두르다': 7473, '숲속': 7474, '착기': 7475, '룸룸룸': 7476, '박수': 7477, '나라': 7478, '할경': 7479, '키즈룸': 7480, '세제': 7481, '평상': 7482, '천이': 7483, '송년모임': 7484, '놀랫': 7485, '셍': 7486, '으아': 7487, 'ㅏㅏ': 7488, '그러기에': 7489, '족족': 7490, '맜있': 7491, '멘보샤': 7492, '업글': 7493, '정신차리다': 7494, '요드': 7495, '시르다': 7496, '견과류': 7497, '알러지': 7498, '당혹': 7499, '수백': 7500, '더미': 7501, '픈': 7502, '놀랫네': 7503, '다여트': 7504, '예산': 7505, '호스': 7506, '평안하다': 7507, '랄데': 7508, '퍼입니': 7509, '분해': 7510, '빨대': 7511, '싱싱': 7512, '듯줄': 7513, '중어': 7514, '디선': 7515, '구름': 7516, '점령': 7517, '이하나': 7518, '기표': 7519, '북새통': 7520, '계획': 7521, '주상절리': 7522, '불면': 7523, '옥문': 7524, '걸임': 7525, '꿀물': 7526, '다림': 7527, '노놉': 7528, '해월월': 7529, '해운대': 7530, '상자': 7531, '족': 7532, '뿌듯하다': 7533, '로더': 7534, '서질': 7535, '안에이': 7536, '훌륭': 7537, '산등': 7538, '아웃': 7539, '오십분': 7540, '요일': 7541, '비키': 7542, '앨': 7543, '나왓다': 7544, '살구': 7545, '믈': 7546, '뙤짜': 7547, '비록': 7548, '취저': 7549, '짯': 7550, '산음': 7551, '표지판': 7552, '데이터': 7553, '사족': 7554, '밎': 7555, '현금': 7556, '교회': 7557, '유린': 7558, '매출': 7559, '명불허전': 7560, '곳강': 7561, '냉국': 7562, '막날': 7563, '요성': 7564, '몬합니': 7565, '원만하다': 7566, '앖었어': 7567, '대법': 7568, '세팅해둬': 7569, '익숙': 7570, '성나다': 7571, '이남': 7572, '착': 7573, '하해': 7574, '없을껍니': 7575, '가치관': 7576, '구경만': 7577, '전기': 7578, '소갈비': 7579, '가스': 7580, '뻘리': 7581, '아무래도': 7582, '모자': 7583, '우리나라': 7584, '헤치다': 7585, '고향': 7586, '검비냉': 7587, '텁텁해': 7588, '햐': 7589, '꼬치': 7590, '구런': 7591, '맛깔나다': 7592, '스런': 7593, '망치': 7594, '르렵': 7595, '다다': 7596, '앖': 7597, '일텐데': 7598, '종료': 7599, '리터': 7600, '탓일': 7601, '젊음': 7602, '검거': 7603, '에서야': 7604, '자연히': 7605, '이나마': 7606, '래일': 7607, '투덜대다': 7608, '주섬주섬': 7609, '캬컄': 7610, '러': 7611, '먹을껄': 7612, '나긋나긋하다': 7613, '다시금': 7614, '어깨': 7615, '노소': 7616, '만찬': 7617, '단축': 7618, '문전': 7619, '물음': 7620, '특징': 7621, '콤보': 7622, '것땜': 7623, '둥절': 7624, '옷차림': 7625, '단순': 7626, '호명': 7627, '찜찜하다': 7628, '만요': 7629, '시기하다': 7630, '이라야': 7631, '차맛': 7632, '뷰덕': 7633, '욕구': 7634, '주꾸미': 7635, '어설프다': 7636, '편임': 7637, '냉이': 7638, '모스': 7639, '장간': 7640, '림프절': 7641, '구토': 7642, '고열': 7643, '시달리다': 7644, '너무쌔': 7645, '득': 7646, '닭갈비': 7647, '산하동': 7648, '팍팍하다': 7649, '해프닝': 7650, '강타': 7651, '식은땀': 7652, '태평': 7653, '임삼': 7654, '아부지': 7655, '살로': 7656, '그라탕': 7657, '혼맛': 7658, '뜸': 7659, '노노': 7660, '없긱': 7661, '려니': 7662, '셧다': 7663, '명예': 7664, '마족': 7665, '좀제': 7666, '루꼴라': 7667, '스파이': 7668, '라곤': 7669, '폰타나': 7670, '근본': 7671, '레크': 7672, '엎드리다': 7673, '맛뼈찜': 7674, '대자보': 7675, '다도': 7676, '뼈찜': 7677, '콥': 7678, '삼색': 7679, '야드': 7680, '후려치다': 7681, '게눈': 7682, '단돈': 7683, '분할': 7684, '무색': 7685, '누누': 7686, '크시': 7687, '컷트': 7688, '탕탕': 7689, '부스러지다': 7690, '쓴소리': 7691, '악성댓글': 7692, '칠이': 7693, '벗겨지다': 7694, '춧가룬': 7695, '그래듀': 7696, '장하': 7697, '츠츠츠쥑': 7698, '화생방': 7699, '적격': 7700, '케바케': 7701, '창렬함': 7702, '스테키': 7703, '덤탱이': 7704, '본사': 7705, '링거': 7706, '들큰하다': 7707, '뇨토': 7708, '서화': 7709, '그랬': 7710, '행': 7711, '눚': 7712, '대우받다': 7713, '차마': 7714, '뛰어놀다': 7715, '조화로': 7716, '차량': 7717, '빗자루': 7718, '욱': 7719, '즘': 7720, '느무느무': 7721, '고지': 7722, '무작정': 7723, '라든지': 7724, '실종': 7725, '헹군것': 7726, '불호': 7727, '밖에도': 7728, '꼽자': 7729, '차값': 7730, '만으로도': 7731, '스게': 7732, '허브': 7733, '겉면': 7734, '음색': 7735, 'ㅡㅇㅡ': 7736, '클라스': 7737, '이제일': 7738, '면박': 7739, '인듯': 7740, '룽': 7741, '무안': 7742, '만만하다': 7743, '위협': 7744, '온전': 7745, '권리': 7746, '비키다': 7747, '투어': 7748, '특수': 7749, '투쳑후': 7750, '환불': 7751, '다마': 7752, '빙빙': 7753, 'ㅜㅡ': 7754, '돈마': 7755, '답지': 7756, '청': 7757, '문맹': 7758, '의시': 7759, '면홍돈': 7760, '돈값': 7761, '제다': 7762, '시비': 7763, '깊이': 7764, '개빵': 7765, '마로': 7766, '칝': 7767, 'ㅓㄹ': 7768, '굿맙': 7769, 'ㅍㅏ': 7770, 'ㅅㅣ': 7771, '지급': 7772, '김치우': 7773, '웨이팅했': 7774, '왼': 7775, '샹그리': 7776, '샹': 7777, '텅': 7778, '새치기': 7779, '장판': 7780, '습도': 7781, 'ㅑ': 7782, '짜파게티': 7783, '스파이크': 7784, '친그': 7785, '슴돠': 7786, '괜츈합니': 7787, '툴맨임': 7788, '디지다': 7789, '플랜': 7790, '싱그럽다': 7791, '구체': 7792, '명패': 7793, '항아리': 7794, '결혼식장': 7795, '장집': 7796, '전표': 7797, '용도': 7798, '은별': 7799, '오도': 7800, '오어': 7801, '마니마니': 7802, '불매운동': 7803, '닊굿': 7804, '무릅': 7805, '몰랏다함': 7806, '해부': 7807, '레드와인': 7808, '센티': 7809, '남알프스': 7810, '하산': 7811, '먹었슺니': 7812, '분다': 7813, '덩이': 7814, '시레기': 7815, '구천원': 7816, '아홉시': 7817, '온회': 7818, '주춤': 7819, '아보': 7820, '미역국': 7821, '말라가': 7822, '빵쪽': 7823, '시야': 7824, '미터': 7825, '법도': 7826, '싱기': 7827, '곳늘': 7828, '비갑': 7829, '본가': 7830, '찜콩': 7831, '요요기': 7832, '코스셋트': 7833, '그대': 7834, '뿐셋트': 7835, '집일': 7836, '인셋트코스': 7837, '일일': 7838, '재수': 7839, '온점': 7840, '완전체': 7841, '황해': 7842, '증거': 7843, '아려': 7844, '전문성': 7845, '툴툴대': 7846, '언능': 7847, '웅얼웅얼': 7848, '라다': 7849, '상사': 7850, 'ㅐ': 7851, '허투루': 7852, '비트코인': 7853, '반토막': 7854, '삶': 7855, '희망이': 7856, '장도': 7857, '생리대': 7858, '휴직': 7859, '간직': 7860, '도올': 7861, '수술': 7862, '깁스': 7863, '용품': 7864, '메이크업': 7865, '셋트메뉴': 7866, '물량부족': 7867, '연장': 7868, '비빵': 7869, '부축': 7870, '말빵': 7871, '논리': 7872, '카카오': 7873, '은제': 7874, '푹쉬다': 7875, '실순': 7876, '미국여행': 7877, '서부': 7878, '오인': 7879, '소태': 7880, '향연': 7881, '얼추': 7882, '어두컴컴하다': 7883, '상반': 7884, '미세하다': 7885, '종업': 7886, '인량중량': 7887, '정해진': 7888, '라베': 7889, '층계': 7890, '단서': 7891, '넘어지다': 7892, '겁결': 7893, '일어서다': 7894, '담날': 7895, '발등': 7896, '하란': 7897, '팻말': 7898, '방뮨': 7899, '스멜': 7900, '이쥬맛': 7901, '귯귯': 7902, '율때': 7903, '윤거': 7904, '슘': 7905, '좀금': 7906, '비맛': 7907, '듬뿍듬뿍': 7908, '미착': 7909, '프렌치토스트': 7910, '불쾌': 7911, '해지': 7912, '창렬': 7913, '먹을먀': 7914, '재차': 7915, '캡사이신': 7916, '햄맛': 7917, '해외': 7918, '조지': 7919, '슬펏': 7920, '시전': 7921, '런치가격': 7922, '웬걸': 7923, '수두': 7924, '봏아': 7925, '난이': 7926, '여행기': 7927, '페악지르': 7928, '페악치': 7929, '따라가다': 7930, '선선해지다': 7931, '곳음': 7932, '브러쉬': 7933, '비질': 7934, '출입구': 7935, '간시': 7936, '쓱싹쓱싹': 7937, '크리스피도넛': 7938, '갈기갈기': 7939, '이라고는': 7940, '헉했더랬': 7941, '질기': 7942, '괴롭다': 7943, '꼬깅': 7944, '아홉': 7945, '남지': 7946, '모바일': 7947, '가지가지': 7948, '출근': 7949, '복산': 7950, '진밥': 7951, '협소합니': 7952, '지적': 7953, '떠가다': 7954, '쓰레기봉지': 7955, '트릴': 7956, '순도': 7957, '칸막이': 7958, '정해': 7959, '웨이터': 7960, '저가': 7961, '장미': 7962, '한송이': 7963, '기해': 7964, '완제': 7965, '만오천원': 7966, '글거렸': 7967, '입소': 7968, '초자연': 7969, '가격표': 7970, '투썸플레이스': 7971, '쵝옹': 7972, '가제': 7973, '댱': 7974, '학창시절': 7975, '체다': 7976, '폭탄': 7977, '장어': 7978, '케미': 7979, 'ㅇㅓ': 7980, '넵': 7981, '저항': 7982, '양상추': 7983, '초보자': 7984, '채도': 7985, '체칼': 7986, '허여멀겋다': 7987, '끓다': 7988, '시범': 7989, '코뻥코뻥': 7990, '성애자': 7991, '맛팔': 7992, '선팔': 7993, '수거': 7994, '파릇파릇하다': 7995, '다가오다': 7996, '차항': 7997, '뷰값때매': 7998, '바닥나다': 7999, '기록': 8000, '미듐이긴': 8001, '구우': 8002, '모자라': 8003, '여섯': 8004, '서성이다': 8005, '반려동물': 8006, '도가니': 8007, '느': 8008, '게다': 8009, '연예': 8010, '붓카': 8011, '도편': 8012, '유기농': 8013, '가미': 8014, '와의': 8015, '뽕': 8016, '손실': 8017, '이익': 8018, '자석': 8019, 'ㅇ': 8020, '숫자': 8021, '시긴': 8022, '갈아타다': 8023, '옛말': 8024, '겸사겸사': 8025, '영혼': 8026, '어중간하다': 8027, '푸석하다': 8028, '타성': 8029, '손좀': 8030, '말복': 8031, '감정': 8032, '쇠러': 8033, '졸랏더': 8034, '신세경': 8035, '루한': 8036, '흩다': 8037, '거더': 8038, '묵다': 8039, '잘리다': 8040, '말뜻': 8041, '쾌감': 8042, 'ㅉ': 8043, '뉴코아아울렛': 8044, '몰리': 8045, '망설이다': 8046, '간김': 8047, '아이디어': 8048, '임차': 8049, '라리': 8050, '뜨근하': 8051, '엮시': 8052, '깜밖': 8053, '기계로': 8054, '만큼이나': 8055, 'ㄱㄱㄱ': 8056, '철저하다': 8057, '설설': 8058, '도수': 8059, '저온': 8060, '호불': 8061, '무기': 8062, '키우다': 8063, '한국인': 8064, '텅빈': 8065, '찐으루': 8066, '구색': 8067, '선지': 8068, '치이다': 8069, '프론트': 8070, '냉면집': 8071, '알음': 8072, '스마트': 8073, '고갱': 8074, '멍청하다': 8075, '바다이야기': 8076, '없어욭': 8077, '율동': 8078, '콘': 8079, '동동주': 8080, '산쪽': 8081, '너무나도': 8082, '지표': 8083, '생일도': 8084, '식돌': 8085, '먹거리': 8086, '탐방': 8087, '기세': 8088, '요명': 8089, '프': 8090, '루터': 8091, '피나콜라다': 8092, '스프라이트': 8093, '썽': 8094, '빌라': 8095, '들럿어': 8096, '크루아상': 8097, '커스터': 8098, '팡': 8099, '남겻': 8100, '만주': 8101, '여운': 8102, '최오': 8103, '요건': 8104, '보류': 8105, '더쩌': 8106, '내심': 8107, '산뢰감': 8108, '미적지근하다': 8109, '미덕': 8110, '지근': 8111, '문지기': 8112, '시대': 8113, '미끌거리다': 8114, '구한': 8115, '물병': 8116, '콜라보': 8117, '선임': 8118, '쉬움': 8119, '부지': 8120, '처지': 8121, '안일하다': 8122, '천지': 8123, '돈코츠차항': 8124, '부심': 8125, '엽떡': 8126, 'ㅠㅠㅋㅋㅋ': 8127, '탄산수': 8128, '방학': 8129, '시골': 8130, '맛재': 8131, '개속': 8132, '스탠드': 8133, '앆': 8134, '지렁이': 8135, '지장': 8136, '도리어': 8137, '이유식': 8138, '둘때': 8139, '두리번거리다': 8140, '무지막지': 8141, '마디': 8142, '날카롭다': 8143, '심맛': 8144, '리필함': 8145, '고심': 8146, '금수': 8147, '두운': 8148, '하는둥': 8149, '삭막하다': 8150, '스피커': 8151, '멀더': 8152, '극장': 8153, '가형': 8154, '유기': 8155, '멜라민': 8156, '조차도': 8157, '너무도': 8158, '수입': 8159, '롱런': 8160}\n"
     ]
    }
   ],
   "source": [
    "print(tokenizer.word_index)"
   ]
  },
  {
   "cell_type": "code",
   "execution_count": 73,
   "metadata": {},
   "outputs": [
    {
     "name": "stdout",
     "output_type": "stream",
     "text": [
      "OrderedDict([('너무', 1775), ('친절하다', 689), ('음식', 1197), ('맛있다', 2640), ('ㅎㅎ', 278), ('정말', 356), ('기분', 273), ('더럽다', 48), ('하다', 4208), ('음식점', 28), ('이다', 875), ('오랜', 118), ('만', 558), ('가족', 176), ('끼리', 49), ('외식', 37), ('하고', 557), ('려고', 10), ('가다', 1123), ('예약', 393), ('모르다', 164), ('손님', 294), ('오다', 1214), ('인사', 28), ('커녕', 6), ('멀뚱멀뚱', 5), ('처', 23), ('보다', 819), ('니깐', 12), ('저기', 11), ('멀리', 31), ('있다', 1251), ('직원', 761), ('굳이', 21), ('불다', 54), ('잉', 4), ('뭐라다', 7), ('걸', 58), ('세우다', 5), ('두다', 66), ('몇번', 44), ('반복', 5), ('뭐', 87), ('건지다', 87), ('더러워지다', 3), ('자리다', 38), ('없이', 160), ('여기', 177), ('서', 259), ('아무', 42), ('앉다', 136), ('얻어먹다', 3), ('그딴', 1), ('식', 70), ('으론', 6), ('다시다', 116), ('싶다', 242), ('두번째', 65), ('방문', 704), ('인데', 295), ('엄마', 25), ('빵', 315), ('맛', 1729), ('잇다', 131), ('ㅎ', 128), ('역쉬', 1), ('가격', 467), ('사악하다', 10), ('굿', 73), ('들어가다', 189), ('길', 25), ('시원하다', 55), ('라떼', 44), ('한잔', 17), ('아인', 4), ('슈페', 6), ('너', 45), ('생각나다', 71), ('금은', 4), ('안되다', 174), ('그린티', 1), ('아쉽다', 404), ('ㅠㅠ', 224), ('서생', 3), ('카페', 153), ('단연', 1), ('일등', 2), ('인', 234), ('같다', 824), ('마음', 40), ('에드', 1), ('에요', 67), ('사진', 106), ('잘나오다', 12), ('음료', 147), ('랑', 317), ('커피', 328), ('자주자주', 3), ('갈다', 263), ('실내', 21), ('조금', 246), ('덥다', 122), ('미치다', 29), ('비주', 20), ('얼', 18), ('의', 298), ('보고', 151), ('까먹다', 8), ('ㅋㅋㅋ', 113), ('왜', 125), ('비싸다', 458), ('납득', 5), ('되다', 446), ('이네', 111), ('자주', 172), ('넘다', 351), ('예', 74), ('아니다', 717), ('그래도', 93), ('가게', 132), ('인스타', 19), ('에서', 466), ('바로', 129), ('달려오다', 5), ('실제', 6), ('로', 594), ('맛보다', 24), ('기', 144), ('막히다', 24), ('먹다', 2646), ('대구', 13), ('줄', 97), ('서서', 37), ('맛집', 307), ('이라고', 59), ('점심', 100), ('들다', 373), ('새롭다', 45), ('오픈', 73), ('매장', 281), ('이라', 301), ('깨끗하다', 72), ('온', 79), ('아주', 87), ('좋다', 1859), ('갈비', 41), ('넉넉하다', 16), ('세트', 85), ('푸다', 118), ('지다', 109), ('맛잇게먹엇어용', 1), ('ㅡ', 28), ('마제', 63), ('소바', 80), ('우동', 105), ('엇', 19), ('늘다', 69), ('울산', 249), ('없다', 1327), ('토마호크', 23), ('스테이크', 231), ('양', 206), ('많다', 516), ('느끼하다', 100), ('투움바', 24), ('뭐해', 3), ('존맛', 45), ('탱', 33), ('코로나', 27), ('라', 162), ('그렇다', 342), ('설명', 72), ('전혀', 37), ('서비스', 324), ('면', 178), ('에서는', 20), ('많이', 331), ('닭', 17), ('불고기', 72), ('시키다', 305), ('예전', 112), ('짜지다', 13), ('뽁음짬뽕', 1), ('홍합', 11), ('양파', 16), ('한가득', 5), ('짬뽕', 108), ('덮다', 12), ('밥', 239), ('에는', 127), ('해삼', 3), ('몇개', 26), ('뿐', 32), ('여', 56), ('기도', 44), ('국물', 92), ('가져다주다', 15), ('진짜', 404), ('일행', 22), ('후회', 59), ('함', 82), ('인심', 2), ('변하다', 48), ('유명', 4), ('세', 27), ('줌', 12), ('ㄹ', 1), ('웨이', 100), ('팅', 112), ('ㅠ', 328), ('기다리다', 239), ('물리다', 5), ('남기다', 58), ('깔끔하다', 200), ('분위기', 390), ('소개팅', 2), ('이나', 109), ('데이트', 43), ('장소', 49), ('로건', 1), ('서버', 60), ('겁나다', 13), ('불친절', 50), ('장국밥', 1), ('내장', 8), ('과', 305), ('함께', 67), ('고기', 334), ('배부르다', 50), ('코스', 135), ('친구', 84), ('이랑', 211), ('매번', 38), ('눈팅', 1), ('피자', 142), ('신랑', 13), ('카이', 32), ('마', 12), ('요담', 5), ('엔', 189), ('아이', 210), ('기대', 34), ('돼다', 83), ('포장', 125), ('조운', 1), ('칠리', 13), ('새우', 80), ('아쉬움', 26), ('연말', 14), ('주말', 116), ('크다', 123), ('테이블', 318), ('잡다', 36), ('모임', 67), ('자다', 453), ('크림', 45), ('엄청', 191), ('바삭바삭', 5), ('최고', 153), ('네', 188), ('꾸다', 19), ('우도', 2), ('겉', 8), ('바삭', 40), ('촉촉', 6), ('튀기다', 21), ('고명', 5), ('으로', 622), ('올리다', 43), ('고수', 1), ('고', 542), ('차돌박이', 2), ('굳다', 37), ('짜다', 134), ('구수하다', 5), ('뒷맛', 1), ('영수증', 33), ('리뷰', 156), ('받다', 234), ('오렌', 1), ('이드', 21), ('상콤', 1), ('회식', 7), ('주문', 405), ('느리다', 20), ('값', 38), ('빨리', 94), ('나오다', 766), ('맵다', 67), ('고르다', 27), ('빠르다', 27), ('대', 130), ('밭', 2), ('골다', 1), ('걍', 15), ('믿다', 26), ('양은', 21), ('작아지다', 6), ('그치다', 8), ('난', 34), ('거', 181), ('검색', 27), ('나쁘다', 150), ('않다', 661), ('양도', 186), ('적지', 6), ('한번', 139), ('씩', 62), ('비다', 120), ('창가', 38), ('들기름', 63), ('막국수', 105), ('곱빼기', 5), ('진짜진짜', 5), ('면도', 7), ('쫄깃하', 1), ('니', 110), ('고소하다', 33), ('돈까스', 125), ('옛날', 19), ('느낌', 149), ('소스', 121), ('우연히', 14), ('들어오다', 58), ('디저트', 93), ('재', 159), ('예정', 23), ('시끄럽다', 104), ('음악', 24), ('도크', 1), ('주차', 234), ('불편하다', 204), ('요가', 10), ('성비', 15), ('좀비', 2), ('싸다', 43), ('매운탕', 45), ('비리다', 30), ('얼큰하다', 11), ('술안주', 2), ('역시', 121), ('꿀맛', 8), ('중간', 34), ('접시', 87), ('치우다', 74), ('분', 644), ('경', 20), ('양식', 28), ('얇다', 25), ('알다', 193), ('두껍다', 14), ('당황', 21), ('눈물', 7), ('옹', 2), ('완전', 134), ('추천', 227), ('기억', 30), ('남다', 81), ('종류', 113), ('간짜장', 7), ('무슨', 42), ('만원', 110), ('별', 65), ('루', 17), ('이유', 40), ('전화', 36), ('응대', 87), ('저녁', 91), ('타임', 25), ('돌잔치', 19), ('룸', 15), ('일반', 22), ('깜짝', 10), ('놀라다', 28), ('불쾌하다', 34), ('원래', 50), ('ㅜ', 123), ('약', 53), ('늦', 4), ('어', 62), ('늦다', 135), ('연락', 3), ('미리', 80), ('특별하다', 83), ('조용하다', 35), ('자리', 290), ('를', 548), ('부탁드리다', 24), ('불구', 30), ('방', 7), ('옆', 77), ('주다', 292), ('우연', 2), ('일치', 1), ('겠다', 13), ('파티', 36), ('부산', 33), ('지점', 11), ('아', 77), ('용하다', 5), ('쪽', 60), ('으로는', 15), ('인테리어', 108), ('이쁘다', 68), ('뷰', 309), ('파노라마', 1), ('바다', 89), ('우드', 1), ('스타일', 19), ('멋지다', 57), ('간격', 18), ('넓다', 211), ('대화', 25), ('나누기', 1), ('메뉴', 406), ('전부', 33), ('막', 35), ('샌드위치', 14), ('꼭', 151), ('여전하다', 56), ('볶음', 30), ('차다', 84), ('점심때', 8), ('군', 11), ('만두', 45), ('주네', 4), ('리', 15), ('모델링', 2), ('후', 83), ('울리다', 18), ('늘어나다', 5), ('화장실', 71), ('열리다', 3), ('좋아하다', 126), ('곳', 495), ('네이버', 103), ('선정', 3), ('맞추다', 29), ('세팅', 13), ('이렇다', 78), ('정', 8), ('합', 8), ('니까', 35), ('물어보다', 85), ('알바', 39), ('분과', 5), ('눈', 45), ('마주치다', 9), ('물회', 30), ('제', 197), ('물', 89), ('챙기다', 61), ('밑반찬', 46), ('본식', 3), ('대게', 275), ('게', 204), ('인가요', 17), ('확인', 59), ('키로', 6), ('다해', 9), ('준비', 37), ('해달라다', 31), ('서다', 103), ('키', 38), ('로라', 1), ('니요', 3), ('정식', 44), ('차이', 20), ('이렇게', 88), ('나다', 273), ('웃기', 3), ('제대로', 38), ('해주다', 284), ('고민', 22), ('황당하다', 8), ('같이', 112), ('랍스타', 4), ('마저', 7), ('실망', 130), ('어버이날', 7), ('망치다', 14), ('뻔', 18), ('뒤늦다', 6), ('사과', 28), ('와', 212), ('도참', 2), ('마님', 1), ('이언', 1), ('대서', 9), ('들르다', 35), ('다음', 207), ('해산물', 30), ('스파게티', 41), ('전보', 10), ('전체', 56), ('떨어지다', 111), ('갈수록', 18), ('약해지다', 2), ('초밥', 137), ('회', 80), ('신선하다', 91), ('적절하다', 6), ('한몫', 3), ('튀김', 104), ('취향', 23), ('저격', 8), ('에게', 36), ('사랑받다', 1), ('자격', 1), ('충분하다', 17), ('주변', 38), ('대야', 1), ('괜찮다', 205), ('인지', 125), ('홀', 51), ('밖에', 55), ('서빙', 79), ('밖', 20), ('수족관', 3), ('청소', 22), ('그냥', 264), ('뿌리다', 14), ('밥상', 3), ('부터', 139), ('까지', 266), ('온통', 3), ('젖다', 7), ('미안하다', 21), ('반말', 3), ('던지다', 18), ('사라지다', 10), ('자꾸', 26), ('잘못', 34), ('분잡', 1), ('치고', 21), ('기하', 1), ('뿐이다', 4), ('유별나다', 1), ('겁니다', 15), ('걸리다', 127), ('비', 155), ('정리', 21), ('셋팅', 9), ('안나', 23), ('물이', 9), ('피클', 12), ('라도', 24), ('달라', 123), ('벨', 26), ('누르다', 14), ('심지어', 23), ('텀', 3), ('기다', 66), ('오래', 66), ('컴', 7), ('플레인', 8), ('포기', 13), ('다수', 1), ('과연', 1), ('이냐', 3), ('물다', 30), ('맛없다', 85), ('가성', 139), ('로는', 5), ('덩어리', 3), ('파스타', 265), ('조개', 12), ('껍질', 18), ('가득하다', 16), ('운동', 2), ('마치', 8), ('냉면', 42), ('그릇', 69), ('개인', 40), ('비빔', 53), ('훨', 5), ('배달', 36), ('해', 144), ('귀엽다', 9), ('전반', 30), ('돈', 171), ('아깝다', 118), ('ㅜㅜ', 91), ('생맥', 2), ('부드럽다', 86), ('연기', 25), ('질식', 1), ('주일', 2), ('예배', 1), ('끝나다', 15), ('이에요', 168), ('돌돌', 11), ('모든', 41), ('실패', 8), ('식기', 10), ('오기', 42), ('에도', 114), ('편리하다', 15), ('감사하다', 67), ('란', 8), ('흠', 5), ('브런치', 58), ('도착', 25), ('자마자', 11), ('대기', 104), ('금방', 34), ('다행', 10), ('에가', 13), ('채우다', 42), ('고추', 18), ('가루', 21), ('치다', 48), ('위', 46), ('입산', 4), ('먹음', 14), ('흑임자', 7), ('케잌', 5), ('옥', 62), ('라서', 34), ('찍기', 5), ('간자장', 1), ('뿔', 6), ('종업원', 36), ('써비스', 4), ('꽝', 3), ('이고', 89), ('초심', 5), ('잃다', 14), ('푸릇푸릇', 1), ('감각', 1), ('힐링', 22), ('소세지', 3), ('페스', 5), ('츄리', 1), ('펌킨', 1), ('베르츠슈페너', 1), ('회전', 26), ('미네', 2), ('인정', 18), ('예쁘다', 82), ('위해', 23), ('자르다', 17), ('가위', 8), ('비치', 5), ('부모님', 78), ('모시', 71), ('저녁식사', 8), ('안심', 13), ('변경', 23), ('해드리다', 10), ('껄', 2), ('살다', 40), ('연세', 2), ('신분', 25), ('께', 35), ('씹다', 33), ('힘들다', 129), ('저', 173), ('희다', 8), ('샐러드', 99), ('풀이', 2), ('아란치니', 27), ('치즈', 84), ('버리다', 108), ('소복하다', 2), ('쌓이다', 5), ('입안', 8), ('살아나다', 1), ('불친절하다', 191), ('담다', 32), ('하니', 44), ('그렇게', 50), ('묻다', 31), ('대다', 37), ('듯이', 7), ('잡담', 4), ('핸드폰', 8), ('지고', 11), ('성남동', 26), ('결혼', 3), ('보장', 3), ('그저', 26), ('몇', 69), ('째', 43), ('항상', 109), ('만족하다', 91), ('퀄리티', 46), ('이탈리안', 1), ('하고는', 6), ('대비', 89), ('초장', 20), ('번은', 31), ('핵존맛', 1), ('국적', 2), ('짱', 85), ('특선', 27), ('돌솥밥', 8), ('먹기', 117), ('덜다', 8), ('뜨끈하다', 5), ('누룽지', 3), ('만들다', 76), ('추위', 4), ('얼다', 20), ('몸', 12), ('사르르', 5), ('녹다', 29), ('달걀', 1), ('냉', 42), ('특색', 7), ('칼국수', 32), ('비빔국수', 4), ('해물파전', 6), ('기대하다', 41), ('별로', 203), ('인거', 30), ('좌', 6), ('지정도', 1), ('되어다', 132), ('이용', 74), ('왕', 30), ('담기다', 7), ('눅눅하다', 12), ('까르보나라', 19), ('싱겁다', 45), ('밋밋하다', 2), ('더더', 3), ('ㅠㅠㅠ', 26), ('김치', 54), ('일식', 6), ('성공', 6), ('해보다', 61), ('아프다', 19), ('매콤', 56), ('뭔가', 36), ('해소', 2), ('캠핑', 21), ('가깝다', 17), ('지나치다', 9), ('노', 12), ('키즈', 19), ('존', 18), ('텐데', 2), ('남편', 26), ('프랜', 1), ('들리다', 58), ('어른', 26), ('당연하다', 19), ('오늘', 139), ('첫', 59), ('홍게', 10), ('스폐셜', 1), ('홍보', 6), ('곳곳', 5), ('손소독제', 4), ('비닐', 10), ('장갑', 14), ('손', 61), ('씻다', 9), ('마스크', 30), ('착용', 6), ('띄엄띄엄', 2), ('물론', 27), ('크으', 2), ('와도', 28), ('관자', 8), ('단골', 32), ('바베큐', 42), ('캠프', 11), ('하루', 12), ('배', 69), ('앙', 2), ('대애', 2), ('애애박', 1), ('단체', 33), ('심하다', 45), ('미국', 7), ('보통', 45), ('구', 65), ('운', 16), ('야채', 18), ('여기다', 49), ('고기만', 7), ('질리다', 9), ('그래서', 45), ('결국', 29), ('별도', 7), ('볶음밥', 58), ('웬만하다', 10), ('질퍽', 1), ('순수', 1), ('부분', 53), ('무난', 23), ('생일', 68), ('레터', 6), ('링', 24), ('요청', 70), ('드리다', 96), ('잊다', 16), ('식사', 234), ('도중', 6), ('말씀드리다', 25), ('플레이', 12), ('말고', 23), ('급하다', 25), ('매우', 60), ('리조또', 38), ('그런데', 53), ('로만', 8), ('글', 29), ('거리', 27), ('사이다', 9), ('어찌', 9), ('수가', 18), ('그때', 21), ('딱', 88), ('마시다', 19), ('쪼', 3), ('오금', 1), ('나아지다', 2), ('모이다', 6), ('쇼바', 1), ('소문나다', 14), ('앞산', 2), ('큰골', 3), ('생기다', 42), ('다녀오다', 40), ('갈비찜', 14), ('싹', 9), ('쓰리다', 3), ('ㅋ', 64), ('대개', 6), ('해오다', 8), ('살이', 33), ('맑은', 1), ('황당', 5), ('작다', 64), ('엉망', 29), ('이어서', 12), ('식구', 10), ('한테', 64), ('무게', 3), ('안달', 3), ('마리', 26), ('수로', 1), ('체크', 17), ('쑤다', 1), ('편', 35), ('모처럼', 4), ('아웃백', 85), ('설레다', 1), ('질겨', 18), ('애', 52), ('전혁안먹', 1), ('저희', 117), ('꾸역꾸역', 5), ('억지로', 3), ('추가', 90), ('사이드', 40), ('결제', 52), ('부시맨', 2), ('여부', 2), ('꺼내다', 10), ('먼저', 65), ('드릴', 8), ('일절', 2), ('한마디', 32), ('베이커리', 24), ('주년', 2), ('재즈', 5), ('공연', 2), ('감상', 4), ('사이먼', 9), ('스테이', 1), ('처음', 275), ('가봒는데', 1), ('여자친구', 11), ('깔다', 23), ('금', 10), ('숨다', 4), ('담', 56), ('극', 12), ('찬성', 1), ('두툼', 5), ('감', 40), ('다르다', 63), ('저번', 27), ('마미', 1), ('사오다', 3), ('나서다', 52), ('근데', 91), ('소금', 32), ('도너츠', 5), ('소고기', 44), ('못', 316), ('올로', 1), ('껀', 4), ('제입', 4), ('잘맞다', 1), ('색다르다', 12), ('거의', 54), ('풀', 2), ('화산', 11), ('라멘', 21), ('단계', 12), ('청양고추', 3), ('매다', 34), ('처럼', 59), ('뒤끝', 2), ('알싸하다', 1), ('오코노미야끼', 2), ('맞다', 85), ('구만', 2), ('이상', 50), ('언제나', 19), ('사장', 166), ('님', 211), ('친절', 57), ('밉다', 38), ('계시다', 37), ('혼자', 16), ('랑은', 3), ('훨씬', 18), ('음', 26), ('지방', 1), ('다니다', 39), ('임', 40), ('나중', 20), ('말다', 101), ('빠지다', 34), ('찾아오다', 31), ('도전', 10), ('다만', 45), ('공사', 3), ('길이', 13), ('안좋다', 38), ('원샷', 1), ('때렷', 1), ('저수지', 4), ('느껴지다', 45), ('모내기', 2), ('새참', 2), ('천원', 34), ('오후', 17), ('캐다', 1), ('여직원', 12), ('가보다', 100), ('인상', 29), ('푸리', 1), ('면서', 8), ('간', 63), ('짜증', 48), ('가득', 30), ('말투', 29), ('덕분', 37), ('보이다', 87), ('캐셔', 2), ('때매', 3), ('여행', 30), ('평점', 6), ('높다', 12), ('펑점', 1), ('노력', 5), ('이구나', 3), ('라는', 30), ('드네', 4), ('눈꽃', 19), ('퓨전', 5), ('전통', 2), ('깊다', 13), ('느끼다', 88), ('외지', 1), ('찾기', 13), ('쉽다', 6), ('건', 36), ('건강하다', 8), ('감동', 22), ('동시', 7), ('대접', 11), ('킹크랩', 48), ('인분', 27), ('언성', 3), ('서로', 14), ('때마침', 2), ('인주', 1), ('방장', 2), ('어르신', 8), ('썅욕', 1), ('는걸', 9), ('이래저래', 2), ('무엇', 52), ('인가', 15), ('이상하다', 33), ('홍어', 1), ('삭히다', 1), ('암모니아', 1), ('향', 34), ('형님', 2), ('아주머니', 12), ('걱정', 39), ('포항', 2), ('흔', 1), ('하디', 1), ('흔하다', 8), ('일부러', 34), ('실망하다', 60), ('된장찌개', 31), ('벌다', 3), ('상인', 1), ('듯', 99), ('블로그', 19), ('평', 8), ('진심', 20), ('평인', 1), ('궁금하다', 14), ('당', 46), ('햇', 17), ('보험', 2), ('회사', 4), ('정신', 71), ('보충', 2), ('내시', 1), ('한개', 10), ('묶다', 5), ('고난', 2), ('껀데', 1), ('누구', 8), ('뭘', 14), ('보단', 15), ('쿠우', 12), ('브랜드', 5), ('걸다', 13), ('이기', 3), ('기대다', 4), ('어느', 22), ('수준', 18), ('대표', 14), ('스시', 40), ('수만', 1), ('루고', 3), ('따뜻하다', 26), ('야하다', 82), ('모두', 74), ('다식', 4), ('말르다', 19), ('암튼', 17), ('일도', 4), ('좀더', 9), ('신경', 65), ('쓸다', 39), ('낫', 2), ('꽤', 17), ('날', 154), ('스트레스', 8), ('날다', 15), ('소주', 8), ('궁합', 7), ('쵝', 2), ('간장', 11), ('가면', 32), ('께서는', 1), ('그렇다고', 15), ('여쭈다', 19), ('실수', 25), ('빼놓다', 4), ('넣다', 58), ('면모', 1), ('밀', 3), ('여름', 25), ('찬', 11), ('무덥다', 2), ('에만', 15), ('바라다', 34), ('지하', 5), ('가능하다', 28), ('도보', 3), ('유료', 6), ('주차장', 91), ('번째', 46), ('찾다', 90), ('나사', 5), ('식당', 98), ('이번', 83), ('해물', 41), ('입', 71), ('순간', 12), ('똥', 3), ('냄새', 83), ('열', 14), ('상태', 53), ('똥맛', 1), ('크게', 23), ('참고', 35), ('가열', 2), ('베렸', 1), ('쓰다', 124), ('충무김밥', 9), ('김밥', 3), ('석', 24), ('박', 5), ('군내', 3), ('꼬막', 5), ('깍두기', 8), ('익다', 21), ('새', 9), ('콤', 4), ('로이', 1), ('그나마', 26), ('지만', 48), ('류', 27), ('률', 7), ('가리비', 2), ('들어서다', 14), ('부추', 11), ('전도', 4), ('간이', 45), ('필요없다', 13), ('되었느', 1), ('지나', 6), ('유명하다', 40), ('편하다', 111), ('난리', 4), ('청결하다', 35), ('식전', 26), ('메인', 37), ('마다', 151), ('ㅜㅜㅜ', 3), ('분들', 286), ('대박', 33), ('댜', 6), ('평일', 90), ('시반', 8), ('쯤', 61), ('ㅎㅎㅎ', 66), ('식음', 2), ('제일', 64), ('화남', 1), ('식다', 43), ('차갑다', 29), ('발라', 5), ('계속', 88), ('불쇼', 11), ('기념', 14), ('연인', 8), ('기념일', 31), ('만족', 46), ('거대하다', 1), ('호강', 3), ('만큼', 33), ('의사', 84), ('개판', 4), ('육수', 29), ('끝', 45), ('ㄱㅏ', 2), ('특히', 111), ('사이', 9), ('좁다', 34), ('동선', 2), ('알바생', 38), ('고급', 27), ('핫', 31), ('플', 20), ('레이스', 10), ('용', 58), ('호텔', 10), ('대한', 13), ('처리', 15), ('정자항', 4), ('여러', 45), ('선택', 39), ('성', 22), ('공적', 1), ('적당하다', 47), ('직접', 41), ('저울', 1), ('달다', 33), ('보여주다', 7), ('믿음', 1), ('직월', 1), ('어기', 1), ('그게', 23), ('율도', 6), ('빽빽하다', 2), ('쫀맛탱', 3), ('된장', 14), ('라면', 52), ('통', 19), ('요원', 3), ('절대', 32), ('금액', 30), ('ㅋㅋ', 93), ('최악', 97), ('카운트', 1), ('관심', 6), ('외국', 2), ('분만', 17), ('안통함', 1), ('행사', 12), ('꾸미다', 3), ('정원', 18), ('다양하다', 74), ('언제', 29), ('한가위', 5), ('한데', 12), ('평범하다', 19), ('떡', 12), ('달달', 27), ('유부', 2), ('ㅠㅜ', 5), ('전달', 5), ('자동화', 1), ('그만큼', 12), ('소통', 6), ('문', 70), ('기계', 11), ('호출', 7), ('부족하다', 63), ('이벤트', 23), ('적다', 113), ('주시', 40), ('이제', 47), ('귀찮다', 17), ('입장', 58), ('능직', 1), ('안왓음음식맛', 1), ('뻑뻑', 6), ('아빠', 8), ('생신', 7), ('여서', 49), ('티임', 1), ('복잡하다', 15), ('나름', 24), ('대신', 17), ('탄산', 6), ('놀래다', 15), ('팔다', 14), ('쿠키', 2), ('멀다', 21), ('가기', 50), ('부담', 38), ('맘껏', 1), ('뛰다', 5), ('바쁘다', 139), ('담당', 37), ('지난주', 2), ('또다시', 1), ('아직', 30), ('한참', 40), ('기다림', 12), ('일회용', 8), ('젓가락', 10), ('필요하다', 41), ('장현동', 2), ('상권', 1), ('망하다', 4), ('늘', 55), ('직장', 3), ('동료', 1), ('너므', 1), ('마는', 2), ('뇨끼', 41), ('개시', 3), ('켜다', 4), ('맘', 32), ('매일', 6), ('역대', 6), ('급', 15), ('반찬', 73), ('나누다', 11), ('쟁반', 9), ('옮기다', 27), ('셀프', 32), ('내다', 76), ('눈치', 22), ('딸기', 21), ('놀러와', 6), ('재료', 52), ('무', 23), ('파리', 14), ('날아오다', 1), ('쓰이다', 6), ('얘기', 80), ('해도', 34), ('당장', 1), ('해결', 6), ('얼른', 4), ('어쩔', 14), ('할게욤', 1), ('기름', 33), ('써다', 50), ('돈가스', 34), ('안넹', 1), ('너무하다', 17), ('웨이팅', 43), ('오지', 13), ('올', 64), ('쌈장', 40), ('찌개', 45), ('별미', 4), ('비비다', 23), ('조각', 17), ('개꿀맛', 1), ('운전', 6), ('술', 13), ('연애', 2), ('반하다', 8), ('국밥', 48), ('녹진하다', 1), ('숟갈', 5), ('뜰', 3), ('반', 38), ('돼지국밥', 14), ('올려주다', 3), ('고춧가루', 3), ('어울리다', 25), ('긁다', 4), ('단', 31), ('촐', 2), ('박지', 5), ('시', 228), ('골목', 7), ('갓길', 1), ('편이', 47), ('초보', 4), ('피', 18), ('벆', 1), ('보기', 17), ('내부', 24), ('지수', 1), ('이전', 17), ('난후', 2), ('아이스크림', 19), ('바꾸다', 31), ('믹스', 1), ('제임스', 1), ('라고', 87), ('상황', 18), ('따르다', 26), ('안내', 80), ('비우다', 14), ('오해', 3), ('신건', 7), ('만족스럽다', 42), ('원하다', 18), ('미숙', 7), ('잊어버리다', 6), ('할인', 77), ('관련', 2), ('계산', 99), ('다행하다', 8), ('책임자', 3), ('보이시', 5), ('교육', 36), ('중이', 10), ('불편', 30), ('겪다', 5), ('표시', 5), ('중인', 1), ('보다는', 20), ('현장', 5), ('접수', 2), ('이해', 58), ('대체로', 10), ('뷔페', 31), ('메르', 10), ('판지', 9), ('발열', 3), ('남자', 47), ('총', 14), ('따다', 26), ('기와', 5), ('재미', 9), ('굿굿', 33), ('텁텁하', 2), ('개운하다', 6), ('탕수육', 37), ('소', 29), ('짜이다', 2), ('양적', 1), ('음곱', 1), ('배기', 4), ('둘이서', 16), ('육', 8), ('비빔밥', 26), ('육전', 28), ('막걸리', 1), ('뿌', 1), ('시기', 5), ('싸', 9), ('에서만', 4), ('건천', 1), ('찰보리', 1), ('쌀', 7), ('든', 20), ('보리', 5), ('탁', 7), ('수고', 4), ('뚜벅', 1), ('에게는', 3), ('힘드다', 17), ('일몰', 1), ('브레이크', 11), ('로봇', 15), ('야기', 2), ('엇어', 4), ('요강', 8), ('추하다', 54), ('안해', 15), ('페이', 4), ('가능', 13), ('불곡집', 1), ('어린이', 7), ('따로', 87), ('불로', 2), ('굽다', 63), ('별루', 6), ('주스', 12), ('그리다', 23), ('마시기', 4), ('잔', 13), ('종이컵', 5), ('가져오다', 16), ('움', 32), ('보람', 7), ('얼마나', 17), ('마법', 4), ('안남다', 2), ('이제야', 6), ('죄', 7), ('영업', 12), ('진창', 4), ('전화선', 3), ('뽑다', 12), ('중요하다', 10), ('뽑히다', 1), ('꼽히다', 3), ('건가', 14), ('답', 11), ('과일', 8), ('안내받다', 7), ('빈', 27), ('헐다', 8), ('일정', 5), ('서두르다', 1), ('의미', 12), ('지인', 40), ('구성', 30), ('와이프', 16), ('소개', 15), ('싫다', 49), ('상해', 6), ('취소', 16), ('미디움', 21), ('레어', 6), ('이요', 2), ('레', 14), ('정정', 2), ('정작', 3), ('등심', 5), ('고르곤졸라', 2), ('번거롭다', 2), ('자', 24), ('고해', 10), ('본인', 21), ('삼', 48), ('몰다', 13), ('치킨', 12), ('그건', 15), ('장', 27), ('숨', 2), ('환풍기', 2), ('마나', 1), ('창문', 12), ('열다', 18), ('환풍', 2), ('거미', 24), ('본', 54), ('꽃', 9), ('실장', 1), ('본래', 1), ('잘알다', 7), ('나야', 1), ('만이', 6), ('바닥', 24), ('더욱', 13), ('흙', 2), ('먼지', 12), ('날리다', 3), ('고객', 34), ('불만', 15), ('이집', 17), ('팀', 22), ('오니', 7), ('달인', 2), ('고급스럽다', 12), ('담백하다', 17), ('물냉비냉', 1), ('갈비탕', 9), ('꽈배기', 2), ('든든하다', 8), ('비냉', 2), ('찍다', 68), ('왜냐면', 1), ('그만', 4), ('ㅜㅠ', 10), ('적어지다', 4), ('기간', 4), ('와사비', 12), ('오징어', 18), ('갈색', 8), ('비추다', 37), ('케밥', 2), ('썰다', 19), ('봄', 16), ('율', 10), ('팥빙수', 3), ('연유', 3), ('빼다', 57), ('쿨', 2), ('파트', 1), ('이시고', 1), ('조', 18), ('리모', 1), ('조리', 17), ('옷', 20), ('입다', 19), ('죽다', 19), ('표정', 34), ('질문', 6), ('드라이브', 27), ('겸', 9), ('놀다', 27), ('꽉차다', 10), ('공수', 1), ('쩌주셔', 1), ('케익', 22), ('조합', 26), ('습', 16), ('초코케익', 1), ('돌다', 14), ('덕', 7), ('진하다', 31), ('아메리카노', 22), ('망고', 17), ('쥬스', 6), ('살짝', 47), ('보더', 1), ('수긍', 4), ('생', 18), ('시즌', 7), ('던데', 6), ('쇼뷰', 1), ('구석구석', 2), ('노트북', 3), ('송년회', 1), ('요로', 1), ('어딜', 5), ('가도', 25), ('젤', 27), ('명란', 3), ('걸어오다', 2), ('ㅜㅎ', 1), ('아들', 18), ('동해', 1), ('반점', 3), ('세고', 2), ('평소', 14), ('점심시간', 40), ('일찍', 32), ('소진', 10), ('안주시', 4), ('요전', 9), ('언양', 15), ('중국집', 7), ('작', 7), ('천정', 4), ('상하이', 1), ('바질', 17), ('마스', 2), ('카포네', 1), ('풍', 19), ('심심하다', 7), ('카레', 49), ('봉지', 5), ('머리카락', 17), ('연속', 3), ('스럽다', 49), ('궁', 3), ('떡볶이', 6), ('짐', 88), ('겹', 4), ('가량', 10), ('평상시', 1), ('ㅡㅡ', 62), ('얼마', 23), ('줄어들다', 6), ('요다음', 17), ('요금', 3), ('형평성', 1), ('부페', 5), ('절반', 6), ('가로', 2), ('몽글하다', 1), ('울대', 2), ('근처', 54), ('강추', 32), ('냥', 25), ('비슷하다', 16), ('세상', 13), ('파운드', 1), ('퍽퍽', 15), ('선셋', 2), ('쿠폰', 18), ('산', 38), ('오진', 2), ('초', 9), ('피스', 8), ('찌다', 56), ('서도', 9), ('주먹', 2), ('완비', 1), ('최', 6), ('뒈', 1), ('무조건', 36), ('싱귤러', 9), ('무거동', 6), ('배고프다', 8), ('땡', 1), ('병원', 7), ('메밀국수', 2), ('업체', 4), ('기준', 10), ('낙지', 36), ('해물찜', 3), ('미더덕', 1), ('즐', 1), ('마음껏', 2), ('생크림', 2), ('골고루', 3), ('요리사', 8), ('장난', 40), ('약간', 45), ('다투다', 1), ('촉촉하다', 8), ('지나가다', 34), ('상륙', 1), ('땡기다', 14), ('드', 11), ('조절', 13), ('세다', 13), ('맵', 27), ('가십', 1), ('쇼', 7), ('목소리', 21), ('커서', 13), ('어수선하다', 19), ('사담', 1), ('주방', 61), ('헷갈리다', 4), ('지경', 3), ('양하다', 2), ('불쑥', 1), ('컵', 27), ('인스턴트', 1), ('요즘', 45), ('땜', 4), ('좋아지다', 9), ('순대', 6), ('벚꽃', 14), ('많아지다', 6), ('주차공간', 19), ('뻔하다', 10), ('리코', 6), ('타', 21), ('효', 2), ('남자친구', 26), ('이지만', 30), ('바랑', 6), ('냉소', 2), ('조화롭다', 4), ('요구', 7), ('우우', 1), ('우', 9), ('웃', 1), ('빵값', 4), ('밥값', 4), ('끊기다', 11), ('싫어하다', 15), ('분도', 12), ('요추', 6), ('천하다', 10), ('가장', 22), ('돌', 9), ('입맛', 62), ('감칠맛', 10), ('빙기', 1), ('계', 8), ('차', 40), ('하늘', 2), ('협소', 6), ('김', 18), ('마치다', 3), ('당하다', 16), ('주관', 4), ('수도', 16), ('프리미엄', 3), ('마이너', 1), ('예요', 75), ('원주고', 4), ('차라리', 10), ('코스트코', 1), ('사먹다', 11), ('낫다', 17), ('토마토', 26), ('요거트', 5), ('소풍', 14), ('여행가', 8), ('다점', 2), ('신', 24), ('메', 2), ('요기', 5), ('그림', 3), ('그릭', 1), ('오르다', 36), ('환상', 18), ('랍', 26), ('다리', 34), ('성안', 1), ('층', 44), ('환기', 12), ('듣다', 25), ('관리자', 2), ('임의', 2), ('곡', 1), ('스킵', 1), ('등등', 8), ('줍다', 11), ('추움', 1), ('샷추', 2), ('아마', 5), ('게다가', 7), ('아메', 6), ('샷추가할', 1), ('땐', 25), ('산미', 7), ('부쉬', 1), ('맨', 9), ('브레드', 4), ('익히다', 16), ('덜', 34), ('안드네', 3), ('박살', 1), ('로컬', 2), ('장사', 35), ('교만하다', 1), ('신경안', 5), ('끼', 33), ('명절', 4), ('순로롭', 1), ('지나다', 43), ('딱딱하다', 30), ('연', 16), ('쎄다', 8), ('대해', 19), ('고개', 3), ('끄덕', 1), ('홱', 1), ('간절곶', 49), ('랍스터', 34), ('외국인', 4), ('질', 56), ('기고', 26), ('국수', 11), ('회도', 13), ('치면', 5), ('보시', 14), ('매', 22), ('꼼', 2), ('도둑', 5), ('베테', 33), ('엄청나다', 18), ('와우', 5), ('핫플', 5), ('문후', 7), ('무료', 18), ('한편', 4), ('행주', 3), ('계심', 1), ('힐끔힐끔', 2), ('며', 24), ('뛰어나다', 1), ('치레', 1), ('집돈값', 1), ('점도', 9), ('안통', 2), ('기본', 84), ('인원', 15), ('돈대', 2), ('항의', 7), ('얼굴', 19), ('붉다', 3), ('부끄럽다', 6), ('인생', 19), ('투자', 3), ('어떻다', 43), ('반성', 4), ('공간', 43), ('간반', 6), ('우와', 4), ('짜장', 40), ('돼지고기', 14), ('볶다', 12), ('완두콩', 1), ('하지만', 53), ('마찬가지', 6), ('둘', 28), ('훠', 2), ('찾아가다', 29), ('나무', 8), ('뚜껑', 9), ('교체', 9), ('경악', 1), ('머리', 18), ('단정하다', 1), ('산발', 1), ('내내', 18), ('성인', 8), ('남녀', 5), ('모자라다', 12), ('불리', 8), ('능', 4), ('열심히', 3), ('미남', 1), ('필요', 23), ('마지막', 43), ('부르다', 41), ('흡족하다', 3), ('처가', 2), ('으로도', 17), ('일단', 49), ('당일', 6), ('분전', 14), ('오시', 11), ('맞이', 10), ('요리', 89), ('돌아다니다', 7), ('물잔', 1), ('속도', 15), ('내주다', 10), ('나가다', 77), ('춥다', 16), ('보이차', 1), ('테이크아웃', 13), ('섬세하다', 4), ('저렴하다', 34), ('순', 12), ('만큼의', 4), ('제공', 20), ('팅기다', 1), ('섞이다', 7), ('가관', 2), ('직', 9), ('쉬다', 25), ('관리', 40), ('창살', 4), ('암', 4), ('도리', 14), ('소문', 22), ('쉬', 20), ('림프', 15), ('목살', 31), ('필라프', 12), ('이서', 28), ('일찍이', 1), ('유', 13), ('배려', 9), ('혹', 5), ('모로', 6), ('탕', 8), ('딸아이', 2), ('뜨다', 44), ('줄이다', 12), ('바', 33), ('내용물', 2), ('자재', 4), ('상', 28), ('천백원', 1), ('넣어쥬길', 1), ('래', 17), ('어이', 14), ('주지', 10), ('끄다', 46), ('프렌', 4), ('이즈', 6), ('기업', 2), ('하나요', 4), ('안타깝다', 10), ('부실하다', 13), ('요게', 5), ('간간', 2), ('유니짜장', 6), ('죄다', 3), ('곤란하다', 2), ('태우다', 4), ('타다', 20), ('글쎄요', 5), ('좌석', 41), ('다닥다닥', 3), ('붙다', 31), ('한지', 7), ('밀리다', 9), ('정성', 7), ('근래', 7), ('보내다', 38), ('대왕암', 6), ('쫄깃쫄깃', 5), ('안느', 1), ('깨다', 9), ('찰떡', 6), ('드뎌', 2), ('감탄', 2), ('친정', 2), ('정자', 23), ('살수', 4), ('올해', 5), ('구매', 12), ('생선회', 5), ('위생', 51), ('남친', 5), ('세네', 1), ('하얀색', 1), ('물질', 7), ('떠다니다', 3), ('아예', 11), ('의자', 63), ('부스러기', 6), ('정갈하다', 19), ('었어', 1), ('상큼', 5), ('필수', 19), ('아보카도', 9), ('연어', 37), ('맜', 4), ('돈카츠', 21), ('툼', 7), ('차로', 3), ('입가심', 2), ('짱짱', 8), ('욧', 3), ('웰던', 6), ('줄줄', 4), ('흐르다', 10), ('면은', 8), ('바뀌다', 47), ('텐카스', 1), ('단호박', 6), ('정돈', 3), ('본적', 5), ('신지', 11), ('짧은머리', 2), ('여성', 14), ('스타', 29), ('체', 7), ('지루하다', 1), ('투', 2), ('험악하다', 1), ('조성', 1), ('코로', 3), ('피해', 6), ('야', 28), ('포함', 18), ('된거', 6), ('죄송하다', 53), ('명가', 4), ('조만간', 10), ('성남', 10), ('점주', 4), ('얼음', 12), ('고장', 8), ('에나', 6), ('워낙', 5), ('품', 13), ('가요', 38), ('불맛', 8), ('은커녕', 3), ('이리', 6), ('닝닝', 2), ('색', 8), ('연하다', 16), ('시커멓다', 1), ('짜장면', 24), ('삶다', 9), ('탕슝', 1), ('화교', 1), ('라선', 1), ('단맛', 10), ('야간', 1), ('장님', 4), ('솜씨', 2), ('인용', 5), ('검은색', 3), ('코코아', 1), ('색비', 1), ('스무', 1), ('푹', 3), ('극찬', 5), ('취한', 1), ('수제', 13), ('확실하다', 14), ('즈', 8), ('와는', 3), ('미가', 8), ('게살', 13), ('계란', 17), ('개다', 12), ('슬하', 1), ('지도', 13), ('지지도', 2), ('셋', 13), ('순위', 3), ('뜻', 4), ('라오', 3), ('당면', 4), ('당시', 2), ('안쪽', 12), ('아기', 55), ('여유', 12), ('요요', 2), ('근방', 4), ('잦다', 2), ('날씨', 31), ('난로', 2), ('가동', 2), ('놓다', 35), ('떨다', 8), ('할머니', 4), ('견디다', 1), ('대답', 28), ('건성건성', 3), ('무시', 14), ('테', 2), ('도로', 8), ('굉장하다', 16), ('솔직하다', 36), ('다섯', 7), ('도안', 9), ('바스', 13), ('레알', 3), ('보신', 6), ('일인', 3), ('쓰기', 6), ('시어머니', 1), ('맛사지', 1), ('내려오다', 7), ('숙소', 4), ('집다', 27), ('엿', 6), ('습니', 3), ('뇨', 5), ('ㅠㅋㅋㅋ', 2), ('혜자', 6), ('감사헤', 1), ('편입', 4), ('쇼파', 14), ('송시', 1), ('동네', 18), ('빵집', 4), ('구비', 1), ('짧다', 13), ('집안', 1), ('푼', 1), ('들이다', 14), ('토사', 2), ('절', 5), ('갖다', 26), ('잡초', 1), ('무성', 1), ('어도', 1), ('기르다', 10), ('소시지', 2), ('칠', 2), ('토스트', 3), ('배탈', 8), ('블러', 3), ('언니', 6), ('의견', 3), ('통일', 1), ('홈플러스', 4), ('푸드코트', 2), ('위치', 23), ('어스시', 1), ('김치전', 8), ('없어지다', 36), ('프로', 16), ('부터가', 2), ('마싯다', 14), ('ㅎㅅ', 2), ('나용', 10), ('즙', 1), ('고여', 1), ('일전', 8), ('입구', 34), ('방금', 5), ('속상하다', 10), ('엘', 6), ('그람', 1), ('무리', 3), ('안남', 2), ('곳곳이', 2), ('포토', 6), ('단위', 4), ('최근', 10), ('추다', 24), ('실외', 3), ('에서도', 16), ('마르', 2), ('게리', 1), ('권유', 2), ('센스', 15), ('아무튼', 5), ('제로', 3), ('운영', 11), ('순서도', 1), ('돌아오다', 11), ('만치', 1), ('집맛', 1), ('행복하다', 22), ('매니저', 26), ('와중', 7), ('로제', 17), ('베스트', 2), ('왠', 2), ('수비드', 4), ('베리', 17), ('코', 19), ('방식', 5), ('호불호', 4), ('갈리다', 10), ('에여', 9), ('불', 15), ('듯해', 6), ('하기는', 2), ('별하나', 7), ('로우', 9), ('크기', 24), ('해장', 12), ('번창', 22), ('미니', 6), ('소자', 1), ('찍', 6), ('가끔', 21), ('에어컨', 28), ('틀다', 20), ('창', 4), ('앞뒤', 1), ('자세하다', 4), ('엘리베이터', 5), ('잠기다', 1), ('카운터', 40), ('사용', 24), ('다짜고짜', 3), ('방해', 3), ('답글', 1), ('주신', 12), ('대로', 18), ('이란', 4), ('계단', 14), ('병명', 1), ('위아래', 2), ('증명', 2), ('장애', 6), ('인증', 13), ('윗', 4), ('커지다', 4), ('지르다', 15), ('비명', 1), ('이니', 16), ('올라서다', 4), ('리필', 30), ('까지는', 11), ('어처구니', 2), ('발음', 2), ('숟가락', 10), ('떠보다', 1), ('스푼', 6), ('상식', 3), ('퍼', 3), ('덜렁', 1), ('내려놓다', 3), ('가신', 1), ('넘어가다', 13), ('이라니', 4), ('조롱', 1), ('필', 3), ('퍼먹다', 1), ('붙이다', 12), ('소코', 15), ('이르다', 29), ('적어도', 7), ('산점', 15), ('이라도', 26), ('후추', 5), ('제거', 1), ('시도', 4), ('옴', 9), ('팔공산', 1), ('ㅜㅠㅠ', 3), ('마땅하다', 2), ('딱이다', 12), ('과는', 8), ('차원', 3), ('우월하다', 1), ('겨울', 13), ('까맣다', 4), ('바지락', 3), ('그닥', 19), ('구성은', 3), ('충무', 1), ('낮', 11), ('일주일', 9), ('막다', 11), ('푸딩', 8), ('품절', 15), ('소음', 6), ('밤', 7), ('케이크', 21), ('니드', 1), ('닥치', 1), ('회양', 1), ('안갈껍니', 1), ('에피타이저', 2), ('모듬회', 5), ('순서', 13), ('오신', 2), ('뒤', 35), ('가져가다', 26), ('어디', 23), ('에다가', 1), ('아무리', 26), ('갈수', 4), ('더위', 6), ('땀', 3), ('그날', 8), ('런가', 19), ('놨더군', 1), ('혹시', 23), ('쫌', 15), ('담당자', 5), ('해봤다', 8), ('꺼지다', 6), ('틀어주다', 4), ('쾌적하다', 14), ('환경', 4), ('패밀리', 9), ('레스토랑', 13), ('팔', 3), ('문신', 4), ('일이', 25), ('힘', 3), ('든지', 2), ('초반', 2), ('답변', 5), ('퉁', 12), ('시부모', 3), ('진즉', 1), ('거나', 6), ('부담스럽다', 18), ('꺼리다', 4), ('후반', 4), ('부터는', 5), ('산만하다', 4), ('미지', 1), ('근', 7), ('클라우드', 1), ('천', 12), ('달막', 1), ('바깥', 5), ('가짜', 1), ('이중', 6), ('얘', 5), ('아내', 2), ('점수', 4), ('소독', 2), ('티슈', 6), ('감사히', 2), ('까진', 6), ('왓', 10), ('금비', 1), ('따끈하다', 4), ('바닷가', 7), ('풍경', 14), ('쟁반짜장', 5), ('탕수', 1), ('품다', 1), ('이러니', 2), ('돈쭐', 2), ('해마다', 2), ('발', 6), ('디디다', 2), ('틈', 5), ('붐볏', 1), ('맛낫', 1), ('분주하다', 2), ('높이다', 2), ('주눅', 1), ('드디어', 14), ('본점', 8), ('인근', 1), ('개방', 3), ('그레이', 1), ('티니', 1), ('적히다', 17), ('무었', 1), ('해주', 4), ('셧', 2), ('루니', 1), ('흐뭇하다', 1), ('먹어주다', 4), ('둥이', 2), ('토', 6), ('코목살', 2), ('돼지', 22), ('마늘빵', 1), ('다대기', 3), ('구경', 7), ('펴다', 15), ('구분', 5), ('켯', 5), ('육회', 32), ('비빔면', 2), ('한식', 7), ('파', 6), ('브레이', 1), ('킹', 1), ('거기', 40), ('따닥', 1), ('갠', 5), ('이름', 13), ('가운데', 4), ('레몬에이드', 1), ('쥐다', 1), ('별개', 7), ('반올림', 1), ('봣', 3), ('빨갛다', 5), ('유니폼', 4), ('순서대로', 10), ('런', 12), ('치매', 1), ('뉴', 7), ('녹차', 6), ('티', 18), ('맹물', 2), ('계절', 6), ('가든', 9), ('감자', 17), ('놈', 1), ('불쑈', 1), ('어마', 3), ('무지하다', 2), ('속이다', 24), ('할까말까', 1), ('허전하다', 2), ('밀면', 29), ('거부', 3), ('술술', 2), ('강', 52), ('커피잔', 4), ('피크타임', 7), ('모질라', 1), ('지애', 1), ('슬러시', 1), ('오랫', 21), ('틀리다', 3), ('한쪽', 9), ('다다르다', 5), ('갓', 17), ('다주', 2), ('간도', 9), ('일산', 2), ('해수욕장', 4), ('검', 7), ('한우국밥', 5), ('기와집', 10), ('언', 26), ('목련', 1), ('피어', 1), ('울다', 17), ('날때', 1), ('특제', 2), ('간장쏘스', 1), ('어우러지다', 3), ('마구마구', 1), ('궁극', 1), ('오리', 9), ('탈', 6), ('무거', 14), ('면옥', 14), ('허허', 2), ('공카이', 1), ('ㅠㅠㅋ', 1), ('욤', 20), ('옵니다', 7), ('빠', 4), ('모기', 1), ('쫄쫄', 1), ('굶다', 3), ('짐해', 2), ('살살', 13), ('간만', 17), ('틀', 2), ('주인', 18), ('마주', 5), ('자기', 25), ('초이스', 3), ('큼지막하다', 1), ('셋팅된것', 1), ('그램', 8), ('기네', 2), ('부드러움', 4), ('넉', 1), ('신다', 6), ('안이', 7), ('떠나다', 5), ('청결', 11), ('이자', 3), ('시설', 10), ('젠', 14), ('배추', 3), ('크로와상', 5), ('버거', 6), ('꿀맛또', 1), ('생딸', 1), ('무조', 2), ('뼈', 17), ('줄다', 28), ('터', 11), ('현대', 7), ('백화점', 5), ('야경', 8), ('꾸덕꾸덕', 1), ('심각', 2), ('풀어지다', 1), ('그럭저럭', 13), ('탄산음료', 9), ('홍익', 4), ('바싹', 3), ('바로바로', 7), ('편안하다', 9), ('사람과', 2), ('씹히다', 18), ('준수', 3), ('주어', 2), ('엠', 1), ('플로렌스', 1), ('사무실', 1), ('영어', 2), ('표현', 7), ('괴롭히다', 1), ('집착', 1), ('착각', 5), ('홍당무', 1), ('무산', 1), ('신령', 1), ('애니매이션', 1), ('이누야샤', 1), ('조급', 1), ('우울', 1), ('조울증', 1), ('싸이코패스', 1), ('스라이', 1), ('원망', 1), ('불평', 1), ('원불교', 1), ('감사', 8), ('사랑', 6), ('희망', 2), ('충격', 8), ('맛남', 9), ('좃', 1), ('마파두부', 6), ('즈음', 1), ('소닌', 1), ('진', 19), ('일부', 8), ('서브', 5), ('대체', 8), ('특별나다', 1), ('소소하다', 1), ('팩', 1), ('그대로', 35), ('라네', 3), ('엽채', 2), ('사다', 12), ('멸치', 2), ('달', 29), ('연근', 1), ('무지', 7), ('동안', 25), ('화로', 1), ('닦다', 24), ('세번', 29), ('기기', 1), ('마인드', 15), ('시작', 17), ('카드', 13), ('건네다', 1), ('이라는', 10), ('첨', 39), ('제안', 2), ('저만', 10), ('이간', 5), ('왠만하다', 5), ('타지', 5), ('접대', 3), ('만큼은', 11), ('편물', 1), ('물맛', 2), ('용해', 2), ('언급', 6), ('빈자리', 4), ('인석', 7), ('이라서', 36), ('잠시', 14), ('띠용', 1), ('안함', 7), ('저러다', 5), ('석남', 1), ('누가', 17), ('ㅎㅋ', 1), ('웃다', 13), ('방문자', 2), ('성의', 13), ('종이', 11), ('휙', 3), ('가버리다', 15), ('모습', 21), ('제스처', 2), ('캐치', 7), ('오스', 18), ('채', 11), ('앱', 4), ('자동', 2), ('진상', 8), ('죠', 41), ('부들부들', 2), ('이만', 5), ('전골', 9), ('시래기', 3), ('확', 17), ('곧', 8), ('끝내주다', 12), ('멋있다', 5), ('프렌치', 2), ('떡진', 1), ('찐빵', 1), ('식감', 23), ('훌륭하다', 16), ('버터', 16), ('구이', 23), ('이면', 17), ('국밥집', 8), ('붐', 1), ('리만', 1), ('말모', 2), ('합리', 7), ('써주다', 20), ('디', 8), ('멋', 8), ('감성', 7), ('소파', 4), ('멍게', 9), ('소라', 3), ('빨다', 1), ('비리', 6), ('ㅠㅡ', 1), ('다른사람', 5), ('물고기', 2), ('믄', 2), ('큰집', 1), ('욯', 1), ('갈치', 3), ('조림', 5), ('냄비', 1), ('토막', 1), ('사만원', 1), ('제주도', 1), ('안배', 1), ('스텝', 2), ('요양', 5), ('곰탕', 1), ('완료', 6), ('정보', 10), ('건조하다', 1), ('후식', 42), ('식혜', 14), ('볼', 17), ('겉옷', 2), ('벗다', 5), ('꽁꽁', 1), ('싸매다', 1), ('쇼컷', 1), ('추억', 10), ('그러면', 3), ('노래', 2), ('선곡', 2), ('냠냠', 2), ('긋다', 6), ('차슈', 13), ('카츠', 23), ('옥금', 1), ('오는', 22), ('쫀쫀', 1), ('뿌옇다', 2), ('유저', 1), ('블컵', 1), ('냐', 13), ('염', 6), ('우선', 18), ('찌게', 15), ('최상', 2), ('등급', 1), ('ㅔ', 1), ('사항', 17), ('할라피뇨등', 1), ('말씀', 40), ('서나', 1), ('명의', 2), ('태도', 16), ('얼떨떨하다', 1), ('바르게', 1), ('느긋하다', 3), ('부탁', 16), ('어둡다', 9), ('하동', 6), ('청첩장', 3), ('늦추다', 1), ('딜', 1), ('레이', 5), ('고음', 1), ('도도', 2), ('쌈밥', 7), ('아싹', 2), ('차도', 7), ('논', 6), ('평화롭다', 1), ('그늘', 3), ('아래', 2), ('야외', 18), ('진입', 4), ('조심하다', 5), ('어렵다', 28), ('타이밍', 5), ('달라지다', 11), ('그릴', 2), ('노려보다', 1), ('치워지다', 5), ('라피', 2), ('재고', 2), ('색칠', 3), ('공', 16), ('부용', 1), ('색연필', 2), ('물티슈', 7), ('인하다', 11), ('블루', 3), ('베이', 1), ('파이', 4), ('고로케', 7), ('판이', 3), ('뒤집어지다', 1), ('판', 4), ('폐기', 4), ('태연하다', 1), ('내놓다', 7), ('상처', 1), ('분명', 7), ('대놓고', 7), ('떨어트린거', 1), ('대여', 2), ('실', 4), ('흘리다', 9), ('닫다', 9), ('분가', 1), ('한두', 13), ('ㅁ', 2), ('독단', 1), ('리가', 5), ('대요', 2), ('쓴다', 3), ('똑바로', 7), ('및', 15), ('화', 15), ('필히', 2), ('남바', 1), ('완', 1), ('애기', 22), ('델꼬', 1), ('발견', 9), ('일본', 4), ('단무지', 10), ('솔직', 3), ('롤', 4), ('까지나', 2), ('호바밤', 1), ('밑', 16), ('다별루임', 1), ('친철', 4), ('각자', 4), ('화가', 17), ('민족', 1), ('거짓', 1), ('어제', 32), ('평타', 10), ('저만큼', 1), ('사', 15), ('진보', 3), ('음식물', 9), ('배우다', 3), ('차리다', 5), ('영', 28), ('스프', 36), ('그걸', 9), ('갈아', 4), ('서툴다', 2), ('꺼', 12), ('에이', 4), ('달래다', 10), ('포크', 9), ('떨어뜨리다', 3), ('깜깜', 1), ('무소식', 5), ('다치다', 8), ('꾸준하다', 4), ('울', 10), ('기만', 8), ('다나', 3), ('나가야', 1), ('못함', 1), ('평이', 10), ('누락', 25), ('이뿌다', 7), ('저렇게', 6), ('가바', 1), ('메뉴판', 17), ('손꼽다', 1), ('포밍', 5), ('멜로', 4), ('스릉흐', 1), ('과육', 1), ('절미', 3), ('바닐라', 11), ('쑥', 2), ('얹다', 8), ('일일이', 4), ('각', 13), ('짜증나다', 25), ('까르보주문', 1), ('분후오', 1), ('래서', 3), ('분후', 2), ('이래서', 6), ('고안', 1), ('놓이다', 1), ('짓', 6), ('그거', 17), ('건네주다', 3), ('가주', 1), ('우습다', 2), ('행동', 8), ('인식', 1), ('고대로', 2), ('개념', 4), ('은장', 1), ('착후', 1), ('착하다', 9), ('이참', 1), ('질도', 12), ('장이', 15), ('마감', 24), ('내미다', 5), ('출입문', 3), ('우당탕', 2), ('예의', 4), ('백', 27), ('정이', 3), ('다시마', 2), ('식초', 5), ('굿굿굿', 1), ('방이', 2), ('데우다', 12), ('얙간', 1), ('튀다', 5), ('목살스텍크', 1), ('잠봉뵈르', 3), ('자몽', 6), ('트이다', 7), ('평생', 3), ('거만', 3), ('집앞', 5), ('내줘잉', 1), ('완존', 2), ('치렁치렁', 1), ('조마조마', 1), ('한술', 1), ('던지기', 1), ('기술', 1), ('이분', 5), ('이야기', 35), ('간신히', 1), ('자체', 23), ('나들이', 9), ('대학생', 1), ('곤드레', 14), ('양념', 49), ('낮추다', 4), ('석화', 1), ('품질', 5), ('상차림', 14), ('전복죽', 3), ('전문점', 9), ('끓이다', 9), ('옳다', 1), ('단풍', 2), ('하내', 1), ('유니', 1), ('해동특밥', 1), ('해동', 5), ('혼밥족', 1), ('권', 10), ('비밀', 3), ('라이', 4), ('셀브', 1), ('계란후라이', 3), ('초록색', 2), ('새싹', 2), ('얼씬', 1), ('딴', 4), ('데비', 2), ('차별', 7), ('만에', 18), ('작년', 10), ('이상은', 4), ('고월', 1), ('까지만', 5), ('유지', 6), ('으로써', 2), ('붐비다', 11), ('그동안', 2), ('개반', 1), ('인피니티', 1), ('킹마', 1), ('호크', 2), ('부위', 11), ('메뉴인', 8), ('뜬금없이', 1), ('척', 7), ('갑인', 1), ('딱하다', 16), ('하규', 1), ('금요일', 5), ('덜하다', 7), ('참기름', 2), ('오래되다', 13), ('결정', 3), ('분명하다', 2), ('약시', 8), ('내용', 6), ('못찍엇네', 1), ('땐꼬', 1), ('ㅋㅇㅋ', 1), ('거대', 1), ('타이거', 6), ('마늘', 17), ('잔뜩', 5), ('루꼴', 7), ('ㅋㅋㅎ', 1), ('반기다', 1), ('트러플', 14), ('버섯', 6), ('즐겁다', 32), ('추정', 2), ('톡톡', 1), ('터지다', 39), ('재밌다', 4), ('괜히', 13), ('레몬', 2), ('빛', 1), ('이루어지다', 2), ('햇빛', 4), ('화사하다', 2), ('격식', 1), ('낼겸', 1), ('끝장', 1), ('한결같이', 5), ('바람', 22), ('쐬다', 5), ('북구', 2), ('젤루', 1), ('마무리', 13), ('칭찬', 5), ('아늑하다', 9), ('결재', 14), ('넷', 1), ('큰소리', 8), ('쓰시', 5), ('다소', 20), ('앞쪽', 8), ('도넛', 22), ('제법', 7), ('남아', 9), ('콘센트', 1), ('끼다', 26), ('거미줄', 1), ('찌들다', 1), ('찐득찐득', 1), ('수저', 8), ('리기', 3), ('찝찝하다', 16), ('업계', 1), ('ㄱㄷㅎ', 1), ('댓글', 5), ('개선', 28), ('게임', 3), ('선풍기', 7), ('설마', 1), ('둘러보다', 2), ('내생', 1), ('어리석다', 1), ('임나', 1), ('울렁거리다', 3), ('음가', 1), ('말리', 1), ('고프다', 7), ('반개', 7), ('고별', 1), ('마이너스', 1), ('백만', 1), ('남성', 7), ('숙지', 1), ('쏘다', 81), ('군기', 1), ('닿다', 3), ('잡고', 8), ('존댓말', 1), ('어투', 2), ('생강', 2), ('혀', 5), ('쓰라리다', 1), ('외', 16), ('크리스', 6), ('이여', 1), ('주중', 1), ('목요일', 1), ('포인트', 3), ('제휴', 2), ('어슬렁어슬렁', 1), ('그제야', 3), ('비틀어지다', 3), ('그득하다', 2), ('전날', 8), ('횟집', 8), ('연예인', 2), ('사인', 1), ('모', 19), ('어쩌', 2), ('인맥', 1), ('진정', 2), ('사업', 2), ('생전', 1), ('참다', 17), ('가계', 1), ('병주', 1), ('턱', 6), ('귀', 9), ('출력', 1), ('한소리', 3), ('없읅꺼같', 1), ('박달', 29), ('곱다', 6), ('기념품', 2), ('치', 11), ('빨', 8), ('격', 4), ('귀가', 5), ('아픔', 3), ('조물', 1), ('평재', 1), ('년좀', 1), ('에그베네딕트', 1), ('트레이', 2), ('곰팡이', 4), ('심해', 1), ('데이', 3), ('고하', 5), ('비위생적', 5), ('중독', 15), ('넹', 5), ('크리스마스', 15), ('이브', 9), ('착석', 12), ('마안', 2), ('한정', 2), ('올라가다', 24), ('유부초밥', 2), ('태국', 3), ('매력', 6), ('피쉬', 4), ('아끼다', 6), ('코너', 14), ('빈약하다', 5), ('감다', 9), ('대응', 10), ('공장', 3), ('소화도', 2), ('단백', 1), ('아리카', 2), ('찾아보다', 6), ('이정', 9), ('어묵', 5), ('잠깐', 7), ('내기', 6), ('체적', 10), ('존맛존맛', 1), ('미만', 2), ('프랜차이즈', 5), ('루프', 5), ('탑', 8), ('하자', 7), ('마자', 5), ('쏟다', 6), ('난감하다', 2), ('휴지', 11), ('최대한', 1), ('께서', 22), ('내색', 3), ('기색', 2), ('에라도', 4), ('수리', 2), ('하라', 13), ('어처구니없다', 1), ('멘트', 4), ('층층', 1), ('멀쩡하다', 1), ('그다음', 3), ('조금씩', 7), ('키트', 2), ('닭고기', 2), ('팽이버섯', 3), ('앞머리', 1), ('말고는', 8), ('소렌토', 1), ('계란찜', 14), ('생수', 2), ('끊다', 8), ('쭈꾸미', 24), ('자판기', 1), ('생애', 2), ('차돌', 8), ('상호', 4), ('바르다', 4), ('슈트', 2), ('멍', 2), ('때리다', 2), ('빵빵', 3), ('낡다', 2), ('진절', 1), ('씻기다', 1), ('모래', 2), ('색깔', 6), ('식후', 6), ('물어', 7), ('립', 17), ('한적하다', 5), ('혼밥', 6), ('배치', 9), ('특이하다', 11), ('이후', 15), ('영화', 5), ('활용', 1), ('글쎄', 2), ('나나', 1), ('쩍쩍', 2), ('마르다', 6), ('호주청정우', 1), ('묵고', 1), ('말제', 1), ('경치', 17), ('어요', 9), ('음번', 2), ('규', 5), ('혹은', 2), ('이랜드', 2), ('관계자', 2), ('채용', 1), ('부쪽', 1), ('웍', 1), ('돌리다', 4), ('심빈', 1), ('감당', 2), ('설겆', 1), ('지는', 7), ('다인', 3), ('와플', 11), ('조차', 8), ('괜춘했던곳', 1), ('우산', 4), ('꽂다', 3), ('널', 3), ('부러지다', 4), ('밥풀', 1), ('흔적', 1), ('로되', 1), ('앉은자리', 1), ('테블릿', 3), ('형식', 1), ('대처', 13), ('능력', 1), ('복장', 2), ('트레이닝복', 1), ('놀람', 4), ('찜', 13), ('사리', 4), ('뽁음밥명', 1), ('카페인', 7), ('디카', 5), ('페인', 4), ('토욜', 2), ('야들야들', 1), ('머', 10), ('다잡다', 3), ('용강', 1), ('휴', 7), ('진자', 1), ('전국구', 1), ('진짜루', 2), ('안온', 1), ('무적', 3), ('바캠', 1), ('영원하다', 1), ('그니', 7), ('비롯', 2), ('완벽하다', 11), ('티타임', 3), ('리아', 3), ('불분명', 1), ('나은', 2), ('방법', 8), ('스럽게', 15), ('혼나다', 2), ('풀리다', 2), ('작성', 7), ('네네', 1), ('대충', 13), ('건성', 6), ('반주', 1), ('탄탄', 1), ('메다', 12), ('불맛나', 1), ('땅콩', 3), ('유가', 2), ('빡시다', 1), ('라스트', 5), ('비교', 14), ('현명하다', 1), ('선', 12), ('나마', 2), ('장만', 1), ('차례', 1), ('컨', 1), ('여지', 4), ('이틀', 3), ('뭉처져', 1), ('철', 11), ('해주시', 20), ('흐리다', 7), ('가나', 9), ('ㅠㅡㅠ', 2), ('쫀득', 4), ('값어치', 4), ('이상인', 2), ('싼값', 3), ('융통성', 4), ('돌파', 1), ('크리스피크림', 3), ('리뉴얼', 4), ('리지', 3), ('활', 2), ('뱉다', 10), ('나머지', 17), ('모밀', 30), ('검다', 6), ('식탁', 4), ('쾅', 1), ('애정', 3), ('텍로', 1), ('비도', 29), ('심', 17), ('쥬', 11), ('깜놀', 5), ('치키다', 5), ('신기하다', 12), ('산책', 4), ('한다는', 7), ('룰', 2), ('혜택', 5), ('부족', 12), ('빌다', 4), ('번복', 1), ('번거러움', 1), ('뺏다', 5), ('밝아지다', 2), ('셧구', 1), ('고런', 1), ('치하', 1), ('려', 6), ('고립', 1), ('고질', 1), ('텁텁', 5), ('시큼하다', 2), ('만빵', 1), ('봉투', 6), ('원추', 3), ('가하다', 3), ('가시다', 20), ('가방', 2), ('달랑달랑', 2), ('쇼핑', 1), ('하우스', 13), ('와인', 17), ('알루미늄', 1), ('포일', 2), ('코르크', 1), ('베', 2), ('건물', 19), ('작고', 12), ('안경', 4), ('떨떠름', 1), ('비웃다', 1), ('애초', 3), ('공짜', 6), ('돌판', 4), ('숩', 2), ('빙수', 20), ('어머님', 6), ('댁', 2), ('라따', 1), ('못마땅하다', 2), ('팍', 2), ('뜯다', 10), ('팍팍', 7), ('생면', 14), ('이탈리아', 1), ('크랩', 3), ('부채살', 4), ('떠들다', 11), ('부모', 2), ('징', 5), ('동', 18), ('구점', 3), ('삥', 1), ('스키', 3), ('딱지', 14), ('거뭇거뭇', 1), ('특유', 1), ('쨋', 2), ('푸석푸석하다', 2), ('몸통', 3), ('딸리다', 2), ('직판', 3), ('장가', 1), ('사가다', 2), ('주전', 1), ('더블', 2), ('라며', 9), ('입도', 2), ('체함', 1), ('힝힝', 1), ('양배추', 1), ('알리오', 10), ('리오', 11), ('하고프다', 2), ('호쿠', 1), ('뿜뿜', 2), ('카페라떼', 3), ('가젤', 1), ('아침', 11), ('일요일', 10), ('일대', 2), ('들차다', 1), ('시장', 11), ('지키다', 8), ('안녕하다', 5), ('렵', 2), ('복돈차', 1), ('전완', 1), ('기상', 1), ('복돈', 2), ('읍니', 3), ('읍', 6), ('효못', 1), ('치돈', 3), ('완죠', 1), ('이불', 2), ('삼다', 2), ('공복', 1), ('순이', 2), ('진라면', 1), ('순하다', 1), ('즐기다', 30), ('에게도', 3), ('안성맞춤', 4), ('쪼매', 2), ('퍼먹기', 1), ('처넌', 1), ('행복', 1), ('기후', 1), ('상도', 1), ('물기', 4), ('흥건', 3), ('물들다', 5), ('식중독', 2), ('알맞다', 3), ('일품', 9), ('문해', 4), ('기안', 1), ('털', 2), ('박히다', 2), ('털다', 4), ('나이', 4), ('론', 2), ('문의', 9), ('빵가루', 1), ('보지', 10), ('주의', 5), ('둘러대다', 1), ('현지', 2), ('화해', 1), ('요하', 3), ('회전초밥', 5), ('어지간하다', 2), ('사이즈', 9), ('고요', 13), ('함량', 1), ('낮다', 10), ('핵', 2), ('이미지', 7), ('칼로리', 2), ('북', 2), ('빔', 1), ('냉동', 17), ('남', 9), ('음료수', 13), ('어어', 2), ('외부', 7), ('지리다', 2), ('착착', 1), ('앉히다', 5), ('촤라락', 1), ('평범', 3), ('체험', 2), ('종종', 27), ('카라', 1), ('돈코츠', 2), ('나이스', 1), ('읎', 1), ('지저분하다', 18), ('좀덜', 1), ('밍밍', 15), ('번가', 4), ('에겐', 4), ('별거', 2), ('공원', 4), ('난도', 1), ('막도', 4), ('우유', 9), ('이니까', 2), ('누리다', 7), ('맨날', 11), ('무뚝뚝하다', 6), ('사고', 4), ('공기밥', 22), ('쭈뼛쭈뼛', 2), ('시구', 2), ('아키라', 2), ('월요일', 5), ('헤', 6), ('이닝', 6), ('흥정', 4), ('대가', 8), ('데이트비용', 1), ('당인', 1), ('닥', 13), ('앞전', 2), ('아씨', 1), ('면상', 1), ('넘어서다', 7), ('신경질', 4), ('인지도', 2), ('쌍', 2), ('커플', 13), ('젊다', 5), ('분땜', 1), ('싫어지다', 2), ('졸업식', 5), ('꽃다발', 1), ('까지도', 4), ('주먹밥', 4), ('이미', 19), ('성품', 1), ('부제품', 1), ('보라', 4), ('싸하다', 2), ('한글', 1), ('절대로', 2), ('으로서', 1), ('지역', 9), ('이글', 2), ('점검', 2), ('봉골레', 5), ('빙', 5), ('유성호', 1), ('선장', 5), ('셋트', 5), ('이며', 9), ('낚', 2), ('보쌈', 16), ('연못', 4), ('바라보다', 8), ('아가', 4), ('착오', 2), ('립스틱', 2), ('의심', 10), ('뎅', 7), ('구리', 2), ('신상', 3), ('블라썸', 1), ('포레스트', 1), ('노맛', 2), ('콜드', 7), ('브루', 5), ('인졍인졍', 1), ('지지', 1), ('깻잎', 1), ('포슬포슬', 1), ('감태', 2), ('섞다', 5), ('맡다', 4), ('락스', 7), ('넘사벽', 1), ('럭셔리', 2), ('대학원생', 1), ('욕심', 3), ('방일', 1), ('뒷문', 1), ('담배', 3), ('피시', 1), ('고무장갑', 2), ('목', 6), ('초코', 10), ('감감', 3), ('녜', 2), ('안녕', 1), ('쪼가리', 4), ('뭣해', 1), ('상당하다', 7), ('업', 6), ('신규', 2), ('꼴다', 2), ('도작', 1), ('일차', 1), ('설후', 1), ('풀다', 7), ('누나', 2), ('올킬', 1), ('깃밥', 1), ('하나로', 3), ('클리어', 5), ('모짜렐라', 1), ('훈', 1), ('식빵', 6), ('이쯤', 1), ('복분자', 1), ('구르다', 1), ('조화로움', 1), ('아직도', 4), ('ㄹㅇ', 3), ('사육', 1), ('먹이', 2), ('리을', 1), ('이응', 1), ('실화', 1), ('밀크', 1), ('가볍다', 11), ('직화', 4), ('노랗다', 3), ('장점', 5), ('하얀별', 1), ('체계', 3), ('문어', 3), ('김해', 2), ('ㅠㅜㅜ', 3), ('최애', 16), ('편견', 2), ('깨지다', 5), ('겉바속쫀', 1), ('감별', 1), ('블루리본', 4), ('고기랑', 9), ('가안', 1), ('질서', 2), ('쌀국수', 3), ('샷', 3), ('괜', 2), ('복', 1), ('잡', 14), ('여요', 2), ('부럽다', 2), ('손해', 3), ('전고지', 2), ('라지', 7), ('잡히다', 1), ('상당', 1), ('ㅓ', 3), ('제품', 4), ('무인', 3), ('포스', 1), ('스쿱', 1), ('놔두다', 6), ('아차', 1), ('출렁', 1), ('국', 5), ('한국', 5), ('저런', 6), ('강정', 3), ('메아리', 1), ('유사하다', 1), ('과도', 2), ('인색하다', 1), ('잔디밭', 2), ('솔드아웃', 4), ('기입', 3), ('아포가토', 1), ('볼거리', 3), ('이선', 1), ('솔솔', 3), ('육즙', 14), ('팡팡', 3), ('널널', 5), ('하이', 2), ('정신없이', 10), ('배트', 1), ('오히려', 15), ('베다', 8), ('밥맛', 6), ('새우젓', 1), ('무겁다', 5), ('약하다', 14), ('어울림', 2), ('갈비살', 5), ('두툼한', 1), ('메밀전', 20), ('쌈', 1), ('비빔냉면', 9), ('요만', 3), ('두도', 1), ('꽉', 8), ('차고', 4), ('만해', 12), ('삼계', 1), ('죽', 8), ('주기도', 2), ('쳐다보다', 11), ('댓', 1), ('강감', 1), ('답답하다', 10), ('컨디션', 2), ('고생', 7), ('종일', 4), ('유정호', 8), ('지존', 1), ('완벽', 5), ('잡채', 10), ('초초', 1), ('초대형', 1), ('펑', 1), ('다처', 1), ('문안', 1), ('변명', 3), ('데려오다', 3), ('시국', 7), ('턱스', 3), ('아무렇다', 10), ('제지', 3), ('아숩음식', 1), ('전투', 1), ('노가리', 1), ('빡치다', 5), ('광광', 1), ('싱귤러커피', 5), ('커피집', 2), ('웩', 1), ('이십분', 2), ('물냉면', 3), ('겨자', 4), ('싸움', 3), ('마약', 2), ('빵맛', 2), ('끼우다', 3), ('동도', 2), ('초등딸', 1), ('데리다', 4), ('체인점', 2), ('각종', 2), ('간식', 5), ('며칠', 5), ('증상', 1), ('신고', 6), ('대형', 8), ('핸드솝', 1), ('이솝', 1), ('스테인레스', 1), ('망', 2), ('외곽', 2), ('유비', 1), ('인건비', 1), ('유지비', 1), ('돌아가다', 8), ('에러', 2), ('던', 3), ('당당하다', 1), ('에티튜드신', 1), ('전화번호', 2), ('경로', 1), ('전화하다', 15), ('오류', 1), ('어쨌건', 1), ('번호', 13), ('시경', 4), ('거셨는데', 1), ('통화', 4), ('거세', 1), ('돈벌이', 1), ('팔고', 1), ('빵점', 1), ('만삭', 2), ('임신', 1), ('줄선끝', 1), ('차지', 3), ('위험하다', 5), ('겨우', 12), ('올라오다', 10), ('수시로', 5), ('오르락내리락', 1), ('금도', 1), ('끝내', 2), ('차디차다', 1), ('시멘트', 1), ('조밀하다', 1), ('오션', 6), ('유리창', 2), ('얼룩지다', 1), ('연출', 1), ('또한', 15), ('형편', 2), ('손질', 9), ('손수', 1), ('최소한', 6), ('부재', 4), ('부다', 6), ('후기', 30), ('서울', 7), ('기장', 7), ('최하', 2), ('불판', 5), ('닦이다', 2), ('물김치', 4), ('찌', 8), ('살얼음', 2), ('의욕', 2), ('당기다', 3), ('이리저리', 2), ('마넌', 1), ('게뭐', 1), ('난뒤', 2), ('차가워지다', 1), ('게는', 5), ('지난', 7), ('화나다', 6), ('다지다', 7), ('깡패', 5), ('런치', 19), ('벼르', 1), ('다가', 12), ('쩜그랫', 1), ('넘기다', 6), ('치가', 1), ('컷', 2), ('신선', 4), ('통해', 6), ('겨', 3), ('스팟', 1), ('소정', 10), ('머쉬룸', 2), ('닷', 2), ('한텐', 2), ('뒷', 11), ('분지', 1), ('나니', 6), ('빼', 11), ('대부분', 9), ('이던', 4), ('병', 21), ('깜박', 2), ('적용', 4), ('노량진', 1), ('수산시장', 2), ('리보', 1), ('다양', 1), ('이적', 2), ('종도', 2), ('광어', 8), ('우럭', 1), ('금구', 1), ('새우다', 10), ('금위', 1), ('빕스', 2), ('도키', 1), ('사시미', 5), ('싱싱하다', 14), ('마저도', 1), ('핵창렬', 2), ('향가', 2), ('닥치고', 1), ('동생', 9), ('쌍욕', 1), ('요약', 2), ('왕자', 3), ('간다', 12), ('후딱', 2), ('딜해', 1), ('알차다', 11), ('허다', 8), ('강력하다', 2), ('면발', 9), ('쫄깃', 17), ('쯔유소스', 1), ('구석', 12), ('가만히', 2), ('빈곳', 2), ('한간', 1), ('길어지다', 4), ('상하', 3), ('책임', 1), ('수십', 1), ('묵묵하다', 1), ('도와주다', 4), ('우리동네', 1), ('자장면', 4), ('자장', 1), ('퍼지다', 5), ('이따', 3), ('업주', 1), ('안닌가', 1), ('몰리다', 9), ('애매하다', 6), ('푸드', 4), ('오일', 7), ('부라타', 4), ('소란', 4), ('손짓', 4), ('소란하다', 1), ('제때', 4), ('문서', 4), ('톡', 5), ('시정', 5), ('상대방', 3), ('고치다', 2), ('빨르다', 4), ('숯', 6), ('그을리다', 2), ('닉네임', 1), ('시무룩하다', 1), ('돌아보다', 2), ('지은', 3), ('개맛', 5), ('쩔', 1), ('이야', 10), ('벌', 3), ('규모', 15), ('기존', 6), ('원가', 2), ('절감', 2), ('리라', 1), ('치즈케이크', 11), ('니글니글', 2), ('강력', 9), ('전라도', 1), ('경상도', 1), ('경험', 11), ('사하다', 2), ('그랬는데', 4), ('후라이드', 1), ('갑', 9), ('에그', 2), ('누', 6), ('이확', 1), ('세련되다', 2), ('폐점', 1), ('즉석요리', 1), ('집중', 8), ('농담', 1), ('여름철', 1), ('추강', 4), ('추', 7), ('판매', 11), ('맥주', 15), ('다예', 2), ('오븐', 6), ('올린다', 1), ('날아다니다', 2), ('거슬리다', 5), ('껏', 8), ('나타나다', 1), ('두리', 4), ('당분간', 3), ('푸릇', 1), ('미트볼', 4), ('태화강', 5), ('국가', 7), ('통창', 5), ('유리', 5), ('찜찜', 1), ('밤새다', 1), ('잠', 2), ('인간', 2), ('한심하다', 1), ('후진', 1), ('입차', 1), ('들이밀다', 1), ('바퀴', 10), ('글자', 2), ('무대뽀', 2), ('사서', 3), ('잡탕', 1), ('구리다', 4), ('뷰맛', 1), ('랄', 6), ('피곤하다', 5), ('용어', 1), ('도해', 1), ('살벌하다', 2), ('ㅂㅈㄷㄱㅅ', 1), ('영리', 1), ('중식', 17), ('용기', 9), ('에서의', 3), ('티남', 1), ('중량', 2), ('표기', 2), ('보임', 6), ('반도', 1), ('반의', 1), ('버너', 2), ('시어', 1), ('크림소스', 2), ('방치', 3), ('마트', 9), ('시판', 1), ('별다르다', 6), ('가성비랬', 1), ('목구멍', 1), ('콧구멍', 1), ('이돈', 2), ('맘모스', 2), ('원픽', 2), ('양고기', 7), ('더니', 10), ('듐', 1), ('달랑', 8), ('대접받다', 3), ('히레가츠', 1), ('아버님', 1), ('공용', 3), ('변', 2), ('스타벅스', 3), ('타고', 9), ('에스컬레이터', 1), ('미로찾기', 1), ('시간대', 14), ('메세지', 1), ('순번', 5), ('갑자기', 10), ('훅', 2), ('동반', 8), ('예절', 3), ('트림', 2), ('뚝', 4), ('재사용', 4), ('이든', 10), ('어째', 1), ('처람', 1), ('밭골', 4), ('난방', 2), ('외투', 2), ('빙하', 6), ('잠바', 1), ('분뒤', 4), ('깔리다', 1), ('시체', 1), ('띵동해', 2), ('콜라', 11), ('상추', 3), ('가다가', 3), ('해외여행', 1), ('대규모', 2), ('수용', 2), ('연초', 1), ('하몽', 4), ('구역', 2), ('에선', 7), ('곳이쥬', 1), ('질리', 8), ('묵밥', 1), ('가시', 13), ('교점', 1), ('예식', 1), ('둘러싸이다', 1), ('무리다', 1), ('찍히다', 3), ('명단', 3), ('울면', 1), ('걸쭉하다', 2), ('어디서', 3), ('컨셉', 2), ('커피숍', 7), ('친하다', 1), ('부부', 10), ('데리', 27), ('말기', 1), ('부타동', 1), ('어니언', 2), ('바삭바삭하다', 3), ('자취', 1), ('즣았어', 1), ('찹쌀', 1), ('깨보샤', 1), ('농도', 5), ('굽기', 5), ('자극', 9), ('휴양지', 1), ('시내', 7), ('출장', 1), ('빗다', 1), ('뚫다', 3), ('보들보들하다', 1), ('어리다', 15), ('아이쿠', 1), ('관계없이', 3), ('먹방', 2), ('면개', 1), ('해돋이', 1), ('고래고기', 1), ('어리바리하다', 1), ('지켜보다', 1), ('한두어', 1), ('달려가다', 1), ('밥솥', 1), ('수라', 1), ('쇼케이스', 1), ('모양', 5), ('닫히다', 1), ('짝', 3), ('이기도', 3), ('무한리필', 3), ('소식', 4), ('뽁음', 1), ('판단', 1), ('식판', 1), ('고아', 1), ('메밀', 7), ('고려', 3), ('전세계', 1), ('쏠쏠하다', 1), ('조화', 5), ('들어주다', 5), ('내면', 7), ('딱좋다', 6), ('요인', 2), ('만두전골', 5), ('탕슉', 1), ('여가', 1), ('복작복작', 1), ('장통', 2), ('마냥', 9), ('비릿', 3), ('구리구리', 1), ('쬐다', 4), ('간절', 1), ('맛맀어보', 1), ('돈가쓰', 1), ('순식간', 4), ('엉', 8), ('ㄷ', 4), ('라운지', 1), ('절실', 1), ('묵은지', 2), ('시스템', 6), ('너무나', 14), ('미디엄', 3), ('남동생', 1), ('이모', 17), ('만담', 2), ('사냥', 1), ('건데', 2), ('존맛뭘', 1), ('다비', 1), ('드물다', 2), ('유일하다', 1), ('곱', 4), ('삼계탕', 18), ('앞치마', 9), ('구멍', 2), ('세탁', 2), ('냅킨', 8), ('헉', 1), ('일어나서', 2), ('벽', 2), ('시급하다', 1), ('거짓말', 5), ('말로', 1), ('몇몇', 4), ('카프레', 2), ('신선도', 8), ('자릿세', 2), ('접합', 1), ('인터넷', 4), ('의심스럽다', 2), ('편도', 4), ('스끼', 6), ('서간', 1), ('이겠다', 2), ('비용', 6), ('커뮤니케이션', 1), ('알림', 1), ('이지', 15), ('지우다', 2), ('여유롭다', 6), ('와이파이', 2), ('비밀번호', 1), ('고함', 9), ('디너', 4), ('흑', 6), ('가야', 14), ('요안', 3), ('밥알', 7), ('둘째', 5), ('명찰', 3), ('보다도', 5), ('테라스', 7), ('호수', 5), ('블루베리', 2), ('산뜻하다', 2), ('씁쓸하다', 1), ('일드', 1), ('살점', 1), ('스페인', 1), ('항정살', 2), ('가지다', 8), ('저렴', 4), ('적엇어', 1), ('더비', 2), ('답좀', 1), ('돈준', 1), ('분기', 5), ('다리다', 6), ('햠', 1), ('왓는데', 1), ('바꼇', 1), ('도데', 1), ('번하다', 3), ('점장님', 3), ('주올', 2), ('만나다', 8), ('평가', 4), ('되게', 13), ('야무지다', 4), ('티라미수', 4), ('맛잏', 1), ('쳣음', 1), ('ㅊㅊㅊ', 1), ('쫀득하', 4), ('통오징어', 1), ('싸가지', 12), ('난생', 3), ('세분', 1), ('공중', 2), ('위로', 5), ('뭔', 4), ('패스', 2), ('한숨', 6), ('해장국', 11), ('점심식사', 5), ('온천', 2), ('체인', 1), ('감자탕', 10), ('나르다', 3), ('웃기다', 6), ('아저씨', 2), ('얌전하다', 1), ('시더', 1), ('괴팍하다', 1), ('나란하다', 2), ('주르륵', 1), ('데넘', 1), ('한가지', 7), ('베이컨', 11), ('탄탄하다', 1), ('받치다', 1), ('가죽', 2), ('기류', 2), ('요물', 1), ('주전자', 2), ('투명하다', 1), ('얼룩덜룩', 1), ('구재', 1), ('가짓수', 6), ('콜키', 2), ('개사', 1), ('아만', 1), ('투닥거리', 1), ('수군수군', 1), ('혔', 1), ('해조류', 1), ('잔돌', 1), ('두렵다', 2), ('치아', 2), ('밥집', 3), ('데빈', 1), ('별채', 3), ('부랴부랴', 4), ('숯불', 9), ('본연', 3), ('살리다', 2), ('만의', 4), ('해물짬뽕', 1), ('생물', 2), ('인게', 3), ('벗기다', 1), ('가왜', 1), ('물러서다', 2), ('하나같이', 6), ('배다', 9), ('민망하다', 6), ('무표정', 8), ('적립', 1), ('마당', 2), ('밀가루', 6), ('비율', 1), ('달콤하다', 6), ('포', 7), ('밍멜', 4), ('점원', 6), ('장안', 1), ('웅장', 1), ('라가', 1), ('문자', 4), ('화난', 2), ('무안하다', 3), ('소리치다', 5), ('에서부터', 5), ('이점', 2), ('늘리다', 6), ('칸칸', 1), ('방향', 4), ('제라', 2), ('악취', 2), ('맞은편', 3), ('벌써', 16), ('물바다', 2), ('미끄럽다', 1), ('신발', 4), ('경향', 1), ('준', 12), ('배치도', 2), ('뭣', 3), ('상쇄', 1), ('해쉬', 1), ('브라운', 2), ('계란프라이', 1), ('입술', 2), ('싣다', 1), ('버젓이', 1), ('비려', 7), ('머스타드', 3), ('강하다', 17), ('복구', 1), ('제도', 2), ('이도', 1), ('이기다', 11), ('이류', 1), ('전복', 9), ('대만', 1), ('여권', 1), ('쨩쨩', 1), ('파전', 9), ('역할', 1), ('꿀', 3), ('졸', 1), ('젤로', 1), ('소요', 7), ('주택가', 1), ('부근', 1), ('미지근하다', 6), ('폭염', 2), ('주의보', 2), ('내리다', 5), ('뜨겁다', 6), ('써버님', 1), ('지치다', 5), ('상냥하다', 5), ('바게트', 3), ('스틱', 2), ('쭉쭉', 2), ('상한', 4), ('도저히', 9), ('휭', 1), ('쏘이다', 3), ('어차피', 6), ('중요시', 1), ('매달', 2), ('명색', 1), ('건들', 1), ('분란', 1), ('일으키다', 1), ('하진', 2), ('부도', 1), ('실패하다', 5), ('기왕', 1), ('조명', 9), ('이루다', 1), ('수육', 6), ('무질', 1), ('말차', 2), ('부산여행', 1), ('구도', 1), ('듬뿍', 6), ('접근', 1), ('어려움', 1), ('막상', 4), ('길다', 13), ('대박나다', 3), ('동구', 5), ('뻔재', 1), ('지난번', 9), ('론거', 1), ('상무', 11), ('순조', 1), ('롭고', 3), ('스케일', 1), ('맹탕', 2), ('기음', 1), ('동행', 2), ('뮤', 3), ('바램', 2), ('수전', 1), ('갠데', 1), ('활어회', 3), ('챠슈', 2), ('닭강정', 7), ('교자', 1), ('사르다', 2), ('서고', 2), ('개화', 1), ('월일', 5), ('실하다', 6), ('어란', 1), ('꼼꼼하다', 4), ('진행', 4), ('불타다', 1), ('비결', 1), ('묜', 2), ('불향', 2), ('안보', 4), ('반갑다', 2), ('낮잠', 1), ('불어', 4), ('튿별', 1), ('매정하다', 1), ('비닐봉지', 1), ('탁탁', 1), ('정말로', 3), ('마블링', 1), ('코스터', 1), ('세팅할', 1), ('부들', 2), ('꼬기', 1), ('불량하다', 1), ('만석', 13), ('모말', 5), ('무치다', 11), ('마슨', 1), ('굴', 4), ('호박', 2), ('두부', 4), ('제철', 8), ('직전', 2), ('적기', 1), ('연어초밥', 5), ('참치', 3), ('차투리', 1), ('쌀알', 2), ('카이센동', 2), ('대가리', 3), ('자고', 2), ('빋', 1), ('불문', 1), ('피우다', 4), ('세면대', 4), ('배차', 1), ('휴무', 6), ('연휴', 4), ('안거', 5), ('조미료', 3), ('배정은', 1), ('배정', 14), ('부로', 2), ('밸런스', 1), ('요한', 2), ('봉', 3), ('버', 1), ('무려', 1), ('색상', 1), ('띄다', 1), ('맛깔', 1), ('복불복', 1), ('대자', 1), ('강요', 5), ('정수기', 3), ('시냐', 1), ('의아', 1), ('밍숭맹숭한', 1), ('화기', 1), ('애하', 1), ('벙문', 1), ('알아보다', 8), ('주심', 9), ('뵈다', 2), ('와르르', 1), ('크리미', 1), ('어쩌나', 2), ('년전', 5), ('차이나다', 1), ('이보', 1), ('보상', 1), ('게맛', 2), ('거액', 1), ('쉐프', 2), ('갑사', 1), ('번말', 2), ('더하다', 5), ('나위', 2), ('오사카', 1), ('비대', 2), ('방운객', 1), ('어긋나다', 1), ('로운', 3), ('구운감자', 1), ('벗꽃', 1), ('화보', 4), ('기전', 8), ('들렷는데', 2), ('레인', 2), ('으', 9), ('달랫더', 1), ('달랫는데', 1), ('안주', 14), ('맙시', 1), ('확대', 1), ('사납다', 2), ('인내심', 1), ('나타내다', 1), ('분비', 1), ('인력', 1), ('그중', 3), ('종이가방', 3), ('새다', 5), ('삼삼하다', 2), ('훈연맛', 1), ('동치미', 5), ('콩나물', 5), ('꼭지', 2), ('부문', 1), ('변색', 1), ('광양', 2), ('한식당', 2), ('견해', 2), ('업다', 1), ('창업', 1), ('여러분', 6), ('햇습니', 1), ('경주', 4), ('현미', 1), ('창밖', 2), ('왕새우', 1), ('터벅', 1), ('오염', 3), ('싸우다', 9), ('폭언', 1), ('이랬는데', 3), ('칭구', 2), ('내일', 2), ('어린이날', 4), ('코코넛', 4), ('슈', 2), ('맛았', 1), ('만면', 1), ('탱글탱글', 3), ('화이트', 4), ('걸이', 2), ('어쩜', 1), ('깍', 2), ('뚜', 2), ('뚜기', 1), ('승질', 1), ('강약', 1), ('만들어지다', 3), ('도자기', 1), ('이뽀', 1), ('구해', 1), ('하드', 1), ('돟았습니', 1), ('매실', 5), ('장국도', 4), ('전과', 2), ('점점', 23), ('위주', 3), ('딘짜', 1), ('홈페이지', 1), ('시켯더', 2), ('깜몰', 1), ('스끼다시', 4), ('컵라면', 1), ('허기지다', 1), ('언갈', 1), ('둣', 1), ('습니다', 1), ('지갑', 2), ('열기', 1), ('무섭다', 6), ('하얗다', 6), ('자차', 1), ('써니사이드', 4), ('호', 3), ('호도', 1), ('까탈', 1), ('항목', 1), ('버튼', 1), ('도라방스', 1), ('기쁘다', 2), ('방울', 1), ('은근', 3), ('꼭대기', 2), ('멍하다', 1), ('쫄직쫄깃', 1), ('또감', 1), ('부턴', 4), ('나가시', 1), ('조곤조곤', 1), ('천천히', 4), ('정합', 2), ('설렁탕', 1), ('철수', 1), ('세미', 1), ('수세미', 1), ('즈그', 1), ('고온', 3), ('안감', 8), ('고서', 1), ('한창', 5), ('반짝', 1), ('비늘', 1), ('거꾸로', 2), ('그땐', 2), ('신속', 1), ('정확', 2), ('인기', 11), ('전가', 1), ('꼽주면', 1), ('가르치다', 2), ('등록', 6), ('랍니', 1), ('탁하다', 3), ('이열치열', 1), ('히', 7), ('디시', 1), ('형', 4), ('키친', 5), ('뒷쪽', 4), ('걸레', 3), ('너저분하다', 1), ('줗', 1), ('햇살', 2), ('빚', 2), ('스케이트장', 1), ('시나', 1), ('역다', 1), ('자년', 1), ('엄지', 3), ('엏던', 1), ('머물다', 4), ('발전', 2), ('돌기', 1), ('불리다', 2), ('드립커피', 1), ('구심', 1), ('소스류', 1), ('통통하다', 10), ('먹이다', 3), ('삼해', 1), ('잊혀지다', 2), ('탁트인', 3), ('석도', 4), ('공존', 1), ('가세', 12), ('스페셜', 3), ('이벤', 1), ('인정식', 1), ('맹맛', 1), ('홀쪽', 1), ('으로만', 5), ('매주', 3), ('거덜', 1), ('퐝퐝', 1), ('어유', 1), ('뉴얼', 1), ('뒷날', 1), ('종', 4), ('블랙', 15), ('앵거스', 1), ('천국', 1), ('느꼇', 1), ('자도', 2), ('준밥', 1), ('멀겋', 1), ('부산스럽다', 1), ('고구마', 10), ('금강산', 3), ('오이', 6), ('머진', 1), ('구관', 1), ('명관', 1), ('저수', 1), ('아름답다', 4), ('갑작스레', 1), ('국산', 2), ('들깨', 2), ('발암', 1), ('짜내다', 1), ('자부심', 1), ('쇠고기', 1), ('쌔', 3), ('오렌지', 3), ('또왔는딩', 1), ('붓', 3), ('케', 4), ('흐름', 7), ('ㅣ', 2), ('거지', 7), ('긁혔는데', 1), ('룩', 2), ('취급', 7), ('아라비아', 1), ('순삭', 5), ('생으로', 1), ('식욕', 3), ('조경', 2), ('쌩', 4), ('상전', 1), ('남목', 1), ('가라', 2), ('명인', 2), ('이별', 1), ('우디', 1), ('계열', 3), ('인톄리아', 1), ('트러클', 1), ('게장', 7), ('팅할', 2), ('하몽루꼴', 2), ('오래전', 2), ('마침', 3), ('결혼기념일', 5), ('똑같다', 12), ('인터', 2), ('심플', 2), ('땨', 1), ('반절', 1), ('기웃', 1), ('재촉', 3), ('모던', 2), ('살생', 1), ('선조', 1), ('번벅', 1), ('단조', 1), ('쩔다', 1), ('명도', 2), ('유아', 2), ('적정하다', 2), ('모라', 1), ('특', 5), ('미라', 1), ('만웡', 1), ('구입', 3), ('토탈', 1), ('나요', 6), ('부추기다', 1), ('상함', 1), ('대안', 5), ('로고', 2), ('피드백', 2), ('정장', 2), ('함부로', 2), ('직책', 2), ('이신가', 1), ('시조', 1), ('안쓰럽다', 2), ('그야말로', 1), ('뭡', 1), ('최선', 1), ('듭니', 6), ('특정', 2), ('아포', 3), ('카토', 3), ('감귤', 3), ('자몽주스', 1), ('엇습', 2), ('오전', 7), ('늦어지다', 11), ('연령', 1), ('오름', 1), ('눈빛', 4), ('에다', 4), ('대고', 5), ('폰', 1), ('사적', 1), ('최소', 5), ('잘쓰다', 1), ('뻥', 2), ('공유', 1), ('바가지', 4), ('명여', 1), ('성명', 1), ('예상', 4), ('범위', 1), ('자매', 1), ('메리트', 3), ('반납', 4), ('매뉴판', 1), ('복날', 4), ('사시', 1), ('사철', 1), ('평수', 1), ('인삼', 4), ('요것', 1), ('매년', 2), ('이랑은', 2), ('소로', 3), ('고양이', 4), ('과의', 1), ('베이비', 3), ('싹싹', 4), ('민', 3), ('왕복', 3), ('괜찮넹', 1), ('어찌나', 7), ('데리야끼', 1), ('치킨라이스', 1), ('파다', 2), ('제발', 4), ('이따위', 2), ('망정', 1), ('고스', 2), ('스끼값', 1), ('한다해', 1), ('거절', 1), ('거때매', 1), ('대왕', 1), ('입문', 1), ('만남', 1), ('지게', 1), ('땅', 5), ('싸구려', 4), ('전어', 1), ('가자미', 3), ('알파', 1), ('발도', 1), ('질감', 1), ('쿵쿰', 1), ('요미', 1), ('섭외', 1), ('팔지', 1), ('부엌', 1), ('남구', 1), ('스', 2), ('구만원', 1), ('공휴일', 3), ('성과', 1), ('불만족', 4), ('계산서', 3), ('미흡', 1), ('램', 2), ('브', 10), ('미파', 6), ('아사히', 1), ('떫', 1), ('달동', 3), ('등뼈', 2), ('흑우', 7), ('대체재', 1), ('족함', 1), ('소홀하다', 2), ('부풀리다', 2), ('따지다', 4), ('수정', 4), ('여러가지', 5), ('명촌', 1), ('매끄럽다', 1), ('랜덤', 2), ('전등', 4), ('볼때', 2), ('밝다', 5), ('불켜', 1), ('켜지다', 2), ('심각하다', 3), ('외적', 1), ('짐작', 1), ('상관', 6), ('푸른', 3), ('간단하다', 8), ('어치', 5), ('막내', 2), ('어보', 2), ('킬러', 1), ('넋', 1), ('오죽하다', 2), ('큰아들', 1), ('초등학생', 3), ('학년', 1), ('오래오래', 4), ('스탈', 5), ('동인동', 1), ('낌', 2), ('알갱이', 1), ('보이지', 5), ('자작하다', 1), ('부족함', 4), ('가마솥', 1), ('의외로', 4), ('곁들이다', 7), ('아아', 5), ('쥼맛탱', 1), ('트리', 3), ('감추다', 2), ('슥', 5), ('뚱하다', 2), ('참으로', 1), ('스러운', 4), ('각색', 1), ('의거', 1), ('담임', 1), ('일어나다', 9), ('함재', 1), ('오자', 6), ('똭', 1), ('비쥬', 9), ('입자', 1), ('머선', 2), ('보라카이', 1), ('온도', 5), ('바디', 2), ('커트러리', 2), ('세심', 6), ('흉내', 1), ('까페', 5), ('연해', 2), ('복도', 1), ('빼기', 1), ('생업', 3), ('빼곤', 1), ('막창', 1), ('널글', 1), ('레이즈', 2), ('초콜렛', 1), ('아이스', 9), ('글레이', 1), ('의식', 2), ('세명', 5), ('플래터', 3), ('채소', 2), ('토핑', 5), ('어우려져', 1), ('숙련', 1), ('생맥주', 1), ('유난히', 4), ('문수', 1), ('저물다', 1), ('듣기', 3), ('디자인', 1), ('쵸', 1), ('베스', 2), ('개중', 2), ('삼삼오오', 1), ('의도', 1), ('벌금', 1), ('정확하다', 8), ('약속', 3), ('속눈썹', 1), ('첨부', 2), ('장인', 2), ('후시', 3), ('부대끼다', 1), ('요구사항', 2), ('정해준', 1), ('방석', 3), ('두번쨰', 1), ('공영', 6), ('진리', 5), ('만약', 3), ('봉골레맛', 1), ('가리다', 1), ('짬', 3), ('상치', 1), ('워', 3), ('굴국밥', 3), ('양념장', 2), ('까운', 1), ('성안동', 5), ('일주', 1), ('포도', 1), ('썩다', 3), ('와듀', 1), ('칡', 2), ('존맛입니댜', 1), ('라만', 1), ('선착순', 3), ('노답', 1), ('누무넌', 1), ('무무', 1), ('기지', 1), ('부어', 3), ('테러', 1), ('향해', 1), ('아르바이트생', 1), ('배짱', 3), ('말리다', 2), ('안질', 2), ('두께', 3), ('타도', 1), ('은은하다', 2), ('먹어볼껄', 1), ('명정', 1), ('사악', 1), ('썰리다', 2), ('런치타임', 5), ('이제껏', 1), ('윙', 1), ('대지', 1), ('팩트', 3), ('픽업', 8), ('메이플', 2), ('칸', 1), ('탁월하다', 2), ('통째', 2), ('반했어', 2), ('토요일', 6), ('쉰', 8), ('깨끗', 1), ('소코동', 1), ('참돔', 1), ('점성', 3), ('화덕', 14), ('즉석', 5), ('먹물', 13), ('천장', 5), ('설치', 3), ('돋보이다', 1), ('오붓하다', 1), ('맛낭', 2), ('리뉴', 2), ('조명도', 3), ('ㄴ', 4), ('가쓰오부시', 3), ('낯설다', 1), ('백반', 2), ('전형', 1), ('관광지', 5), ('낚었어', 1), ('이구', 6), ('마쯔리', 3), ('핫해', 1), ('스토리', 1), ('제격', 5), ('강츄', 2), ('꽃장식', 1), ('우삼겹', 5), ('닭튀김', 5), ('성격', 2), ('왕성', 1), ('접촉', 1), ('체온계', 1), ('이인', 1), ('우랑', 2), ('라벨', 6), ('까다롭다', 5), ('쪼금', 2), ('이아', 1), ('공지', 4), ('앗', 3), ('백가', 1), ('첨으로', 1), ('탁음', 1), ('주민', 2), ('유산슬', 1), ('중구', 6), ('화공', 5), ('ㅇㅔ', 1), ('퇴근', 3), ('딸', 8), ('욕', 7), ('처제', 1), ('발가락', 1), ('핑계', 5), ('나대다', 1), ('릿', 1), ('진동', 4), ('명성', 3), ('네오', 1), ('외관', 3), ('비위', 2), ('준곳', 1), ('가구', 3), ('팁', 1), ('어감', 1), ('리조', 3), ('태블릿', 4), ('대책', 3), ('끈적끈적하다', 2), ('깨끗해지다', 1), ('락교', 1), ('손잡이', 1), ('회의', 1), ('비만', 1), ('양심', 2), ('사주다', 1), ('창피하다', 2), ('지기', 3), ('지끈', 1), ('거립니', 1), ('떨구다', 1), ('브금', 1), ('엣헴저희', 1), ('복숭아', 1), ('구달', 1), ('동점', 2), ('요긴', 2), ('태어나다', 2), ('첫픽', 1), ('탱탱하다', 2), ('독특하다', 7), ('깃', 1), ('얌', 2), ('임재', 1), ('오른', 1), ('오든', 1), ('쌩까다', 2), ('툭', 3), ('손까락', 1), ('밀다', 1), ('버블티', 2), ('은행', 1), ('표', 5), ('맘대로', 2), ('없애다', 4), ('주위', 5), ('쭉', 5), ('게스트', 5), ('풀북', 1), ('나머진', 1), ('울땋', 1), ('맛탕', 2), ('건더기', 2), ('간의', 1), ('흠잡다', 1), ('혼잡하다', 3), ('티나', 1), ('똑같이', 5), ('불결하다', 2), ('광', 2), ('벌리다', 2), ('헤어', 1), ('고무줄', 2), ('평일도', 2), ('특일식', 1), ('두통', 1), ('사면', 2), ('비어', 2), ('테이블자리', 1), ('뭐징', 1), ('빳', 3), ('라인', 2), ('음맛', 1), ('베이스', 3), ('오이만', 1), ('듬', 1), ('주로', 3), ('기름기', 4), ('기절', 3), ('분한', 3), ('기물', 1), ('드립', 4), ('전이', 3), ('고가', 4), ('바지', 1), ('갈래', 2), ('보고오다', 2), ('쌓다', 1), ('만점', 4), ('빳빳해', 1), ('설', 6), ('환', 2), ('수월하다', 1), ('시럽', 4), ('맛임', 3), ('스케', 2), ('이크', 2), ('굽', 10), ('권하다', 2), ('껄렁껄렁', 1), ('대란', 2), ('인파', 2), ('의지', 2), ('범벅', 2), ('접다', 3), ('명과', 1), ('정해지다', 3), ('클래식', 3), ('대략', 2), ('난감', 1), ('어이없다', 8), ('설거지', 1), ('여기저기', 10), ('물컵', 2), ('고무', 3), ('합격', 2), ('오픈런', 2), ('아슬아슬하다', 1), ('폭립', 1), ('어서', 5), ('퍽퍽해', 1), ('맛잉', 1), ('뒤쪽', 1), ('부딫히', 1), ('구두', 1), ('업무', 2), ('갸꿀맛', 1), ('펜션', 2), ('재빠르다', 1), ('주장', 1), ('탱탱', 3), ('시집가다', 1), ('커비', 1), ('화학', 1), ('약품', 1), ('갈릭', 2), ('핑거', 1), ('퀵', 1), ('건강', 3), ('픽', 2), ('황새치', 1), ('뱃살', 2), ('부리', 1), ('애용', 7), ('편리', 1), ('성도', 1), ('된장국', 2), ('성함', 2), ('뷰값', 5), ('건징', 1), ('로시', 1), ('역', 2), ('규정', 1), ('허니', 1), ('짜져', 1), ('슬프다', 13), ('동일하다', 5), ('장시간', 2), ('스톤', 1), ('난국', 2), ('왓어', 1), ('빠져나가다', 1), ('마이', 1), ('르', 4), ('올인', 1), ('위기', 1), ('결론', 8), ('시세', 6), ('지출', 1), ('우육', 1), ('간덴데', 1), ('지유', 1), ('난하다', 1), ('ㅡㅡㅡ', 2), ('레일', 8), ('치명', 1), ('호구', 3), ('재방', 3), ('가다피', 1), ('꺙너무', 1), ('시리얼', 2), ('꽃게', 4), ('피똥쌈', 1), ('죽음', 1), ('남다르다', 4), ('예술', 3), ('단지', 4), ('한진', 1), ('덤', 7), ('치즈케잌', 3), ('새벽', 3), ('이어지다', 1), ('활성화', 1), ('여태', 3), ('재후', 1), ('더군다나', 1), ('채킅', 1), ('고봉', 1), ('골레', 1), ('빵트', 1), ('칼', 2), ('덩', 2), ('다애', 1), ('공부', 1), ('셀러', 2), ('임신부', 1), ('유행', 2), ('철판', 1), ('돌솥', 3), ('인과', 1), ('멍하니', 1), ('더구나', 1), ('토렴식', 1), ('살코기', 3), ('미묘하다', 1), ('노상', 1), ('멤버', 2), ('갯수', 1), ('신용카드', 1), ('청구', 3), ('잘먹엇어', 4), ('복잡', 1), ('두기', 4), ('섭섭하다', 1), ('티비', 2), ('회정', 2), ('전자렌지', 3), ('북경', 1), ('여태껏', 1), ('지극히', 2), ('카라멜', 1), ('마끼아또', 1), ('하리보', 2), ('젤리', 2), ('한웅', 1), ('죤맛', 2), ('텐통', 1), ('부자', 1), ('멈추다', 1), ('담요', 2), ('취', 2), ('어떨', 3), ('한결같다', 2), ('카트', 2), ('붙이', 1), ('달콤', 2), ('끝판', 2), ('슉', 1), ('러시', 2), ('나빳을텐데', 1), ('휙휙', 1), ('윰차', 1), ('울주군', 1), ('음모', 1), ('원두', 5), ('오직', 1), ('가구점', 1), ('찰밥', 1), ('손색', 1), ('후방', 1), ('문추', 1), ('커피점', 1), ('밀도', 3), ('방갈로', 1), ('개도', 7), ('정통', 4), ('중국요리', 2), ('중국', 6), ('분분', 1), ('입히다', 2), ('고추기름', 1), ('쌉싸름하다', 1), ('굴소스', 1), ('기반', 1), ('타인', 2), ('사천', 2), ('스튜', 1), ('감자전', 2), ('감안', 6), ('인절미', 1), ('빼먹다', 3), ('서운하다', 5), ('덴', 3), ('흰밥', 1), ('주기', 1), ('단층', 1), ('말소리', 2), ('임박', 1), ('지불', 5), ('식이', 1), ('팔리다', 2), ('삼십분', 3), ('차서', 4), ('길가', 4), ('차리기', 1), ('차려', 1), ('손가락', 2), ('뜰때', 1), ('이외', 1), ('보호', 1), ('조심', 4), ('고전', 3), ('칭따오', 2), ('페어', 2), ('이드를', 1), ('마련', 6), ('웅얼', 1), ('알아듣다', 1), ('제외', 3), ('빅', 1), ('스트로', 2), ('휴식', 3), ('취하', 3), ('익스', 1), ('테리어', 2), ('귀하다', 2), ('그네', 1), ('틱', 1), ('포밍멜로우', 4), ('아줌마', 21), ('대뜸', 2), ('답안', 1), ('드럽다', 3), ('위험', 1), ('벙어리', 1), ('융', 3), ('쵝오', 4), ('날인', 3), ('원형', 1), ('맛있엇어', 5), ('버티다', 1), ('다재', 3), ('인들', 2), ('집들이', 1), ('물속', 1), ('담그다', 5), ('눈길', 2), ('쭝멀뚱', 1), ('과를', 1), ('엎었습니', 1), ('엎는건', 1), ('수정과', 3), ('흠뻑', 1), ('페스티벌', 1), ('현', 2), ('수박', 3), ('템', 1), ('바라지', 3), ('두유', 1), ('ㅋㅎㅎ', 1), ('좋아욤', 2), ('검정', 3), ('소심하다', 1), ('내껀', 1), ('화장', 1), ('속지', 2), ('자연', 3), ('저저', 1), ('회하', 1), ('워스트', 1), ('마카', 3), ('무성의', 3), ('롯데', 2), ('아몬드', 2), ('전병', 3), ('호두', 4), ('타르트', 4), ('상관없다', 3), ('또는', 2), ('생명', 2), ('유통기간', 1), ('일자', 1), ('냉장', 1), ('보관', 3), ('참배', 1), ('랜치', 1), ('꼭꼭', 3), ('다짐', 2), ('요식업', 1), ('상향', 1), ('평준화', 1), ('쓰레기', 6), ('냉장고', 1), ('띡', 3), ('올려놓다', 4), ('거진', 3), ('쯔', 2), ('부시', 1), ('까쯔오', 1), ('핸드', 2), ('케어', 3), ('따위', 1), ('키페', 1), ('뛰어다니다', 4), ('미애', 1), ('성질', 1), ('도대체', 11), ('낳다', 2), ('권해', 1), ('구갈', 1), ('초창', 2), ('기보', 2), ('깜빡', 3), ('헤맷', 1), ('에부터', 1), ('의문', 3), ('내야', 2), ('낭비하다', 1), ('결과', 2), ('여럿', 2), ('이하', 4), ('결여', 1), ('단어', 1), ('압축', 1), ('왠지', 1), ('지정', 4), ('살찌다', 1), ('추석', 4), ('의정부', 1), ('오버', 2), ('쿡', 2), ('생기', 1), ('걸어가다', 4), ('만하', 5), ('골', 2), ('편조', 1), ('평시', 1), ('새끼', 1), ('손톱', 2), ('판도', 1), ('붓카케', 5), ('안다', 10), ('까칠하다', 2), ('이동', 7), ('양해', 7), ('명령', 1), ('겉절이', 3), ('비창', 1), ('물가', 12), ('치고는', 3), ('오그', 1), ('듀', 3), ('액션', 1), ('벌레', 6), ('식겁하다', 1), ('안대', 1), ('도우', 8), ('쫀득해', 1), ('듬뿍이', 1), ('운맛', 1), ('기점', 2), ('사십분', 1), ('다섯시', 2), ('골치', 1), ('얼렁뚱땅', 1), ('때우다', 1), ('장방', 1), ('젖', 4), ('가락', 2), ('어의', 2), ('불쾌감', 2), ('고치', 1), ('이도우', 1), ('수없이', 3), ('왓습', 1), ('볼일', 5), ('스려웠', 1), ('가포', 3), ('시끌시끌하다', 1), ('힘줄', 5), ('꾹', 2), ('고맙다', 4), ('퍼먹', 1), ('툭툭', 2), ('지금껏', 2), ('화이트소스', 1), ('마음대로', 1), ('포스팅', 1), ('함박스테이크', 5), ('삐걱', 1), ('개전', 1), ('번안', 1), ('콕', 1), ('모시다', 3), ('우거지', 3), ('이래', 2), ('각각', 3), ('풍부하다', 4), ('찾아다니다', 1), ('카르', 1), ('토초', 1), ('강추뷰', 1), ('기운', 2), ('벗', 2), ('땡초', 1), ('놨', 1), ('태화동', 1), ('아오', 1), ('유통', 1), ('기한', 1), ('전량', 2), ('선입선출', 1), ('국민', 3), ('안전', 1), ('달리다', 1), ('생선', 10), ('즹', 1), ('차라', 3), ('생돈', 1), ('협소하', 1), ('묽다', 4), ('달기', 1), ('예뿜', 1), ('널찍', 1), ('운빨', 1), ('일욜', 2), ('달라붙다', 1), ('애플', 7), ('셀', 2), ('꼬수운향', 1), ('쫄깃쫄깃햇서', 1), ('먹었슴미', 1), ('서하', 2), ('감시', 1), ('프라임', 1), ('지지다', 1), ('분하다', 2), ('제적', 1), ('텅텅', 3), ('시청', 2), ('첫경험', 1), ('잘생기다', 2), ('번만', 4), ('호기심', 1), ('멋대로', 1), ('생활', 1), ('스마트폰', 1), ('도움', 2), ('시킴', 4), ('햄버거', 3), ('원상', 1), ('시종일관', 2), ('강도', 1), ('황', 1), ('연하', 1), ('욥', 7), ('반대쪽', 1), ('찌질하다', 1), ('라니', 4), ('여유도', 1), ('동이', 3), ('이성', 1), ('통신사', 5), ('불가', 4), ('달래', 1), ('또말', 1), ('직딩', 1), ('묘', 2), ('만들기', 2), ('만드나', 1), ('화만', 1), ('민물장어', 1), ('그나저나', 2), ('통채', 1), ('한판', 1), ('눈살', 1), ('찌푸리다', 2), ('환경부', 1), ('온기', 1), ('갇', 1), ('ㄱ', 2), ('오가다', 2), ('진해', 1), ('밭길', 1), ('금상첨화', 3), ('브륄레', 1), ('좋앙', 1), ('쏜살같다', 1), ('총동원', 1), ('어휴', 2), ('어딨다', 1), ('참나', 3), ('쑥갓', 2), ('퍼썩', 1), ('ㅇㄱ', 1), ('우왕좌왕', 4), ('창공', 1), ('부인', 1), ('부리다', 1), ('강매', 3), ('달그락', 1), ('강아지', 2), ('용뷰', 1), ('릿값', 1), ('장내', 2), ('취해', 3), ('롱', 1), ('엄창', 1), ('낭비', 1), ('죽이다', 5), ('구역질', 1), ('일수', 4), ('져서', 1), ('디져트', 1), ('울림', 1), ('뚱뚱하다', 1), ('겟죵', 1), ('여행지', 1), ('강동', 1), ('몽돌', 1), ('해변', 2), ('맛입', 1), ('장국', 3), ('유부도', 1), ('빠뜨리다', 2), ('장황하다', 1), ('가까이', 9), ('쫄깃쫄깃보쌈', 1), ('에스프레소', 1), ('요컨대', 1), ('목적', 1), ('캠핑장', 2), ('해먹', 2), ('달리', 3), ('서민', 1), ('기질', 4), ('조카', 5), ('짠맛', 2), ('기프티콘', 1), ('짬봉', 2), ('거피', 1), ('붓다', 2), ('불필요하다', 1), ('쪼개다', 2), ('헛튼시간', 1), ('시가', 5), ('단장', 2), ('배관', 2), ('정화조', 1), ('간날', 1), ('결기', 2), ('대감', 1), ('소란스러움', 2), ('겉바', 4), ('촉', 3), ('투움', 2), ('바보', 3), ('느꼇고불', 1), ('째다', 5), ('쌀쌀', 1), ('박다', 1), ('적도', 4), ('해감', 1), ('어마어마하다', 3), ('글티', 1), ('하겟습니', 1), ('레전드', 1), ('세지', 2), ('쥑', 1), ('존나', 1), ('ㅈㄴ', 2), ('탓', 7), ('누굴', 1), ('검토', 1), ('눌', 2), ('소름', 1), ('끼치다', 1), ('소규모', 2), ('룸들', 1), ('잡기', 5), ('동명이인', 1), ('폭발', 2), ('고등어', 1), ('진주냉면', 5), ('어떠하다', 2), ('군데', 6), ('몰랏다', 1), ('군대', 2), ('그랫더', 4), ('각개', 2), ('다그', 3), ('쯧', 3), ('랏', 1), ('면전', 1), ('마소', 1), ('비극', 1), ('정자동', 1), ('자잘하다', 1), ('차림새', 1), ('문건', 1), ('활짝', 1), ('혐', 1), ('끈', 8), ('욕합', 1), ('디다', 1), ('엎', 4), ('그다지', 4), ('서지', 2), ('적극', 5), ('건강검진', 1), ('개존맛', 3), ('복은', 1), ('삐', 1), ('틀어지다', 2), ('호객', 2), ('행위', 2), ('분덕', 1), ('옆집', 2), ('돌변', 1), ('시렁', 1), ('몽땅', 1), ('우린', 3), ('악담', 1), ('퍼붓다', 1), ('수다', 5), ('빡빡', 1), ('찻물', 1), ('도구', 2), ('기호', 2), ('홀릭', 1), ('끌리다', 1), ('스럽지', 3), ('분위', 2), ('담번', 1), ('엄빠', 1), ('한가하다', 5), ('아이고', 1), ('랬', 2), ('들고나다', 1), ('여야', 2), ('참숯', 1), ('재는', 1), ('사극', 1), ('약재', 1), ('소량', 1), ('큰일', 2), ('무거워', 1), ('특출하다', 1), ('돗데', 1), ('또다른', 4), ('휴가', 5), ('다운타운', 1), ('중심', 1), ('방송', 2), ('헛되', 1), ('수도권', 2), ('밀리', 1), ('쯔유', 1), ('결코', 3), ('한우', 12), ('도스', 1), ('옥동', 1), ('양산', 3), ('낭', 3), ('달쭈', 3), ('타르', 4), ('카푸치노', 2), ('검정색', 3), ('색갈', 1), ('궁굼', 1), ('갈때즘', 1), ('입안텁텁', 1), ('양치질', 1), ('파란색', 2), ('쩍', 1), ('불량', 2), ('식품', 1), ('사탕', 1), ('떼', 2), ('색소', 1), ('큼직하다', 1), ('길목', 1), ('헬입니', 1), ('텐트', 1), ('첫인상', 1), ('요새', 7), ('줄알', 1), ('쌀쌀하다', 3), ('일손', 2), ('ㅋㅋㅋㄱㅋ', 1), ('창피해', 1), ('대우', 5), ('글쿠', 1), ('맛도글쿠', 1), ('개포', 1), ('ㅡㅅㅡ', 1), ('카피', 1), ('켜', 2), ('일산화탄소', 1), ('탁자', 3), ('장바닥', 2), ('웅', 3), ('성웅', 3), ('찌그러지다', 1), ('억지', 1), ('간포', 1), ('대들다', 1), ('어무', 1), ('별관', 5), ('하필', 2), ('무척', 2), ('가을', 3), ('조그마하다', 1), ('고다', 1), ('어우', 1), ('집애', 1), ('아주아주', 1), ('우루루', 2), ('오뎅', 3), ('찿으신다', 1), ('핫플레스', 1), ('밀고', 2), ('혹사', 1), ('깝', 1), ('체고', 4), ('망실', 1), ('동남아', 3), ('싼마이', 1), ('선거날', 1), ('친정엄마', 3), ('어우르다', 1), ('씬피자', 1), ('등뿍등뿍', 1), ('만세', 1), ('삭이다', 1), ('붙잡다', 2), ('심장', 2), ('노심초사', 1), ('에게다', 1), ('거들다', 2), ('에게만', 1), ('그림자', 1), ('만팔', 1), ('생깃', 1), ('자수정', 1), ('동굴', 1), ('페트', 1), ('땡볕', 1), ('쫓아내다', 1), ('방역', 2), ('칙', 2), ('등본', 1), ('민원', 1), ('재치', 1), ('퀄', 7), ('노질', 1), ('비스마르크', 1), ('포밍라떼', 1), ('당근', 2), ('힘들엇어', 1), ('콩나물국', 1), ('건국', 1), ('웃음', 5), ('못자다', 1), ('들락날락', 1), ('설사', 3), ('까지와', 2), ('돌이', 4), ('회신', 1), ('선도', 1), ('개불', 1), ('리하나', 1), ('집게', 8), ('매스', 1), ('당원', 1), ('카야', 1), ('프레첼', 1), ('신제품', 2), ('홍대', 1), ('몰이', 1), ('피크', 3), ('따끈따끈', 2), ('토핑많', 1), ('펩시', 1), ('쓰레기통', 4), ('기자', 3), ('길쭉하다', 1), ('차림', 1), ('세요', 1), ('터키', 1), ('외다', 1), ('북적', 6), ('한자리', 2), ('겟오랜', 1), ('사전', 3), ('운치', 2), ('대방', 2), ('어회', 2), ('만족도', 4), ('딘', 1), ('은감', 1), ('만회', 2), ('초록', 2), ('소듕', 1), ('대추', 2), ('회값', 1), ('플라스틱', 1), ('자국', 1), ('번잡', 1), ('사물함', 2), ('유독', 2), ('무한', 2), ('설렁', 1), ('쫀득쫀득', 1), ('기별', 1), ('남자라면', 1), ('딸램', 1), ('데또', 1), ('퍽', 1), ('조음', 1), ('전망', 9), ('껍', 1), ('명부', 1), ('적정', 1), ('돛떼', 1), ('밋', 1), ('알리', 2), ('채끝', 5), ('중국산', 2), ('있다뇨', 1), ('잃어버리다', 2), ('찔끔', 1), ('삼산', 1), ('회전초밥집', 2), ('상품', 1), ('ㅛ', 3), ('갸또', 1), ('리얼', 6), ('청라', 1), ('습보', 1), ('별루였', 2), ('싱', 1), ('밤밥', 1), ('섴', 1), ('역주행', 1), ('작업', 1), ('굉징히', 1), ('누군가', 2), ('쏙', 3), ('버젓히', 1), ('대강', 1), ('몰상식하다', 1), ('으로라도', 1), ('을해', 2), ('책임지다', 1), ('습하다', 1), ('잘먹엇습니', 1), ('오심', 1), ('중앙', 1), ('꼬', 3), ('산나', 1), ('늠달늠달으', 1), ('물리', 1), ('랜드마크', 1), ('질적', 1), ('뚫리다', 2), ('아바', 1), ('꽈베기', 1), ('그만하다', 1), ('중순', 1), ('함흥차사', 2), ('특별', 1), ('마카롱', 2), ('넘김', 1), ('분동', 1), ('값지다', 1), ('고매', 2), ('곳것', 1), ('상실', 1), ('효늘', 1), ('아이맥스', 1), ('축하', 4), ('가보', 2), ('신신당부', 1), ('옶', 1), ('뼤', 1), ('침묵', 1), ('요점', 1), ('신빙', 2), ('의기', 1), ('투합', 1), ('앞당기다', 1), ('맛보기', 3), ('한동안', 2), ('미련', 1), ('발렛', 1), ('파킹', 1), ('응', 5), ('파라솔', 4), ('피다', 2), ('무맛', 2), ('개정', 3), ('개그', 1), ('물탄', 2), ('만천원', 4), ('쫀딕쫀딕해', 1), ('요음', 1), ('자라다', 2), ('여동생', 2), ('반영', 3), ('보리밥', 1), ('신라면', 2), ('수요', 1), ('공급', 2), ('더워지다', 1), ('핏자', 1), ('핫도그', 1), ('트렸', 1), ('생겻다해', 1), ('인권', 1), ('휘적거리다', 1), ('무리하다', 1), ('찢다', 1), ('배하', 1), ('왕왕', 3), ('맛나', 2), ('딩동벨', 1), ('잖다', 1), ('대리석', 1), ('긴머리', 1), ('서둘다', 2), ('훈제', 1), ('풋', 2), ('인공', 1), ('곧장', 1), ('조르다', 3), ('갖추다', 8), ('서양', 1), ('수욜', 1), ('얼룩', 1), ('호일', 2), ('터미널', 1), ('상상', 2), ('초월', 1), ('오른쪽', 2), ('왼쪽', 2), ('창고', 1), ('쓰레기봉투', 1), ('찢어지다', 3), ('살펴보다', 1), ('쇠', 1), ('파이프', 1), ('말통', 1), ('한시', 4), ('다각', 1), ('식물', 3), ('톤', 1), ('시티', 1), ('적당', 3), ('기타', 2), ('일월', 1), ('주도', 1), ('양장', 2), ('색감', 2), ('백김치', 4), ('파채', 1), ('잎', 1), ('회덮밥', 1), ('언젠가', 1), ('안과', 2), ('다녀가다', 4), ('들엇어', 1), ('분식', 2), ('러버', 1), ('분식집', 3), ('쫄면', 2), ('눈가', 1), ('아웅', 1), ('워킹', 1), ('쥬시', 1), ('출처', 1), ('빼심', 1), ('요왕', 1), ('감언', 1), ('예민하다', 3), ('마구잡이', 1), ('금일', 1), ('대기업', 2), ('옥수수', 6), ('받침', 2), ('가림', 1), ('정착', 1), ('띄우다', 3), ('불안하다', 4), ('본이름', 1), ('뾰족', 1), ('찰', 1), ('질척하다', 1), ('차요', 2), ('즉각', 2), ('묵묵', 2), ('리도', 1), ('비슷비슷', 1), ('널찍하다', 2), ('나가사키', 1), ('해월', 5), ('감기', 2), ('기울다', 1), ('대추차', 5), ('단물', 1), ('동동', 3), ('슴', 1), ('재다', 3), ('꿀타래', 1), ('치네다', 1), ('야바위', 1), ('꾼', 1), ('장사꾼', 1), ('조작', 1), ('불가능', 3), ('관', 1), ('해녀', 2), ('윤슬', 2), ('반짝이다', 2), ('곳밤', 1), ('애견', 3), ('이십여', 1), ('구영', 1), ('중국음식', 1), ('싸늘하다', 2), ('시시', 1), ('때때로', 1), ('짜증스럽다', 1), ('공익', 2), ('닝', 3), ('갸우뚱', 1), ('코웃음', 1), ('억울하다', 1), ('쿠션', 2), ('푸욱', 1), ('직물', 1), ('가렵기', 1), ('반신반의', 1), ('언니네', 1), ('이빨', 2), ('뿜뿜입니', 1), ('말년', 1), ('유선장', 1), ('해월빵', 2), ('연달', 1), ('안질리다', 1), ('띠', 3), ('납작하다', 1), ('과자', 2), ('국자', 1), ('명명', 1), ('아시', 4), ('스크림', 1), ('떡하니', 1), ('토나오다', 1), ('치약', 1), ('대위', 1), ('유모차', 1), ('지아', 1), ('분별', 2), ('지자기', 1), ('속닥거리다', 1), ('먼산', 1), ('훑다', 1), ('구글', 1), ('거르', 1), ('런치식사', 1), ('나물', 1), ('달짝지근하다', 4), ('뚤리', 1), ('호화롭다', 1), ('웰던이러', 1), ('맛있엇어용', 1), ('또르르', 1), ('나유', 1), ('천화', 1), ('정상', 3), ('함정', 1), ('단비', 2), ('한의원', 2), ('술집', 1), ('스콘', 1), ('르보', 1), ('쓸데없다', 1), ('아쥬', 1), ('웰', 1), ('포터', 3), ('었', 2), ('망가지다', 2), ('바짝', 2), ('게판', 1), ('자포자기', 1), ('파도', 2), ('다스리다', 1), ('마케팅', 2), ('아트', 1), ('표고버섯', 2), ('한치', 2), ('숙성', 4), ('천차만별', 1), ('무값', 1), ('수급', 1), ('은인', 2), ('도명', 1), ('양좀', 1), ('곗돈', 1), ('모으다', 3), ('드쉬', 1), ('라이스', 1), ('향신료', 6), ('켁투스페탈', 1), ('텍사스', 6), ('로드', 7), ('호갱', 2), ('인일때', 1), ('아우', 1), ('훨낫다', 1), ('여파', 1), ('오랜만', 2), ('은피', 1), ('완판된건', 1), ('장보고', 1), ('얼리다', 1), ('올리브오일', 1), ('채다', 1), ('낼', 1), ('ㅋㅎㅋㅎ', 1), ('푸대접', 1), ('돌려주다', 2), ('고집', 2), ('좌절', 1), ('방가', 2), ('곳도', 3), ('귀신', 1), ('짭잘하다', 1), ('헤메', 1), ('출구', 2), ('관리인', 1), ('무오', 1), ('비쌋구요대', 1), ('속초', 4), ('장염', 3), ('증세', 1), ('계시', 2), ('달이', 1), ('윤기', 1), ('한정판', 2), ('매라', 2), ('호프', 1), ('어플', 3), ('말고도', 1), ('살피', 1), ('사기', 4), ('돋다', 2), ('초라하다', 1), ('부파', 1), ('끝임', 1), ('조그만', 1), ('냉정하다', 1), ('최대', 1), ('보강', 2), ('음개', 1), ('전인', 1), ('접근성', 2), ('닥치다', 1), ('절하', 1), ('데려가다', 4), ('좔좔', 1), ('먹고다', 4), ('평행', 1), ('송정', 1), ('코타', 3), ('파니니', 1), ('샘플러', 1), ('짝꿍', 1), ('출발', 1), ('하사', 1), ('정의', 1), ('자알', 1), ('인연', 1), ('나빠지다', 5), ('인천', 2), ('경기', 2), ('깐깐하다', 1), ('제한', 3), ('내년', 3), ('눅눅', 1), ('안계', 1), ('찰기', 1), ('설익다', 1), ('단단하다', 2), ('요런', 2), ('유로', 1), ('꼴', 2), ('공신', 1), ('고정', 1), ('브루게', 1), ('반적', 1), ('필요성', 1), ('시궁창', 1), ('남명', 1), ('퍽퍽짬', 1), ('셔벗', 2), ('굵다', 4), ('김안', 1), ('심다', 3), ('투리', 1), ('질김', 3), ('커버', 1), ('향수', 3), ('신세계', 1), ('접', 2), ('고배', 1), ('한산하다', 2), ('츄', 1), ('로스', 1), ('오오오', 1), ('개돼지', 1), ('지사', 1), ('상승', 2), ('이래도', 1), ('자만하다', 1), ('둔하다', 1), ('빼빼로데이', 1), ('빼빼로', 1), ('이베니', 1), ('탱글탱글하다', 1), ('청포도', 2), ('예여', 1), ('헬', 1), ('프렌치프라이', 2), ('잉크', 8), ('마팔디네', 1), ('꼬불', 1), ('배김', 1), ('앗벡', 1), ('놀랍다', 1), ('간혹', 2), ('대단하다', 3), ('육질', 4), ('완성', 1), ('도르다', 2), ('삐쭉', 1), ('런치메뉴', 1), ('고유', 1), ('축', 2), ('처지다', 1), ('그립다', 3), ('불친', 1), ('철인', 1), ('사성', 1), ('이딴', 1), ('면빨', 1), ('감임', 1), ('락카', 1), ('통로', 2), ('선물', 3), ('식육', 1), ('오천원', 1), ('워드', 4), ('래지', 1), ('왕창', 2), ('개별', 1), ('메시지', 1), ('맹맹하다', 1), ('섞박지', 1), ('어번', 2), ('상품권', 5), ('오랫동안', 3), ('문구', 2), ('감덩', 1), ('프라이', 1), ('거려', 2), ('중일', 1), ('노쇼', 1), ('되레', 1), ('성하다', 3), ('팥', 2), ('쉐이크', 7), ('등장', 2), ('압도', 1), ('아우성', 1), ('손절', 2), ('뜨내기', 1), ('가원', 1), ('부러', 1), ('칠리소스', 1), ('출산', 3), ('앞두다', 1), ('찰나', 1), ('소갈비찜', 1), ('구욷구욷', 1), ('확장', 1), ('은줄', 1), ('덜덜', 1), ('떨리다', 1), ('셨', 1), ('땡땡', 1), ('지워지다', 2), ('장보', 1), ('미도', 2), ('왈', 3), ('각성', 1), ('드감', 1), ('ㄷㄷㄷ', 1), ('마쉿었어용', 1), ('햄', 1), ('ㄷㄷ', 1), ('사보다', 1), ('선호', 3), ('아기자기하다', 2), ('대도', 2), ('소중하다', 3), ('퀼리티', 1), ('늘어서다', 1), ('농민', 1), ('몇바퀼', 1), ('도라도', 1), ('오래간만', 2), ('달라졋', 1), ('달랏', 1), ('헤헤', 2), ('빠져나오다', 1), ('애둘', 1), ('방으러', 1), ('분대기', 1), ('람다', 1), ('분안', 2), ('스퀴드', 4), ('묻히다', 1), ('비츄예약', 1), ('단발머리', 2), ('윽', 1), ('고추장', 2), ('물밀', 2), ('석식', 3), ('부', 2), ('쫒다', 2), ('나왓나봐', 1), ('배회', 1), ('앉았더랫', 1), ('드넓다', 1), ('갈라', 1), ('뻣', 1), ('코드', 1), ('체온', 1), ('측정', 1), ('에두', 2), ('미루다', 4), ('고투', 1), ('움바', 1), ('양송이', 6), ('첨가', 2), ('다이스', 1), ('죄인', 1), ('독하다', 1), ('발길', 1), ('줌맛', 1), ('커리', 1), ('객', 1), ('무니', 1), ('책정', 1), ('나오니', 3), ('기적', 1), ('출혈', 2), ('마산', 1), ('완전하다', 1), ('함성', 1), ('데스크', 4), ('사원', 1), ('바삐', 1), ('일해', 1), ('이런저런', 1), ('냉방', 1), ('로서', 2), ('플사', 1), ('람', 1), ('신맛', 1), ('칼칼하다', 4), ('줄스는데', 1), ('다음주', 1), ('드럼통', 1), ('원도', 1), ('자욱하다', 3), ('린정', 1), ('주인공', 1), ('사정', 1), ('날치', 1), ('물씬', 1), ('산이', 1), ('내려다보다', 1), ('야들야들하다', 1), ('예매', 1), ('거가', 1), ('시라', 1), ('예얍해', 1), ('주머니', 1), ('장노', 1), ('치르다', 2), ('그닥엥간하먄', 1), ('진쨔', 1), ('맘에듭니', 1), ('개월', 3), ('질럿다', 1), ('탈것', 1), ('그만두다', 1), ('첫마디', 1), ('부치다', 2), ('쌍둥이', 1), ('제어', 1), ('홀안', 1), ('지랄', 1), ('트', 3), ('후배', 1), ('인셋트', 1), ('확보', 1), ('맜있어', 2), ('번드르르', 1), ('정결', 1), ('매정', 1), ('사근사근하다', 1), ('미소', 4), ('영상', 1), ('똑똑하다', 1), ('에서처럼', 1), ('료', 1), ('입출', 1), ('유의', 1), ('꽂히다', 1), ('알려지다', 1), ('딜리', 2), ('녀석', 1), ('이듬', 1), ('오분', 2), ('알바인', 1), ('더맘에듬', 1), ('발목', 1), ('시리다', 1), ('놓아두다', 1), ('와인잔', 1), ('까지가', 2), ('억', 3), ('차만', 2), ('조굼', 1), ('바나나', 1), ('누텔라', 1), ('보완', 2), ('지난달', 2), ('입력', 1), ('세아', 1), ('아이거', 1), ('키라', 1), ('학교', 2), ('유치원', 2), ('애가', 4), ('초딩', 1), ('멋쩍', 1), ('기어', 1), ('자시다', 1), ('답함', 1), ('목격', 1), ('아랐다', 1), ('혈압', 1), ('그룹', 1), ('말함', 3), ('번꼴', 1), ('무제한', 5), ('수제비', 1), ('쓴맛', 2), ('력', 1), ('앵무새', 1), ('갚다', 1), ('묵상', 1), ('이러하다', 2), ('곳맵', 1), ('맵기', 2), ('첫날', 1), ('배속', 1), ('도토리묵', 1), ('슴슴', 1), ('아메리카', 1), ('노리', 1), ('언짢다', 2), ('대꾸', 4), ('콕콕', 1), ('쫍쫍', 1), ('동영상', 1), ('글씨', 3), ('방쪽', 1), ('밨', 1), ('내자', 1), ('넘치다', 5), ('단말기', 1), ('교육청', 1), ('학생', 4), ('와글와글', 1), ('강제', 1), ('조정', 3), ('살피다', 1), ('방관', 1), ('침', 2), ('묵살', 2), ('유창하다', 1), ('피즈', 1), ('본의', 1), ('어머니', 8), ('더부룩하다', 2), ('고래고래', 1), ('나단', 1), ('라시', 2), ('모락모락', 1), ('꼬소하', 1), ('관계', 1), ('흥', 1), ('청도', 1), ('들럿네', 1), ('랫', 2), ('광고', 2), ('런치예약', 1), ('수명', 1), ('익숙하다', 3), ('ㅇㅏ', 1), ('패스트푸드', 2), ('집밥', 3), ('의사소통', 2), ('녘', 1), ('항', 1), ('목도', 1), ('아로마', 1), ('게이샤', 2), ('감흥', 1), ('뿌셨', 1), ('쫄깃해', 3), ('푸파', 1), ('쌩하다', 1), ('저쪽', 1), ('물좀', 1), ('물주', 1), ('징창', 1), ('요렇게', 1), ('자라', 1), ('았', 1), ('임산부', 1), ('페인만', 1), ('놓치다', 2), ('리타', 1), ('꼬소했어', 1), ('엔초', 2), ('시타', 1), ('가만', 2), ('루즈', 1), ('뭍', 1), ('민감하다', 1), ('한강', 1), ('잇몸', 1), ('애쓰다', 3), ('지내다', 1), ('대가족', 1), ('염려', 1), ('뉴욕', 1), ('유리컵', 2), ('발걸음', 1), ('해고', 2), ('재교육', 1), ('누적', 1), ('자식', 1), ('방분하다', 1), ('월급', 1), ('이애', 1), ('궁물', 2), ('제나', 1), ('평창', 1), ('누렇', 1), ('바리스타', 1), ('커다랗다', 1), ('견우', 1), ('직녀', 1), ('왓네', 1), ('촘촘하', 1), ('원금', 3), ('선불카드', 5), ('읽히다', 1), ('사용승인', 1), ('승인', 1), ('케이스', 1), ('원인', 1), ('라사', 1), ('일렬', 1), ('섭스', 1), ('곳임', 1), ('더럽히다', 1), ('명못', 1), ('고성', 1), ('인명', 1), ('깜끔', 1), ('연락처', 1), ('라자냐', 4), ('부가', 2), ('가맹', 1), ('안떨어지다', 1), ('상대', 1), ('초도', 1), ('시선', 1), ('ㅗ', 3), ('아요', 2), ('회수', 1), ('반면', 1), ('굴찜', 1), ('슴슴하', 1), ('덤덤', 1), ('어쩌다', 1), ('는데', 1), ('빠짝', 1), ('타로', 1), ('다드', 2), ('흡입', 5), ('격줄', 3), ('서기', 4), ('대반', 1), ('예감', 1), ('퐉퐉', 1), ('거즘', 1), ('지방도', 2), ('줄줄이', 1), ('종잇장', 1), ('기성품', 2), ('문화', 1), ('불모', 1), ('소비', 3), ('허영', 1), ('토마토소스', 1), ('중화', 4), ('미나리', 1), ('머리털', 1), ('유의사항', 1), ('구걸', 3), ('리어카', 1), ('갑질', 2), ('당해', 1), ('먹고살다', 1), ('만자', 1), ('이거지', 1), ('우지', 1), ('차분하다', 4), ('분컷', 1), ('진열', 7), ('슬러쉬', 2), ('유무', 1), ('그렇지만', 2), ('롭', 1), ('어쩌지', 1), ('요구르트', 1), ('순환', 2), ('고합', 2), ('다분', 1), ('이안', 3), ('요정', 2), ('더움', 1), ('텐붓가케', 1), ('선선', 1), ('지면', 1), ('이어도', 1), ('꼭와욭', 1), ('오라', 3), ('석쇠', 2), ('모찌', 3), ('감격', 1), ('발의', 1), ('창원', 1), ('미듐', 2), ('지겹다', 4), ('여행객', 1), ('편의점', 2), ('햇반', 1), ('행시', 1), ('여분', 2), ('짭쪼롬', 1), ('갑맛', 1), ('오동통하다', 3), ('소보', 1), ('눕다', 3), ('파이다', 2), ('켁켁', 1), ('거렸', 1), ('세잔', 1), ('돌체', 2), ('결혼식', 2), ('드라이', 1), ('매직', 1), ('더라도', 1), ('마시쩌용', 1), ('만유', 1), ('증말', 1), ('귯굿', 1), ('더러', 3), ('매너', 3), ('황토색', 1), ('머그잔', 1), ('지구', 1), ('편맛', 1), ('세척', 1), ('분망', 1), ('용다', 2), ('나가사끼', 2), ('지행동', 1), ('느릿느릿', 1), ('갑작스럽다', 1), ('지시', 3), ('뜬금', 1), ('킬로', 2), ('칩', 1), ('삼산동', 7), ('빠삭', 1), ('도제', 1), ('서열', 1), ('꽝돈', 1), ('자랑', 2), ('로간', 1), ('낭패', 2), ('임일회', 1), ('식객', 1), ('호평', 1), ('해나', 1), ('아버지', 2), ('화창하다', 1), ('거북하다', 3), ('깐풍기', 1), ('물르다', 1), ('쓸데없이', 1), ('식당가', 2), ('방울토마토', 1), ('박스', 6), ('밖더', 1), ('어르다', 1), ('비쩍', 1), ('부들하다', 1), ('싹맛', 1), ('꽉꽉', 2), ('이바', 1), ('ㅆ', 1), ('빠져들다', 1), ('한눈', 2), ('돗', 1), ('신안', 1), ('병크', 1), ('병시', 1), ('직하다', 1), ('전용', 2), ('협소해', 3), ('전용창', 1), ('구나', 1), ('제조', 1), ('평균', 4), ('능가', 1), ('이예', 3), ('느무', 1), ('타요', 1), ('오동', 1), ('행소', 1), ('기이', 1), ('악', 1), ('이쥬', 1), ('금메달', 1), ('으로가', 2), ('쿵쾅', 1), ('뚝딱', 1), ('느꼇어', 1), ('전문', 2), ('쪽파', 1), ('ㅂ', 3), ('삼겹살', 4), ('어누', 1), ('용이하다', 1), ('파네', 1), ('사이좋다', 1), ('꾸바', 1), ('먹엇어', 2), ('부채', 1), ('후다닥와', 1), ('빼주', 1), ('음싯', 1), ('바인', 1), ('변동', 4), ('여전', 1), ('다이닝', 1), ('곤도레밥', 1), ('우기', 1), ('클렌저', 1), ('홍차', 1), ('루이보스', 1), ('단품', 1), ('일상', 1), ('얀', 1), ('효율', 1), ('ㅁㅣ', 1), ('자루', 1), ('진국', 2), ('에슐리', 1), ('험하다', 1), ('흔들리다', 2), ('따라오다', 2), ('왓다', 2), ('왓습니', 1), ('전후', 1), ('다양해지다', 2), ('넓어지다', 4), ('부서지다', 1), ('조그맣다', 1), ('만난', 2), ('굿밤', 1), ('맛있슴줄', 1), ('셈', 1), ('썩이다', 1), ('이해해', 1), ('다담', 1), ('제재', 1), ('줄선', 1), ('장비', 3), ('글구', 1), ('특급', 1), ('한적', 3), ('금새', 1), ('허겁지겁', 1), ('서출', 1), ('산전', 1), ('포식', 1), ('유향', 1), ('흰색', 1), ('증', 1), ('말증', 1), ('경찰', 2), ('우려', 2), ('스몰', 1), ('시로', 2), ('데코', 2), ('흐트려져', 1), ('놀이터', 1), ('울음소리', 3), ('사방', 1), ('갓난아기', 1), ('다름없이', 1), ('허리', 1), ('데일', 1), ('근무', 1), ('세련', 1), ('레스팅', 2), ('표면', 1), ('이케', 1), ('퍼주셔', 1), ('곳으', 1), ('끈쩍', 1), ('개발', 2), ('꾸기다', 1), ('수타면', 1), ('승', 1), ('도때기', 1), ('무음', 1), ('이오', 1), ('십', 1), ('역겹다', 2), ('축축하다', 1), ('토집', 1), ('버스', 1), ('분말', 1), ('뭉치다', 2), ('사후', 1), ('출동', 1), ('서비스업', 3), ('종사', 1), ('다한', 2), ('부연', 1), ('마리스', 1), ('해초', 1), ('손세정제', 2), ('거품', 1), ('는단', 1), ('저주', 1), ('순천', 1), ('싯', 3), ('마넌마넌', 1), ('괜찬은곳', 1), ('무자', 1), ('주가', 1), ('식상하다', 1), ('변화', 2), ('응데', 1), ('홀려', 1), ('다변하다', 1), ('꿈', 1), ('고로', 1), ('캐', 1), ('앙쿠르트스프', 1), ('완뽕안할', 1), ('키티', 1), ('아이스커피', 1), ('걸레질', 1), ('바닷물', 1), ('단점', 4), ('제주', 1), ('조리사', 2), ('직장인', 1), ('갈릴', 1), ('가니쉬', 1), ('하향', 1), ('엿보다', 1), ('반려견', 1), ('방안', 1), ('수압', 1), ('높아지다', 1), ('야쿠르트', 1), ('이라기보다는', 1), ('샤브샤브', 2), ('한철', 1), ('어딧냐', 1), ('안바', 1), ('노잼', 1), ('재개', 1), ('하염없이', 1), ('냉동고', 1), ('아삭아삭', 1), ('퍼석퍼석', 1), ('이색', 1), ('존맛탱', 1), ('민망', 1), ('촌', 1), ('맛점', 1), ('맛저', 1), ('최고다', 1), ('죻았', 1), ('정신과', 1), ('인성', 1), ('분실', 1), ('접때', 1), ('너머', 1), ('키로로', 1), ('의외', 2), ('실질', 1), ('둥', 2), ('토스', 1), ('메론', 2), ('중임', 1), ('환하다', 1), ('짭짤하다', 1), ('남겨지다', 1), ('버려지다', 2), ('시나몬', 4), ('설탕', 1), ('서걱서걱', 1), ('어쩐지', 1), ('포크레인', 1), ('전임', 1), ('고층', 2), ('관람차', 1), ('스위트', 1), ('포테이토', 2), ('마시멜로', 1), ('최상급', 1), ('미흡하다', 2), ('쩝', 1), ('마쓰', 1), ('정모', 1), ('장소라', 1), ('떼다', 2), ('감점', 1), ('여름날', 1), ('폭', 2), ('턱턱', 1), ('개밥', 1), ('별루없', 1), ('짠지', 2), ('마심', 1), ('약제', 1), ('발렛파킹', 1), ('됫는데', 1), ('단일', 1), ('산지', 2), ('친철함', 1), ('대대', 1), ('츠', 1), ('ㅜㅡㅜ', 1), ('트렌디', 1), ('멋찜', 1), ('스카치', 1), ('라기', 1), ('흔들다', 4), ('콜', 1), ('마요네즈', 2), ('졸맛', 2), ('참치초밥', 1), ('맨손', 1), ('질질', 1), ('엄지손', 1), ('낭창', 1), ('깎다', 1), ('배아픔', 1), ('통조림', 1), ('일미', 1), ('브로콜리', 1), ('일이만원', 1), ('집도', 1), ('시켞', 1), ('초피', 1), ('횟감', 1), ('보약', 1), ('뽀얗다', 1), ('기억나다', 1), ('허약하다', 1), ('찬물', 2), ('무렵', 1), ('전경', 1), ('번개', 1), ('밥틀', 1), ('쓰러지다', 2), ('불닭볶음면', 1), ('게도', 2), ('불운', 1), ('국도', 1), ('로드킬', 1), ('지라', 1), ('닭똥집', 2), ('와봒는데', 1), ('간편하다', 1), ('뷔펜데', 1), ('노동청', 1), ('늬글늬글', 1), ('나맥', 1), ('런칫', 1), ('프리', 1), ('팥죽', 1), ('오늘이', 2), ('찿', 1), ('개성', 1), ('말랭이', 1), ('도톰하다', 2), ('외길', 1), ('스무디', 1), ('잠금장치', 1), ('잠그다', 1), ('겻', 1), ('쏘스', 1), ('과정', 2), ('해당', 1), ('기인', 1), ('찜질방', 1), ('사우나', 1), ('호우', 1), ('웨이브', 1), ('차지다', 1), ('한파', 1), ('우풍', 2), ('히터', 1), ('패딩', 1), ('입김', 1), ('하하', 2), ('찜통', 1), ('틀어놓다', 1), ('ㅎㄷㄷ', 1), ('류산슬', 2), ('얌얌', 1), ('처빵', 1), ('쌀밥', 1), ('머신', 1), ('알반', 2), ('지배인', 2), ('친', 1), ('손놈', 1), ('형태', 1), ('보존', 1), ('시덕', 1), ('행벅', 1), ('로보트', 2), ('걸택', 1), ('창장', 1), ('대리', 2), ('뉴스', 2), ('에보니', 1), ('리스트', 1), ('글램핑', 1), ('잔디', 2), ('혼잡', 1), ('엉덩이', 1), ('콘서트', 1), ('간정', 1), ('수프', 1), ('막금', 1), ('제빵사', 1), ('캬하', 1), ('쩐내', 1), ('나왓네', 1), ('보구', 1), ('겐', 1), ('그요', 1), ('탕숙', 1), ('바깥쪽', 2), ('굴속', 1), ('끌다', 1), ('라이터', 2), ('얻다', 1), ('판촉', 1), ('래미', 1), ('육아', 1), ('잔치', 2), ('조등', 1), ('뱌랍', 1), ('이신', 1), ('읽다', 3), ('필리핀', 1), ('오일이', 1), ('치부', 1), ('게실', 1), ('텃마루', 1), ('물막국숙', 1), ('훔', 1), ('방토', 1), ('틱틱', 1), ('친목', 1), ('크루통', 1), ('정보라', 1), ('똑', 1), ('구조', 1), ('명촌점', 1), ('덩거려', 1), ('특수하다', 1), ('프롬', 1), ('돠', 1), ('맛나게먹엇어', 1), ('소비자', 4), ('화끈하다', 1), ('해안선', 1), ('훈훈하다', 1), ('캬', 1), ('라테', 1), ('팅굼', 1), ('잒', 1), ('종지', 2), ('쉰내', 1), ('교환', 2), ('툐', 1), ('타박', 1), ('절로', 1), ('데스', 1), ('댕기', 1), ('다라', 1), ('인수', 1), ('스탠', 1), ('마땅', 1), ('포밍멜', 2), ('과테말라', 1), ('만죄', 1), ('빨아들이다', 1), ('풍구', 1), ('활기', 1), ('왜함', 1), ('따윈', 1), ('서소문', 1), ('류산', 1), ('슬깐', 1), ('조치', 1), ('돈가츠', 1), ('방콕', 2), ('ㅈ', 1), ('바이러스', 1), ('광경', 1), ('머합', 1), ('바스크', 2), ('충족', 1), ('만인', 1), ('뷴전', 1), ('쨍쨍', 1), ('블', 1), ('띠껍', 1), ('고통', 1), ('화하다', 1), ('출입', 3), ('기사', 2), ('물건', 1), ('몽블랑', 2), ('요면', 1), ('영덕', 2), ('뒤지다', 2), ('릴리', 2), ('똑소리', 1), ('다정하다', 2), ('건축상', 1), ('몬', 1), ('맛점밥', 1), ('완추', 1), ('이율', 1), ('떡갈비', 1), ('팅쩌', 1), ('사이사이', 1), ('반응', 2), ('롯', 1), ('앓다', 1), ('반짝반짝', 2), ('기회', 3), ('다웨이', 1), ('한길', 1), ('아숩', 1), ('과잉', 1), ('바란', 1), ('덧', 1), ('회유', 1), ('헤깔리', 1), ('은기', 1), ('조명등', 1), ('무전기', 1), ('검사', 1), ('가급적', 1), ('입석', 1), ('적재적소', 1), ('농사', 1), ('링앱', 1), ('온라인', 1), ('버전', 1), ('드러나다', 1), ('수준기', 1), ('방직', 1), ('해구', 1), ('수군대다', 1), ('특출나다', 1), ('모순', 1), ('즉시', 1), ('꼬이다', 1), ('매달다', 1), ('앞장', 1), ('넘겨주다', 1), ('고마', 1), ('될껄', 1), ('사모님', 1), ('겁', 2), ('슬로건', 1), ('헤매다', 1), ('가꾸다', 1), ('인도', 1), ('자릿값이겠', 1), ('뚫어지다', 1), ('달고나', 2), ('증정', 1), ('성화', 1), ('남컵', 1), ('짜들다', 1), ('텍', 1), ('미취', 1), ('학', 1), ('아동', 1), ('픽했어', 1), ('나무라다', 1), ('희한하다', 1), ('퍼석', 1), ('생생우동', 1), ('잔액', 1), ('연차', 2), ('완뚝', 1), ('팔면', 1), ('머무르다', 1), ('슈퍼', 1), ('뤠', 1), ('관리사', 1), ('옥도', 1), ('세계', 1), ('우시', 1), ('찐득하다', 1), ('한양', 1), ('양옆', 2), ('어짜피', 1), ('정선', 1), ('구런데', 1), ('촉겉바', 1), ('파인애플', 1), ('술잔', 1), ('천하', 2), ('발아', 1), ('염라대왕', 1), ('파스', 1), ('화팅', 1), ('분경', 2), ('농락', 1), ('아낌없이', 2), ('보배', 1), ('꼼수', 1), ('요카이', 1), ('실물', 2), ('핫소스', 1), ('방어', 3), ('오코노미', 1), ('사바', 1), ('건냇으', 1), ('드심', 1), ('게타', 1), ('넝수', 1), ('넘므', 1), ('장날', 1), ('일정하다', 2), ('진차', 1), ('완젼', 1), ('수요일', 1), ('에디오피아', 1), ('베레', 1), ('필터', 1), ('원대', 1), ('타이어', 1), ('대인', 1), ('내지', 1), ('뚝배기', 2), ('쾅쾅', 1), ('해롭다', 1), ('머뉴', 1), ('생소하다', 1), ('ㅡㅜ', 1), ('바글바글', 1), ('얄것', 1), ('어디가', 1), ('컴컴하다', 1), ('뿔테', 1), ('남색', 1), ('볼펜', 1), ('가르다', 2), ('악플', 1), ('차액', 1), ('깨', 1), ('곁눈질', 1), ('잘만', 1), ('과거', 1), ('막심', 1), ('수년', 2), ('방불', 1), ('그랬다고', 1), ('앙념', 1), ('쓸리다', 1), ('경력', 1), ('대빵', 1), ('신인', 1), ('돼지갈비', 2), ('비계', 3), ('껍데기', 1), ('밀크쉐이크', 1), ('성공하다', 2), ('요술', 1), ('판면', 1), ('용면', 1), ('누님', 1), ('갈고', 1), ('손발', 1), ('서로서로', 1), ('설렁설렁', 1), ('칫솔', 1), ('장관', 1), ('귀로', 1), ('반죽', 2), ('유쾌하다', 1), ('두르다', 1), ('숲속', 1), ('착기', 1), ('룸룸룸', 1), ('박수', 1), ('나라', 1), ('할경', 1), ('키즈룸', 1), ('세제', 1), ('평상', 1), ('천이', 1), ('송년모임', 1), ('빛나다', 2), ('양치', 2), ('놀랫', 1), ('셍', 1), ('으아', 1), ('ㅏㅏ', 1), ('그러기에', 1), ('족족', 1), ('법', 2), ('맜있', 1), ('멘보샤', 1), ('업글', 1), ('정신차리다', 1), ('요드', 1), ('시르다', 1), ('티라미슈', 2), ('견과류', 1), ('알러지', 1), ('당혹', 1), ('수백', 1), ('더미', 1), ('픈', 1), ('놀랫네', 1), ('다여트', 1), ('식단', 2), ('예산', 1), ('호스', 1), ('테이크', 2), ('평안하다', 1), ('랄데', 1), ('퍼입니', 1), ('분해', 1), ('빨대', 1), ('싱싱', 1), ('듯줄', 1), ('중어', 1), ('디선', 1), ('부대', 3), ('구름', 1), ('점령', 1), ('이하나', 1), ('기표', 1), ('북새통', 1), ('계획', 1), ('주상절리', 1), ('쇼콜라', 2), ('불면', 1), ('흉기', 2), ('만지다', 3), ('옥문', 1), ('중년', 2), ('걸임', 1), ('꿀물', 1), ('모금', 3), ('다림', 1), ('레시피', 2), ('노놉', 1), ('해월월', 1), ('해운대', 1), ('상자', 1), ('족', 1), ('뿌듯하다', 1), ('로더', 1), ('서질', 1), ('안에이', 1), ('훌륭', 1), ('산등', 1), ('아웃', 1), ('충전', 2), ('오십분', 1), ('요일', 1), ('비키', 1), ('앨', 1), ('나왓다', 1), ('살구', 1), ('믈', 1), ('뙤짜', 1), ('비록', 1), ('취저', 1), ('짯', 1), ('산음', 1), ('정면', 2), ('표지판', 1), ('므', 2), ('데이터', 1), ('사족', 1), ('밎', 1), ('현금', 1), ('교회', 1), ('유린', 1), ('메추리', 4), ('나선', 2), ('매출', 1), ('명불허전', 1), ('곳강', 1), ('묵', 2), ('냉국', 1), ('막날', 1), ('완죤', 2), ('요성', 1), ('몬합니', 1), ('새해', 3), ('서너', 3), ('원만하다', 1), ('앖었어', 1), ('대법', 1), ('세팅해둬', 1), ('익숙', 1), ('성나다', 1), ('이남', 1), ('착', 1), ('하해', 1), ('없을껍니', 1), ('가치관', 1), ('구경만', 1), ('전기', 1), ('소갈비', 1), ('가스', 1), ('뻘리', 1), ('설빙', 5), ('아무래도', 1), ('극혐', 2), ('모자', 1), ('씌우다', 2), ('우리나라', 1), ('헤치다', 1), ('고향', 1), ('검비냉', 1), ('텁텁해', 1), ('햐', 1), ('꼬치', 1), ('십분', 2), ('구런', 1), ('맛깔나다', 1), ('스런', 1), ('망치', 1), ('르렵', 1), ('다다', 1), ('앖', 1), ('일텐데', 1), ('요시', 2), ('종료', 1), ('리터', 1), ('탓일', 1), ('젊음', 1), ('검거', 1), ('에서야', 1), ('자연히', 1), ('이나마', 1), ('래일', 1), ('투덜대다', 1), ('주섬주섬', 1), ('캬컄', 1), ('러', 1), ('먹을껄', 1), ('나긋나긋하다', 1), ('다시금', 1), ('아마도', 2), ('어깨', 1), ('으쓱', 2), ('노소', 1), ('진정하다', 2), ('만찬', 1), ('소화', 2), ('단축', 1), ('이의', 2), ('가래떡', 2), ('문전', 1), ('물음', 1), ('특징', 1), ('콤보', 1), ('것땜', 1), ('둥절', 1), ('옷차림', 1), ('단순', 1), ('호명', 1), ('찜찜하다', 1), ('관리원', 2), ('만요', 1), ('시기하다', 1), ('이라야', 1), ('차맛', 1), ('뷰덕', 1), ('욕구', 1), ('주꾸미', 1), ('팅후', 2), ('어설프다', 1), ('편임', 1), ('냉이', 1), ('모스', 1), ('장간', 1), ('림프절', 1), ('구토', 1), ('고열', 1), ('시달리다', 1), ('너무쌔', 1), ('먹히다', 2), ('득', 1), ('닭갈비', 1), ('산하동', 1), ('팍팍하다', 1), ('해프닝', 1), ('다지', 2), ('강타', 1), ('피함', 2), ('차완무시', 2), ('식은땀', 1), ('태평', 1), ('임삼', 1), ('아부지', 1), ('살로', 1), ('그라탕', 1), ('혼맛', 1), ('뜸', 1), ('노노', 1), ('없긱', 1), ('려니', 1), ('커피한잔', 3), ('셧다', 1), ('음식사진', 2), ('명예', 1), ('마족', 1), ('좀제', 1), ('루꼴라', 1), ('스파이', 1), ('라곤', 1), ('폰타나', 1), ('근본', 1), ('레크', 1), ('엎드리다', 1), ('맛뼈찜', 1), ('대자보', 1), ('다도', 1), ('뼈찜', 1), ('콥', 1), ('겟', 2), ('삼색', 1), ('야드', 1), ('후려치다', 1), ('게눈', 1), ('단돈', 1), ('분할', 1), ('무색', 1), ('누누', 1), ('덩치', 2), ('크시', 1), ('컷트', 1), ('탕탕', 1), ('수선', 2), ('상주', 2), ('부스러지다', 1), ('쓴소리', 1), ('악성댓글', 1), ('칠이', 1), ('벗겨지다', 1), ('춧가룬', 1), ('러시아', 2), ('그래듀', 1), ('장하', 1), ('츠츠츠쥑', 1), ('화생방', 1), ('적격', 1), ('케바케', 1), ('창렬함', 1), ('스테키', 1), ('덤탱이', 1), ('본사', 1), ('급성', 2), ('링거', 1), ('들큰하다', 1), ('뇨토', 1), ('서화', 1), ('그랬', 1), ('행', 1), ('눚', 1), ('대우받다', 1), ('차마', 1), ('뛰어놀다', 1), ('조화로', 1), ('차량', 1), ('빗자루', 1), ('욱', 1), ('난동', 3), ('불쌍하다', 2), ('즘', 1), ('잠봉', 2), ('느무느무', 1), ('고지', 1), ('무작정', 1), ('라든지', 1), ('실종', 1), ('헹군것', 1), ('불호', 1), ('밖에도', 1), ('꼽자', 1), ('차값', 1), ('만으로도', 1), ('스게', 1), ('허브', 1), ('겉면', 1), ('차편', 3), ('음색', 1), ('ㅡㅇㅡ', 1), ('클라스', 1), ('이제일', 1), ('면박', 1), ('인듯', 1), ('만을', 2), ('룽', 1), ('무안', 1), ('만만하다', 1), ('위협', 1), ('온전', 1), ('권리', 1), ('비키다', 1), ('투어', 1), ('특수', 1), ('투쳑후', 1), ('환불', 1), ('이라곤', 2), ('다마', 1), ('빙빙', 1), ('ㅜㅡ', 1), ('고깃집', 2), ('돈마', 1), ('답지', 1), ('청', 1), ('문맹', 1), ('의시', 1), ('면홍돈', 1), ('찌꺼기', 2), ('돈값', 1), ('제다', 1), ('시비', 1), ('깊이', 1), ('개빵', 1), ('마로', 1), ('칝', 1), ('ㅓㄹ', 1), ('굿맙', 1), ('ㅍㅏ', 1), ('ㅅㅣ', 1), ('지급', 1), ('김치우', 1), ('웨이팅했', 1), ('왼', 1), ('샹그리', 1), ('샹', 1), ('텅', 1), ('혼내다', 2), ('새치기', 1), ('장판', 1), ('습도', 1), ('ㅑ', 1), ('짜파게티', 1), ('스파이크', 1), ('리나', 3), ('친그', 1), ('슴돠', 1), ('휴일', 2), ('괜츈합니', 1), ('툴맨임', 1), ('디지다', 1), ('추어탕', 2), ('플랜', 1), ('싱그럽다', 1), ('구체', 1), ('명패', 1), ('항아리', 1), ('결혼식장', 1), ('장집', 1), ('전표', 1), ('인걸', 2), ('용도', 1), ('은별', 1), ('오도', 1), ('오어', 1), ('마니마니', 1), ('불매운동', 1), ('닊굿', 1), ('신청', 3), ('찡그리다', 2), ('무릅', 1), ('몰랏다함', 1), ('해부', 1), ('레드와인', 1), ('센티', 1), ('간전', 2), ('남알프스', 1), ('하산', 1), ('먹었슺니', 1), ('분다', 1), ('덩이', 1), ('시레기', 1), ('구천원', 1), ('아홉시', 1), ('온회', 1), ('주춤', 1), ('변치', 2), ('아보', 1), ('미역국', 1), ('말라가', 1), ('빵쪽', 1), ('시야', 1), ('미터', 1), ('법도', 1), ('싱기', 1), ('곳늘', 1), ('비갑', 1), ('본가', 1), ('찜콩', 1), ('요요기', 1), ('코스셋트', 1), ('그대', 1), ('뿐셋트', 1), ('집일', 1), ('인셋트코스', 1), ('일일', 1), ('재수', 1), ('온점', 1), ('완전체', 1), ('황해', 1), ('증거', 1), ('아려', 1), ('전문성', 1), ('툴툴대', 1), ('언능', 1), ('웅얼웅얼', 1), ('라다', 1), ('상사', 1), ('ㅐ', 1), ('허투루', 1), ('비트코인', 1), ('반토막', 1), ('삶', 1), ('희망이', 1), ('오이소박이', 2), ('장도', 1), ('다쿠아즈', 2), ('생리대', 1), ('휴직', 1), ('간직', 1), ('도올', 1), ('수술', 1), ('깁스', 1), ('업그레이드', 2), ('용품', 1), ('메이크업', 1), ('셋트메뉴', 1), ('물량부족', 1), ('연장', 1), ('비빵', 1), ('부축', 1), ('말빵', 1), ('논리', 1), ('카카오', 1), ('은제', 1), ('푹쉬다', 1), ('실순', 1), ('미국여행', 1), ('서부', 1), ('또띠아', 3), ('오인', 1), ('소태', 1), ('버럭', 2), ('향연', 1), ('얼추', 1), ('횡설수설', 2), ('어두컴컴하다', 1), ('상반', 1), ('미세하다', 1), ('종업', 1), ('인량중량', 1), ('정해진', 1), ('라베', 1), ('층계', 1), ('단서', 1), ('넘어지다', 1), ('겁결', 1), ('일어서다', 1), ('담날', 1), ('발등', 1), ('하란', 1), ('팻말', 1), ('방뮨', 1), ('스멜', 1), ('이쥬맛', 1), ('귯귯', 1), ('율때', 1), ('윤거', 1), ('슘', 1), ('좀금', 1), ('비맛', 1), ('듬뿍듬뿍', 1), ('미착', 1), ('슈크림', 2), ('프렌치토스트', 1), ('불쾌', 1), ('해지', 1), ('창렬', 1), ('먹을먀', 1), ('재차', 1), ('캡사이신', 1), ('인위', 2), ('햄맛', 1), ('해외', 1), ('조지', 1), ('슬펏', 1), ('시전', 1), ('퇴장', 2), ('런치가격', 1), ('웬걸', 1), ('수두', 1), ('봏아', 1), ('난이', 1), ('여행기', 1), ('페악지르', 1), ('페악치', 1), ('따라가다', 1), ('선선해지다', 1), ('곳음', 1), ('브러쉬', 1), ('비질', 1), ('출입구', 1), ('간시', 1), ('쓱싹쓱싹', 1), ('크리스피도넛', 1), ('갈기갈기', 1), ('이라고는', 1), ('고추가', 2), ('헉했더랬', 1), ('질기', 1), ('괴롭다', 1), ('여친', 2), ('꼬깅', 1), ('아홉', 1), ('남지', 1), ('모바일', 1), ('가지가지', 1), ('출근', 1), ('복산', 1), ('진밥', 1), ('협소합니', 1), ('지적', 1), ('물통', 2), ('떠가다', 1), ('쓰레기봉지', 1), ('트릴', 1), ('순도', 1), ('칸막이', 1), ('노미', 2), ('정해', 1), ('웨이터', 1), ('저가', 1), ('장미', 1), ('한송이', 1), ('기해', 1), ('완제', 1), ('만오천원', 1), ('글거렸', 1), ('입소', 1), ('초자연', 1), ('가격표', 1), ('투썸플레이스', 1), ('쵝옹', 1), ('가제', 1), ('댱', 1), ('학창시절', 1), ('ㄷㅔ', 2), ('체다', 1), ('폭탄', 1), ('장어', 1), ('케미', 1), ('ㅇㅓ', 1), ('넵', 1), ('저항', 1), ('양상추', 1), ('초보자', 1), ('채도', 1), ('체칼', 1), ('허여멀겋다', 1), ('끓다', 1), ('시범', 1), ('코뻥코뻥', 1), ('성애자', 1), ('맛팔', 1), ('선팔', 1), ('맞팔', 2), ('맛스타', 2), ('수거', 1), ('파릇파릇하다', 1), ('다가오다', 1), ('차항', 1), ('뷰값때매', 1), ('바닥나다', 1), ('기록', 1), ('미듐이긴', 1), ('구우', 1), ('모자라', 1), ('여섯', 1), ('서성이다', 1), ('반려동물', 1), ('도가니', 1), ('느', 1), ('게다', 1), ('연예', 1), ('붓카', 1), ('도편', 1), ('유기농', 1), ('가미', 1), ('와의', 1), ('뽕', 1), ('손실', 1), ('이익', 1), ('자석', 1), ('ㅇ', 1), ('숫자', 1), ('시긴', 1), ('갈아타다', 1), ('옛말', 1), ('겸사겸사', 1), ('영혼', 1), ('어중간하다', 1), ('푸석하다', 1), ('타성', 1), ('손좀', 1), ('말복', 1), ('더기', 2), ('감정', 1), ('쇠러', 1), ('졸랏더', 1), ('신세경', 1), ('루한', 1), ('흩다', 1), ('거더', 1), ('묵다', 1), ('잘리다', 1), ('말뜻', 1), ('쾌감', 1), ('ㅉ', 1), ('뉴코아아울렛', 1), ('반감', 2), ('몰리', 1), ('망설이다', 1), ('간김', 1), ('아이디어', 1), ('임차', 1), ('라리', 1), ('뜨근하', 1), ('엮시', 1), ('깜밖', 1), ('기계로', 1), ('생일케이크', 2), ('만큼이나', 1), ('ㄱㄱㄱ', 1), ('철저하다', 1), ('설설', 1), ('도수', 1), ('저온', 1), ('호불', 1), ('무기', 1), ('키우다', 1), ('한국인', 1), ('텅빈', 1), ('찐으루', 1), ('구색', 1), ('선지', 1), ('치이다', 1), ('프론트', 1), ('냉면집', 1), ('알음', 1), ('화포', 2), ('스마트', 1), ('고갱', 1), ('멍청하다', 1), ('바다이야기', 1), ('없어욭', 1), ('율동', 1), ('콘', 1), ('동동주', 1), ('산쪽', 1), ('너무나도', 1), ('지표', 1), ('생일도', 1), ('식돌', 1), ('먹거리', 1), ('탐방', 1), ('기세', 1), ('요명', 1), ('버진', 2), ('프', 1), ('루터', 1), ('피나콜라다', 1), ('스프라이트', 1), ('썽', 1), ('빌라', 1), ('들럿어', 1), ('크루아상', 1), ('커스터', 1), ('팡', 1), ('남겻', 1), ('만주', 1), ('여운', 1), ('최오', 1), ('요건', 1), ('보류', 1), ('더쩌', 1), ('내심', 1), ('산뢰감', 1), ('미적지근하다', 1), ('미덕', 1), ('지근', 1), ('문지기', 1), ('시대', 1), ('미끌거리다', 1), ('구한', 1), ('물병', 1), ('콜라보', 1), ('두렁', 2), ('선임', 1), ('쉬움', 1), ('부지', 1), ('처지', 1), ('안일하다', 1), ('천지', 1), ('돈코츠차항', 1), ('부심', 1), ('엽떡', 1), ('ㅠㅠㅋㅋㅋ', 1), ('탄산수', 1), ('방학', 1), ('시골', 1), ('맛재', 1), ('개속', 1), ('스탠드', 1), ('앆', 1), ('지렁이', 1), ('지장', 1), ('도리어', 1), ('이유식', 1), ('둘때', 1), ('두리번거리다', 1), ('무지막지', 1), ('마디', 1), ('날카롭다', 1), ('심맛', 1), ('리필함', 1), ('고심', 1), ('금수', 1), ('두운', 1), ('하는둥', 1), ('삭막하다', 1), ('스피커', 1), ('멀더', 1), ('극장', 1), ('가형', 1), ('거창하다', 2), ('유기', 1), ('멜라민', 1), ('조차도', 1), ('너무도', 1), ('수입', 1), ('롱런', 1)])\n"
     ]
    }
   ],
   "source": [
    "print(tokenizer.word_counts)"
   ]
  },
  {
   "cell_type": "code",
   "execution_count": 74,
   "metadata": {},
   "outputs": [
    {
     "name": "stdout",
     "output_type": "stream",
     "text": [
      "8160\n"
     ]
    }
   ],
   "source": [
    "# 전체 단어 개수\n",
    "print(len(tokenizer.word_counts))"
   ]
  },
  {
   "cell_type": "code",
   "execution_count": 75,
   "metadata": {},
   "outputs": [
    {
     "name": "stdout",
     "output_type": "stream",
     "text": [
      "4696\n"
     ]
    }
   ],
   "source": [
    "threshold = 3\n",
    "rare_cnt = 0\n",
    "for i,j in tokenizer.word_counts.items():\n",
    "    if j < threshold:\n",
    "        rare_cnt +=1\n",
    "\n",
    "print(rare_cnt)"
   ]
  },
  {
   "cell_type": "code",
   "execution_count": 76,
   "metadata": {},
   "outputs": [
    {
     "name": "stdout",
     "output_type": "stream",
     "text": [
      "3464\n"
     ]
    }
   ],
   "source": [
    "print(len(tokenizer.word_counts)-rare_cnt)"
   ]
  },
  {
   "cell_type": "code",
   "execution_count": 77,
   "metadata": {},
   "outputs": [],
   "source": [
    "vocab_size = len(tokenizer.word_counts)-rare_cnt\n",
    "tokenizer = Tokenizer(vocab_size)\n",
    "tokenizer.fit_on_texts(train_df['new리뷰'])\n",
    "X_train = tokenizer.texts_to_sequences(train_df['new리뷰'])"
   ]
  },
  {
   "cell_type": "code",
   "execution_count": 78,
   "metadata": {},
   "outputs": [],
   "source": [
    "train_df['토큰화된리뷰'] = X_train"
   ]
  },
  {
   "cell_type": "code",
   "execution_count": 167,
   "metadata": {},
   "outputs": [
    {
     "data": {
      "text/html": [
       "<div>\n",
       "<style scoped>\n",
       "    .dataframe tbody tr th:only-of-type {\n",
       "        vertical-align: middle;\n",
       "    }\n",
       "\n",
       "    .dataframe tbody tr th {\n",
       "        vertical-align: top;\n",
       "    }\n",
       "\n",
       "    .dataframe thead th {\n",
       "        text-align: right;\n",
       "    }\n",
       "</style>\n",
       "<table border=\"1\" class=\"dataframe\">\n",
       "  <thead>\n",
       "    <tr style=\"text-align: right;\">\n",
       "      <th></th>\n",
       "      <th>리뷰</th>\n",
       "      <th>음식유형</th>\n",
       "      <th>리뷰2</th>\n",
       "      <th>리뷰3</th>\n",
       "      <th>리뷰4</th>\n",
       "      <th>label</th>\n",
       "      <th>리뷰5</th>\n",
       "      <th>new리뷰</th>\n",
       "      <th>토큰화된리뷰</th>\n",
       "    </tr>\n",
       "  </thead>\n",
       "  <tbody>\n",
       "  </tbody>\n",
       "</table>\n",
       "</div>"
      ],
      "text/plain": [
       "Empty DataFrame\n",
       "Columns: [리뷰, 음식유형, 리뷰2, 리뷰3, 리뷰4, label, 리뷰5, new리뷰, 토큰화된리뷰]\n",
       "Index: []"
      ]
     },
     "execution_count": 167,
     "metadata": {},
     "output_type": "execute_result"
    }
   ],
   "source": [
    "index_list = []\n",
    "for i in range(len(train_df)):\n",
    "    if len(train_df['토큰화된리뷰'].loc[i]) == 0:\n",
    "        index_list.append(i)\n",
    "train_df.loc[index_list]"
   ]
  },
  {
   "cell_type": "code",
   "execution_count": 169,
   "metadata": {},
   "outputs": [
    {
     "data": {
      "text/html": [
       "<div>\n",
       "<style scoped>\n",
       "    .dataframe tbody tr th:only-of-type {\n",
       "        vertical-align: middle;\n",
       "    }\n",
       "\n",
       "    .dataframe tbody tr th {\n",
       "        vertical-align: top;\n",
       "    }\n",
       "\n",
       "    .dataframe thead th {\n",
       "        text-align: right;\n",
       "    }\n",
       "</style>\n",
       "<table border=\"1\" class=\"dataframe\">\n",
       "  <thead>\n",
       "    <tr style=\"text-align: right;\">\n",
       "      <th></th>\n",
       "      <th>리뷰</th>\n",
       "      <th>리뷰3</th>\n",
       "      <th>리뷰5</th>\n",
       "      <th>토큰화된리뷰</th>\n",
       "      <th>label</th>\n",
       "    </tr>\n",
       "  </thead>\n",
       "  <tbody>\n",
       "    <tr>\n",
       "      <th>0</th>\n",
       "      <td>너무 친절하고 음식이 맛있어요 ㅎㅎ</td>\n",
       "      <td>너무 친절하고 음식이 맛있어요 ㅎㅎ</td>\n",
       "      <td>[너무, 친절하다, 음식, 맛있다, ㅎㅎ]</td>\n",
       "      <td>[5, 19, 10, 3, 67]</td>\n",
       "      <td>1</td>\n",
       "    </tr>\n",
       "    <tr>\n",
       "      <th>1</th>\n",
       "      <td>정말 기분 더럽게하는  음식점이었네요. 오랜만에 가족끼리 외식하고 기분내려고 갔는건...</td>\n",
       "      <td>정말 기분 더럽게하는  음식점이었네요 오랜만에 가족끼리 외식하고 기분내려고 갔는건데...</td>\n",
       "      <td>[정말, 기분, 더럽다, 하다, 음식점, 이다, 오랜, 만, 가족, 끼리, 외식, ...</td>\n",
       "      <td>[42, 70, 423, 1, 707, 12, 172, 24, 113, 413, 5...</td>\n",
       "      <td>0</td>\n",
       "    </tr>\n",
       "    <tr>\n",
       "      <th>2</th>\n",
       "      <td>두번째 방문인데~ 엄마가 빵이맛잇다고ㅎ역쉬 가격은 사~악하지만🤣맛잇으니🥰  굿👍</td>\n",
       "      <td>두번째 방문인데 엄마가 빵이맛잇다고ㅎ역쉬 가격은 사악하지만맛잇으니  굿</td>\n",
       "      <td>[두번째, 방문, 인데, 엄마, 빵, 맛, 잇다, ㅎ, 역쉬, 가격, 사악하다, 맛...</td>\n",
       "      <td>[324, 18, 60, 783, 53, 6, 151, 156, 30, 1463, ...</td>\n",
       "      <td>0</td>\n",
       "    </tr>\n",
       "    <tr>\n",
       "      <th>3</th>\n",
       "      <td>집들어가는길에  시원한 라떼한잔^^아인슈페너 생각나서 들어갔는데지금은 안된다고해서 ...</td>\n",
       "      <td>집들어가는길에  시원한 라떼한잔아인슈페너 생각나서 들어갔는데지금은 안된다고해서 그린...</td>\n",
       "      <td>[들어가다, 길, 시원하다, 라떼, 한잔, 아인, 슈페, 너, 생각나다, 들어가다,...</td>\n",
       "      <td>[106, 784, 380, 464, 1018, 2520, 1989, 444, 30...</td>\n",
       "      <td>1</td>\n",
       "    </tr>\n",
       "    <tr>\n",
       "      <th>4</th>\n",
       "      <td>친절해요~</td>\n",
       "      <td>친절해요</td>\n",
       "      <td>[친절하다]</td>\n",
       "      <td>[19]</td>\n",
       "      <td>1</td>\n",
       "    </tr>\n",
       "    <tr>\n",
       "      <th>...</th>\n",
       "      <td>...</td>\n",
       "      <td>...</td>\n",
       "      <td>...</td>\n",
       "      <td>...</td>\n",
       "      <td>...</td>\n",
       "    </tr>\n",
       "    <tr>\n",
       "      <th>6266</th>\n",
       "      <td>분위기좋고맛있어요</td>\n",
       "      <td>분위기좋고맛있어요</td>\n",
       "      <td>[분위기, 좋다, 맛있다]</td>\n",
       "      <td>[40, 4, 3]</td>\n",
       "      <td>1</td>\n",
       "    </tr>\n",
       "    <tr>\n",
       "      <th>6267</th>\n",
       "      <td>커피는 쏘쏘 맛있는건 아니구 그냥 저냥 원두 뷰값이라 생각하고 사먹었어요 라떼는 싱...</td>\n",
       "      <td>커피는 쏘쏘 맛있는건 아니구 그냥 저냥 원두 뷰값이라 생각하고 사먹었어요 라떼는 싱...</td>\n",
       "      <td>[커피, 쏘다, 쏘다, 맛있다, 아니다, 그냥, 저, 냥, 원두, 뷰값, 이라, 하...</td>\n",
       "      <td>[47, 271, 271, 3, 17, 74, 115, 797, 2484, 2482...</td>\n",
       "      <td>0</td>\n",
       "    </tr>\n",
       "    <tr>\n",
       "      <th>6268</th>\n",
       "      <td>언양에 불고기집은 많고도 많지만인스타나 sns에 어찌나 광고가 거창한지이 추운날 한...</td>\n",
       "      <td>언양에 불고기집은 많고도 많지만인스타나 에 어찌나 광고가 거창한지이 추운날 한시간 ...</td>\n",
       "      <td>[언양, 불고기, 집다, 많다, 많다, 인스타, 어찌나, 광고, 거창하다, 추다, ...</td>\n",
       "      <td>[1137, 299, 748, 28, 28, 935, 1968, 823, 126, ...</td>\n",
       "      <td>0</td>\n",
       "    </tr>\n",
       "    <tr>\n",
       "      <th>6269</th>\n",
       "      <td>점심특선 먹으러 가족과 같이 갔어요. 가성비 좋고 맛이 최고여요. 매장이 깔끔하고 ...</td>\n",
       "      <td>점심특선 먹으러 가족과 같이 갔어요 가성비 좋고 맛이 최고여요 매장이 깔끔하고 음식...</td>\n",
       "      <td>[점심, 특선, 먹다, 가족, 과, 같이, 가다, 가성, 비, 좋다, 맛, 최고, ...</td>\n",
       "      <td>[207, 732, 2, 113, 57, 185, 11, 140, 125, 4, 6...</td>\n",
       "      <td>1</td>\n",
       "    </tr>\n",
       "    <tr>\n",
       "      <th>6270</th>\n",
       "      <td>다른 사람들 리뷰보고 갔는데 너무 기대하고 갔어요 그냥 그랬어요담엔 코스 안 먹을려...</td>\n",
       "      <td>다른 사람들 리뷰보고 갔는데 너무 기대하고 갔어요 그냥 그랬어요담엔 코스 안 먹을려...</td>\n",
       "      <td>[리뷰, 보고, 가다, 너무, 기대하다, 가다, 그냥, 그렇다, 담, 엔, 코스, ...</td>\n",
       "      <td>[124, 129, 11, 5, 494, 11, 74, 44, 377, 107, 1...</td>\n",
       "      <td>1</td>\n",
       "    </tr>\n",
       "  </tbody>\n",
       "</table>\n",
       "<p>6271 rows × 5 columns</p>\n",
       "</div>"
      ],
      "text/plain": [
       "                                                     리뷰  \\\n",
       "0                                   너무 친절하고 음식이 맛있어요 ㅎㅎ   \n",
       "1     정말 기분 더럽게하는  음식점이었네요. 오랜만에 가족끼리 외식하고 기분내려고 갔는건...   \n",
       "2          두번째 방문인데~ 엄마가 빵이맛잇다고ㅎ역쉬 가격은 사~악하지만🤣맛잇으니🥰  굿👍   \n",
       "3     집들어가는길에  시원한 라떼한잔^^아인슈페너 생각나서 들어갔는데지금은 안된다고해서 ...   \n",
       "4                                                 친절해요~   \n",
       "...                                                 ...   \n",
       "6266                                          분위기좋고맛있어요   \n",
       "6267  커피는 쏘쏘 맛있는건 아니구 그냥 저냥 원두 뷰값이라 생각하고 사먹었어요 라떼는 싱...   \n",
       "6268  언양에 불고기집은 많고도 많지만인스타나 sns에 어찌나 광고가 거창한지이 추운날 한...   \n",
       "6269  점심특선 먹으러 가족과 같이 갔어요. 가성비 좋고 맛이 최고여요. 매장이 깔끔하고 ...   \n",
       "6270  다른 사람들 리뷰보고 갔는데 너무 기대하고 갔어요 그냥 그랬어요담엔 코스 안 먹을려...   \n",
       "\n",
       "                                                    리뷰3  \\\n",
       "0                                   너무 친절하고 음식이 맛있어요 ㅎㅎ   \n",
       "1     정말 기분 더럽게하는  음식점이었네요 오랜만에 가족끼리 외식하고 기분내려고 갔는건데...   \n",
       "2               두번째 방문인데 엄마가 빵이맛잇다고ㅎ역쉬 가격은 사악하지만맛잇으니  굿   \n",
       "3     집들어가는길에  시원한 라떼한잔아인슈페너 생각나서 들어갔는데지금은 안된다고해서 그린...   \n",
       "4                                                  친절해요   \n",
       "...                                                 ...   \n",
       "6266                                          분위기좋고맛있어요   \n",
       "6267  커피는 쏘쏘 맛있는건 아니구 그냥 저냥 원두 뷰값이라 생각하고 사먹었어요 라떼는 싱...   \n",
       "6268  언양에 불고기집은 많고도 많지만인스타나 에 어찌나 광고가 거창한지이 추운날 한시간 ...   \n",
       "6269  점심특선 먹으러 가족과 같이 갔어요 가성비 좋고 맛이 최고여요 매장이 깔끔하고 음식...   \n",
       "6270  다른 사람들 리뷰보고 갔는데 너무 기대하고 갔어요 그냥 그랬어요담엔 코스 안 먹을려...   \n",
       "\n",
       "                                                    리뷰5  \\\n",
       "0                               [너무, 친절하다, 음식, 맛있다, ㅎㅎ]   \n",
       "1     [정말, 기분, 더럽다, 하다, 음식점, 이다, 오랜, 만, 가족, 끼리, 외식, ...   \n",
       "2     [두번째, 방문, 인데, 엄마, 빵, 맛, 잇다, ㅎ, 역쉬, 가격, 사악하다, 맛...   \n",
       "3     [들어가다, 길, 시원하다, 라떼, 한잔, 아인, 슈페, 너, 생각나다, 들어가다,...   \n",
       "4                                                [친절하다]   \n",
       "...                                                 ...   \n",
       "6266                                     [분위기, 좋다, 맛있다]   \n",
       "6267  [커피, 쏘다, 쏘다, 맛있다, 아니다, 그냥, 저, 냥, 원두, 뷰값, 이라, 하...   \n",
       "6268  [언양, 불고기, 집다, 많다, 많다, 인스타, 어찌나, 광고, 거창하다, 추다, ...   \n",
       "6269  [점심, 특선, 먹다, 가족, 과, 같이, 가다, 가성, 비, 좋다, 맛, 최고, ...   \n",
       "6270  [리뷰, 보고, 가다, 너무, 기대하다, 가다, 그냥, 그렇다, 담, 엔, 코스, ...   \n",
       "\n",
       "                                                 토큰화된리뷰  label  \n",
       "0                                    [5, 19, 10, 3, 67]      1  \n",
       "1     [42, 70, 423, 1, 707, 12, 172, 24, 113, 413, 5...      0  \n",
       "2     [324, 18, 60, 783, 53, 6, 151, 156, 30, 1463, ...      0  \n",
       "3     [106, 784, 380, 464, 1018, 2520, 1989, 444, 30...      1  \n",
       "4                                                  [19]      1  \n",
       "...                                                 ...    ...  \n",
       "6266                                         [40, 4, 3]      1  \n",
       "6267  [47, 271, 271, 3, 17, 74, 115, 797, 2484, 2482...      0  \n",
       "6268  [1137, 299, 748, 28, 28, 935, 1968, 823, 126, ...      0  \n",
       "6269  [207, 732, 2, 113, 57, 185, 11, 140, 125, 4, 6...      1  \n",
       "6270  [124, 129, 11, 5, 494, 11, 74, 44, 377, 107, 1...      1  \n",
       "\n",
       "[6271 rows x 5 columns]"
      ]
     },
     "execution_count": 169,
     "metadata": {},
     "output_type": "execute_result"
    }
   ],
   "source": [
    "train_df.drop(index_list,inplace=True,axis=0)\n",
    "train_df.reset_index(inplace=True, drop=True)\n",
    "train_df[['리뷰','리뷰3','리뷰5','토큰화된리뷰','label']]"
   ]
  },
  {
   "cell_type": "code",
   "execution_count": 81,
   "metadata": {},
   "outputs": [],
   "source": [
    "y_train = train_df['label']"
   ]
  },
  {
   "cell_type": "code",
   "execution_count": 82,
   "metadata": {},
   "outputs": [
    {
     "name": "stdout",
     "output_type": "stream",
     "text": [
      "리뷰의 최대 길이 : 129\n",
      "리뷰의 평균 길이 : 18.722372827300273\n"
     ]
    },
    {
     "data": {
      "image/png": "[encoded data removed]",
      "text/plain": [
       "<Figure size 640x480 with 1 Axes>"
      ]
     },
     "metadata": {},
     "output_type": "display_data"
    }
   ],
   "source": [
    "X_train = train_df['토큰화된리뷰']\n",
    "print('리뷰의 최대 길이 :',max(len(review) for review in X_train))\n",
    "print('리뷰의 평균 길이 :',sum(map(len, X_train))/len(X_train))\n",
    "plt.hist([len(review) for review in X_train], bins=50)\n",
    "plt.xlabel('length of samples')\n",
    "plt.ylabel('number of samples')\n",
    "plt.show()"
   ]
  },
  {
   "cell_type": "code",
   "execution_count": 83,
   "metadata": {},
   "outputs": [],
   "source": [
    "from tensorflow.keras.preprocessing.sequence import pad_sequences\n",
    "X_train = pad_sequences(X_train, maxlen=30)"
   ]
  },
  {
   "cell_type": "code",
   "execution_count": 163,
   "metadata": {},
   "outputs": [
    {
     "name": "stdout",
     "output_type": "stream",
     "text": [
      "Epoch 1/3\n",
      "\u001b[1m79/79\u001b[0m \u001b[32m━━━━━━━━━━━━━━━━━━━━\u001b[0m\u001b[37m\u001b[0m \u001b[1m0s\u001b[0m 34ms/step - acc: 0.6965 - loss: 0.5768\n",
      "Epoch 1: val_acc improved from -inf to 0.90199, saving model to best_model.keras\n",
      "\u001b[1m79/79\u001b[0m \u001b[32m━━━━━━━━━━━━━━━━━━━━\u001b[0m\u001b[37m\u001b[0m \u001b[1m6s\u001b[0m 41ms/step - acc: 0.6977 - loss: 0.5752 - val_acc: 0.9020 - val_loss: 0.2385\n",
      "Epoch 2/3\n",
      "\u001b[1m78/79\u001b[0m \u001b[32m━━━━━━━━━━━━━━━━━━━\u001b[0m\u001b[37m━\u001b[0m \u001b[1m0s\u001b[0m 36ms/step - acc: 0.9272 - loss: 0.1975\n",
      "Epoch 2: val_acc improved from 0.90199 to 0.93865, saving model to best_model.keras\n",
      "\u001b[1m79/79\u001b[0m \u001b[32m━━━━━━━━━━━━━━━━━━━━\u001b[0m\u001b[37m\u001b[0m \u001b[1m3s\u001b[0m 40ms/step - acc: 0.9275 - loss: 0.1969 - val_acc: 0.9386 - val_loss: 0.1850\n",
      "Epoch 3/3\n",
      "\u001b[1m78/79\u001b[0m \u001b[32m━━━━━━━━━━━━━━━━━━━\u001b[0m\u001b[37m━\u001b[0m \u001b[1m0s\u001b[0m 35ms/step - acc: 0.9597 - loss: 0.1154\n",
      "Epoch 3: val_acc improved from 0.93865 to 0.95219, saving model to best_model.keras\n",
      "\u001b[1m79/79\u001b[0m \u001b[32m━━━━━━━━━━━━━━━━━━━━\u001b[0m\u001b[37m\u001b[0m \u001b[1m3s\u001b[0m 38ms/step - acc: 0.9598 - loss: 0.1153 - val_acc: 0.9522 - val_loss: 0.1330\n"
     ]
    }
   ],
   "source": [
    "from tensorflow.keras.layers import Embedding, Dense, LSTM\n",
    "from tensorflow.keras.models import Sequential\n",
    "from tensorflow.keras.models import load_model\n",
    "from tensorflow.keras.callbacks import EarlyStopping, ModelCheckpoint\n",
    "\n",
    "embedding_dim = 100\n",
    "hidden_units = 128\n",
    "\n",
    "model = Sequential()\n",
    "model.add(Embedding(vocab_size, embedding_dim))\n",
    "model.add(LSTM(hidden_units))\n",
    "model.add(Dense(1, activation='sigmoid'))\n",
    "\n",
    "es = EarlyStopping(monitor='val_loss', mode='min', verbose=1, patience=4)\n",
    "mc = ModelCheckpoint('best_model.keras', monitor='val_acc', mode='max', verbose=1, save_best_only=True)\n",
    "\n",
    "model.compile(optimizer='rmsprop', loss='binary_crossentropy', metrics=['acc'])\n",
    "\n",
    "history = model.fit(X_train, y_train, epochs=3, callbacks=[es, mc], batch_size=64, validation_split=0.2)"
   ]
  },
  {
   "cell_type": "code",
   "execution_count": 90,
   "metadata": {},
   "outputs": [
    {
     "data": {
      "text/html": [
       "<div>\n",
       "<style scoped>\n",
       "    .dataframe tbody tr th:only-of-type {\n",
       "        vertical-align: middle;\n",
       "    }\n",
       "\n",
       "    .dataframe tbody tr th {\n",
       "        vertical-align: top;\n",
       "    }\n",
       "\n",
       "    .dataframe thead th {\n",
       "        text-align: right;\n",
       "    }\n",
       "</style>\n",
       "<table border=\"1\" class=\"dataframe\">\n",
       "  <thead>\n",
       "    <tr style=\"text-align: right;\">\n",
       "      <th></th>\n",
       "      <th>리뷰</th>\n",
       "      <th>음식유형</th>\n",
       "      <th>리뷰2</th>\n",
       "      <th>리뷰3</th>\n",
       "      <th>리뷰4</th>\n",
       "      <th>label</th>\n",
       "      <th>토큰화된리뷰</th>\n",
       "    </tr>\n",
       "  </thead>\n",
       "  <tbody>\n",
       "    <tr>\n",
       "      <th>5049</th>\n",
       "      <td>굿</td>\n",
       "      <td>디저트</td>\n",
       "      <td>굿</td>\n",
       "      <td>굿</td>\n",
       "      <td>굿</td>\n",
       "      <td>1</td>\n",
       "      <td>[294]</td>\n",
       "    </tr>\n",
       "    <tr>\n",
       "      <th>5256</th>\n",
       "      <td>뷰 좋아용</td>\n",
       "      <td>디저트</td>\n",
       "      <td>뷰 좋아용</td>\n",
       "      <td>뷰 좋아용</td>\n",
       "      <td>뷰 좋다</td>\n",
       "      <td>1</td>\n",
       "      <td>[54, 4]</td>\n",
       "    </tr>\n",
       "    <tr>\n",
       "      <th>82522</th>\n",
       "      <td>영업 전부터 줄서있길래 얼마나 맛있나 궁금했는데 진짜 맛있네요.</td>\n",
       "      <td>퓨전</td>\n",
       "      <td>영업 전부터 줄서있길래 얼마나 맛있나 궁금했는데 진짜 맛있네요</td>\n",
       "      <td>영업 전부터 줄서있길래 얼마나 맛있나 궁금했는데 진짜 맛있네요</td>\n",
       "      <td>영업 전 부터 줄 서 있다 얼마나 맛있다 궁금하다 진짜 맛있다</td>\n",
       "      <td>1</td>\n",
       "      <td>[1341, 139, 215, 76, 8, 1038, 3, 1184, 38, 3]</td>\n",
       "    </tr>\n",
       "    <tr>\n",
       "      <th>85680</th>\n",
       "      <td>유명하다고 해서 2시간 기다리도 간신히 주차해서 먹었는데 정말  다시는 오고 싶지 ...</td>\n",
       "      <td>한식</td>\n",
       "      <td>유명하다고 해서 시간 기다리도 간신히 주차해서 먹었는데 정말  다시는 오고 싶지 않...</td>\n",
       "      <td>유명하다고 해서 시간 기다리도 간신히 주차해서 먹었는데 정말  다시는 오고 싶지 않...</td>\n",
       "      <td>유명하다 하다 시간 기다리다 간신히 주차 하다 먹다 정말 다시다 오다 싶다 않다 곳...</td>\n",
       "      <td>0</td>\n",
       "      <td>[512, 1, 81, 84, 1, 2, 42, 177, 9, 79, 20, 29,...</td>\n",
       "    </tr>\n",
       "    <tr>\n",
       "      <th>95451</th>\n",
       "      <td>울산의 맛집이죠..</td>\n",
       "      <td>한식</td>\n",
       "      <td>울산의 맛집이죠</td>\n",
       "      <td>울산의 맛집이죠</td>\n",
       "      <td>울산 의 맛집 이 죠</td>\n",
       "      <td>1</td>\n",
       "      <td>[77, 59, 55, 501]</td>\n",
       "    </tr>\n",
       "    <tr>\n",
       "      <th>...</th>\n",
       "      <td>...</td>\n",
       "      <td>...</td>\n",
       "      <td>...</td>\n",
       "      <td>...</td>\n",
       "      <td>...</td>\n",
       "      <td>...</td>\n",
       "      <td>...</td>\n",
       "    </tr>\n",
       "    <tr>\n",
       "      <th>22758</th>\n",
       "      <td>맛있어요</td>\n",
       "      <td>양식</td>\n",
       "      <td>맛있어요</td>\n",
       "      <td>맛있어요</td>\n",
       "      <td>맛있다</td>\n",
       "      <td>1</td>\n",
       "      <td>[3]</td>\n",
       "    </tr>\n",
       "    <tr>\n",
       "      <th>112077</th>\n",
       "      <td>맛있게 잘 먹었습니다</td>\n",
       "      <td>한식</td>\n",
       "      <td>맛있게 잘 먹었습니다</td>\n",
       "      <td>맛있게 잘 먹었습니다</td>\n",
       "      <td>맛있다 자다 먹다</td>\n",
       "      <td>1</td>\n",
       "      <td>[3, 33, 2]</td>\n",
       "    </tr>\n",
       "    <tr>\n",
       "      <th>95465</th>\n",
       "      <td>늘가는곳인데 맛있어요!만두는 필수</td>\n",
       "      <td>한식</td>\n",
       "      <td>늘가는곳인데 맛있어요만두는 필수</td>\n",
       "      <td>늘가는곳인데 맛있어요만두는 필수</td>\n",
       "      <td>늘다 곳 인데 맛있다 만두 는 필수</td>\n",
       "      <td>1</td>\n",
       "      <td>[308, 29, 60, 3, 449, 964]</td>\n",
       "    </tr>\n",
       "    <tr>\n",
       "      <th>94995</th>\n",
       "      <td>좋아요</td>\n",
       "      <td>한식</td>\n",
       "      <td>좋아요</td>\n",
       "      <td>좋아요</td>\n",
       "      <td>좋다</td>\n",
       "      <td>1</td>\n",
       "      <td>[4]</td>\n",
       "    </tr>\n",
       "    <tr>\n",
       "      <th>75599</th>\n",
       "      <td>비오는 날와서 먹으니 좋아요^^</td>\n",
       "      <td>카페</td>\n",
       "      <td>비오는 날와서 먹으니 좋아요</td>\n",
       "      <td>비오는 날와서 먹으니 좋아요</td>\n",
       "      <td>비다 날 와 서다 먹다 좋다</td>\n",
       "      <td>1</td>\n",
       "      <td>[171, 126, 90, 205, 2, 4]</td>\n",
       "    </tr>\n",
       "  </tbody>\n",
       "</table>\n",
       "<p>1739 rows × 7 columns</p>\n",
       "</div>"
      ],
      "text/plain": [
       "                                                       리뷰 음식유형  \\\n",
       "5049                                                    굿  디저트   \n",
       "5256                                                뷰 좋아용  디저트   \n",
       "82522                 영업 전부터 줄서있길래 얼마나 맛있나 궁금했는데 진짜 맛있네요.   퓨전   \n",
       "85680   유명하다고 해서 2시간 기다리도 간신히 주차해서 먹었는데 정말  다시는 오고 싶지 ...   한식   \n",
       "95451                                          울산의 맛집이죠..   한식   \n",
       "...                                                   ...  ...   \n",
       "22758                                                맛있어요   양식   \n",
       "112077                                        맛있게 잘 먹었습니다   한식   \n",
       "95465                                  늘가는곳인데 맛있어요!만두는 필수   한식   \n",
       "94995                                                 좋아요   한식   \n",
       "75599                                   비오는 날와서 먹으니 좋아요^^   카페   \n",
       "\n",
       "                                                      리뷰2  \\\n",
       "5049                                                    굿   \n",
       "5256                                                뷰 좋아용   \n",
       "82522                  영업 전부터 줄서있길래 얼마나 맛있나 궁금했는데 진짜 맛있네요   \n",
       "85680   유명하다고 해서 시간 기다리도 간신히 주차해서 먹었는데 정말  다시는 오고 싶지 않...   \n",
       "95451                                            울산의 맛집이죠   \n",
       "...                                                   ...   \n",
       "22758                                                맛있어요   \n",
       "112077                                        맛있게 잘 먹었습니다   \n",
       "95465                                   늘가는곳인데 맛있어요만두는 필수   \n",
       "94995                                                 좋아요   \n",
       "75599                                     비오는 날와서 먹으니 좋아요   \n",
       "\n",
       "                                                      리뷰3  \\\n",
       "5049                                                    굿   \n",
       "5256                                                뷰 좋아용   \n",
       "82522                  영업 전부터 줄서있길래 얼마나 맛있나 궁금했는데 진짜 맛있네요   \n",
       "85680   유명하다고 해서 시간 기다리도 간신히 주차해서 먹었는데 정말  다시는 오고 싶지 않...   \n",
       "95451                                            울산의 맛집이죠   \n",
       "...                                                   ...   \n",
       "22758                                                맛있어요   \n",
       "112077                                        맛있게 잘 먹었습니다   \n",
       "95465                                   늘가는곳인데 맛있어요만두는 필수   \n",
       "94995                                                 좋아요   \n",
       "75599                                     비오는 날와서 먹으니 좋아요   \n",
       "\n",
       "                                                      리뷰4  label  \\\n",
       "5049                                                    굿      1   \n",
       "5256                                                 뷰 좋다      1   \n",
       "82522                  영업 전 부터 줄 서 있다 얼마나 맛있다 궁금하다 진짜 맛있다      1   \n",
       "85680   유명하다 하다 시간 기다리다 간신히 주차 하다 먹다 정말 다시다 오다 싶다 않다 곳...      0   \n",
       "95451                                         울산 의 맛집 이 죠      1   \n",
       "...                                                   ...    ...   \n",
       "22758                                                 맛있다      1   \n",
       "112077                                          맛있다 자다 먹다      1   \n",
       "95465                                 늘다 곳 인데 맛있다 만두 는 필수      1   \n",
       "94995                                                  좋다      1   \n",
       "75599                                     비다 날 와 서다 먹다 좋다      1   \n",
       "\n",
       "                                                   토큰화된리뷰  \n",
       "5049                                                [294]  \n",
       "5256                                              [54, 4]  \n",
       "82522       [1341, 139, 215, 76, 8, 1038, 3, 1184, 38, 3]  \n",
       "85680   [512, 1, 81, 84, 1, 2, 42, 177, 9, 79, 20, 29,...  \n",
       "95451                                   [77, 59, 55, 501]  \n",
       "...                                                   ...  \n",
       "22758                                                 [3]  \n",
       "112077                                         [3, 33, 2]  \n",
       "95465                          [308, 29, 60, 3, 449, 964]  \n",
       "94995                                                 [4]  \n",
       "75599                           [171, 126, 90, 205, 2, 4]  \n",
       "\n",
       "[1739 rows x 7 columns]"
      ]
     },
     "execution_count": 90,
     "metadata": {},
     "output_type": "execute_result"
    }
   ],
   "source": [
    "test_df"
   ]
  },
  {
   "cell_type": "code",
   "execution_count": 91,
   "metadata": {},
   "outputs": [
    {
     "data": {
      "text/html": [
       "<div>\n",
       "<style scoped>\n",
       "    .dataframe tbody tr th:only-of-type {\n",
       "        vertical-align: middle;\n",
       "    }\n",
       "\n",
       "    .dataframe tbody tr th {\n",
       "        vertical-align: top;\n",
       "    }\n",
       "\n",
       "    .dataframe thead th {\n",
       "        text-align: right;\n",
       "    }\n",
       "</style>\n",
       "<table border=\"1\" class=\"dataframe\">\n",
       "  <thead>\n",
       "    <tr style=\"text-align: right;\">\n",
       "      <th></th>\n",
       "      <th>리뷰</th>\n",
       "      <th>음식유형</th>\n",
       "      <th>리뷰2</th>\n",
       "      <th>리뷰3</th>\n",
       "      <th>리뷰4</th>\n",
       "      <th>label</th>\n",
       "      <th>토큰화된리뷰</th>\n",
       "    </tr>\n",
       "  </thead>\n",
       "  <tbody>\n",
       "    <tr>\n",
       "      <th>5049</th>\n",
       "      <td>굿</td>\n",
       "      <td>디저트</td>\n",
       "      <td>굿</td>\n",
       "      <td>굿</td>\n",
       "      <td>굿</td>\n",
       "      <td>1</td>\n",
       "      <td>[294]</td>\n",
       "    </tr>\n",
       "    <tr>\n",
       "      <th>5256</th>\n",
       "      <td>뷰 좋아용</td>\n",
       "      <td>디저트</td>\n",
       "      <td>뷰 좋아용</td>\n",
       "      <td>뷰 좋아용</td>\n",
       "      <td>뷰 좋다</td>\n",
       "      <td>1</td>\n",
       "      <td>[54, 4]</td>\n",
       "    </tr>\n",
       "    <tr>\n",
       "      <th>82522</th>\n",
       "      <td>영업 전부터 줄서있길래 얼마나 맛있나 궁금했는데 진짜 맛있네요.</td>\n",
       "      <td>퓨전</td>\n",
       "      <td>영업 전부터 줄서있길래 얼마나 맛있나 궁금했는데 진짜 맛있네요</td>\n",
       "      <td>영업 전부터 줄서있길래 얼마나 맛있나 궁금했는데 진짜 맛있네요</td>\n",
       "      <td>영업 전 부터 줄 서 있다 얼마나 맛있다 궁금하다 진짜 맛있다</td>\n",
       "      <td>1</td>\n",
       "      <td>[1341, 139, 215, 76, 8, 1038, 3, 1184, 38, 3]</td>\n",
       "    </tr>\n",
       "    <tr>\n",
       "      <th>85680</th>\n",
       "      <td>유명하다고 해서 2시간 기다리도 간신히 주차해서 먹었는데 정말  다시는 오고 싶지 ...</td>\n",
       "      <td>한식</td>\n",
       "      <td>유명하다고 해서 시간 기다리도 간신히 주차해서 먹었는데 정말  다시는 오고 싶지 않...</td>\n",
       "      <td>유명하다고 해서 시간 기다리도 간신히 주차해서 먹었는데 정말  다시는 오고 싶지 않...</td>\n",
       "      <td>유명하다 하다 시간 기다리다 간신히 주차 하다 먹다 정말 다시다 오다 싶다 않다 곳...</td>\n",
       "      <td>0</td>\n",
       "      <td>[512, 1, 81, 84, 1, 2, 42, 177, 9, 79, 20, 29,...</td>\n",
       "    </tr>\n",
       "    <tr>\n",
       "      <th>95451</th>\n",
       "      <td>울산의 맛집이죠..</td>\n",
       "      <td>한식</td>\n",
       "      <td>울산의 맛집이죠</td>\n",
       "      <td>울산의 맛집이죠</td>\n",
       "      <td>울산 의 맛집 이 죠</td>\n",
       "      <td>1</td>\n",
       "      <td>[77, 59, 55, 501]</td>\n",
       "    </tr>\n",
       "    <tr>\n",
       "      <th>...</th>\n",
       "      <td>...</td>\n",
       "      <td>...</td>\n",
       "      <td>...</td>\n",
       "      <td>...</td>\n",
       "      <td>...</td>\n",
       "      <td>...</td>\n",
       "      <td>...</td>\n",
       "    </tr>\n",
       "    <tr>\n",
       "      <th>22758</th>\n",
       "      <td>맛있어요</td>\n",
       "      <td>양식</td>\n",
       "      <td>맛있어요</td>\n",
       "      <td>맛있어요</td>\n",
       "      <td>맛있다</td>\n",
       "      <td>1</td>\n",
       "      <td>[3]</td>\n",
       "    </tr>\n",
       "    <tr>\n",
       "      <th>112077</th>\n",
       "      <td>맛있게 잘 먹었습니다</td>\n",
       "      <td>한식</td>\n",
       "      <td>맛있게 잘 먹었습니다</td>\n",
       "      <td>맛있게 잘 먹었습니다</td>\n",
       "      <td>맛있다 자다 먹다</td>\n",
       "      <td>1</td>\n",
       "      <td>[3, 33, 2]</td>\n",
       "    </tr>\n",
       "    <tr>\n",
       "      <th>95465</th>\n",
       "      <td>늘가는곳인데 맛있어요!만두는 필수</td>\n",
       "      <td>한식</td>\n",
       "      <td>늘가는곳인데 맛있어요만두는 필수</td>\n",
       "      <td>늘가는곳인데 맛있어요만두는 필수</td>\n",
       "      <td>늘다 곳 인데 맛있다 만두 는 필수</td>\n",
       "      <td>1</td>\n",
       "      <td>[308, 29, 60, 3, 449, 964]</td>\n",
       "    </tr>\n",
       "    <tr>\n",
       "      <th>94995</th>\n",
       "      <td>좋아요</td>\n",
       "      <td>한식</td>\n",
       "      <td>좋아요</td>\n",
       "      <td>좋아요</td>\n",
       "      <td>좋다</td>\n",
       "      <td>1</td>\n",
       "      <td>[4]</td>\n",
       "    </tr>\n",
       "    <tr>\n",
       "      <th>75599</th>\n",
       "      <td>비오는 날와서 먹으니 좋아요^^</td>\n",
       "      <td>카페</td>\n",
       "      <td>비오는 날와서 먹으니 좋아요</td>\n",
       "      <td>비오는 날와서 먹으니 좋아요</td>\n",
       "      <td>비다 날 와 서다 먹다 좋다</td>\n",
       "      <td>1</td>\n",
       "      <td>[171, 126, 90, 205, 2, 4]</td>\n",
       "    </tr>\n",
       "  </tbody>\n",
       "</table>\n",
       "<p>1739 rows × 7 columns</p>\n",
       "</div>"
      ],
      "text/plain": [
       "                                                       리뷰 음식유형  \\\n",
       "5049                                                    굿  디저트   \n",
       "5256                                                뷰 좋아용  디저트   \n",
       "82522                 영업 전부터 줄서있길래 얼마나 맛있나 궁금했는데 진짜 맛있네요.   퓨전   \n",
       "85680   유명하다고 해서 2시간 기다리도 간신히 주차해서 먹었는데 정말  다시는 오고 싶지 ...   한식   \n",
       "95451                                          울산의 맛집이죠..   한식   \n",
       "...                                                   ...  ...   \n",
       "22758                                                맛있어요   양식   \n",
       "112077                                        맛있게 잘 먹었습니다   한식   \n",
       "95465                                  늘가는곳인데 맛있어요!만두는 필수   한식   \n",
       "94995                                                 좋아요   한식   \n",
       "75599                                   비오는 날와서 먹으니 좋아요^^   카페   \n",
       "\n",
       "                                                      리뷰2  \\\n",
       "5049                                                    굿   \n",
       "5256                                                뷰 좋아용   \n",
       "82522                  영업 전부터 줄서있길래 얼마나 맛있나 궁금했는데 진짜 맛있네요   \n",
       "85680   유명하다고 해서 시간 기다리도 간신히 주차해서 먹었는데 정말  다시는 오고 싶지 않...   \n",
       "95451                                            울산의 맛집이죠   \n",
       "...                                                   ...   \n",
       "22758                                                맛있어요   \n",
       "112077                                        맛있게 잘 먹었습니다   \n",
       "95465                                   늘가는곳인데 맛있어요만두는 필수   \n",
       "94995                                                 좋아요   \n",
       "75599                                     비오는 날와서 먹으니 좋아요   \n",
       "\n",
       "                                                      리뷰3  \\\n",
       "5049                                                    굿   \n",
       "5256                                                뷰 좋아용   \n",
       "82522                  영업 전부터 줄서있길래 얼마나 맛있나 궁금했는데 진짜 맛있네요   \n",
       "85680   유명하다고 해서 시간 기다리도 간신히 주차해서 먹었는데 정말  다시는 오고 싶지 않...   \n",
       "95451                                            울산의 맛집이죠   \n",
       "...                                                   ...   \n",
       "22758                                                맛있어요   \n",
       "112077                                        맛있게 잘 먹었습니다   \n",
       "95465                                   늘가는곳인데 맛있어요만두는 필수   \n",
       "94995                                                 좋아요   \n",
       "75599                                     비오는 날와서 먹으니 좋아요   \n",
       "\n",
       "                                                      리뷰4  label  \\\n",
       "5049                                                    굿      1   \n",
       "5256                                                 뷰 좋다      1   \n",
       "82522                  영업 전 부터 줄 서 있다 얼마나 맛있다 궁금하다 진짜 맛있다      1   \n",
       "85680   유명하다 하다 시간 기다리다 간신히 주차 하다 먹다 정말 다시다 오다 싶다 않다 곳...      0   \n",
       "95451                                         울산 의 맛집 이 죠      1   \n",
       "...                                                   ...    ...   \n",
       "22758                                                 맛있다      1   \n",
       "112077                                          맛있다 자다 먹다      1   \n",
       "95465                                 늘다 곳 인데 맛있다 만두 는 필수      1   \n",
       "94995                                                  좋다      1   \n",
       "75599                                     비다 날 와 서다 먹다 좋다      1   \n",
       "\n",
       "                                                   토큰화된리뷰  \n",
       "5049                                                [294]  \n",
       "5256                                              [54, 4]  \n",
       "82522       [1341, 139, 215, 76, 8, 1038, 3, 1184, 38, 3]  \n",
       "85680   [512, 1, 81, 84, 1, 2, 42, 177, 9, 79, 20, 29,...  \n",
       "95451                                   [77, 59, 55, 501]  \n",
       "...                                                   ...  \n",
       "22758                                                 [3]  \n",
       "112077                                         [3, 33, 2]  \n",
       "95465                          [308, 29, 60, 3, 449, 964]  \n",
       "94995                                                 [4]  \n",
       "75599                           [171, 126, 90, 205, 2, 4]  \n",
       "\n",
       "[1739 rows x 7 columns]"
      ]
     },
     "execution_count": 91,
     "metadata": {},
     "output_type": "execute_result"
    }
   ],
   "source": [
    "X_test = tokenizer.texts_to_sequences(test_df['리뷰4'])\n",
    "test_df['토큰화된리뷰'] = X_test\n",
    "test_df"
   ]
  },
  {
   "cell_type": "code",
   "execution_count": 164,
   "metadata": {},
   "outputs": [
    {
     "name": "stdout",
     "output_type": "stream",
     "text": [
      "\u001b[1m55/55\u001b[0m \u001b[32m━━━━━━━━━━━━━━━━━━━━\u001b[0m\u001b[37m\u001b[0m \u001b[1m1s\u001b[0m 8ms/step - acc: 0.9641 - loss: 0.1268\n",
      "테스트 손실: 0.11778680980205536\n",
      "테스트 정확도: 0.9620471596717834\n"
     ]
    }
   ],
   "source": [
    "# 모델을 로드합니다.\n",
    "model = load_model('best_model.keras')\n",
    "\n",
    "X_test = pad_sequences(test_df['토큰화된리뷰'], maxlen=30)\n",
    "y_test = test_df['label']\n",
    "\n",
    "# 테스트 데이터를 사용하여 모델을 평가합니다.\n",
    "test_loss, test_acc = model.evaluate(X_test, y_test)\n",
    "\n",
    "print('테스트 손실:', test_loss)\n",
    "print('테스트 정확도:', test_acc)"
   ]
  },
  {
   "cell_type": "code",
   "execution_count": 94,
   "metadata": {},
   "outputs": [
    {
     "data": {
      "text/plain": [
       "<Figure size 640x480 with 0 Axes>"
      ]
     },
     "metadata": {},
     "output_type": "display_data"
    },
    {
     "data": {
      "image/png": "[encoded data removed]",
      "text/plain": [
       "<Figure size 800x300 with 2 Axes>"
      ]
     },
     "metadata": {},
     "output_type": "display_data"
    }
   ],
   "source": [
    "plt.clf()\n",
    "plt.figure(figsize=(8,3))\n",
    "\n",
    "# 훈련 손실 그래프\n",
    "plt.subplot(121)\n",
    "plt.plot(history.history['loss'])\n",
    "plt.plot(history.history['val_loss'])\n",
    "plt.title('Model Loss')\n",
    "plt.xlabel('Epoch')\n",
    "plt.ylabel('Loss')\n",
    "plt.legend(['train', 'val'], loc='upper right')\n",
    "\n",
    "# 훈련 정확도 그래프\n",
    "plt.subplot(122)\n",
    "plt.plot(history.history['acc'])\n",
    "plt.plot(history.history['val_acc'])\n",
    "plt.title('Model Accuracy')\n",
    "plt.xlabel('Epoch')\n",
    "plt.ylabel('Accuracy')\n",
    "plt.legend(['train', 'val'], loc='lower right')\n",
    "plt.tight_layout()\n",
    "plt.show()\n"
   ]
  },
  {
   "cell_type": "code",
   "execution_count": null,
   "metadata": {},
   "outputs": [],
   "source": []
  },
  {
   "cell_type": "code",
   "execution_count": 165,
   "metadata": {},
   "outputs": [
    {
     "name": "stdout",
     "output_type": "stream",
     "text": [
      "Epoch 1/2\n",
      "\u001b[1m77/79\u001b[0m \u001b[32m━━━━━━━━━━━━━━━━━━━\u001b[0m\u001b[37m━\u001b[0m \u001b[1m0s\u001b[0m 14ms/step - accuracy: 0.6365 - loss: 0.6383\n",
      "Epoch 1: val_accuracy improved from -inf to 0.90199, saving model to best_model_GRU.keras\n",
      "\u001b[1m79/79\u001b[0m \u001b[32m━━━━━━━━━━━━━━━━━━━━\u001b[0m\u001b[37m\u001b[0m \u001b[1m4s\u001b[0m 19ms/step - accuracy: 0.6409 - loss: 0.6339 - val_accuracy: 0.9020 - val_loss: 0.2382\n",
      "Epoch 2/2\n",
      "\u001b[1m76/79\u001b[0m \u001b[32m━━━━━━━━━━━━━━━━━━━\u001b[0m\u001b[37m━\u001b[0m \u001b[1m0s\u001b[0m 14ms/step - accuracy: 0.9446 - loss: 0.1714\n",
      "Epoch 2: val_accuracy improved from 0.90199 to 0.94502, saving model to best_model_GRU.keras\n",
      "\u001b[1m79/79\u001b[0m \u001b[32m━━━━━━━━━━━━━━━━━━━━\u001b[0m\u001b[37m\u001b[0m \u001b[1m1s\u001b[0m 16ms/step - accuracy: 0.9447 - loss: 0.1706 - val_accuracy: 0.9450 - val_loss: 0.1538\n"
     ]
    }
   ],
   "source": [
    "from tensorflow.keras.models import Sequential\n",
    "from tensorflow.keras.layers import GRU, Dense, Embedding\n",
    "from tensorflow.keras.callbacks import EarlyStopping, ModelCheckpoint\n",
    "from tensorflow.keras.layers import Dropout\n",
    "\n",
    "model = Sequential()\n",
    "model.add(Embedding(input_dim=10000, output_dim=32))\n",
    "\n",
    "# GRU 층 추가 후 드롭아웃 적용\n",
    "model.add(GRU(32))\n",
    "model.add(Dropout(0.2))\n",
    "model.add(Dense(1, activation='sigmoid'))\n",
    "model.compile(optimizer='adam', loss='binary_crossentropy', metrics=['accuracy'])\n",
    "\n",
    "early_stopping = EarlyStopping(monitor='val_loss', patience=4)\n",
    "model_checkpoint = ModelCheckpoint('best_model_GRU.keras', monitor='val_accuracy', save_best_only=True, verbose=1)\n",
    "\n",
    "# 모델 학습\n",
    "history = model.fit(X_train, y_train, epochs=2, batch_size=64, validation_split=0.2, callbacks=[early_stopping, model_checkpoint])\n"
   ]
  },
  {
   "cell_type": "code",
   "execution_count": 166,
   "metadata": {},
   "outputs": [
    {
     "name": "stdout",
     "output_type": "stream",
     "text": [
      "\u001b[1m55/55\u001b[0m \u001b[32m━━━━━━━━━━━━━━━━━━━━\u001b[0m\u001b[37m\u001b[0m \u001b[1m1s\u001b[0m 5ms/step - accuracy: 0.9556 - loss: 0.1445\n",
      "테스트 손실: 0.13840852677822113\n",
      "테스트 정확도: 0.9562967419624329\n"
     ]
    }
   ],
   "source": [
    "# 모델을 로드합니다.\n",
    "model = load_model('best_model_GRU.keras')\n",
    "\n",
    "X_test = pad_sequences(test_df['토큰화된리뷰'], maxlen=30)\n",
    "y_test = test_df['label']\n",
    "\n",
    "# 테스트 데이터를 사용하여 모델을 평가합니다.\n",
    "test_loss, test_acc = model.evaluate(X_test, y_test)\n",
    "\n",
    "print('테스트 손실:', test_loss)\n",
    "print('테스트 정확도:', test_acc)"
   ]
  },
  {
   "cell_type": "code",
   "execution_count": 157,
   "metadata": {},
   "outputs": [
    {
     "data": {
      "text/plain": [
       "(0.0, 6.0)"
      ]
     },
     "execution_count": 157,
     "metadata": {},
     "output_type": "execute_result"
    },
    {
     "data": {
      "text/plain": [
       "<Figure size 640x480 with 0 Axes>"
      ]
     },
     "metadata": {},
     "output_type": "display_data"
    },
    {
     "data": {
      "image/png": "[encoded data removed]",
      "text/plain": [
       "<Figure size 1000x300 with 2 Axes>"
      ]
     },
     "metadata": {},
     "output_type": "display_data"
    }
   ],
   "source": [
    "plt.clf()\n",
    "plt.figure(figsize=(10,3))\n",
    "# 훈련 손실 그래프\n",
    "plt.subplot(121)\n",
    "plt.plot(history.history['loss'], 'r')\n",
    "plt.plot(history.history['val_loss'], 'b')\n",
    "plt.title('Model Loss')\n",
    "plt.xlabel('Epoch')\n",
    "plt.ylabel('Loss')\n",
    "plt.legend(['Train', 'Validation'], loc='best')\n",
    "plt.xlim(0,6)\n",
    "\n",
    "# 훈련 정확도 그래프\n",
    "plt.subplot(122)\n",
    "plt.plot(history.history['accuracy'], 'r')\n",
    "plt.plot(history.history['val_accuracy'], 'b')  \n",
    "plt.title('Model Accuracy')\n",
    "plt.xlabel('Epoch')\n",
    "plt.ylabel('Accuracy')\n",
    "plt.legend(['Train', 'Validation'], loc='best')\n",
    "plt.xlim(0,6)"
   ]
  },
  {
   "cell_type": "code",
   "execution_count": null,
   "metadata": {},
   "outputs": [],
   "source": []
  },
  {
   "cell_type": "code",
   "execution_count": 56,
   "metadata": {},
   "outputs": [],
   "source": [
    "loaded_model = load_model('best_model_GRU.keras')"
   ]
  },
  {
   "cell_type": "code",
   "execution_count": 57,
   "metadata": {},
   "outputs": [],
   "source": [
    "def review(new_sentence):\n",
    "    new_sentence = okt.morphs(new_sentence, stem=True)\n",
    "    encoded = tokenizer.texts_to_sequences([new_sentence])\n",
    "    pad_new = pad_sequences(encoded, maxlen = 30)\n",
    "    pred = float(loaded_model.predict(pad_new))\n",
    "    if pred > 0.5:\n",
    "        print(f'{pred*100} 확률로 긍정리뷰 입니다.')\n",
    "    else:\n",
    "        print(f'{(1-pred)*100} 확률로 부정리뷰 입니다.')"
   ]
  },
  {
   "cell_type": "code",
   "execution_count": 58,
   "metadata": {},
   "outputs": [
    {
     "name": "stdout",
     "output_type": "stream",
     "text": [
      "\u001b[1m1/1\u001b[0m \u001b[32m━━━━━━━━━━━━━━━━━━━━\u001b[0m\u001b[37m\u001b[0m \u001b[1m0s\u001b[0m 238ms/step\n",
      "99.98963623511372 확률로 부정리뷰 입니다.\n"
     ]
    }
   ],
   "source": [
    "review('존나 맛없음')"
   ]
  },
  {
   "cell_type": "code",
   "execution_count": 59,
   "metadata": {},
   "outputs": [
    {
     "name": "stdout",
     "output_type": "stream",
     "text": [
      "\u001b[1m1/1\u001b[0m \u001b[32m━━━━━━━━━━━━━━━━━━━━\u001b[0m\u001b[37m\u001b[0m \u001b[1m0s\u001b[0m 16ms/step\n",
      "99.99111955621629 확률로 부정리뷰 입니다.\n"
     ]
    }
   ],
   "source": [
    "review('인테리어도 구리고 위생이 너무 더럽습니다. 맛은 그럭저럭이고 다시는 안올듯')"
   ]
  },
  {
   "cell_type": "code",
   "execution_count": 60,
   "metadata": {},
   "outputs": [
    {
     "name": "stdout",
     "output_type": "stream",
     "text": [
      "\u001b[1m1/1\u001b[0m \u001b[32m━━━━━━━━━━━━━━━━━━━━\u001b[0m\u001b[37m\u001b[0m \u001b[1m0s\u001b[0m 33ms/step\n",
      "99.99819641998329 확률로 부정리뷰 입니다.\n"
     ]
    }
   ],
   "source": [
    "review('맛은 있지만 가격이 너무 비싸네요.')"
   ]
  },
  {
   "cell_type": "code",
   "execution_count": 61,
   "metadata": {},
   "outputs": [
    {
     "name": "stdout",
     "output_type": "stream",
     "text": [
      "\u001b[1m1/1\u001b[0m \u001b[32m━━━━━━━━━━━━━━━━━━━━\u001b[0m\u001b[37m\u001b[0m \u001b[1m0s\u001b[0m 128ms/step\n",
      "99.31263327598572 확률로 긍정리뷰 입니다.\n"
     ]
    }
   ],
   "source": [
    "review('대체로 맛있는 편이네요. 양이 조금 아쉽네요')"
   ]
  },
  {
   "cell_type": "code",
   "execution_count": 62,
   "metadata": {},
   "outputs": [
    {
     "name": "stdout",
     "output_type": "stream",
     "text": [
      "\u001b[1m1/1\u001b[0m \u001b[32m━━━━━━━━━━━━━━━━━━━━\u001b[0m\u001b[37m\u001b[0m \u001b[1m0s\u001b[0m 38ms/step\n",
      "64.9185836315155 확률로 부정리뷰 입니다.\n"
     ]
    }
   ],
   "source": [
    "review('그냥저냥')"
   ]
  },
  {
   "cell_type": "code",
   "execution_count": 63,
   "metadata": {},
   "outputs": [
    {
     "name": "stdout",
     "output_type": "stream",
     "text": [
      "\u001b[1m1/1\u001b[0m \u001b[32m━━━━━━━━━━━━━━━━━━━━\u001b[0m\u001b[37m\u001b[0m \u001b[1m0s\u001b[0m 44ms/step\n",
      "64.9185836315155 확률로 부정리뷰 입니다.\n"
     ]
    }
   ],
   "source": [
    "review('한번쯤 먹을만하네요')"
   ]
  },
  {
   "cell_type": "code",
   "execution_count": 69,
   "metadata": {},
   "outputs": [],
   "source": [
    "train_df.to_csv('훈련용데이터.csv',index=False)\n",
    "test_df.to_csv('테스트데이터.csv',index=False)"
   ]
  },
  {
   "cell_type": "code",
   "execution_count": null,
   "metadata": {},
   "outputs": [],
   "source": []
  }
 ],
 "metadata": {
  "colab": {
   "authorship_tag": "ABX9TyOxlb6sZ28WGwy2Xz+2BBRj",
   "provenance": []
  },
  "kernelspec": {
   "display_name": "Python 3 (ipykernel)",
   "language": "python",
   "name": "python3"
  },
  "language_info": {
   "codemirror_mode": {
    "name": "ipython",
    "version": 3
   },
   "file_extension": ".py",
   "mimetype": "text/x-python",
   "name": "python",
   "nbconvert_exporter": "python",
   "pygments_lexer": "ipython3",
   "version": "3.11.5"
  },
  "toc": {
   "base_numbering": 1,
   "nav_menu": {},
   "number_sections": true,
   "sideBar": true,
   "skip_h1_title": false,
   "title_cell": "Table of Contents",
   "title_sidebar": "Contents",
   "toc_cell": false,
   "toc_position": {},
   "toc_section_display": true,
   "toc_window_display": false
  },
  "varInspector": {
   "cols": {
    "lenName": 16,
    "lenType": 16,
    "lenVar": 40
   },
   "kernels_config": {
    "python": {
     "delete_cmd_postfix": "",
     "delete_cmd_prefix": "del ",
     "library": "var_list.py",
     "varRefreshCmd": "print(var_dic_list())"
    },
    "r": {
     "delete_cmd_postfix": ") ",
     "delete_cmd_prefix": "rm(",
     "library": "var_list.r",
     "varRefreshCmd": "cat(var_dic_list()) "
    }
   },
   "types_to_exclude": [
    "module",
    "function",
    "builtin_function_or_method",
    "instance",
    "_Feature"
   ],
   "window_display": false
  }
 },
 "nbformat": 4,
 "nbformat_minor": 1
}
